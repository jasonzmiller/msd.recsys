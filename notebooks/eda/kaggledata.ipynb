{
 "cells": [
  {
   "cell_type": "code",
   "execution_count": 1,
   "id": "b977ad7b",
   "metadata": {},
   "outputs": [],
   "source": [
    "import pandas as pd\n",
    "import numpy as np"
   ]
  },
  {
   "cell_type": "code",
   "execution_count": 2,
   "id": "b1f81cac",
   "metadata": {},
   "outputs": [],
   "source": [
    "reldir = '../../datasets/msdchallenge/'"
   ]
  },
  {
   "cell_type": "code",
   "execution_count": 3,
   "id": "1cc6dfbb",
   "metadata": {},
   "outputs": [
    {
     "data": {
      "text/plain": [
       "(386213, 2)"
      ]
     },
     "execution_count": 3,
     "metadata": {},
     "output_type": "execute_result"
    }
   ],
   "source": [
    "songs = pd.read_csv(reldir + 'kaggle_songs.txt', sep=' ', header=None, names=['song_id','idx'])\n",
    "songs.shape"
   ]
  },
  {
   "cell_type": "code",
   "execution_count": 4,
   "id": "2b267b40",
   "metadata": {},
   "outputs": [
    {
     "data": {
      "text/plain": [
       "(110000, 1)"
      ]
     },
     "execution_count": 4,
     "metadata": {},
     "output_type": "execute_result"
    }
   ],
   "source": [
    "users = pd.read_csv(reldir + 'kaggle_users.txt',\n",
    "                    header=None, \n",
    "                    names=['user_id']\n",
    "                   )\n",
    "users.shape"
   ]
  },
  {
   "cell_type": "code",
   "execution_count": 5,
   "id": "a51d3d5b",
   "metadata": {},
   "outputs": [
    {
     "data": {
      "text/plain": [
       "(1450933, 3)"
      ]
     },
     "execution_count": 5,
     "metadata": {},
     "output_type": "execute_result"
    }
   ],
   "source": [
    "triplets = pd.read_csv(reldir + 'kaggle_visible_evaluation_triplets.txt', \n",
    "                       header=None, \n",
    "                       sep='\\t',\n",
    "                       names=['user_id', 'song_id', 'count'])\n",
    "triplets.shape"
   ]
  },
  {
   "cell_type": "code",
   "execution_count": 6,
   "id": "8900e04a",
   "metadata": {},
   "outputs": [],
   "source": [
    "triplets_orig = triplets.copy()"
   ]
  },
  {
   "cell_type": "code",
   "execution_count": 7,
   "id": "96c4d0a9",
   "metadata": {},
   "outputs": [
    {
     "data": {
      "text/html": [
       "<div>\n",
       "<style scoped>\n",
       "    .dataframe tbody tr th:only-of-type {\n",
       "        vertical-align: middle;\n",
       "    }\n",
       "\n",
       "    .dataframe tbody tr th {\n",
       "        vertical-align: top;\n",
       "    }\n",
       "\n",
       "    .dataframe thead th {\n",
       "        text-align: right;\n",
       "    }\n",
       "</style>\n",
       "<table border=\"1\" class=\"dataframe\">\n",
       "  <thead>\n",
       "    <tr style=\"text-align: right;\">\n",
       "      <th></th>\n",
       "      <th>count</th>\n",
       "    </tr>\n",
       "  </thead>\n",
       "  <tbody>\n",
       "    <tr>\n",
       "      <th>count</th>\n",
       "      <td>1.450933e+06</td>\n",
       "    </tr>\n",
       "    <tr>\n",
       "      <th>mean</th>\n",
       "      <td>3.187149e+00</td>\n",
       "    </tr>\n",
       "    <tr>\n",
       "      <th>std</th>\n",
       "      <td>7.051664e+00</td>\n",
       "    </tr>\n",
       "    <tr>\n",
       "      <th>min</th>\n",
       "      <td>1.000000e+00</td>\n",
       "    </tr>\n",
       "    <tr>\n",
       "      <th>25%</th>\n",
       "      <td>1.000000e+00</td>\n",
       "    </tr>\n",
       "    <tr>\n",
       "      <th>50%</th>\n",
       "      <td>1.000000e+00</td>\n",
       "    </tr>\n",
       "    <tr>\n",
       "      <th>75%</th>\n",
       "      <td>3.000000e+00</td>\n",
       "    </tr>\n",
       "    <tr>\n",
       "      <th>max</th>\n",
       "      <td>9.230000e+02</td>\n",
       "    </tr>\n",
       "  </tbody>\n",
       "</table>\n",
       "</div>"
      ],
      "text/plain": [
       "              count\n",
       "count  1.450933e+06\n",
       "mean   3.187149e+00\n",
       "std    7.051664e+00\n",
       "min    1.000000e+00\n",
       "25%    1.000000e+00\n",
       "50%    1.000000e+00\n",
       "75%    3.000000e+00\n",
       "max    9.230000e+02"
      ]
     },
     "execution_count": 7,
     "metadata": {},
     "output_type": "execute_result"
    }
   ],
   "source": [
    "triplets.describe()"
   ]
  },
  {
   "cell_type": "markdown",
   "id": "db2c69d8",
   "metadata": {},
   "source": [
    "## Outliers\n",
    "\n",
    "Let's define outliers as those that are more than 3 std away from the mean."
   ]
  },
  {
   "cell_type": "code",
   "execution_count": 8,
   "id": "c40b7288",
   "metadata": {},
   "outputs": [],
   "source": [
    "std = triplets.describe().iloc[2]\n",
    "cut_off = std * 3"
   ]
  },
  {
   "cell_type": "markdown",
   "id": "ddc82b8c",
   "metadata": {},
   "source": [
    "How many are outside this cutoff?"
   ]
  },
  {
   "cell_type": "code",
   "execution_count": 9,
   "id": "f153a708",
   "metadata": {},
   "outputs": [
    {
     "data": {
      "text/plain": [
       "0.01670028871078127"
      ]
     },
     "execution_count": 9,
     "metadata": {},
     "output_type": "execute_result"
    }
   ],
   "source": [
    "(triplets['count'] > int(cut_off)).sum() / triplets.shape[0]"
   ]
  },
  {
   "cell_type": "markdown",
   "id": "5fd2369d",
   "metadata": {},
   "source": [
    "Drop all outside this cutoff"
   ]
  },
  {
   "cell_type": "code",
   "execution_count": 10,
   "id": "e03599c9",
   "metadata": {},
   "outputs": [],
   "source": [
    "outlier_idx = triplets[triplets['count'] > int(cut_off)].index\n",
    "triplets = triplets.drop(outlier_idx).reset_index(drop=True)"
   ]
  },
  {
   "cell_type": "code",
   "execution_count": 11,
   "id": "0a733940",
   "metadata": {},
   "outputs": [
    {
     "data": {
      "text/html": [
       "<div>\n",
       "<style scoped>\n",
       "    .dataframe tbody tr th:only-of-type {\n",
       "        vertical-align: middle;\n",
       "    }\n",
       "\n",
       "    .dataframe tbody tr th {\n",
       "        vertical-align: top;\n",
       "    }\n",
       "\n",
       "    .dataframe thead th {\n",
       "        text-align: right;\n",
       "    }\n",
       "</style>\n",
       "<table border=\"1\" class=\"dataframe\">\n",
       "  <thead>\n",
       "    <tr style=\"text-align: right;\">\n",
       "      <th></th>\n",
       "      <th>count</th>\n",
       "    </tr>\n",
       "  </thead>\n",
       "  <tbody>\n",
       "    <tr>\n",
       "      <th>count</th>\n",
       "      <td>1.426702e+06</td>\n",
       "    </tr>\n",
       "    <tr>\n",
       "      <th>mean</th>\n",
       "      <td>2.547130e+00</td>\n",
       "    </tr>\n",
       "    <tr>\n",
       "      <th>std</th>\n",
       "      <td>3.048813e+00</td>\n",
       "    </tr>\n",
       "    <tr>\n",
       "      <th>min</th>\n",
       "      <td>1.000000e+00</td>\n",
       "    </tr>\n",
       "    <tr>\n",
       "      <th>25%</th>\n",
       "      <td>1.000000e+00</td>\n",
       "    </tr>\n",
       "    <tr>\n",
       "      <th>50%</th>\n",
       "      <td>1.000000e+00</td>\n",
       "    </tr>\n",
       "    <tr>\n",
       "      <th>75%</th>\n",
       "      <td>3.000000e+00</td>\n",
       "    </tr>\n",
       "    <tr>\n",
       "      <th>max</th>\n",
       "      <td>2.100000e+01</td>\n",
       "    </tr>\n",
       "  </tbody>\n",
       "</table>\n",
       "</div>"
      ],
      "text/plain": [
       "              count\n",
       "count  1.426702e+06\n",
       "mean   2.547130e+00\n",
       "std    3.048813e+00\n",
       "min    1.000000e+00\n",
       "25%    1.000000e+00\n",
       "50%    1.000000e+00\n",
       "75%    3.000000e+00\n",
       "max    2.100000e+01"
      ]
     },
     "execution_count": 11,
     "metadata": {},
     "output_type": "execute_result"
    }
   ],
   "source": [
    "triplets.describe()"
   ]
  },
  {
   "cell_type": "code",
   "execution_count": 14,
   "id": "0e28b25a",
   "metadata": {},
   "outputs": [
    {
     "data": {
      "text/plain": [
       "<AxesSubplot:>"
      ]
     },
     "execution_count": 14,
     "metadata": {},
     "output_type": "execute_result"
    },
    {
     "data": {
      "image/png": "[encoded data removed]",
      "text/plain": [
       "<Figure size 432x288 with 1 Axes>"
      ]
     },
     "metadata": {
      "needs_background": "light"
     },
     "output_type": "display_data"
    }
   ],
   "source": [
    "triplets.plot.box(vert=False)"
   ]
  },
  {
   "cell_type": "markdown",
   "id": "420827cb",
   "metadata": {},
   "source": [
    "For BPR, we want to be able to make triplets of (user, positive item, negative item).\n",
    "\n",
    "To do this, we will only consider users that have a positive and negative item.\n",
    "\n",
    "- Positive: count >= 3\n",
    "- Negative: count < 3"
   ]
  },
  {
   "cell_type": "code",
   "execution_count": 64,
   "id": "67328093",
   "metadata": {},
   "outputs": [],
   "source": [
    "num_records_for_user = pd.DataFrame(\n",
    "    triplets.groupby(['user_id'])['song_id'].count().reset_index()\n",
    ").rename({'song_id' : 'records'}, axis=1)"
   ]
  },
  {
   "cell_type": "code",
   "execution_count": 86,
   "id": "e5b05323",
   "metadata": {},
   "outputs": [
    {
     "data": {
      "text/html": [
       "<div>\n",
       "<style scoped>\n",
       "    .dataframe tbody tr th:only-of-type {\n",
       "        vertical-align: middle;\n",
       "    }\n",
       "\n",
       "    .dataframe tbody tr th {\n",
       "        vertical-align: top;\n",
       "    }\n",
       "\n",
       "    .dataframe thead th {\n",
       "        text-align: right;\n",
       "    }\n",
       "</style>\n",
       "<table border=\"1\" class=\"dataframe\">\n",
       "  <thead>\n",
       "    <tr style=\"text-align: right;\">\n",
       "      <th></th>\n",
       "      <th>user_id</th>\n",
       "      <th>records</th>\n",
       "    </tr>\n",
       "  </thead>\n",
       "  <tbody>\n",
       "    <tr>\n",
       "      <th>0</th>\n",
       "      <td>00007a02388c208ea7176479f6ae06f8224355b3</td>\n",
       "      <td>9</td>\n",
       "    </tr>\n",
       "    <tr>\n",
       "      <th>1</th>\n",
       "      <td>00014a76ed063e1a749171a253bca9d9a0ff1782</td>\n",
       "      <td>11</td>\n",
       "    </tr>\n",
       "    <tr>\n",
       "      <th>2</th>\n",
       "      <td>00015189668691680bb1a2e58afde1541ec92ced</td>\n",
       "      <td>17</td>\n",
       "    </tr>\n",
       "    <tr>\n",
       "      <th>3</th>\n",
       "      <td>0001ff7aa2667c8d8b945317b88adaed1c0b9dc2</td>\n",
       "      <td>9</td>\n",
       "    </tr>\n",
       "    <tr>\n",
       "      <th>4</th>\n",
       "      <td>00020fcd8b01986a6a85b896ccde6c49f35142ad</td>\n",
       "      <td>32</td>\n",
       "    </tr>\n",
       "    <tr>\n",
       "      <th>...</th>\n",
       "      <td>...</td>\n",
       "      <td>...</td>\n",
       "    </tr>\n",
       "    <tr>\n",
       "      <th>109983</th>\n",
       "      <td>fffdef71f13352e9cff769f1d96f5ccf90f8955e</td>\n",
       "      <td>7</td>\n",
       "    </tr>\n",
       "    <tr>\n",
       "      <th>109984</th>\n",
       "      <td>fffe29116f96c97b47a5dabdd406784ad0ba6f30</td>\n",
       "      <td>6</td>\n",
       "    </tr>\n",
       "    <tr>\n",
       "      <th>109985</th>\n",
       "      <td>fffe5b73c50c72ca9c54947efac1fcacf59c4a17</td>\n",
       "      <td>23</td>\n",
       "    </tr>\n",
       "    <tr>\n",
       "      <th>109986</th>\n",
       "      <td>fffed0bee753cd78494011b8b55dafd4f5c7e5ff</td>\n",
       "      <td>12</td>\n",
       "    </tr>\n",
       "    <tr>\n",
       "      <th>109987</th>\n",
       "      <td>ffff07d7d9bb187aa58c7b81b3d3f35e7cf7c0ee</td>\n",
       "      <td>12</td>\n",
       "    </tr>\n",
       "  </tbody>\n",
       "</table>\n",
       "<p>109948 rows × 2 columns</p>\n",
       "</div>"
      ],
      "text/plain": [
       "                                         user_id  records\n",
       "0       00007a02388c208ea7176479f6ae06f8224355b3        9\n",
       "1       00014a76ed063e1a749171a253bca9d9a0ff1782       11\n",
       "2       00015189668691680bb1a2e58afde1541ec92ced       17\n",
       "3       0001ff7aa2667c8d8b945317b88adaed1c0b9dc2        9\n",
       "4       00020fcd8b01986a6a85b896ccde6c49f35142ad       32\n",
       "...                                          ...      ...\n",
       "109983  fffdef71f13352e9cff769f1d96f5ccf90f8955e        7\n",
       "109984  fffe29116f96c97b47a5dabdd406784ad0ba6f30        6\n",
       "109985  fffe5b73c50c72ca9c54947efac1fcacf59c4a17       23\n",
       "109986  fffed0bee753cd78494011b8b55dafd4f5c7e5ff       12\n",
       "109987  ffff07d7d9bb187aa58c7b81b3d3f35e7cf7c0ee       12\n",
       "\n",
       "[109948 rows x 2 columns]"
      ]
     },
     "execution_count": 86,
     "metadata": {},
     "output_type": "execute_result"
    }
   ],
   "source": [
    "num_records_for_user[num_records_for_user['records'] > 1]"
   ]
  },
  {
   "cell_type": "markdown",
   "id": "3f1affc9",
   "metadata": {},
   "source": [
    "` for each user:\n",
    "    if there are two song_id's m,n such that for  `\n",
    "` get each row in triplets such that triplets `\n",
    "\n",
    "'00015189668691680bb1a2e58afde1541ec92ced'"
   ]
  },
  {
   "cell_type": "code",
   "execution_count": 121,
   "id": "d45cf922",
   "metadata": {},
   "outputs": [
    {
     "data": {
      "text/plain": [
       "(110000, 1)"
      ]
     },
     "execution_count": 121,
     "metadata": {},
     "output_type": "execute_result"
    }
   ],
   "source": [
    "users.shape"
   ]
  },
  {
   "cell_type": "code",
   "execution_count": 101,
   "id": "e460e518",
   "metadata": {},
   "outputs": [
    {
     "data": {
      "text/plain": [
       "True"
      ]
     },
     "execution_count": 101,
     "metadata": {},
     "output_type": "execute_result"
    }
   ],
   "source": [
    "user = '00015189668691680bb1a2e58afde1541ec92ced'\n",
    "num_records_for_user[num_records_for_user['user_id'] == user].iloc[0,1] > 1\n",
    "# for _ , row in triplets[triplets['user_id'] == user].iterrows():\n",
    "#     print(row['count'])"
   ]
  },
  {
   "cell_type": "code",
   "execution_count": 119,
   "id": "6c8610ae",
   "metadata": {},
   "outputs": [
    {
     "data": {
      "text/plain": [
       "(0, 2)"
      ]
     },
     "execution_count": 119,
     "metadata": {},
     "output_type": "execute_result"
    }
   ],
   "source": [
    "processed_users[18976]\n",
    "num_records_for_user[num_records_for_user['user_id'] == processed_users[18976]].shape"
   ]
  },
  {
   "cell_type": "code",
   "execution_count": null,
   "id": "e1637d36",
   "metadata": {},
   "outputs": [],
   "source": [
    "threshold = 2\n",
    "qualified_users = []\n",
    "processed_users = []\n",
    "# for each user\n",
    "for user in users['user_id'].tolist()[10000:]:\n",
    "    processed_users.append(user)\n",
    "    user_record = num_records_for_user[num_records_for_user['user_id'] == user]\n",
    "    # if there are more than two entries for this user\n",
    "    if ( user_record.shape[0] > 0 and user_record.iloc[0,1] > 1 ):\n",
    "        # search user's records to find a positive record and a negative\n",
    "        temp = triplets[triplets['user_id'] == user]\n",
    "        positive = False\n",
    "        negative = False\n",
    "        for _ , row in temp.iterrows():\n",
    "            if ( row['count'] > threshold ):\n",
    "                positive = True\n",
    "            else :\n",
    "                negative = True\n",
    "            if ( positive and negative ):\n",
    "                qualified_users.append(user)\n",
    "                break\n",
    "            \n",
    "len(qualified_users)"
   ]
  },
  {
   "cell_type": "code",
   "execution_count": 120,
   "id": "52804dc3",
   "metadata": {},
   "outputs": [
    {
     "data": {
      "text/plain": [
       "14317"
      ]
     },
     "execution_count": 120,
     "metadata": {},
     "output_type": "execute_result"
    }
   ],
   "source": [
    "len(qualified_users)"
   ]
  },
  {
   "cell_type": "code",
   "execution_count": 123,
   "id": "760cadb4",
   "metadata": {},
   "outputs": [],
   "source": [
    "qualified_users1 = qualified_users.copy()"
   ]
  }
 ],
 "metadata": {
  "kernelspec": {
   "display_name": "Python 3",
   "language": "python",
   "name": "python3"
  },
  "language_info": {
   "codemirror_mode": {
    "name": "ipython",
    "version": 3
   },
   "file_extension": ".py",
   "mimetype": "text/x-python",
   "name": "python",
   "nbconvert_exporter": "python",
   "pygments_lexer": "ipython3",
   "version": "3.8.8"
  }
 },
 "nbformat": 4,
 "nbformat_minor": 5
}

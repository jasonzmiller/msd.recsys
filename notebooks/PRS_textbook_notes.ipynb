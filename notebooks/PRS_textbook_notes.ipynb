{
 "cells": [
  {
   "cell_type": "markdown",
   "id": "4bb94d28",
   "metadata": {},
   "source": [
    "# Chapter 4: Ratings and how to calculate them"
   ]
  },
  {
   "cell_type": "markdown",
   "id": "af8e7283",
   "metadata": {},
   "source": [
    "Relevance is especially important in recommender systems. \"A good example is that I love the mojitos made at a certain cafe I frequent when I'm in Italy. That doesn't mean that I want one for breakfast, even if I've rated the mojitos from the previous evenings high several times in a row.\"\n",
    "\n",
    "How does this relate to our project? Once we have generated all possible recommendations, we must filter the recommendations based on many reasons, one naturally being time. Spotify will recommend certain types of playlists based on time of day, week/weekend, even season."
   ]
  },
  {
   "cell_type": "markdown",
   "id": "a136b6a8",
   "metadata": {},
   "source": [
    "Implicit data in the MovieGeeks dataset:\n",
    "- Buy => top rating\n",
    "- One or more \"Details view + More Details\" => very positive\n",
    "- Several \"Details\" views => positive\n",
    "- One \"Details\" view => not sure"
   ]
  },
  {
   "cell_type": "markdown",
   "id": "9a5110bc",
   "metadata": {},
   "source": [
    "In our dataset:\n",
    "- More than 3 plays : top rating - user definitely likes the song\n",
    "- 3 plays : very positive - user most likely likes the song\n",
    "- 2 plays : positive - this could mean that the user is not certain if they like the song\n",
    "- 1 play : not sure - could mean that the user played and didn't like, played by accident, played and liked and never got the chance to play again before data collection, etc"
   ]
  },
  {
   "cell_type": "markdown",
   "id": "4096adf3",
   "metadata": {},
   "source": [
    "Less frequently-bought items provide more value. Take an example, in the context of our dataset:\n",
    "- If I listen to a song by Justin Bieber that let's say 90% of the rest of users listened to also, this puts me in the same category as 90% of other users. This does not tell the model much about my tastes.\n",
    "- If I listen to a more obscure song that only 4% of other users listened to, this tells the model a lot about me and who I'm similar to\n",
    "\n",
    "What we could then do in our project: place a higher weight on items that not many users listened to; filter recommendations "
   ]
  },
  {
   "cell_type": "markdown",
   "id": "0b11ba8c",
   "metadata": {},
   "source": [
    "# Chapter 9: Evaluating and testing your recommenders"
   ]
  },
  {
   "cell_type": "markdown",
   "id": "32fc1bd6",
   "metadata": {},
   "source": [
    "Can feed in all users into the recommender system and collect all unique recommendations given. Then, we can check *coverage*. Coverage is: of all of the songs in our catalogue, how many got recommended?"
   ]
  },
  {
   "cell_type": "code",
   "execution_count": null,
   "id": "f962b735",
   "metadata": {},
   "outputs": [],
   "source": []
  }
 ],
 "metadata": {
  "kernelspec": {
   "display_name": "Python 3",
   "language": "python",
   "name": "python3"
  },
  "language_info": {
   "codemirror_mode": {
    "name": "ipython",
    "version": 3
   },
   "file_extension": ".py",
   "mimetype": "text/x-python",
   "name": "python",
   "nbconvert_exporter": "python",
   "pygments_lexer": "ipython3",
   "version": "3.8.8"
  }
 },
 "nbformat": 4,
 "nbformat_minor": 5
}

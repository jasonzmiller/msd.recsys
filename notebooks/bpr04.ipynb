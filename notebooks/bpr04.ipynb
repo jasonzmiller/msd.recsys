{
 "cells": [
  {
   "cell_type": "code",
   "execution_count": 1,
   "id": "dd3a6cd5",
   "metadata": {},
   "outputs": [],
   "source": [
    "import numpy as np\n",
    "import pandas as pd\n",
    "import scipy as sp\n",
    "from collections import OrderedDict\n",
    "from tqdm import tqdm\n",
    "from typing import Dict\n",
    "\n",
    "import tensorflow as tf\n",
    "from tensorflow.keras.models import Model, load_model\n",
    "from tensorflow.keras.layers import Embedding, Flatten, Input, Lambda\n",
    "from tensorflow.keras.optimizers import Adam\n",
    "import tensorflow.keras.backend as K\n",
    "\n",
    "from sklearn.metrics import roc_auc_score\n",
    "from sklearn.model_selection import train_test_split, StratifiedKFold\n",
    "\n",
    "import matplotlib.pyplot as plt\n",
    "%matplotlib inline"
   ]
  },
  {
   "cell_type": "code",
   "execution_count": 2,
   "id": "a7ad6fc6",
   "metadata": {},
   "outputs": [],
   "source": [
    "df = pd.read_pickle('../datasets/clean_df.csv', compression='zip')"
   ]
  },
  {
   "cell_type": "code",
   "execution_count": 3,
   "id": "a43f314c",
   "metadata": {},
   "outputs": [],
   "source": [
    "# Convert user id and song id to numerical ids\n",
    "df['user_id'] = df['user'].astype('category').cat.codes\n",
    "df['song_id'] = df['song'].astype('category').cat.codes\n",
    "\n",
    "df_orig = df.copy()\n",
    "\n",
    "# Create lookup frame so we can get the 'Song - Artist' later\n",
    "item_lookup = df[['song_id','Song - Artist']].drop_duplicates()\n",
    "item_lookup['song_id'] = item_lookup['song_id'].astype(str)\n",
    "\n",
    "# Drop 'user' and 'song' and 'Song - Artist'\n",
    "df = df.drop(['user','song','Song - Artist'], axis=1)\n",
    "\n",
    "df = df.sort_values(by=['user_id', 'song_id'])\n",
    "\n",
    "aggd = df.groupby('user_id')['song_id'].agg(list).reset_index()\n",
    "nuser_listens = {row['user_id'] : row['song_id'] for _ , row in aggd.iterrows()}\n",
    "\n",
    "# Create lists of all unique users, songs\n",
    "uusers = list(np.sort(df['user_id'].unique()))\n",
    "usongs = list(np.sort(df['song_id'].unique()))\n",
    "nusers = len(uusers)\n",
    "nsongs = len(usongs)"
   ]
  },
  {
   "cell_type": "markdown",
   "id": "ba07dbf7",
   "metadata": {},
   "source": [
    "### Validation hold-out"
   ]
  },
  {
   "cell_type": "code",
   "execution_count": 4,
   "id": "2abca16b",
   "metadata": {},
   "outputs": [
    {
     "data": {
      "text/plain": [
       "(418252, 2)"
      ]
     },
     "execution_count": 4,
     "metadata": {},
     "output_type": "execute_result"
    }
   ],
   "source": [
    "tmp_val = (\n",
    "        df.groupby('user_id')['song_id'].count()\n",
    "    ).reset_index().rename({'song_id':'records'}, axis=1)\n",
    "tmp_val.shape"
   ]
  },
  {
   "cell_type": "code",
   "execution_count": 5,
   "id": "921c81f3",
   "metadata": {},
   "outputs": [
    {
     "data": {
      "text/plain": [
       "(41355, 3)"
      ]
     },
     "execution_count": 5,
     "metadata": {},
     "output_type": "execute_result"
    }
   ],
   "source": [
    "min_records = 3\n",
    "conditions = df['user_id'].isin(tmp_val[tmp_val['records'] > min_records].user_id)\n",
    "df_val = df[conditions].groupby('user_id').head(1).reset_index()\n",
    "del df_val['index']\n",
    "df_val.shape"
   ]
  },
  {
   "cell_type": "code",
   "execution_count": 6,
   "id": "e4ce0d8b",
   "metadata": {},
   "outputs": [],
   "source": [
    "ground_truth = { row.user_id : row.song_id for _ , row in df_val.iterrows() }\n",
    "df_train = pd.concat([df, df_val]).drop_duplicates(keep=False)"
   ]
  },
  {
   "cell_type": "markdown",
   "id": "446f8a82",
   "metadata": {},
   "source": [
    "### Building Triplets"
   ]
  },
  {
   "cell_type": "code",
   "execution_count": 7,
   "id": "a8af0788",
   "metadata": {},
   "outputs": [
    {
     "name": "stderr",
     "output_type": "stream",
     "text": [
      "100%|██████████| 418252/418252 [8:46:47<00:00, 13.23it/s]   \n"
     ]
    },
    {
     "name": "stdout",
     "output_type": "stream",
     "text": [
      "CPU times: user 8h 20min 4s, sys: 12min 44s, total: 8h 32min 48s\n",
      "Wall time: 8h 46min 50s\n"
     ]
    }
   ],
   "source": [
    "%%time\n",
    "\n",
    "data = []\n",
    "n_random_samples = 2\n",
    "\n",
    "uusers_train = list(df_train['user_id'].unique())\n",
    "\n",
    "for user in tqdm( uusers_train ):\n",
    "    listened = df_train[df_train['user_id'] == user]['song_id'].values\n",
    "    \n",
    "    for i in listened:\n",
    "        cnt = 0\n",
    "        while ( cnt < n_random_samples ):\n",
    "            j = df_train.sample(1).iloc[0,2]\n",
    "            if ( j not in listened ):\n",
    "                data.append({\n",
    "                    'u' : user,\n",
    "                    'i' : i,\n",
    "                    'j' : j\n",
    "                })\n",
    "                cnt += 1\n",
    "\n",
    "ttriplets = pd.DataFrame(data, columns=['u', 'i', 'j'])"
   ]
  },
  {
   "cell_type": "code",
   "execution_count": 14,
   "id": "be3e7b93",
   "metadata": {},
   "outputs": [],
   "source": [
    "ttriplets.to_pickle('../datasets/ttriplets_LOCAL_PICKLE.csv', compression='zip')"
   ]
  },
  {
   "cell_type": "code",
   "execution_count": 15,
   "id": "2b7c9014",
   "metadata": {},
   "outputs": [],
   "source": [
    "ttriplets.to_csv('../datasets/ttriplets_LOCAL.csv', compression='zip', sep='\\t')"
   ]
  },
  {
   "cell_type": "code",
   "execution_count": 8,
   "id": "1feb69d9",
   "metadata": {},
   "outputs": [],
   "source": [
    "X = {\n",
    "    'user_input': tf.convert_to_tensor(ttriplets.u),\n",
    "    'positive_item_input': tf.convert_to_tensor(ttriplets.i),\n",
    "    'negative_item_input': tf.convert_to_tensor(ttriplets.j)\n",
    "}"
   ]
  },
  {
   "cell_type": "markdown",
   "id": "2afa9e5b",
   "metadata": {},
   "source": [
    "### Build model"
   ]
  },
  {
   "cell_type": "code",
   "execution_count": 9,
   "id": "18352ee2",
   "metadata": {},
   "outputs": [],
   "source": [
    "@tf.function\n",
    "def identity_loss(_, y_pred):\n",
    "    return tf.math.reduce_mean(y_pred)\n",
    "\n",
    "@tf.function\n",
    "def triplet_loss(X: dict):\n",
    "    i_latent , j_latent , u_latent = X\n",
    "    pos_interactions = tf.math.reduce_sum(tf.math.multiply(u_latent, i_latent), axis=-1, keepdims=True)\n",
    "    neg_interactions = tf.math.reduce_sum(tf.math.multiply(u_latent, j_latent), axis=-1, keepdims=True)\n",
    "    return tf.math.subtract(tf.constant(1.0), tf.sigmoid(tf.math.subtract(pos_interactions, neg_interactions)))\n",
    "\n",
    "def out_shape(shapes):\n",
    "    return shapes[0]"
   ]
  },
  {
   "cell_type": "code",
   "execution_count": 10,
   "id": "5c1469d7",
   "metadata": {},
   "outputs": [],
   "source": [
    "def build_model(num_users: int, num_items: int, latent_dim: int) -> Model:\n",
    "    u_input = Input((1,), name='user_input')\n",
    "    i_input = Input((1,), name='positive_item_input')\n",
    "    j_input = Input((1,), name='negative_item_input')\n",
    "    \n",
    "    item_emb = Embedding(num_items, latent_dim, name='item_embedding', input_length=1)\n",
    "    i_emb = Flatten()( item_emb(i_input) )\n",
    "    j_emb = Flatten()( item_emb(j_input) )\n",
    "    \n",
    "    u_emb = Embedding(num_users, latent_dim, name='user_embedding', input_length=1)(u_input)\n",
    "    u_emb = Flatten()(u_emb)\n",
    "    \n",
    "    t_loss = Lambda(triplet_loss, output_shape=out_shape, name='triplet_loss')([i_emb, j_emb, u_emb])\n",
    "    \n",
    "    model = Model(inputs=[i_input, j_input, u_input], outputs=t_loss)\n",
    "    \n",
    "    return model"
   ]
  },
  {
   "cell_type": "markdown",
   "id": "542279da",
   "metadata": {},
   "source": [
    "#### Functions used to evaluate the models"
   ]
  },
  {
   "cell_type": "code",
   "execution_count": 11,
   "id": "a6a950d1",
   "metadata": {},
   "outputs": [],
   "source": [
    "def get_weights(model: Model, song_ids: list):\n",
    "    u = model.get_layer('user_embedding').get_weights()[0]\n",
    "    i = model.get_layer('item_embedding').get_weights()[0][song_ids]\n",
    "    return u, i\n",
    "\n",
    "def get_topk(model, user, usongs, weights, k=10):\n",
    "    user_weights, item_weights = weights\n",
    "    \n",
    "    user_vector = user_weights[user]\n",
    "    item_matrix = item_weights\n",
    "    \n",
    "    scores = np.dot(user_vector, item_matrix.T)\n",
    "    \n",
    "    predictions = dict(zip(usongs,scores))\n",
    "    predictions = sorted(predictions.items(), key=lambda kv:kv[1], reverse=True)[:k]\n",
    "    predictions = list(OrderedDict(predictions).keys())\n",
    "    \n",
    "    return predictions\n",
    "\n",
    "def get_hits(user_listens, user_recs):\n",
    "    hits = 0\n",
    "    for song in user_listens:\n",
    "        if ( song in user_recs ):\n",
    "            hits += 1\n",
    "    return hits\n",
    "\n",
    "def get_metrics(uusers: list, nuser_listens: dict, nuser_recs: dict, N: int, k=10):\n",
    "    nusers = len(uusers)\n",
    "    precision = recall = t_hits = 0\n",
    "    \n",
    "    for user in tqdm(uusers, desc='Getting metrics... '):\n",
    "        hits = get_hits(user_listens=nuser_listens[user], user_recs=nuser_recs[user])\n",
    "        precision += hits / len(nuser_listens[user])\n",
    "        recall += hits / k\n",
    "        t_hits += hits\n",
    "                                \n",
    "    precision = precision / nusers\n",
    "    recall = recall / nusers\n",
    "    hit_ratio = t_hits / N\n",
    "    \n",
    "    return precision, recall, hit_ratio\n",
    "\n",
    "def hold_out_hit_ratio(ground_truth: dict, nuser_recs: dict):\n",
    "    hits = 0\n",
    "    for _ , (user , song) in enumerate(ground_truth.items()):\n",
    "        if song in nuser_recs[user]:\n",
    "            hits += 0\n",
    "    return hits / (len(ground_truth) if len(ground_truth) > 0 else 1)\n",
    "\n",
    "def evaluate(model: Model, uusers: list, usongs: list, nuser_listens: dict, N: int, ground_truth=None, k=10):\n",
    "    weights = get_weights(model, usongs)\n",
    "    nuser_recs = {user : get_topk(model=model, user=user, usongs=usongs, weights=weights) for user in tqdm(uusers, desc='Generating recommendations for all users... ')}\n",
    "    p , r , hr = get_metrics(uusers=uusers, nuser_listens=nuser_listens, nuser_recs=nuser_recs, N=N)\n",
    "    hoh = hold_out_hit_ratio(ground_truth, nuser_recs)\n",
    "        \n",
    "    evals = {\n",
    "        'precision' : p,\n",
    "        'recall' : r,\n",
    "        'hit_ratio' : hr,\n",
    "        'hold_out_hits': hoh\n",
    "    }\n",
    "    return evals"
   ]
  },
  {
   "cell_type": "code",
   "execution_count": 12,
   "id": "dd81d9da",
   "metadata": {},
   "outputs": [],
   "source": [
    "#---------------\n",
    "#  HYPERPARAMS\n",
    "#---------------\n",
    "latent_dims = [200, 250, 300, 350]\n",
    "batch_size = 512\n",
    "epochs = 3\n",
    "learning_rates = [0.01, 0.01, 0.1]"
   ]
  },
  {
   "cell_type": "code",
   "execution_count": 13,
   "id": "2d3b3940",
   "metadata": {},
   "outputs": [
    {
     "name": "stdout",
     "output_type": "stream",
     "text": [
      "++++++++++++++++++++++++++++++++++++++++++++++++++++++++++++++++\n",
      "LATENT DIMENSIONS: 200. LEARNING_RATE: 0.01\n",
      "Epoch 1/3\n",
      "  40/2857 [..............................] - ETA: 1:10:00 - loss: 0.4996"
     ]
    },
    {
     "ename": "KeyboardInterrupt",
     "evalue": "",
     "output_type": "error",
     "traceback": [
      "\u001b[0;31m---------------------------------------------------------------------------\u001b[0m",
      "\u001b[0;31mKeyboardInterrupt\u001b[0m                         Traceback (most recent call last)",
      "\u001b[0;32m<ipython-input-13-824ae296cdb0>\u001b[0m in \u001b[0;36m<module>\u001b[0;34m\u001b[0m\n\u001b[1;32m      6\u001b[0m         \u001b[0mmodel\u001b[0m \u001b[0;34m=\u001b[0m \u001b[0mbuild_model\u001b[0m\u001b[0;34m(\u001b[0m\u001b[0mnusers\u001b[0m\u001b[0;34m,\u001b[0m \u001b[0mnsongs\u001b[0m\u001b[0;34m,\u001b[0m \u001b[0mlatent_dim\u001b[0m\u001b[0;34m)\u001b[0m\u001b[0;34m\u001b[0m\u001b[0;34m\u001b[0m\u001b[0m\n\u001b[1;32m      7\u001b[0m         \u001b[0mmodel\u001b[0m\u001b[0;34m.\u001b[0m\u001b[0mcompile\u001b[0m\u001b[0;34m(\u001b[0m\u001b[0mloss\u001b[0m\u001b[0;34m=\u001b[0m\u001b[0midentity_loss\u001b[0m\u001b[0;34m,\u001b[0m \u001b[0moptimizer\u001b[0m\u001b[0;34m=\u001b[0m\u001b[0mAdam\u001b[0m\u001b[0;34m(\u001b[0m\u001b[0mlearning_rate\u001b[0m\u001b[0;34m)\u001b[0m\u001b[0;34m)\u001b[0m\u001b[0;34m\u001b[0m\u001b[0;34m\u001b[0m\u001b[0m\n\u001b[0;32m----> 8\u001b[0;31m         \u001b[0mmodel\u001b[0m\u001b[0;34m.\u001b[0m\u001b[0mfit\u001b[0m\u001b[0;34m(\u001b[0m\u001b[0mX\u001b[0m\u001b[0;34m,\u001b[0m \u001b[0mtf\u001b[0m\u001b[0;34m.\u001b[0m\u001b[0mones\u001b[0m\u001b[0;34m(\u001b[0m\u001b[0mttriplets\u001b[0m\u001b[0;34m.\u001b[0m\u001b[0mshape\u001b[0m\u001b[0;34m[\u001b[0m\u001b[0;36m0\u001b[0m\u001b[0;34m]\u001b[0m\u001b[0;34m)\u001b[0m\u001b[0;34m,\u001b[0m \u001b[0mbatch_size\u001b[0m\u001b[0;34m,\u001b[0m \u001b[0mverbose\u001b[0m\u001b[0;34m=\u001b[0m\u001b[0;36m1\u001b[0m\u001b[0;34m,\u001b[0m \u001b[0mepochs\u001b[0m\u001b[0;34m=\u001b[0m\u001b[0mepochs\u001b[0m\u001b[0;34m)\u001b[0m\u001b[0;34m\u001b[0m\u001b[0;34m\u001b[0m\u001b[0m\n\u001b[0m\u001b[1;32m      9\u001b[0m \u001b[0;31m#         print('+++++++++++++++++++++++++++++++++++++++++++++++++++++++++++++++')\u001b[0m\u001b[0;34m\u001b[0m\u001b[0;34m\u001b[0m\u001b[0;34m\u001b[0m\u001b[0m\n\u001b[1;32m     10\u001b[0m         \u001b[0mevals\u001b[0m \u001b[0;34m=\u001b[0m \u001b[0mevaluate\u001b[0m\u001b[0;34m(\u001b[0m\u001b[0mmodel\u001b[0m\u001b[0;34m=\u001b[0m\u001b[0mmodel\u001b[0m\u001b[0;34m,\u001b[0m \u001b[0muusers\u001b[0m\u001b[0;34m=\u001b[0m\u001b[0muusers\u001b[0m\u001b[0;34m,\u001b[0m \u001b[0musongs\u001b[0m\u001b[0;34m=\u001b[0m\u001b[0musongs\u001b[0m\u001b[0;34m,\u001b[0m \u001b[0mnuser_listens\u001b[0m\u001b[0;34m=\u001b[0m\u001b[0mnuser_listens\u001b[0m\u001b[0;34m,\u001b[0m \u001b[0mground_truth\u001b[0m\u001b[0;34m=\u001b[0m\u001b[0mground_truth\u001b[0m\u001b[0;34m,\u001b[0m \u001b[0mN\u001b[0m\u001b[0;34m=\u001b[0m\u001b[0mdf\u001b[0m\u001b[0;34m.\u001b[0m\u001b[0mshape\u001b[0m\u001b[0;34m[\u001b[0m\u001b[0;36m0\u001b[0m\u001b[0;34m]\u001b[0m\u001b[0;34m)\u001b[0m\u001b[0;34m\u001b[0m\u001b[0;34m\u001b[0m\u001b[0m\n",
      "\u001b[0;32m/opt/anaconda3/lib/python3.8/site-packages/tensorflow/python/keras/engine/training.py\u001b[0m in \u001b[0;36mfit\u001b[0;34m(self, x, y, batch_size, epochs, verbose, callbacks, validation_split, validation_data, shuffle, class_weight, sample_weight, initial_epoch, steps_per_epoch, validation_steps, validation_batch_size, validation_freq, max_queue_size, workers, use_multiprocessing)\u001b[0m\n\u001b[1;32m   1181\u001b[0m                 _r=1):\n\u001b[1;32m   1182\u001b[0m               \u001b[0mcallbacks\u001b[0m\u001b[0;34m.\u001b[0m\u001b[0mon_train_batch_begin\u001b[0m\u001b[0;34m(\u001b[0m\u001b[0mstep\u001b[0m\u001b[0;34m)\u001b[0m\u001b[0;34m\u001b[0m\u001b[0;34m\u001b[0m\u001b[0m\n\u001b[0;32m-> 1183\u001b[0;31m               \u001b[0mtmp_logs\u001b[0m \u001b[0;34m=\u001b[0m \u001b[0mself\u001b[0m\u001b[0;34m.\u001b[0m\u001b[0mtrain_function\u001b[0m\u001b[0;34m(\u001b[0m\u001b[0miterator\u001b[0m\u001b[0;34m)\u001b[0m\u001b[0;34m\u001b[0m\u001b[0;34m\u001b[0m\u001b[0m\n\u001b[0m\u001b[1;32m   1184\u001b[0m               \u001b[0;32mif\u001b[0m \u001b[0mdata_handler\u001b[0m\u001b[0;34m.\u001b[0m\u001b[0mshould_sync\u001b[0m\u001b[0;34m:\u001b[0m\u001b[0;34m\u001b[0m\u001b[0;34m\u001b[0m\u001b[0m\n\u001b[1;32m   1185\u001b[0m                 \u001b[0mcontext\u001b[0m\u001b[0;34m.\u001b[0m\u001b[0masync_wait\u001b[0m\u001b[0;34m(\u001b[0m\u001b[0;34m)\u001b[0m\u001b[0;34m\u001b[0m\u001b[0;34m\u001b[0m\u001b[0m\n",
      "\u001b[0;32m/opt/anaconda3/lib/python3.8/site-packages/tensorflow/python/eager/def_function.py\u001b[0m in \u001b[0;36m__call__\u001b[0;34m(self, *args, **kwds)\u001b[0m\n\u001b[1;32m    887\u001b[0m \u001b[0;34m\u001b[0m\u001b[0m\n\u001b[1;32m    888\u001b[0m       \u001b[0;32mwith\u001b[0m \u001b[0mOptionalXlaContext\u001b[0m\u001b[0;34m(\u001b[0m\u001b[0mself\u001b[0m\u001b[0;34m.\u001b[0m\u001b[0m_jit_compile\u001b[0m\u001b[0;34m)\u001b[0m\u001b[0;34m:\u001b[0m\u001b[0;34m\u001b[0m\u001b[0;34m\u001b[0m\u001b[0m\n\u001b[0;32m--> 889\u001b[0;31m         \u001b[0mresult\u001b[0m \u001b[0;34m=\u001b[0m \u001b[0mself\u001b[0m\u001b[0;34m.\u001b[0m\u001b[0m_call\u001b[0m\u001b[0;34m(\u001b[0m\u001b[0;34m*\u001b[0m\u001b[0margs\u001b[0m\u001b[0;34m,\u001b[0m \u001b[0;34m**\u001b[0m\u001b[0mkwds\u001b[0m\u001b[0;34m)\u001b[0m\u001b[0;34m\u001b[0m\u001b[0;34m\u001b[0m\u001b[0m\n\u001b[0m\u001b[1;32m    890\u001b[0m \u001b[0;34m\u001b[0m\u001b[0m\n\u001b[1;32m    891\u001b[0m       \u001b[0mnew_tracing_count\u001b[0m \u001b[0;34m=\u001b[0m \u001b[0mself\u001b[0m\u001b[0;34m.\u001b[0m\u001b[0mexperimental_get_tracing_count\u001b[0m\u001b[0;34m(\u001b[0m\u001b[0;34m)\u001b[0m\u001b[0;34m\u001b[0m\u001b[0;34m\u001b[0m\u001b[0m\n",
      "\u001b[0;32m/opt/anaconda3/lib/python3.8/site-packages/tensorflow/python/eager/def_function.py\u001b[0m in \u001b[0;36m_call\u001b[0;34m(self, *args, **kwds)\u001b[0m\n\u001b[1;32m    915\u001b[0m       \u001b[0;31m# In this case we have created variables on the first call, so we run the\u001b[0m\u001b[0;34m\u001b[0m\u001b[0;34m\u001b[0m\u001b[0;34m\u001b[0m\u001b[0m\n\u001b[1;32m    916\u001b[0m       \u001b[0;31m# defunned version which is guaranteed to never create variables.\u001b[0m\u001b[0;34m\u001b[0m\u001b[0;34m\u001b[0m\u001b[0;34m\u001b[0m\u001b[0m\n\u001b[0;32m--> 917\u001b[0;31m       \u001b[0;32mreturn\u001b[0m \u001b[0mself\u001b[0m\u001b[0;34m.\u001b[0m\u001b[0m_stateless_fn\u001b[0m\u001b[0;34m(\u001b[0m\u001b[0;34m*\u001b[0m\u001b[0margs\u001b[0m\u001b[0;34m,\u001b[0m \u001b[0;34m**\u001b[0m\u001b[0mkwds\u001b[0m\u001b[0;34m)\u001b[0m  \u001b[0;31m# pylint: disable=not-callable\u001b[0m\u001b[0;34m\u001b[0m\u001b[0;34m\u001b[0m\u001b[0m\n\u001b[0m\u001b[1;32m    918\u001b[0m     \u001b[0;32melif\u001b[0m \u001b[0mself\u001b[0m\u001b[0;34m.\u001b[0m\u001b[0m_stateful_fn\u001b[0m \u001b[0;32mis\u001b[0m \u001b[0;32mnot\u001b[0m \u001b[0;32mNone\u001b[0m\u001b[0;34m:\u001b[0m\u001b[0;34m\u001b[0m\u001b[0;34m\u001b[0m\u001b[0m\n\u001b[1;32m    919\u001b[0m       \u001b[0;31m# Release the lock early so that multiple threads can perform the call\u001b[0m\u001b[0;34m\u001b[0m\u001b[0;34m\u001b[0m\u001b[0;34m\u001b[0m\u001b[0m\n",
      "\u001b[0;32m/opt/anaconda3/lib/python3.8/site-packages/tensorflow/python/eager/function.py\u001b[0m in \u001b[0;36m__call__\u001b[0;34m(self, *args, **kwargs)\u001b[0m\n\u001b[1;32m   3021\u001b[0m       (graph_function,\n\u001b[1;32m   3022\u001b[0m        filtered_flat_args) = self._maybe_define_function(args, kwargs)\n\u001b[0;32m-> 3023\u001b[0;31m     return graph_function._call_flat(\n\u001b[0m\u001b[1;32m   3024\u001b[0m         filtered_flat_args, captured_inputs=graph_function.captured_inputs)  # pylint: disable=protected-access\n\u001b[1;32m   3025\u001b[0m \u001b[0;34m\u001b[0m\u001b[0m\n",
      "\u001b[0;32m/opt/anaconda3/lib/python3.8/site-packages/tensorflow/python/eager/function.py\u001b[0m in \u001b[0;36m_call_flat\u001b[0;34m(self, args, captured_inputs, cancellation_manager)\u001b[0m\n\u001b[1;32m   1958\u001b[0m         and executing_eagerly):\n\u001b[1;32m   1959\u001b[0m       \u001b[0;31m# No tape is watching; skip to running the function.\u001b[0m\u001b[0;34m\u001b[0m\u001b[0;34m\u001b[0m\u001b[0;34m\u001b[0m\u001b[0m\n\u001b[0;32m-> 1960\u001b[0;31m       return self._build_call_outputs(self._inference_function.call(\n\u001b[0m\u001b[1;32m   1961\u001b[0m           ctx, args, cancellation_manager=cancellation_manager))\n\u001b[1;32m   1962\u001b[0m     forward_backward = self._select_forward_and_backward_functions(\n",
      "\u001b[0;32m/opt/anaconda3/lib/python3.8/site-packages/tensorflow/python/eager/function.py\u001b[0m in \u001b[0;36mcall\u001b[0;34m(self, ctx, args, cancellation_manager)\u001b[0m\n\u001b[1;32m    589\u001b[0m       \u001b[0;32mwith\u001b[0m \u001b[0m_InterpolateFunctionError\u001b[0m\u001b[0;34m(\u001b[0m\u001b[0mself\u001b[0m\u001b[0;34m)\u001b[0m\u001b[0;34m:\u001b[0m\u001b[0;34m\u001b[0m\u001b[0;34m\u001b[0m\u001b[0m\n\u001b[1;32m    590\u001b[0m         \u001b[0;32mif\u001b[0m \u001b[0mcancellation_manager\u001b[0m \u001b[0;32mis\u001b[0m \u001b[0;32mNone\u001b[0m\u001b[0;34m:\u001b[0m\u001b[0;34m\u001b[0m\u001b[0;34m\u001b[0m\u001b[0m\n\u001b[0;32m--> 591\u001b[0;31m           outputs = execute.execute(\n\u001b[0m\u001b[1;32m    592\u001b[0m               \u001b[0mstr\u001b[0m\u001b[0;34m(\u001b[0m\u001b[0mself\u001b[0m\u001b[0;34m.\u001b[0m\u001b[0msignature\u001b[0m\u001b[0;34m.\u001b[0m\u001b[0mname\u001b[0m\u001b[0;34m)\u001b[0m\u001b[0;34m,\u001b[0m\u001b[0;34m\u001b[0m\u001b[0;34m\u001b[0m\u001b[0m\n\u001b[1;32m    593\u001b[0m               \u001b[0mnum_outputs\u001b[0m\u001b[0;34m=\u001b[0m\u001b[0mself\u001b[0m\u001b[0;34m.\u001b[0m\u001b[0m_num_outputs\u001b[0m\u001b[0;34m,\u001b[0m\u001b[0;34m\u001b[0m\u001b[0;34m\u001b[0m\u001b[0m\n",
      "\u001b[0;32m/opt/anaconda3/lib/python3.8/site-packages/tensorflow/python/eager/execute.py\u001b[0m in \u001b[0;36mquick_execute\u001b[0;34m(op_name, num_outputs, inputs, attrs, ctx, name)\u001b[0m\n\u001b[1;32m     57\u001b[0m   \u001b[0;32mtry\u001b[0m\u001b[0;34m:\u001b[0m\u001b[0;34m\u001b[0m\u001b[0;34m\u001b[0m\u001b[0m\n\u001b[1;32m     58\u001b[0m     \u001b[0mctx\u001b[0m\u001b[0;34m.\u001b[0m\u001b[0mensure_initialized\u001b[0m\u001b[0;34m(\u001b[0m\u001b[0;34m)\u001b[0m\u001b[0;34m\u001b[0m\u001b[0;34m\u001b[0m\u001b[0m\n\u001b[0;32m---> 59\u001b[0;31m     tensors = pywrap_tfe.TFE_Py_Execute(ctx._handle, device_name, op_name,\n\u001b[0m\u001b[1;32m     60\u001b[0m                                         inputs, attrs, num_outputs)\n\u001b[1;32m     61\u001b[0m   \u001b[0;32mexcept\u001b[0m \u001b[0mcore\u001b[0m\u001b[0;34m.\u001b[0m\u001b[0m_NotOkStatusException\u001b[0m \u001b[0;32mas\u001b[0m \u001b[0me\u001b[0m\u001b[0;34m:\u001b[0m\u001b[0;34m\u001b[0m\u001b[0;34m\u001b[0m\u001b[0m\n",
      "\u001b[0;31mKeyboardInterrupt\u001b[0m: "
     ]
    }
   ],
   "source": [
    "model_hist = []\n",
    "for latent_dim in latent_dims:\n",
    "    for learning_rate in learning_rates:\n",
    "        print('++++++++++++++++++++++++++++++++++++++++++++++++++++++++++++++++')\n",
    "        print(f'LATENT DIMENSIONS: {latent_dim}. LEARNING_RATE: {learning_rate}')\n",
    "        model = build_model(nusers, nsongs, latent_dim)\n",
    "        model.compile(loss=identity_loss, optimizer=Adam(learning_rate))\n",
    "        model.fit(X, tf.ones(ttriplets.shape[0]), batch_size, verbose=1, epochs=epochs)\n",
    "        evals = evaluate(model=model, uusers=uusers, usongs=usongs, nuser_listens=nuser_listens, ground_truth=ground_truth, N=df.shape[0])\n",
    "        print(evals)\n",
    "        model_hist.append({\n",
    "            'latent_dim' : latent_dim,\n",
    "            'learning_rate' : learning_rate,\n",
    "            'precision' : evals['precision'],\n",
    "            'recall' : evals['recall'],\n",
    "            'hit_ratio' : evals['hit_ratio'],\n",
    "            'hold_out_hits' : evals['hold_out_hits']\n",
    "        })"
   ]
  },
  {
   "cell_type": "code",
   "execution_count": null,
   "id": "5926680d",
   "metadata": {},
   "outputs": [],
   "source": [
    "pd.DataFrame(model_hist)"
   ]
  },
  {
   "cell_type": "code",
   "execution_count": 20,
   "id": "ca717531",
   "metadata": {},
   "outputs": [],
   "source": [
    "results = [\n",
    "    {\n",
    "        'latent_dim' : 200,\n",
    "        'learning_rate' : 0.001,\n",
    "        'precision' : 0.9007733868363252,\n",
    "        'recall' : 0.1580288916722781,\n",
    "        'hit_ratio' : 0.85543207176239,\n",
    "        'hold_out_hits' : 0.0\n",
    "    },\n",
    "    {\n",
    "        'latent_dim' : 200,\n",
    "        'learning_rate' : 0.01,\n",
    "        'precision' : 0.965031453031885,\n",
    "        'recall' : 0.1688926771415658,\n",
    "        'hit_ratio' : 0.9142392329883351,\n",
    "        'hold_out_hits' : 0.0\n",
    "    },\n",
    "    {\n",
    "        'latent_dim' : 200,\n",
    "        'learning_rate' : 0.1,\n",
    "        'precision' : 0.6523921812302971,\n",
    "        'recall' : 0.09435077417386167,\n",
    "        'hit_ratio' : 0.5107336852772432,\n",
    "        'hold_out_hits' : 0.0\n",
    "    },\n",
    "]\n",
    "\n",
    "df_results = pd.DataFrame(results)"
   ]
  },
  {
   "cell_type": "code",
   "execution_count": 26,
   "id": "a099a6b4",
   "metadata": {},
   "outputs": [
    {
     "data": {
      "text/html": [
       "<div>\n",
       "<style scoped>\n",
       "    .dataframe tbody tr th:only-of-type {\n",
       "        vertical-align: middle;\n",
       "    }\n",
       "\n",
       "    .dataframe tbody tr th {\n",
       "        vertical-align: top;\n",
       "    }\n",
       "\n",
       "    .dataframe thead th {\n",
       "        text-align: right;\n",
       "    }\n",
       "</style>\n",
       "<table border=\"1\" class=\"dataframe\">\n",
       "  <thead>\n",
       "    <tr style=\"text-align: right;\">\n",
       "      <th></th>\n",
       "      <th>latent_dim</th>\n",
       "      <th>learning_rate</th>\n",
       "      <th>precision</th>\n",
       "      <th>recall</th>\n",
       "      <th>hit_ratio</th>\n",
       "      <th>hold_out_hits</th>\n",
       "    </tr>\n",
       "  </thead>\n",
       "  <tbody>\n",
       "    <tr>\n",
       "      <th>0</th>\n",
       "      <td>200</td>\n",
       "      <td>0.001</td>\n",
       "      <td>0.900773</td>\n",
       "      <td>0.158029</td>\n",
       "      <td>0.855432</td>\n",
       "      <td>0.0</td>\n",
       "    </tr>\n",
       "    <tr>\n",
       "      <th>1</th>\n",
       "      <td>200</td>\n",
       "      <td>0.010</td>\n",
       "      <td>0.965031</td>\n",
       "      <td>0.168893</td>\n",
       "      <td>0.914239</td>\n",
       "      <td>0.0</td>\n",
       "    </tr>\n",
       "    <tr>\n",
       "      <th>2</th>\n",
       "      <td>200</td>\n",
       "      <td>0.100</td>\n",
       "      <td>0.652392</td>\n",
       "      <td>0.094351</td>\n",
       "      <td>0.510734</td>\n",
       "      <td>0.0</td>\n",
       "    </tr>\n",
       "  </tbody>\n",
       "</table>\n",
       "</div>"
      ],
      "text/plain": [
       "   latent_dim  learning_rate  precision    recall  hit_ratio  hold_out_hits\n",
       "0         200          0.001   0.900773  0.158029   0.855432            0.0\n",
       "1         200          0.010   0.965031  0.168893   0.914239            0.0\n",
       "2         200          0.100   0.652392  0.094351   0.510734            0.0"
      ]
     },
     "execution_count": 26,
     "metadata": {},
     "output_type": "execute_result"
    }
   ],
   "source": [
    "df_results"
   ]
  },
  {
   "cell_type": "code",
   "execution_count": 33,
   "id": "ca9701bc",
   "metadata": {},
   "outputs": [
    {
     "data": {
      "image/png": "[encoded data removed]",
      "text/plain": [
       "<Figure size 432x288 with 1 Axes>"
      ]
     },
     "metadata": {
      "needs_background": "light"
     },
     "output_type": "display_data"
    }
   ],
   "source": [
    "plt.plot(df_results['learning_rate'], df_results['recall'])\n",
    "# plt.title('Latent Dimensions')\n",
    "plt.xlabel('learning_rate')\n",
    "plt.ylabel('Recall')\n",
    "plt.show()"
   ]
  },
  {
   "cell_type": "code",
   "execution_count": null,
   "id": "82267ec4",
   "metadata": {},
   "outputs": [],
   "source": []
  }
 ],
 "metadata": {
  "kernelspec": {
   "display_name": "Python 3",
   "language": "python",
   "name": "python3"
  },
  "language_info": {
   "codemirror_mode": {
    "name": "ipython",
    "version": 3
   },
   "file_extension": ".py",
   "mimetype": "text/x-python",
   "name": "python",
   "nbconvert_exporter": "python",
   "pygments_lexer": "ipython3",
   "version": "3.8.8"
  }
 },
 "nbformat": 4,
 "nbformat_minor": 5
}

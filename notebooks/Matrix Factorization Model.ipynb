{
 "cells": [
  {
   "cell_type": "code",
   "execution_count": 20,
   "id": "d0886dad-05aa-4a96-b8f7-d0ced5a7aa24",
   "metadata": {},
   "outputs": [],
   "source": [
    "import numpy as np\n",
    "import pandas as pd"
   ]
  },
  {
   "cell_type": "code",
   "execution_count": 21,
   "id": "808c24cd-111f-4067-9982-23c338e08627",
   "metadata": {},
   "outputs": [],
   "source": [
    "reldir = 'C:\\\\Users\\\\shefa\\\\OneDrive\\\\CS6220\\\\msd.recsys\\\\datasets\\\\'"
   ]
  },
  {
   "cell_type": "code",
   "execution_count": 22,
   "id": "c9d62b15-1fd3-483d-a468-a1759314a565",
   "metadata": {},
   "outputs": [],
   "source": [
    "standardized_df = pd.read_pickle(reldir + 'combined.csv', compression='zip')"
   ]
  },
  {
   "cell_type": "code",
   "execution_count": 23,
   "id": "3d6ec025-81e2-4ec6-882a-06f9f14720a3",
   "metadata": {
    "tags": []
   },
   "outputs": [],
   "source": [
    "master_df = pd.read_pickle(reldir + 'songdata.csv', compression='zip')"
   ]
  },
  {
   "cell_type": "code",
   "execution_count": 24,
   "id": "1851b0b7-64ef-4eee-8094-c704e17ac028",
   "metadata": {
    "tags": []
   },
   "outputs": [
    {
     "data": {
      "text/html": [
       "<div>\n",
       "<style scoped>\n",
       "    .dataframe tbody tr th:only-of-type {\n",
       "        vertical-align: middle;\n",
       "    }\n",
       "\n",
       "    .dataframe tbody tr th {\n",
       "        vertical-align: top;\n",
       "    }\n",
       "\n",
       "    .dataframe thead th {\n",
       "        text-align: right;\n",
       "    }\n",
       "</style>\n",
       "<table border=\"1\" class=\"dataframe\">\n",
       "  <thead>\n",
       "    <tr style=\"text-align: right;\">\n",
       "      <th></th>\n",
       "      <th>user</th>\n",
       "      <th>song</th>\n",
       "      <th>count</th>\n",
       "      <th>analysis_songs_track_id</th>\n",
       "      <th>metadata_songs_artist_id</th>\n",
       "      <th>metadata_songs_song_id</th>\n",
       "      <th>analysis_songs_key</th>\n",
       "      <th>analysis_songs_key_confidence</th>\n",
       "      <th>analysis_songs_mode</th>\n",
       "      <th>analysis_songs_mode_confidence</th>\n",
       "      <th>...</th>\n",
       "      <th>tempo_binned</th>\n",
       "      <th>analysis_songs_duration</th>\n",
       "      <th>metadata_songs_artist_familiarity</th>\n",
       "      <th>metadata_songs_artist_hotttnesss</th>\n",
       "      <th>metadata_songs_song_hotttnesss</th>\n",
       "      <th>metadata_artist_terms</th>\n",
       "      <th>metadata_songs_artist_name</th>\n",
       "      <th>metadata_songs_release</th>\n",
       "      <th>metadata_songs_title</th>\n",
       "      <th>musicbrainz_artist_mbtags</th>\n",
       "    </tr>\n",
       "  </thead>\n",
       "  <tbody>\n",
       "    <tr>\n",
       "      <th>0</th>\n",
       "      <td>b80344d063b5ccb3212f76538f3d9e43d87dca9e</td>\n",
       "      <td>SOWEZSI12A81C21CE6</td>\n",
       "      <td>1</td>\n",
       "      <td>TRAUCNU128F42671EB</td>\n",
       "      <td>AR2UQQ51187B9AC816</td>\n",
       "      <td>SOWEZSI12A81C21CE6</td>\n",
       "      <td>5</td>\n",
       "      <td>0.351</td>\n",
       "      <td>0</td>\n",
       "      <td>0.318</td>\n",
       "      <td>...</td>\n",
       "      <td>8</td>\n",
       "      <td>-0.280898</td>\n",
       "      <td>0.732042</td>\n",
       "      <td>1.243373</td>\n",
       "      <td>5.09644</td>\n",
       "      <td>b'flamenco'|b'soundtrack'|b'folk'|b'spanish'|b...</td>\n",
       "      <td>Gipsy Kings</td>\n",
       "      <td>Greatest Hits</td>\n",
       "      <td>Tu Quieres Volver</td>\n",
       "      <td>b'classic pop and rock'|b'folk'</td>\n",
       "    </tr>\n",
       "    <tr>\n",
       "      <th>1</th>\n",
       "      <td>833c530ecda3d99deb8395f70400aa3999783d91</td>\n",
       "      <td>SOWEZSI12A81C21CE6</td>\n",
       "      <td>2</td>\n",
       "      <td>TRAUCNU128F42671EB</td>\n",
       "      <td>AR2UQQ51187B9AC816</td>\n",
       "      <td>SOWEZSI12A81C21CE6</td>\n",
       "      <td>5</td>\n",
       "      <td>0.351</td>\n",
       "      <td>0</td>\n",
       "      <td>0.318</td>\n",
       "      <td>...</td>\n",
       "      <td>8</td>\n",
       "      <td>-0.280898</td>\n",
       "      <td>0.732042</td>\n",
       "      <td>1.243373</td>\n",
       "      <td>5.09644</td>\n",
       "      <td>b'flamenco'|b'soundtrack'|b'folk'|b'spanish'|b...</td>\n",
       "      <td>Gipsy Kings</td>\n",
       "      <td>Greatest Hits</td>\n",
       "      <td>Tu Quieres Volver</td>\n",
       "      <td>b'classic pop and rock'|b'folk'</td>\n",
       "    </tr>\n",
       "    <tr>\n",
       "      <th>2</th>\n",
       "      <td>d6c5bd2b570b4faf8964d7ed04f3392ff505d2be</td>\n",
       "      <td>SOWEZSI12A81C21CE6</td>\n",
       "      <td>1</td>\n",
       "      <td>TRAUCNU128F42671EB</td>\n",
       "      <td>AR2UQQ51187B9AC816</td>\n",
       "      <td>SOWEZSI12A81C21CE6</td>\n",
       "      <td>5</td>\n",
       "      <td>0.351</td>\n",
       "      <td>0</td>\n",
       "      <td>0.318</td>\n",
       "      <td>...</td>\n",
       "      <td>8</td>\n",
       "      <td>-0.280898</td>\n",
       "      <td>0.732042</td>\n",
       "      <td>1.243373</td>\n",
       "      <td>5.09644</td>\n",
       "      <td>b'flamenco'|b'soundtrack'|b'folk'|b'spanish'|b...</td>\n",
       "      <td>Gipsy Kings</td>\n",
       "      <td>Greatest Hits</td>\n",
       "      <td>Tu Quieres Volver</td>\n",
       "      <td>b'classic pop and rock'|b'folk'</td>\n",
       "    </tr>\n",
       "    <tr>\n",
       "      <th>3</th>\n",
       "      <td>724534729c9f5dc72a009269c2c225883e4775d2</td>\n",
       "      <td>SOWEZSI12A81C21CE6</td>\n",
       "      <td>1</td>\n",
       "      <td>TRAUCNU128F42671EB</td>\n",
       "      <td>AR2UQQ51187B9AC816</td>\n",
       "      <td>SOWEZSI12A81C21CE6</td>\n",
       "      <td>5</td>\n",
       "      <td>0.351</td>\n",
       "      <td>0</td>\n",
       "      <td>0.318</td>\n",
       "      <td>...</td>\n",
       "      <td>8</td>\n",
       "      <td>-0.280898</td>\n",
       "      <td>0.732042</td>\n",
       "      <td>1.243373</td>\n",
       "      <td>5.09644</td>\n",
       "      <td>b'flamenco'|b'soundtrack'|b'folk'|b'spanish'|b...</td>\n",
       "      <td>Gipsy Kings</td>\n",
       "      <td>Greatest Hits</td>\n",
       "      <td>Tu Quieres Volver</td>\n",
       "      <td>b'classic pop and rock'|b'folk'</td>\n",
       "    </tr>\n",
       "    <tr>\n",
       "      <th>4</th>\n",
       "      <td>ee7aa84c164038c963cfd02a7e52a5598aa470c3</td>\n",
       "      <td>SOWEZSI12A81C21CE6</td>\n",
       "      <td>2</td>\n",
       "      <td>TRAUCNU128F42671EB</td>\n",
       "      <td>AR2UQQ51187B9AC816</td>\n",
       "      <td>SOWEZSI12A81C21CE6</td>\n",
       "      <td>5</td>\n",
       "      <td>0.351</td>\n",
       "      <td>0</td>\n",
       "      <td>0.318</td>\n",
       "      <td>...</td>\n",
       "      <td>8</td>\n",
       "      <td>-0.280898</td>\n",
       "      <td>0.732042</td>\n",
       "      <td>1.243373</td>\n",
       "      <td>5.09644</td>\n",
       "      <td>b'flamenco'|b'soundtrack'|b'folk'|b'spanish'|b...</td>\n",
       "      <td>Gipsy Kings</td>\n",
       "      <td>Greatest Hits</td>\n",
       "      <td>Tu Quieres Volver</td>\n",
       "      <td>b'classic pop and rock'|b'folk'</td>\n",
       "    </tr>\n",
       "  </tbody>\n",
       "</table>\n",
       "<p>5 rows × 27 columns</p>\n",
       "</div>"
      ],
      "text/plain": [
       "                                       user                song  count  \\\n",
       "0  b80344d063b5ccb3212f76538f3d9e43d87dca9e  SOWEZSI12A81C21CE6      1   \n",
       "1  833c530ecda3d99deb8395f70400aa3999783d91  SOWEZSI12A81C21CE6      2   \n",
       "2  d6c5bd2b570b4faf8964d7ed04f3392ff505d2be  SOWEZSI12A81C21CE6      1   \n",
       "3  724534729c9f5dc72a009269c2c225883e4775d2  SOWEZSI12A81C21CE6      1   \n",
       "4  ee7aa84c164038c963cfd02a7e52a5598aa470c3  SOWEZSI12A81C21CE6      2   \n",
       "\n",
       "  analysis_songs_track_id metadata_songs_artist_id metadata_songs_song_id  \\\n",
       "0      TRAUCNU128F42671EB       AR2UQQ51187B9AC816     SOWEZSI12A81C21CE6   \n",
       "1      TRAUCNU128F42671EB       AR2UQQ51187B9AC816     SOWEZSI12A81C21CE6   \n",
       "2      TRAUCNU128F42671EB       AR2UQQ51187B9AC816     SOWEZSI12A81C21CE6   \n",
       "3      TRAUCNU128F42671EB       AR2UQQ51187B9AC816     SOWEZSI12A81C21CE6   \n",
       "4      TRAUCNU128F42671EB       AR2UQQ51187B9AC816     SOWEZSI12A81C21CE6   \n",
       "\n",
       "   analysis_songs_key  analysis_songs_key_confidence  analysis_songs_mode  \\\n",
       "0                   5                          0.351                    0   \n",
       "1                   5                          0.351                    0   \n",
       "2                   5                          0.351                    0   \n",
       "3                   5                          0.351                    0   \n",
       "4                   5                          0.351                    0   \n",
       "\n",
       "   analysis_songs_mode_confidence  ...  tempo_binned  analysis_songs_duration  \\\n",
       "0                           0.318  ...             8                -0.280898   \n",
       "1                           0.318  ...             8                -0.280898   \n",
       "2                           0.318  ...             8                -0.280898   \n",
       "3                           0.318  ...             8                -0.280898   \n",
       "4                           0.318  ...             8                -0.280898   \n",
       "\n",
       "   metadata_songs_artist_familiarity  metadata_songs_artist_hotttnesss  \\\n",
       "0                           0.732042                          1.243373   \n",
       "1                           0.732042                          1.243373   \n",
       "2                           0.732042                          1.243373   \n",
       "3                           0.732042                          1.243373   \n",
       "4                           0.732042                          1.243373   \n",
       "\n",
       "   metadata_songs_song_hotttnesss  \\\n",
       "0                         5.09644   \n",
       "1                         5.09644   \n",
       "2                         5.09644   \n",
       "3                         5.09644   \n",
       "4                         5.09644   \n",
       "\n",
       "                               metadata_artist_terms  \\\n",
       "0  b'flamenco'|b'soundtrack'|b'folk'|b'spanish'|b...   \n",
       "1  b'flamenco'|b'soundtrack'|b'folk'|b'spanish'|b...   \n",
       "2  b'flamenco'|b'soundtrack'|b'folk'|b'spanish'|b...   \n",
       "3  b'flamenco'|b'soundtrack'|b'folk'|b'spanish'|b...   \n",
       "4  b'flamenco'|b'soundtrack'|b'folk'|b'spanish'|b...   \n",
       "\n",
       "   metadata_songs_artist_name  metadata_songs_release  metadata_songs_title  \\\n",
       "0                 Gipsy Kings           Greatest Hits     Tu Quieres Volver   \n",
       "1                 Gipsy Kings           Greatest Hits     Tu Quieres Volver   \n",
       "2                 Gipsy Kings           Greatest Hits     Tu Quieres Volver   \n",
       "3                 Gipsy Kings           Greatest Hits     Tu Quieres Volver   \n",
       "4                 Gipsy Kings           Greatest Hits     Tu Quieres Volver   \n",
       "\n",
       "         musicbrainz_artist_mbtags  \n",
       "0  b'classic pop and rock'|b'folk'  \n",
       "1  b'classic pop and rock'|b'folk'  \n",
       "2  b'classic pop and rock'|b'folk'  \n",
       "3  b'classic pop and rock'|b'folk'  \n",
       "4  b'classic pop and rock'|b'folk'  \n",
       "\n",
       "[5 rows x 27 columns]"
      ]
     },
     "execution_count": 24,
     "metadata": {},
     "output_type": "execute_result"
    }
   ],
   "source": [
    "standardized_df.head()"
   ]
  },
  {
   "cell_type": "markdown",
   "id": "c650148f-5820-4072-9b33-d9d8cba13e54",
   "metadata": {
    "tags": []
   },
   "source": [
    "https://jessesw.com/Rec-System/"
   ]
  },
  {
   "cell_type": "markdown",
   "id": "9debd100-883b-4655-beca-cd8f1a21ee80",
   "metadata": {
    "tags": []
   },
   "source": [
    "https://towardsdatascience.com/building-a-collaborative-filtering-recommender-system-with-clickstream-data-dffc86c8c65"
   ]
  },
  {
   "cell_type": "code",
   "execution_count": 31,
   "id": "2c1e31b2-d7b2-4e1a-aee7-9cb195d92b0e",
   "metadata": {},
   "outputs": [
    {
     "data": {
      "text/html": [
       "<div>\n",
       "<style scoped>\n",
       "    .dataframe tbody tr th:only-of-type {\n",
       "        vertical-align: middle;\n",
       "    }\n",
       "\n",
       "    .dataframe tbody tr th {\n",
       "        vertical-align: top;\n",
       "    }\n",
       "\n",
       "    .dataframe thead th {\n",
       "        text-align: right;\n",
       "    }\n",
       "</style>\n",
       "<table border=\"1\" class=\"dataframe\">\n",
       "  <thead>\n",
       "    <tr style=\"text-align: right;\">\n",
       "      <th></th>\n",
       "      <th>user</th>\n",
       "      <th>song</th>\n",
       "      <th>count</th>\n",
       "      <th>analysis_songs_track_id</th>\n",
       "      <th>metadata_songs_artist_id</th>\n",
       "      <th>metadata_songs_song_id</th>\n",
       "      <th>analysis_songs_key</th>\n",
       "      <th>analysis_songs_key_confidence</th>\n",
       "      <th>analysis_songs_mode</th>\n",
       "      <th>analysis_songs_mode_confidence</th>\n",
       "      <th>...</th>\n",
       "      <th>metadata_songs_artist_familiarity</th>\n",
       "      <th>metadata_songs_artist_hotttnesss</th>\n",
       "      <th>metadata_songs_song_hotttnesss</th>\n",
       "      <th>metadata_artist_terms</th>\n",
       "      <th>metadata_songs_artist_name</th>\n",
       "      <th>metadata_songs_release</th>\n",
       "      <th>metadata_songs_title</th>\n",
       "      <th>musicbrainz_artist_mbtags</th>\n",
       "      <th>user_id</th>\n",
       "      <th>song_id</th>\n",
       "    </tr>\n",
       "  </thead>\n",
       "  <tbody>\n",
       "    <tr>\n",
       "      <th>3</th>\n",
       "      <td>724534729c9f5dc72a009269c2c225883e4775d2</td>\n",
       "      <td>SOWEZSI12A81C21CE6</td>\n",
       "      <td>1</td>\n",
       "      <td>TRAUCNU128F42671EB</td>\n",
       "      <td>AR2UQQ51187B9AC816</td>\n",
       "      <td>SOWEZSI12A81C21CE6</td>\n",
       "      <td>5</td>\n",
       "      <td>0.351</td>\n",
       "      <td>0</td>\n",
       "      <td>0.318</td>\n",
       "      <td>...</td>\n",
       "      <td>0.732042</td>\n",
       "      <td>1.243373</td>\n",
       "      <td>5.09644</td>\n",
       "      <td>b'flamenco'|b'soundtrack'|b'folk'|b'spanish'|b...</td>\n",
       "      <td>Gipsy Kings</td>\n",
       "      <td>Greatest Hits</td>\n",
       "      <td>Tu Quieres Volver</td>\n",
       "      <td>b'classic pop and rock'|b'folk'</td>\n",
       "      <td>186356</td>\n",
       "      <td>3214</td>\n",
       "    </tr>\n",
       "    <tr>\n",
       "      <th>4</th>\n",
       "      <td>ee7aa84c164038c963cfd02a7e52a5598aa470c3</td>\n",
       "      <td>SOWEZSI12A81C21CE6</td>\n",
       "      <td>2</td>\n",
       "      <td>TRAUCNU128F42671EB</td>\n",
       "      <td>AR2UQQ51187B9AC816</td>\n",
       "      <td>SOWEZSI12A81C21CE6</td>\n",
       "      <td>5</td>\n",
       "      <td>0.351</td>\n",
       "      <td>0</td>\n",
       "      <td>0.318</td>\n",
       "      <td>...</td>\n",
       "      <td>0.732042</td>\n",
       "      <td>1.243373</td>\n",
       "      <td>5.09644</td>\n",
       "      <td>b'flamenco'|b'soundtrack'|b'folk'|b'spanish'|b...</td>\n",
       "      <td>Gipsy Kings</td>\n",
       "      <td>Greatest Hits</td>\n",
       "      <td>Tu Quieres Volver</td>\n",
       "      <td>b'classic pop and rock'|b'folk'</td>\n",
       "      <td>389460</td>\n",
       "      <td>3214</td>\n",
       "    </tr>\n",
       "    <tr>\n",
       "      <th>5</th>\n",
       "      <td>1aa4fd215aadb160965110ed8a829745cde319eb</td>\n",
       "      <td>SOWEZSI12A81C21CE6</td>\n",
       "      <td>1</td>\n",
       "      <td>TRAUCNU128F42671EB</td>\n",
       "      <td>AR2UQQ51187B9AC816</td>\n",
       "      <td>SOWEZSI12A81C21CE6</td>\n",
       "      <td>5</td>\n",
       "      <td>0.351</td>\n",
       "      <td>0</td>\n",
       "      <td>0.318</td>\n",
       "      <td>...</td>\n",
       "      <td>0.732042</td>\n",
       "      <td>1.243373</td>\n",
       "      <td>5.09644</td>\n",
       "      <td>b'flamenco'|b'soundtrack'|b'folk'|b'spanish'|b...</td>\n",
       "      <td>Gipsy Kings</td>\n",
       "      <td>Greatest Hits</td>\n",
       "      <td>Tu Quieres Volver</td>\n",
       "      <td>b'classic pop and rock'|b'folk'</td>\n",
       "      <td>43196</td>\n",
       "      <td>3214</td>\n",
       "    </tr>\n",
       "    <tr>\n",
       "      <th>8</th>\n",
       "      <td>cca2694a19b2474bc731574ebb8b10382214f865</td>\n",
       "      <td>SOWEZSI12A81C21CE6</td>\n",
       "      <td>2</td>\n",
       "      <td>TRAUCNU128F42671EB</td>\n",
       "      <td>AR2UQQ51187B9AC816</td>\n",
       "      <td>SOWEZSI12A81C21CE6</td>\n",
       "      <td>5</td>\n",
       "      <td>0.351</td>\n",
       "      <td>0</td>\n",
       "      <td>0.318</td>\n",
       "      <td>...</td>\n",
       "      <td>0.732042</td>\n",
       "      <td>1.243373</td>\n",
       "      <td>5.09644</td>\n",
       "      <td>b'flamenco'|b'soundtrack'|b'folk'|b'spanish'|b...</td>\n",
       "      <td>Gipsy Kings</td>\n",
       "      <td>Greatest Hits</td>\n",
       "      <td>Tu Quieres Volver</td>\n",
       "      <td>b'classic pop and rock'|b'folk'</td>\n",
       "      <td>334055</td>\n",
       "      <td>3214</td>\n",
       "    </tr>\n",
       "    <tr>\n",
       "      <th>17</th>\n",
       "      <td>091d959cd1d21f270d9f6dc58b93ee78caa4ab96</td>\n",
       "      <td>SOWEZSI12A81C21CE6</td>\n",
       "      <td>10</td>\n",
       "      <td>TRAUCNU128F42671EB</td>\n",
       "      <td>AR2UQQ51187B9AC816</td>\n",
       "      <td>SOWEZSI12A81C21CE6</td>\n",
       "      <td>5</td>\n",
       "      <td>0.351</td>\n",
       "      <td>0</td>\n",
       "      <td>0.318</td>\n",
       "      <td>...</td>\n",
       "      <td>0.732042</td>\n",
       "      <td>1.243373</td>\n",
       "      <td>5.09644</td>\n",
       "      <td>b'flamenco'|b'soundtrack'|b'folk'|b'spanish'|b...</td>\n",
       "      <td>Gipsy Kings</td>\n",
       "      <td>Greatest Hits</td>\n",
       "      <td>Tu Quieres Volver</td>\n",
       "      <td>b'classic pop and rock'|b'folk'</td>\n",
       "      <td>14761</td>\n",
       "      <td>3214</td>\n",
       "    </tr>\n",
       "  </tbody>\n",
       "</table>\n",
       "<p>5 rows × 29 columns</p>\n",
       "</div>"
      ],
      "text/plain": [
       "                                        user                song  count  \\\n",
       "3   724534729c9f5dc72a009269c2c225883e4775d2  SOWEZSI12A81C21CE6      1   \n",
       "4   ee7aa84c164038c963cfd02a7e52a5598aa470c3  SOWEZSI12A81C21CE6      2   \n",
       "5   1aa4fd215aadb160965110ed8a829745cde319eb  SOWEZSI12A81C21CE6      1   \n",
       "8   cca2694a19b2474bc731574ebb8b10382214f865  SOWEZSI12A81C21CE6      2   \n",
       "17  091d959cd1d21f270d9f6dc58b93ee78caa4ab96  SOWEZSI12A81C21CE6     10   \n",
       "\n",
       "   analysis_songs_track_id metadata_songs_artist_id metadata_songs_song_id  \\\n",
       "3       TRAUCNU128F42671EB       AR2UQQ51187B9AC816     SOWEZSI12A81C21CE6   \n",
       "4       TRAUCNU128F42671EB       AR2UQQ51187B9AC816     SOWEZSI12A81C21CE6   \n",
       "5       TRAUCNU128F42671EB       AR2UQQ51187B9AC816     SOWEZSI12A81C21CE6   \n",
       "8       TRAUCNU128F42671EB       AR2UQQ51187B9AC816     SOWEZSI12A81C21CE6   \n",
       "17      TRAUCNU128F42671EB       AR2UQQ51187B9AC816     SOWEZSI12A81C21CE6   \n",
       "\n",
       "    analysis_songs_key  analysis_songs_key_confidence  analysis_songs_mode  \\\n",
       "3                    5                          0.351                    0   \n",
       "4                    5                          0.351                    0   \n",
       "5                    5                          0.351                    0   \n",
       "8                    5                          0.351                    0   \n",
       "17                   5                          0.351                    0   \n",
       "\n",
       "    analysis_songs_mode_confidence  ...  metadata_songs_artist_familiarity  \\\n",
       "3                            0.318  ...                           0.732042   \n",
       "4                            0.318  ...                           0.732042   \n",
       "5                            0.318  ...                           0.732042   \n",
       "8                            0.318  ...                           0.732042   \n",
       "17                           0.318  ...                           0.732042   \n",
       "\n",
       "    metadata_songs_artist_hotttnesss  metadata_songs_song_hotttnesss  \\\n",
       "3                           1.243373                         5.09644   \n",
       "4                           1.243373                         5.09644   \n",
       "5                           1.243373                         5.09644   \n",
       "8                           1.243373                         5.09644   \n",
       "17                          1.243373                         5.09644   \n",
       "\n",
       "                                metadata_artist_terms  \\\n",
       "3   b'flamenco'|b'soundtrack'|b'folk'|b'spanish'|b...   \n",
       "4   b'flamenco'|b'soundtrack'|b'folk'|b'spanish'|b...   \n",
       "5   b'flamenco'|b'soundtrack'|b'folk'|b'spanish'|b...   \n",
       "8   b'flamenco'|b'soundtrack'|b'folk'|b'spanish'|b...   \n",
       "17  b'flamenco'|b'soundtrack'|b'folk'|b'spanish'|b...   \n",
       "\n",
       "    metadata_songs_artist_name  metadata_songs_release  metadata_songs_title  \\\n",
       "3                  Gipsy Kings           Greatest Hits     Tu Quieres Volver   \n",
       "4                  Gipsy Kings           Greatest Hits     Tu Quieres Volver   \n",
       "5                  Gipsy Kings           Greatest Hits     Tu Quieres Volver   \n",
       "8                  Gipsy Kings           Greatest Hits     Tu Quieres Volver   \n",
       "17                 Gipsy Kings           Greatest Hits     Tu Quieres Volver   \n",
       "\n",
       "          musicbrainz_artist_mbtags  user_id  song_id  \n",
       "3   b'classic pop and rock'|b'folk'   186356     3214  \n",
       "4   b'classic pop and rock'|b'folk'   389460     3214  \n",
       "5   b'classic pop and rock'|b'folk'    43196     3214  \n",
       "8   b'classic pop and rock'|b'folk'   334055     3214  \n",
       "17  b'classic pop and rock'|b'folk'    14761     3214  \n",
       "\n",
       "[5 rows x 29 columns]"
      ]
     },
     "execution_count": 31,
     "metadata": {},
     "output_type": "execute_result"
    }
   ],
   "source": [
    "master_df = standardized_df[standardized_df.groupby('user').user.transform('count')>4].copy()\n",
    "master_df.head()"
   ]
  },
  {
   "cell_type": "markdown",
   "id": "ac23d561-4e60-4fb7-a8e8-e18494c87a9e",
   "metadata": {
    "tags": []
   },
   "source": [
    "## Attempt 1 Using jessesw.com"
   ]
  },
  {
   "cell_type": "code",
   "execution_count": 6,
   "id": "511cb8b7-4ff7-41b4-bb07-b1a8fe00c418",
   "metadata": {
    "tags": []
   },
   "outputs": [
    {
     "data": {
      "text/html": [
       "<div>\n",
       "<style scoped>\n",
       "    .dataframe tbody tr th:only-of-type {\n",
       "        vertical-align: middle;\n",
       "    }\n",
       "\n",
       "    .dataframe tbody tr th {\n",
       "        vertical-align: top;\n",
       "    }\n",
       "\n",
       "    .dataframe thead th {\n",
       "        text-align: right;\n",
       "    }\n",
       "</style>\n",
       "<table border=\"1\" class=\"dataframe\">\n",
       "  <thead>\n",
       "    <tr style=\"text-align: right;\">\n",
       "      <th></th>\n",
       "      <th>count</th>\n",
       "      <th>analysis_songs_key</th>\n",
       "      <th>analysis_songs_key_confidence</th>\n",
       "      <th>analysis_songs_mode</th>\n",
       "      <th>analysis_songs_mode_confidence</th>\n",
       "      <th>analysis_songs_tempo</th>\n",
       "      <th>analysis_songs_time_signature</th>\n",
       "      <th>analysis_songs_time_signature_confidence</th>\n",
       "      <th>musicbrainz_songs_year</th>\n",
       "      <th>years_binned</th>\n",
       "      <th>tempo_binned</th>\n",
       "      <th>analysis_songs_duration</th>\n",
       "      <th>metadata_songs_artist_familiarity</th>\n",
       "      <th>metadata_songs_artist_hotttnesss</th>\n",
       "      <th>metadata_songs_song_hotttnesss</th>\n",
       "    </tr>\n",
       "  </thead>\n",
       "  <tbody>\n",
       "    <tr>\n",
       "      <th>count</th>\n",
       "      <td>772661.000000</td>\n",
       "      <td>772661.000000</td>\n",
       "      <td>772661.000000</td>\n",
       "      <td>772661.000000</td>\n",
       "      <td>772661.000000</td>\n",
       "      <td>772661.000000</td>\n",
       "      <td>772661.000000</td>\n",
       "      <td>772661.000000</td>\n",
       "      <td>772661.000000</td>\n",
       "      <td>772661.000000</td>\n",
       "      <td>772661.000000</td>\n",
       "      <td>772661.000000</td>\n",
       "      <td>772661.000000</td>\n",
       "      <td>772661.000000</td>\n",
       "      <td>772661.000000</td>\n",
       "    </tr>\n",
       "    <tr>\n",
       "      <th>mean</th>\n",
       "      <td>2.684340</td>\n",
       "      <td>5.673522</td>\n",
       "      <td>0.432972</td>\n",
       "      <td>0.637005</td>\n",
       "      <td>0.489415</td>\n",
       "      <td>126.560860</td>\n",
       "      <td>3.730847</td>\n",
       "      <td>0.626652</td>\n",
       "      <td>1543.714245</td>\n",
       "      <td>2.646629</td>\n",
       "      <td>4.783883</td>\n",
       "      <td>0.158297</td>\n",
       "      <td>1.137810</td>\n",
       "      <td>1.828713</td>\n",
       "      <td>3.760755</td>\n",
       "    </tr>\n",
       "    <tr>\n",
       "      <th>std</th>\n",
       "      <td>5.454646</td>\n",
       "      <td>3.615617</td>\n",
       "      <td>0.270784</td>\n",
       "      <td>0.480864</td>\n",
       "      <td>0.165614</td>\n",
       "      <td>31.789887</td>\n",
       "      <td>1.021593</td>\n",
       "      <td>0.361508</td>\n",
       "      <td>839.540567</td>\n",
       "      <td>1.620828</td>\n",
       "      <td>2.637524</td>\n",
       "      <td>0.801748</td>\n",
       "      <td>0.594691</td>\n",
       "      <td>1.180343</td>\n",
       "      <td>2.317352</td>\n",
       "    </tr>\n",
       "    <tr>\n",
       "      <th>min</th>\n",
       "      <td>1.000000</td>\n",
       "      <td>0.000000</td>\n",
       "      <td>0.000000</td>\n",
       "      <td>0.000000</td>\n",
       "      <td>0.000000</td>\n",
       "      <td>0.000000</td>\n",
       "      <td>0.000000</td>\n",
       "      <td>0.000000</td>\n",
       "      <td>0.000000</td>\n",
       "      <td>0.000000</td>\n",
       "      <td>0.000000</td>\n",
       "      <td>-2.151904</td>\n",
       "      <td>-2.813196</td>\n",
       "      <td>-2.960846</td>\n",
       "      <td>-4.007280</td>\n",
       "    </tr>\n",
       "    <tr>\n",
       "      <th>25%</th>\n",
       "      <td>1.000000</td>\n",
       "      <td>2.000000</td>\n",
       "      <td>0.222000</td>\n",
       "      <td>0.000000</td>\n",
       "      <td>0.397000</td>\n",
       "      <td>102.984000</td>\n",
       "      <td>4.000000</td>\n",
       "      <td>0.358000</td>\n",
       "      <td>1977.000000</td>\n",
       "      <td>1.000000</td>\n",
       "      <td>3.000000</td>\n",
       "      <td>-0.228571</td>\n",
       "      <td>0.847774</td>\n",
       "      <td>1.077402</td>\n",
       "      <td>2.414042</td>\n",
       "    </tr>\n",
       "    <tr>\n",
       "      <th>50%</th>\n",
       "      <td>1.000000</td>\n",
       "      <td>6.000000</td>\n",
       "      <td>0.437000</td>\n",
       "      <td>1.000000</td>\n",
       "      <td>0.480000</td>\n",
       "      <td>121.884000</td>\n",
       "      <td>4.000000</td>\n",
       "      <td>0.742000</td>\n",
       "      <td>2000.000000</td>\n",
       "      <td>3.000000</td>\n",
       "      <td>5.000000</td>\n",
       "      <td>0.052587</td>\n",
       "      <td>1.298247</td>\n",
       "      <td>1.707256</td>\n",
       "      <td>4.332809</td>\n",
       "    </tr>\n",
       "    <tr>\n",
       "      <th>75%</th>\n",
       "      <td>2.000000</td>\n",
       "      <td>9.000000</td>\n",
       "      <td>0.630000</td>\n",
       "      <td>1.000000</td>\n",
       "      <td>0.596000</td>\n",
       "      <td>146.022000</td>\n",
       "      <td>4.000000</td>\n",
       "      <td>0.994000</td>\n",
       "      <td>2006.000000</td>\n",
       "      <td>4.000000</td>\n",
       "      <td>7.000000</td>\n",
       "      <td>0.464172</td>\n",
       "      <td>1.572213</td>\n",
       "      <td>2.589013</td>\n",
       "      <td>5.325418</td>\n",
       "    </tr>\n",
       "    <tr>\n",
       "      <th>max</th>\n",
       "      <td>771.000000</td>\n",
       "      <td>11.000000</td>\n",
       "      <td>1.000000</td>\n",
       "      <td>1.000000</td>\n",
       "      <td>1.000000</td>\n",
       "      <td>253.357000</td>\n",
       "      <td>7.000000</td>\n",
       "      <td>1.000000</td>\n",
       "      <td>2010.000000</td>\n",
       "      <td>4.000000</td>\n",
       "      <td>9.000000</td>\n",
       "      <td>14.586918</td>\n",
       "      <td>2.176964</td>\n",
       "      <td>5.457244</td>\n",
       "      <td>7.681827</td>\n",
       "    </tr>\n",
       "  </tbody>\n",
       "</table>\n",
       "</div>"
      ],
      "text/plain": [
       "               count  analysis_songs_key  analysis_songs_key_confidence  \\\n",
       "count  772661.000000       772661.000000                  772661.000000   \n",
       "mean        2.684340            5.673522                       0.432972   \n",
       "std         5.454646            3.615617                       0.270784   \n",
       "min         1.000000            0.000000                       0.000000   \n",
       "25%         1.000000            2.000000                       0.222000   \n",
       "50%         1.000000            6.000000                       0.437000   \n",
       "75%         2.000000            9.000000                       0.630000   \n",
       "max       771.000000           11.000000                       1.000000   \n",
       "\n",
       "       analysis_songs_mode  analysis_songs_mode_confidence  \\\n",
       "count        772661.000000                   772661.000000   \n",
       "mean              0.637005                        0.489415   \n",
       "std               0.480864                        0.165614   \n",
       "min               0.000000                        0.000000   \n",
       "25%               0.000000                        0.397000   \n",
       "50%               1.000000                        0.480000   \n",
       "75%               1.000000                        0.596000   \n",
       "max               1.000000                        1.000000   \n",
       "\n",
       "       analysis_songs_tempo  analysis_songs_time_signature  \\\n",
       "count         772661.000000                  772661.000000   \n",
       "mean             126.560860                       3.730847   \n",
       "std               31.789887                       1.021593   \n",
       "min                0.000000                       0.000000   \n",
       "25%              102.984000                       4.000000   \n",
       "50%              121.884000                       4.000000   \n",
       "75%              146.022000                       4.000000   \n",
       "max              253.357000                       7.000000   \n",
       "\n",
       "       analysis_songs_time_signature_confidence  musicbrainz_songs_year  \\\n",
       "count                             772661.000000           772661.000000   \n",
       "mean                                   0.626652             1543.714245   \n",
       "std                                    0.361508              839.540567   \n",
       "min                                    0.000000                0.000000   \n",
       "25%                                    0.358000             1977.000000   \n",
       "50%                                    0.742000             2000.000000   \n",
       "75%                                    0.994000             2006.000000   \n",
       "max                                    1.000000             2010.000000   \n",
       "\n",
       "        years_binned   tempo_binned  analysis_songs_duration  \\\n",
       "count  772661.000000  772661.000000            772661.000000   \n",
       "mean        2.646629       4.783883                 0.158297   \n",
       "std         1.620828       2.637524                 0.801748   \n",
       "min         0.000000       0.000000                -2.151904   \n",
       "25%         1.000000       3.000000                -0.228571   \n",
       "50%         3.000000       5.000000                 0.052587   \n",
       "75%         4.000000       7.000000                 0.464172   \n",
       "max         4.000000       9.000000                14.586918   \n",
       "\n",
       "       metadata_songs_artist_familiarity  metadata_songs_artist_hotttnesss  \\\n",
       "count                      772661.000000                     772661.000000   \n",
       "mean                            1.137810                          1.828713   \n",
       "std                             0.594691                          1.180343   \n",
       "min                            -2.813196                         -2.960846   \n",
       "25%                             0.847774                          1.077402   \n",
       "50%                             1.298247                          1.707256   \n",
       "75%                             1.572213                          2.589013   \n",
       "max                             2.176964                          5.457244   \n",
       "\n",
       "       metadata_songs_song_hotttnesss  \n",
       "count                   772661.000000  \n",
       "mean                         3.760755  \n",
       "std                          2.317352  \n",
       "min                         -4.007280  \n",
       "25%                          2.414042  \n",
       "50%                          4.332809  \n",
       "75%                          5.325418  \n",
       "max                          7.681827  "
      ]
     },
     "execution_count": 6,
     "metadata": {},
     "output_type": "execute_result"
    }
   ],
   "source": [
    "## Check that all counts in dataset are 1 or greater\n",
    "standardized_df.describe()"
   ]
  },
  {
   "cell_type": "code",
   "execution_count": 7,
   "id": "42c1bd87-868b-4781-8e3e-121b18a6d1bc",
   "metadata": {},
   "outputs": [],
   "source": [
    "## Get our unique users\n",
    "users = list(np.sort(standardized_df.user.unique()))\n",
    "## Get our unique songs\n",
    "songs = list(standardized_df.song.unique())\n",
    "## Get counts of songs listened to\n",
    "song_count = list(standardized_df['count'])"
   ]
  },
  {
   "cell_type": "code",
   "execution_count": 8,
   "id": "1a2ec133-d133-4842-9467-5d6e622f537a",
   "metadata": {},
   "outputs": [],
   "source": [
    "import scipy.sparse as sparse\n",
    "from scipy.sparse.linalg import spsolve\n",
    "\n",
    "## Get associated row indices\n",
    "rows = pd.Categorical(standardized_df.user, categories=users).codes\n",
    "## Get associated column indices\n",
    "cols = pd.Categorical(standardized_df.song, categories=songs).codes\n",
    "matrix = sparse.csr_matrix((song_count, (rows, cols)), shape=(len(users), len(songs)))"
   ]
  },
  {
   "cell_type": "code",
   "execution_count": 9,
   "id": "e7e1c57e-5d28-486f-8b18-a03fcd5d0d46",
   "metadata": {},
   "outputs": [
    {
     "data": {
      "text/plain": [
       "<418252x3675 sparse matrix of type '<class 'numpy.intc'>'\n",
       "\twith 772661 stored elements in Compressed Sparse Row format>"
      ]
     },
     "execution_count": 9,
     "metadata": {},
     "output_type": "execute_result"
    }
   ],
   "source": [
    "matrix"
   ]
  },
  {
   "cell_type": "markdown",
   "id": "808d47cd-7d8f-4e2e-9d13-9be9c1a0003b",
   "metadata": {},
   "source": [
    "We have a total of 418,252 users and 3,675 songs, with 772,661 songs heard."
   ]
  },
  {
   "cell_type": "code",
   "execution_count": 10,
   "id": "9f5dffbc-3289-41b4-b026-4026abf0431a",
   "metadata": {},
   "outputs": [
    {
     "data": {
      "text/plain": [
       "99.94973176669653"
      ]
     },
     "execution_count": 10,
     "metadata": {},
     "output_type": "execute_result"
    }
   ],
   "source": [
    "## Calculate matrix sparsity\n",
    "# Obtain number of possible interactions in the matrix\n",
    "matrix_size = matrix.shape[0]*matrix.shape[1]\n",
    "# Obtain number of songs interacted with\n",
    "num_songs_heard = len(matrix.nonzero()[0])\n",
    "sparsity = 100*(1-(num_songs_heard/matrix_size))\n",
    "sparsity"
   ]
  },
  {
   "cell_type": "markdown",
   "id": "28ccb566-4f67-4157-8ef8-49a31ad0647e",
   "metadata": {},
   "source": [
    "99.9% of the interaction matrix is sparse whereas the maximum that usually works for collaborative filtering is 99.5%. Therefore, we can attempt to build a matrix factorization model, but this may not perform well."
   ]
  },
  {
   "cell_type": "code",
   "execution_count": 11,
   "id": "3dd3e81e-b035-4993-aed6-b40a208dc29a",
   "metadata": {},
   "outputs": [
    {
     "name": "stdout",
     "output_type": "stream",
     "text": [
      "Requirement already satisfied: implicit in c:\\users\\shefa\\anaconda3\\lib\\site-packages (0.4.4)\n",
      "Requirement already satisfied: numpy in c:\\users\\shefa\\anaconda3\\lib\\site-packages (from implicit) (1.20.2)\n",
      "Requirement already satisfied: scipy>=0.16 in c:\\users\\shefa\\anaconda3\\lib\\site-packages (from implicit) (1.6.2)\n",
      "Requirement already satisfied: tqdm>=4.27 in c:\\users\\shefa\\anaconda3\\lib\\site-packages (from implicit) (4.61.1)\n"
     ]
    }
   ],
   "source": [
    "# Install a pip package in the current Jupyter kernel\n",
    "import sys\n",
    "!{sys.executable} -m pip install implicit"
   ]
  },
  {
   "cell_type": "markdown",
   "id": "4e423898-5bad-4779-9376-7cd50e3c03b4",
   "metadata": {},
   "source": [
    "## Attempt 2 Using Towards Data Science"
   ]
  },
  {
   "cell_type": "code",
   "execution_count": 63,
   "id": "b5900f42-ee62-43b5-ae2f-f9790b81c3ac",
   "metadata": {
    "tags": []
   },
   "outputs": [
    {
     "name": "stdout",
     "output_type": "stream",
     "text": [
      "  (6, 639)\t2.0\n",
      "  (6, 1223)\t1.0\n",
      "  (6, 2370)\t1.0\n",
      "  (6, 2550)\t1.0\n",
      "  (6, 3548)\t1.0\n",
      "  (12, 114)\t1.0\n",
      "  (12, 370)\t5.0\n",
      "  (12, 868)\t1.0\n",
      "  (12, 1036)\t7.0\n",
      "  (12, 1192)\t1.0\n",
      "  (12, 2529)\t5.0\n",
      "  (12, 3374)\t1.0\n",
      "  (14, 1054)\t1.0\n",
      "  (14, 1231)\t4.0\n",
      "  (14, 1424)\t2.0\n",
      "  (14, 2276)\t5.0\n",
      "  (14, 2582)\t1.0\n",
      "  (14, 2792)\t2.0\n",
      "  (33, 114)\t1.0\n",
      "  (33, 964)\t2.0\n",
      "  (33, 1424)\t9.0\n",
      "  (33, 2792)\t1.0\n",
      "  (33, 2880)\t8.0\n",
      "  (33, 3213)\t1.0\n",
      "  (33, 3475)\t1.0\n",
      "  :\t:\n",
      "  (418219, 1831)\t7.0\n",
      "  (418219, 1965)\t1.0\n",
      "  (418219, 2142)\t1.0\n",
      "  (418219, 2165)\t1.0\n",
      "  (418219, 2374)\t1.0\n",
      "  (418219, 2426)\t1.0\n",
      "  (418219, 3311)\t1.0\n",
      "  (418219, 3634)\t2.0\n",
      "  (418226, 692)\t1.0\n",
      "  (418226, 924)\t1.0\n",
      "  (418226, 964)\t1.0\n",
      "  (418226, 1831)\t1.0\n",
      "  (418226, 2214)\t1.0\n",
      "  (418227, 114)\t1.0\n",
      "  (418227, 1153)\t1.0\n",
      "  (418227, 1215)\t7.0\n",
      "  (418227, 1235)\t1.0\n",
      "  (418227, 2545)\t1.0\n",
      "  (418227, 3467)\t2.0\n",
      "  (418227, 3542)\t1.0\n",
      "  (418246, 521)\t4.0\n",
      "  (418246, 1918)\t4.0\n",
      "  (418246, 2426)\t13.0\n",
      "  (418246, 3223)\t14.0\n",
      "  (418246, 3258)\t19.0\n"
     ]
    }
   ],
   "source": [
    "#content_matrix = sparse.csr_matrix((song_count, (rows, cols)), shape=(len(songs), len(users)))\n",
    "import scipy.sparse as sparse\n",
    "from scipy.sparse.linalg import spsolve\n",
    "from scipy.sparse import csr_matrix\n",
    "\n",
    "master_df['user']= master_df['user'].astype(\"category\")\n",
    "master_df['song']= master_df['song'].astype(\"category\")\n",
    "master_df['user_id']= master_df['user'].cat.codes\n",
    "master_df['song_id']= master_df['song'].cat.codes\n",
    "\n",
    "sparse_content_user = sparse.csr_matrix((master_df['count'].astype(float), (master_df['song_id'], master_df['user_id'])))\n",
    "sparse_user_content = sparse.csr_matrix((master_df['count'].astype(float), (master_df['user_id'], master_df['song_id'])))\n",
    "print (sparse_user_content)"
   ]
  },
  {
   "cell_type": "code",
   "execution_count": 47,
   "id": "dfe580b0-9f6a-40c1-a74f-8ed2dfe72c23",
   "metadata": {},
   "outputs": [
    {
     "data": {
      "text/html": [
       "<div>\n",
       "<style scoped>\n",
       "    .dataframe tbody tr th:only-of-type {\n",
       "        vertical-align: middle;\n",
       "    }\n",
       "\n",
       "    .dataframe tbody tr th {\n",
       "        vertical-align: top;\n",
       "    }\n",
       "\n",
       "    .dataframe thead th {\n",
       "        text-align: right;\n",
       "    }\n",
       "</style>\n",
       "<table border=\"1\" class=\"dataframe\">\n",
       "  <thead>\n",
       "    <tr style=\"text-align: right;\">\n",
       "      <th></th>\n",
       "      <th>user</th>\n",
       "      <th>user_id</th>\n",
       "    </tr>\n",
       "  </thead>\n",
       "  <tbody>\n",
       "    <tr>\n",
       "      <th>3</th>\n",
       "      <td>724534729c9f5dc72a009269c2c225883e4775d2</td>\n",
       "      <td>186356</td>\n",
       "    </tr>\n",
       "    <tr>\n",
       "      <th>4</th>\n",
       "      <td>ee7aa84c164038c963cfd02a7e52a5598aa470c3</td>\n",
       "      <td>389460</td>\n",
       "    </tr>\n",
       "    <tr>\n",
       "      <th>5</th>\n",
       "      <td>1aa4fd215aadb160965110ed8a829745cde319eb</td>\n",
       "      <td>43196</td>\n",
       "    </tr>\n",
       "    <tr>\n",
       "      <th>8</th>\n",
       "      <td>cca2694a19b2474bc731574ebb8b10382214f865</td>\n",
       "      <td>334055</td>\n",
       "    </tr>\n",
       "    <tr>\n",
       "      <th>17</th>\n",
       "      <td>091d959cd1d21f270d9f6dc58b93ee78caa4ab96</td>\n",
       "      <td>14761</td>\n",
       "    </tr>\n",
       "  </tbody>\n",
       "</table>\n",
       "</div>"
      ],
      "text/plain": [
       "                                        user  user_id\n",
       "3   724534729c9f5dc72a009269c2c225883e4775d2   186356\n",
       "4   ee7aa84c164038c963cfd02a7e52a5598aa470c3   389460\n",
       "5   1aa4fd215aadb160965110ed8a829745cde319eb    43196\n",
       "8   cca2694a19b2474bc731574ebb8b10382214f865   334055\n",
       "17  091d959cd1d21f270d9f6dc58b93ee78caa4ab96    14761"
      ]
     },
     "execution_count": 47,
     "metadata": {},
     "output_type": "execute_result"
    }
   ],
   "source": [
    "## Create a dataframe to look up user\n",
    "user_lookup = master_df[['user', 'user_id']].drop_duplicates()\n",
    "user_lookup.head()"
   ]
  },
  {
   "cell_type": "code",
   "execution_count": 48,
   "id": "52b084c3-0001-4e83-8b0e-a9ba4d99b9ef",
   "metadata": {},
   "outputs": [
    {
     "data": {
      "text/html": [
       "<div>\n",
       "<style scoped>\n",
       "    .dataframe tbody tr th:only-of-type {\n",
       "        vertical-align: middle;\n",
       "    }\n",
       "\n",
       "    .dataframe tbody tr th {\n",
       "        vertical-align: top;\n",
       "    }\n",
       "\n",
       "    .dataframe thead th {\n",
       "        text-align: right;\n",
       "    }\n",
       "</style>\n",
       "<table border=\"1\" class=\"dataframe\">\n",
       "  <thead>\n",
       "    <tr style=\"text-align: right;\">\n",
       "      <th></th>\n",
       "      <th>song</th>\n",
       "      <th>song_id</th>\n",
       "    </tr>\n",
       "  </thead>\n",
       "  <tbody>\n",
       "    <tr>\n",
       "      <th>3</th>\n",
       "      <td>SOWEZSI12A81C21CE6</td>\n",
       "      <td>3214</td>\n",
       "    </tr>\n",
       "    <tr>\n",
       "      <th>771</th>\n",
       "      <td>SODCXXY12AB0187452</td>\n",
       "      <td>521</td>\n",
       "    </tr>\n",
       "    <tr>\n",
       "      <th>1364</th>\n",
       "      <td>SOWPAXV12A67ADA046</td>\n",
       "      <td>3269</td>\n",
       "    </tr>\n",
       "    <tr>\n",
       "      <th>5056</th>\n",
       "      <td>SOLXDDC12A6701FBFD</td>\n",
       "      <td>1853</td>\n",
       "    </tr>\n",
       "    <tr>\n",
       "      <th>7423</th>\n",
       "      <td>SONJBQX12A6D4F8382</td>\n",
       "      <td>2047</td>\n",
       "    </tr>\n",
       "  </tbody>\n",
       "</table>\n",
       "</div>"
      ],
      "text/plain": [
       "                    song  song_id\n",
       "3     SOWEZSI12A81C21CE6     3214\n",
       "771   SODCXXY12AB0187452      521\n",
       "1364  SOWPAXV12A67ADA046     3269\n",
       "5056  SOLXDDC12A6701FBFD     1853\n",
       "7423  SONJBQX12A6D4F8382     2047"
      ]
     },
     "execution_count": 48,
     "metadata": {},
     "output_type": "execute_result"
    }
   ],
   "source": [
    "## Create a dataframe to look up song\n",
    "song_lookup = master_df[['song', 'song_id']].drop_duplicates()\n",
    "song_lookup.head()"
   ]
  },
  {
   "cell_type": "code",
   "execution_count": 49,
   "id": "0ba48706-39c0-40db-951d-365feb9d6f01",
   "metadata": {},
   "outputs": [
    {
     "data": {
      "text/html": [
       "<div>\n",
       "<style scoped>\n",
       "    .dataframe tbody tr th:only-of-type {\n",
       "        vertical-align: middle;\n",
       "    }\n",
       "\n",
       "    .dataframe tbody tr th {\n",
       "        vertical-align: top;\n",
       "    }\n",
       "\n",
       "    .dataframe thead th {\n",
       "        text-align: right;\n",
       "    }\n",
       "</style>\n",
       "<table border=\"1\" class=\"dataframe\">\n",
       "  <thead>\n",
       "    <tr style=\"text-align: right;\">\n",
       "      <th></th>\n",
       "      <th>user_id</th>\n",
       "      <th>song_id</th>\n",
       "      <th>count</th>\n",
       "    </tr>\n",
       "  </thead>\n",
       "  <tbody>\n",
       "    <tr>\n",
       "      <th>3</th>\n",
       "      <td>186356</td>\n",
       "      <td>3214</td>\n",
       "      <td>1</td>\n",
       "    </tr>\n",
       "    <tr>\n",
       "      <th>4</th>\n",
       "      <td>389460</td>\n",
       "      <td>3214</td>\n",
       "      <td>2</td>\n",
       "    </tr>\n",
       "    <tr>\n",
       "      <th>5</th>\n",
       "      <td>43196</td>\n",
       "      <td>3214</td>\n",
       "      <td>1</td>\n",
       "    </tr>\n",
       "    <tr>\n",
       "      <th>8</th>\n",
       "      <td>334055</td>\n",
       "      <td>3214</td>\n",
       "      <td>2</td>\n",
       "    </tr>\n",
       "    <tr>\n",
       "      <th>17</th>\n",
       "      <td>14761</td>\n",
       "      <td>3214</td>\n",
       "      <td>10</td>\n",
       "    </tr>\n",
       "  </tbody>\n",
       "</table>\n",
       "</div>"
      ],
      "text/plain": [
       "    user_id  song_id  count\n",
       "3    186356     3214      1\n",
       "4    389460     3214      2\n",
       "5     43196     3214      1\n",
       "8    334055     3214      2\n",
       "17    14761     3214     10"
      ]
     },
     "execution_count": 49,
     "metadata": {},
     "output_type": "execute_result"
    }
   ],
   "source": [
    "## Subset to data for model\n",
    "model_df = master_df[['user_id', 'song_id', 'count']]\n",
    "model_df.head()"
   ]
  },
  {
   "cell_type": "code",
   "execution_count": 136,
   "id": "f41a8d22-bb71-4608-82b7-b4b4c7ada688",
   "metadata": {
    "tags": []
   },
   "outputs": [
    {
     "data": {
      "application/vnd.jupyter.widget-view+json": {
       "model_id": "3d32bbab395549a3ac10d4809d718b50",
       "version_major": 2,
       "version_minor": 0
      },
      "text/plain": [
       "  0%|          | 0/30 [00:00<?, ?it/s]"
      ]
     },
     "metadata": {},
     "output_type": "display_data"
    },
    {
     "data": {
      "application/vnd.jupyter.widget-view+json": {
       "model_id": "9885405b2fa64d47a3c2b25a487dcbfa",
       "version_major": 2,
       "version_minor": 0
      },
      "text/plain": [
       "  0%|          | 0/30 [00:00<?, ?it/s]"
      ]
     },
     "metadata": {},
     "output_type": "display_data"
    },
    {
     "data": {
      "application/vnd.jupyter.widget-view+json": {
       "model_id": "6e80953710034b54b93c6d08790f3c14",
       "version_major": 2,
       "version_minor": 0
      },
      "text/plain": [
       "  0%|          | 0/30 [00:00<?, ?it/s]"
      ]
     },
     "metadata": {},
     "output_type": "display_data"
    },
    {
     "data": {
      "application/vnd.jupyter.widget-view+json": {
       "model_id": "51f211a71ec343cda5308e6a06b7df6b",
       "version_major": 2,
       "version_minor": 0
      },
      "text/plain": [
       "  0%|          | 0/30 [00:00<?, ?it/s]"
      ]
     },
     "metadata": {},
     "output_type": "display_data"
    },
    {
     "data": {
      "application/vnd.jupyter.widget-view+json": {
       "model_id": "1953c8170ec4488a83a0e6690bc351ce",
       "version_major": 2,
       "version_minor": 0
      },
      "text/plain": [
       "  0%|          | 0/30 [00:00<?, ?it/s]"
      ]
     },
     "metadata": {},
     "output_type": "display_data"
    },
    {
     "data": {
      "application/vnd.jupyter.widget-view+json": {
       "model_id": "b9db661cb63241f7883ba0816e607c02",
       "version_major": 2,
       "version_minor": 0
      },
      "text/plain": [
       "  0%|          | 0/30 [00:00<?, ?it/s]"
      ]
     },
     "metadata": {},
     "output_type": "display_data"
    },
    {
     "data": {
      "application/vnd.jupyter.widget-view+json": {
       "model_id": "eb43631f6ad545ebb43b3e32b3752c56",
       "version_major": 2,
       "version_minor": 0
      },
      "text/plain": [
       "  0%|          | 0/30 [00:00<?, ?it/s]"
      ]
     },
     "metadata": {},
     "output_type": "display_data"
    },
    {
     "data": {
      "application/vnd.jupyter.widget-view+json": {
       "model_id": "3f5643b1b0874f669999affe92dae59f",
       "version_major": 2,
       "version_minor": 0
      },
      "text/plain": [
       "  0%|          | 0/30 [00:00<?, ?it/s]"
      ]
     },
     "metadata": {},
     "output_type": "display_data"
    },
    {
     "data": {
      "application/vnd.jupyter.widget-view+json": {
       "model_id": "a33617174afd4a4185a3fae658cf4920",
       "version_major": 2,
       "version_minor": 0
      },
      "text/plain": [
       "  0%|          | 0/30 [00:00<?, ?it/s]"
      ]
     },
     "metadata": {},
     "output_type": "display_data"
    },
    {
     "data": {
      "application/vnd.jupyter.widget-view+json": {
       "model_id": "b6fc72d1584344adbe6a8e73380d286d",
       "version_major": 2,
       "version_minor": 0
      },
      "text/plain": [
       "  0%|          | 0/30 [00:00<?, ?it/s]"
      ]
     },
     "metadata": {},
     "output_type": "display_data"
    },
    {
     "data": {
      "application/vnd.jupyter.widget-view+json": {
       "model_id": "c2890c725edf45349ef7c9c07749f55b",
       "version_major": 2,
       "version_minor": 0
      },
      "text/plain": [
       "  0%|          | 0/30 [00:00<?, ?it/s]"
      ]
     },
     "metadata": {},
     "output_type": "display_data"
    },
    {
     "data": {
      "application/vnd.jupyter.widget-view+json": {
       "model_id": "7d5ba7de4a8f4bc4814f599e58ffc042",
       "version_major": 2,
       "version_minor": 0
      },
      "text/plain": [
       "  0%|          | 0/30 [00:00<?, ?it/s]"
      ]
     },
     "metadata": {},
     "output_type": "display_data"
    },
    {
     "data": {
      "application/vnd.jupyter.widget-view+json": {
       "model_id": "e63065f3bd5941dcafa79586fa5a55b8",
       "version_major": 2,
       "version_minor": 0
      },
      "text/plain": [
       "  0%|          | 0/30 [00:00<?, ?it/s]"
      ]
     },
     "metadata": {},
     "output_type": "display_data"
    },
    {
     "data": {
      "application/vnd.jupyter.widget-view+json": {
       "model_id": "eac25356dc6b49f38fb644c1e8753881",
       "version_major": 2,
       "version_minor": 0
      },
      "text/plain": [
       "  0%|          | 0/30 [00:00<?, ?it/s]"
      ]
     },
     "metadata": {},
     "output_type": "display_data"
    },
    {
     "data": {
      "application/vnd.jupyter.widget-view+json": {
       "model_id": "a239450a60c74d55b531fafbfc0d65c0",
       "version_major": 2,
       "version_minor": 0
      },
      "text/plain": [
       "  0%|          | 0/30 [00:00<?, ?it/s]"
      ]
     },
     "metadata": {},
     "output_type": "display_data"
    },
    {
     "data": {
      "application/vnd.jupyter.widget-view+json": {
       "model_id": "3ea4479e03004721b514c78d2043d1f8",
       "version_major": 2,
       "version_minor": 0
      },
      "text/plain": [
       "  0%|          | 0/30 [00:00<?, ?it/s]"
      ]
     },
     "metadata": {},
     "output_type": "display_data"
    },
    {
     "data": {
      "application/vnd.jupyter.widget-view+json": {
       "model_id": "4aa063881281422aa3ec3361acec4357",
       "version_major": 2,
       "version_minor": 0
      },
      "text/plain": [
       "  0%|          | 0/30 [00:00<?, ?it/s]"
      ]
     },
     "metadata": {},
     "output_type": "display_data"
    },
    {
     "data": {
      "application/vnd.jupyter.widget-view+json": {
       "model_id": "788b705c689347b3bd4cc7073ce8943c",
       "version_major": 2,
       "version_minor": 0
      },
      "text/plain": [
       "  0%|          | 0/30 [00:00<?, ?it/s]"
      ]
     },
     "metadata": {},
     "output_type": "display_data"
    },
    {
     "data": {
      "application/vnd.jupyter.widget-view+json": {
       "model_id": "291ffd834ffd4ae1ad915c4224748a13",
       "version_major": 2,
       "version_minor": 0
      },
      "text/plain": [
       "  0%|          | 0/30 [00:00<?, ?it/s]"
      ]
     },
     "metadata": {},
     "output_type": "display_data"
    },
    {
     "data": {
      "application/vnd.jupyter.widget-view+json": {
       "model_id": "904ffcc796ae449ea1483d880962455e",
       "version_major": 2,
       "version_minor": 0
      },
      "text/plain": [
       "  0%|          | 0/30 [00:00<?, ?it/s]"
      ]
     },
     "metadata": {},
     "output_type": "display_data"
    },
    {
     "data": {
      "application/vnd.jupyter.widget-view+json": {
       "model_id": "3c37145a710a4785a4d403abf8916260",
       "version_major": 2,
       "version_minor": 0
      },
      "text/plain": [
       "  0%|          | 0/30 [00:00<?, ?it/s]"
      ]
     },
     "metadata": {},
     "output_type": "display_data"
    },
    {
     "data": {
      "application/vnd.jupyter.widget-view+json": {
       "model_id": "58651370cdf943fe8db2816117520929",
       "version_major": 2,
       "version_minor": 0
      },
      "text/plain": [
       "  0%|          | 0/30 [00:00<?, ?it/s]"
      ]
     },
     "metadata": {},
     "output_type": "display_data"
    },
    {
     "data": {
      "application/vnd.jupyter.widget-view+json": {
       "model_id": "be8c8fcf6e2f4265a9dbe36efce2596a",
       "version_major": 2,
       "version_minor": 0
      },
      "text/plain": [
       "  0%|          | 0/30 [00:00<?, ?it/s]"
      ]
     },
     "metadata": {},
     "output_type": "display_data"
    },
    {
     "data": {
      "application/vnd.jupyter.widget-view+json": {
       "model_id": "20c8cc7cad9544629f3a381a6226352c",
       "version_major": 2,
       "version_minor": 0
      },
      "text/plain": [
       "  0%|          | 0/30 [00:00<?, ?it/s]"
      ]
     },
     "metadata": {},
     "output_type": "display_data"
    },
    {
     "data": {
      "application/vnd.jupyter.widget-view+json": {
       "model_id": "5ddf0a3cfe264c10bc1c53d9cb426b64",
       "version_major": 2,
       "version_minor": 0
      },
      "text/plain": [
       "  0%|          | 0/30 [00:00<?, ?it/s]"
      ]
     },
     "metadata": {},
     "output_type": "display_data"
    },
    {
     "data": {
      "application/vnd.jupyter.widget-view+json": {
       "model_id": "3dffe6ba9442478284beb76fb03e2bfe",
       "version_major": 2,
       "version_minor": 0
      },
      "text/plain": [
       "  0%|          | 0/30 [00:00<?, ?it/s]"
      ]
     },
     "metadata": {},
     "output_type": "display_data"
    },
    {
     "data": {
      "application/vnd.jupyter.widget-view+json": {
       "model_id": "b769c5543888469ab172651b94e6695e",
       "version_major": 2,
       "version_minor": 0
      },
      "text/plain": [
       "  0%|          | 0/30 [00:00<?, ?it/s]"
      ]
     },
     "metadata": {},
     "output_type": "display_data"
    },
    {
     "data": {
      "application/vnd.jupyter.widget-view+json": {
       "model_id": "394b63c4358c4b9ab7365d0e808ffb21",
       "version_major": 2,
       "version_minor": 0
      },
      "text/plain": [
       "  0%|          | 0/30 [00:00<?, ?it/s]"
      ]
     },
     "metadata": {},
     "output_type": "display_data"
    },
    {
     "data": {
      "application/vnd.jupyter.widget-view+json": {
       "model_id": "0ce16a389ac743738ee872a972ea0946",
       "version_major": 2,
       "version_minor": 0
      },
      "text/plain": [
       "  0%|          | 0/30 [00:00<?, ?it/s]"
      ]
     },
     "metadata": {},
     "output_type": "display_data"
    },
    {
     "data": {
      "application/vnd.jupyter.widget-view+json": {
       "model_id": "8462be0e50e54f6b8ca0fdacd1d1907c",
       "version_major": 2,
       "version_minor": 0
      },
      "text/plain": [
       "  0%|          | 0/30 [00:00<?, ?it/s]"
      ]
     },
     "metadata": {},
     "output_type": "display_data"
    },
    {
     "data": {
      "application/vnd.jupyter.widget-view+json": {
       "model_id": "def1301ad2cd4cb3809ab1e8451072da",
       "version_major": 2,
       "version_minor": 0
      },
      "text/plain": [
       "  0%|          | 0/30 [00:00<?, ?it/s]"
      ]
     },
     "metadata": {},
     "output_type": "display_data"
    },
    {
     "data": {
      "application/vnd.jupyter.widget-view+json": {
       "model_id": "19e7914ae79048698f7c81c98a13c9f0",
       "version_major": 2,
       "version_minor": 0
      },
      "text/plain": [
       "  0%|          | 0/30 [00:00<?, ?it/s]"
      ]
     },
     "metadata": {},
     "output_type": "display_data"
    },
    {
     "data": {
      "application/vnd.jupyter.widget-view+json": {
       "model_id": "2b1fb503d0974a808fb977e2900e1236",
       "version_major": 2,
       "version_minor": 0
      },
      "text/plain": [
       "  0%|          | 0/30 [00:00<?, ?it/s]"
      ]
     },
     "metadata": {},
     "output_type": "display_data"
    },
    {
     "data": {
      "application/vnd.jupyter.widget-view+json": {
       "model_id": "416441b34eab4d52970864b07dccb0d6",
       "version_major": 2,
       "version_minor": 0
      },
      "text/plain": [
       "  0%|          | 0/30 [00:00<?, ?it/s]"
      ]
     },
     "metadata": {},
     "output_type": "display_data"
    },
    {
     "data": {
      "application/vnd.jupyter.widget-view+json": {
       "model_id": "9115946853fb4b44a98143955528ef44",
       "version_major": 2,
       "version_minor": 0
      },
      "text/plain": [
       "  0%|          | 0/30 [00:00<?, ?it/s]"
      ]
     },
     "metadata": {},
     "output_type": "display_data"
    },
    {
     "data": {
      "application/vnd.jupyter.widget-view+json": {
       "model_id": "593c69c1bab84ad2bc41ead4719f8c59",
       "version_major": 2,
       "version_minor": 0
      },
      "text/plain": [
       "  0%|          | 0/30 [00:00<?, ?it/s]"
      ]
     },
     "metadata": {},
     "output_type": "display_data"
    },
    {
     "data": {
      "application/vnd.jupyter.widget-view+json": {
       "model_id": "ef3e9154a2da4f04b5382f8c183556f5",
       "version_major": 2,
       "version_minor": 0
      },
      "text/plain": [
       "  0%|          | 0/30 [00:00<?, ?it/s]"
      ]
     },
     "metadata": {},
     "output_type": "display_data"
    },
    {
     "data": {
      "application/vnd.jupyter.widget-view+json": {
       "model_id": "46e495ac2cc64c6ea6b063166b336944",
       "version_major": 2,
       "version_minor": 0
      },
      "text/plain": [
       "  0%|          | 0/30 [00:00<?, ?it/s]"
      ]
     },
     "metadata": {},
     "output_type": "display_data"
    },
    {
     "data": {
      "application/vnd.jupyter.widget-view+json": {
       "model_id": "674b826e421d4ced9cf10a1b85496972",
       "version_major": 2,
       "version_minor": 0
      },
      "text/plain": [
       "  0%|          | 0/30 [00:00<?, ?it/s]"
      ]
     },
     "metadata": {},
     "output_type": "display_data"
    },
    {
     "data": {
      "application/vnd.jupyter.widget-view+json": {
       "model_id": "5ee27866381d42e7bbf9c549e0b885a8",
       "version_major": 2,
       "version_minor": 0
      },
      "text/plain": [
       "  0%|          | 0/30 [00:00<?, ?it/s]"
      ]
     },
     "metadata": {},
     "output_type": "display_data"
    },
    {
     "data": {
      "application/vnd.jupyter.widget-view+json": {
       "model_id": "46b979822f5c4ab283d56fd05d86f830",
       "version_major": 2,
       "version_minor": 0
      },
      "text/plain": [
       "  0%|          | 0/30 [00:00<?, ?it/s]"
      ]
     },
     "metadata": {},
     "output_type": "display_data"
    },
    {
     "data": {
      "application/vnd.jupyter.widget-view+json": {
       "model_id": "732db131488a4e9f94f39128a99bba32",
       "version_major": 2,
       "version_minor": 0
      },
      "text/plain": [
       "  0%|          | 0/30 [00:00<?, ?it/s]"
      ]
     },
     "metadata": {},
     "output_type": "display_data"
    },
    {
     "data": {
      "application/vnd.jupyter.widget-view+json": {
       "model_id": "c959d1f36cbe46edab00dce67a165300",
       "version_major": 2,
       "version_minor": 0
      },
      "text/plain": [
       "  0%|          | 0/30 [00:00<?, ?it/s]"
      ]
     },
     "metadata": {},
     "output_type": "display_data"
    },
    {
     "data": {
      "application/vnd.jupyter.widget-view+json": {
       "model_id": "846acb48802043e3bfdf2a9bc7779415",
       "version_major": 2,
       "version_minor": 0
      },
      "text/plain": [
       "  0%|          | 0/30 [00:00<?, ?it/s]"
      ]
     },
     "metadata": {},
     "output_type": "display_data"
    },
    {
     "data": {
      "application/vnd.jupyter.widget-view+json": {
       "model_id": "845e15367bcf490080fed3d844009c6b",
       "version_major": 2,
       "version_minor": 0
      },
      "text/plain": [
       "  0%|          | 0/30 [00:00<?, ?it/s]"
      ]
     },
     "metadata": {},
     "output_type": "display_data"
    },
    {
     "data": {
      "application/vnd.jupyter.widget-view+json": {
       "model_id": "4f0e0645a31046f3a56520b192312f29",
       "version_major": 2,
       "version_minor": 0
      },
      "text/plain": [
       "  0%|          | 0/30 [00:00<?, ?it/s]"
      ]
     },
     "metadata": {},
     "output_type": "display_data"
    },
    {
     "data": {
      "application/vnd.jupyter.widget-view+json": {
       "model_id": "e9b8b828300f4e7894884bd68e09c2cf",
       "version_major": 2,
       "version_minor": 0
      },
      "text/plain": [
       "  0%|          | 0/30 [00:00<?, ?it/s]"
      ]
     },
     "metadata": {},
     "output_type": "display_data"
    },
    {
     "data": {
      "application/vnd.jupyter.widget-view+json": {
       "model_id": "0ed440ee19414184967e876fd69bc446",
       "version_major": 2,
       "version_minor": 0
      },
      "text/plain": [
       "  0%|          | 0/30 [00:00<?, ?it/s]"
      ]
     },
     "metadata": {},
     "output_type": "display_data"
    },
    {
     "data": {
      "application/vnd.jupyter.widget-view+json": {
       "model_id": "7965e7cf44624447b83c0c909494479a",
       "version_major": 2,
       "version_minor": 0
      },
      "text/plain": [
       "  0%|          | 0/30 [00:00<?, ?it/s]"
      ]
     },
     "metadata": {},
     "output_type": "display_data"
    },
    {
     "data": {
      "application/vnd.jupyter.widget-view+json": {
       "model_id": "957ebfd10efb47f8b11cca63df8a10f2",
       "version_major": 2,
       "version_minor": 0
      },
      "text/plain": [
       "  0%|          | 0/30 [00:00<?, ?it/s]"
      ]
     },
     "metadata": {},
     "output_type": "display_data"
    },
    {
     "data": {
      "application/vnd.jupyter.widget-view+json": {
       "model_id": "e7feb3dd0dc94c7983debb1b6652bd85",
       "version_major": 2,
       "version_minor": 0
      },
      "text/plain": [
       "  0%|          | 0/30 [00:00<?, ?it/s]"
      ]
     },
     "metadata": {},
     "output_type": "display_data"
    },
    {
     "data": {
      "application/vnd.jupyter.widget-view+json": {
       "model_id": "e0a1f110ab8f4c6caf8fe65a05afda65",
       "version_major": 2,
       "version_minor": 0
      },
      "text/plain": [
       "  0%|          | 0/30 [00:00<?, ?it/s]"
      ]
     },
     "metadata": {},
     "output_type": "display_data"
    },
    {
     "data": {
      "application/vnd.jupyter.widget-view+json": {
       "model_id": "aff3ac26f64f43a99bbf490c7df59e9a",
       "version_major": 2,
       "version_minor": 0
      },
      "text/plain": [
       "  0%|          | 0/30 [00:00<?, ?it/s]"
      ]
     },
     "metadata": {},
     "output_type": "display_data"
    },
    {
     "data": {
      "application/vnd.jupyter.widget-view+json": {
       "model_id": "d1301104b3734a5c953d92e47a0e0d83",
       "version_major": 2,
       "version_minor": 0
      },
      "text/plain": [
       "  0%|          | 0/30 [00:00<?, ?it/s]"
      ]
     },
     "metadata": {},
     "output_type": "display_data"
    },
    {
     "data": {
      "application/vnd.jupyter.widget-view+json": {
       "model_id": "348985d9004540f5b36ba7b4f9b13791",
       "version_major": 2,
       "version_minor": 0
      },
      "text/plain": [
       "  0%|          | 0/30 [00:00<?, ?it/s]"
      ]
     },
     "metadata": {},
     "output_type": "display_data"
    },
    {
     "data": {
      "application/vnd.jupyter.widget-view+json": {
       "model_id": "e9f8905798484efc941ee86472e58857",
       "version_major": 2,
       "version_minor": 0
      },
      "text/plain": [
       "  0%|          | 0/30 [00:00<?, ?it/s]"
      ]
     },
     "metadata": {},
     "output_type": "display_data"
    },
    {
     "data": {
      "application/vnd.jupyter.widget-view+json": {
       "model_id": "33d0ae3f27674f0ca15626d4d8f0018f",
       "version_major": 2,
       "version_minor": 0
      },
      "text/plain": [
       "  0%|          | 0/30 [00:00<?, ?it/s]"
      ]
     },
     "metadata": {},
     "output_type": "display_data"
    },
    {
     "data": {
      "application/vnd.jupyter.widget-view+json": {
       "model_id": "65939acd41aa46f4861cfa24dc053b20",
       "version_major": 2,
       "version_minor": 0
      },
      "text/plain": [
       "  0%|          | 0/30 [00:00<?, ?it/s]"
      ]
     },
     "metadata": {},
     "output_type": "display_data"
    },
    {
     "data": {
      "application/vnd.jupyter.widget-view+json": {
       "model_id": "ed8caf8dcf214e5abb0d5d33821a1694",
       "version_major": 2,
       "version_minor": 0
      },
      "text/plain": [
       "  0%|          | 0/30 [00:00<?, ?it/s]"
      ]
     },
     "metadata": {},
     "output_type": "display_data"
    },
    {
     "data": {
      "application/vnd.jupyter.widget-view+json": {
       "model_id": "9373d88aa4ca4c64b7b261571b15493c",
       "version_major": 2,
       "version_minor": 0
      },
      "text/plain": [
       "  0%|          | 0/30 [00:00<?, ?it/s]"
      ]
     },
     "metadata": {},
     "output_type": "display_data"
    },
    {
     "data": {
      "application/vnd.jupyter.widget-view+json": {
       "model_id": "d601de24e8c94b8c8a20a0ce5398f509",
       "version_major": 2,
       "version_minor": 0
      },
      "text/plain": [
       "  0%|          | 0/30 [00:00<?, ?it/s]"
      ]
     },
     "metadata": {},
     "output_type": "display_data"
    },
    {
     "data": {
      "application/vnd.jupyter.widget-view+json": {
       "model_id": "bf5fc5700b1f4e0f961c9887f2aebc72",
       "version_major": 2,
       "version_minor": 0
      },
      "text/plain": [
       "  0%|          | 0/30 [00:00<?, ?it/s]"
      ]
     },
     "metadata": {},
     "output_type": "display_data"
    },
    {
     "data": {
      "application/vnd.jupyter.widget-view+json": {
       "model_id": "a003fd3de4e942c98a6c39f7578950f9",
       "version_major": 2,
       "version_minor": 0
      },
      "text/plain": [
       "  0%|          | 0/30 [00:00<?, ?it/s]"
      ]
     },
     "metadata": {},
     "output_type": "display_data"
    },
    {
     "data": {
      "application/vnd.jupyter.widget-view+json": {
       "model_id": "bea8922f59bd4f0386d4834ba10b0a2f",
       "version_major": 2,
       "version_minor": 0
      },
      "text/plain": [
       "  0%|          | 0/30 [00:00<?, ?it/s]"
      ]
     },
     "metadata": {},
     "output_type": "display_data"
    },
    {
     "data": {
      "application/vnd.jupyter.widget-view+json": {
       "model_id": "d6098977523b4e9a9094eec7f6c929db",
       "version_major": 2,
       "version_minor": 0
      },
      "text/plain": [
       "  0%|          | 0/30 [00:00<?, ?it/s]"
      ]
     },
     "metadata": {},
     "output_type": "display_data"
    },
    {
     "data": {
      "application/vnd.jupyter.widget-view+json": {
       "model_id": "59483dd7e171464dad93879ab218a4c9",
       "version_major": 2,
       "version_minor": 0
      },
      "text/plain": [
       "  0%|          | 0/30 [00:00<?, ?it/s]"
      ]
     },
     "metadata": {},
     "output_type": "display_data"
    },
    {
     "data": {
      "application/vnd.jupyter.widget-view+json": {
       "model_id": "21b85bd7ad8740f0b7a101919fe4f841",
       "version_major": 2,
       "version_minor": 0
      },
      "text/plain": [
       "  0%|          | 0/30 [00:00<?, ?it/s]"
      ]
     },
     "metadata": {},
     "output_type": "display_data"
    },
    {
     "data": {
      "application/vnd.jupyter.widget-view+json": {
       "model_id": "96cc946cabd34c0bb2099da038b48cb9",
       "version_major": 2,
       "version_minor": 0
      },
      "text/plain": [
       "  0%|          | 0/30 [00:00<?, ?it/s]"
      ]
     },
     "metadata": {},
     "output_type": "display_data"
    },
    {
     "data": {
      "application/vnd.jupyter.widget-view+json": {
       "model_id": "9b77b369f81648e599b14fb34213c62c",
       "version_major": 2,
       "version_minor": 0
      },
      "text/plain": [
       "  0%|          | 0/30 [00:00<?, ?it/s]"
      ]
     },
     "metadata": {},
     "output_type": "display_data"
    },
    {
     "data": {
      "application/vnd.jupyter.widget-view+json": {
       "model_id": "18b565c8e0804fc1bf435bbd4cfe0a9d",
       "version_major": 2,
       "version_minor": 0
      },
      "text/plain": [
       "  0%|          | 0/30 [00:00<?, ?it/s]"
      ]
     },
     "metadata": {},
     "output_type": "display_data"
    },
    {
     "data": {
      "application/vnd.jupyter.widget-view+json": {
       "model_id": "6964864611ee4a9fb3781ea868c5f0f3",
       "version_major": 2,
       "version_minor": 0
      },
      "text/plain": [
       "  0%|          | 0/30 [00:00<?, ?it/s]"
      ]
     },
     "metadata": {},
     "output_type": "display_data"
    },
    {
     "data": {
      "application/vnd.jupyter.widget-view+json": {
       "model_id": "6dc909e92db04c0691851676f3778c6c",
       "version_major": 2,
       "version_minor": 0
      },
      "text/plain": [
       "  0%|          | 0/30 [00:00<?, ?it/s]"
      ]
     },
     "metadata": {},
     "output_type": "display_data"
    },
    {
     "data": {
      "application/vnd.jupyter.widget-view+json": {
       "model_id": "93bfe0f8bc974a99a0e44084b3e0a624",
       "version_major": 2,
       "version_minor": 0
      },
      "text/plain": [
       "  0%|          | 0/30 [00:00<?, ?it/s]"
      ]
     },
     "metadata": {},
     "output_type": "display_data"
    },
    {
     "data": {
      "application/vnd.jupyter.widget-view+json": {
       "model_id": "19c8524dd113439cbb895792b08f4e93",
       "version_major": 2,
       "version_minor": 0
      },
      "text/plain": [
       "  0%|          | 0/30 [00:00<?, ?it/s]"
      ]
     },
     "metadata": {},
     "output_type": "display_data"
    },
    {
     "data": {
      "application/vnd.jupyter.widget-view+json": {
       "model_id": "b64d8343b49c48cda6e1712ede9a8225",
       "version_major": 2,
       "version_minor": 0
      },
      "text/plain": [
       "  0%|          | 0/30 [00:00<?, ?it/s]"
      ]
     },
     "metadata": {},
     "output_type": "display_data"
    },
    {
     "data": {
      "application/vnd.jupyter.widget-view+json": {
       "model_id": "1f9f6bd5f6584a32a8db7defc829da82",
       "version_major": 2,
       "version_minor": 0
      },
      "text/plain": [
       "  0%|          | 0/30 [00:00<?, ?it/s]"
      ]
     },
     "metadata": {},
     "output_type": "display_data"
    },
    {
     "data": {
      "application/vnd.jupyter.widget-view+json": {
       "model_id": "a2e25891613e4f6c8cd0611e09bf691b",
       "version_major": 2,
       "version_minor": 0
      },
      "text/plain": [
       "  0%|          | 0/30 [00:00<?, ?it/s]"
      ]
     },
     "metadata": {},
     "output_type": "display_data"
    },
    {
     "data": {
      "application/vnd.jupyter.widget-view+json": {
       "model_id": "f0cfa93226cc47ada2ad958246f7eca9",
       "version_major": 2,
       "version_minor": 0
      },
      "text/plain": [
       "  0%|          | 0/30 [00:00<?, ?it/s]"
      ]
     },
     "metadata": {},
     "output_type": "display_data"
    },
    {
     "data": {
      "application/vnd.jupyter.widget-view+json": {
       "model_id": "49b58304bc264f5689d3d201ad7b22e1",
       "version_major": 2,
       "version_minor": 0
      },
      "text/plain": [
       "  0%|          | 0/30 [00:00<?, ?it/s]"
      ]
     },
     "metadata": {},
     "output_type": "display_data"
    },
    {
     "data": {
      "application/vnd.jupyter.widget-view+json": {
       "model_id": "9a3c15674a3a4e7b8f8d01929da56163",
       "version_major": 2,
       "version_minor": 0
      },
      "text/plain": [
       "  0%|          | 0/30 [00:00<?, ?it/s]"
      ]
     },
     "metadata": {},
     "output_type": "display_data"
    },
    {
     "data": {
      "application/vnd.jupyter.widget-view+json": {
       "model_id": "48b4533ce12b4cfab11af8407350e852",
       "version_major": 2,
       "version_minor": 0
      },
      "text/plain": [
       "  0%|          | 0/30 [00:00<?, ?it/s]"
      ]
     },
     "metadata": {},
     "output_type": "display_data"
    },
    {
     "data": {
      "application/vnd.jupyter.widget-view+json": {
       "model_id": "a5211579fc93425eafe8bb7a63fa894a",
       "version_major": 2,
       "version_minor": 0
      },
      "text/plain": [
       "  0%|          | 0/30 [00:00<?, ?it/s]"
      ]
     },
     "metadata": {},
     "output_type": "display_data"
    },
    {
     "data": {
      "application/vnd.jupyter.widget-view+json": {
       "model_id": "b1113f55ee8f4ac5b1879634942205ef",
       "version_major": 2,
       "version_minor": 0
      },
      "text/plain": [
       "  0%|          | 0/30 [00:00<?, ?it/s]"
      ]
     },
     "metadata": {},
     "output_type": "display_data"
    },
    {
     "data": {
      "application/vnd.jupyter.widget-view+json": {
       "model_id": "62820db9a63f42c9ba135ac4dee4d0f2",
       "version_major": 2,
       "version_minor": 0
      },
      "text/plain": [
       "  0%|          | 0/30 [00:00<?, ?it/s]"
      ]
     },
     "metadata": {},
     "output_type": "display_data"
    },
    {
     "data": {
      "application/vnd.jupyter.widget-view+json": {
       "model_id": "9ec592c7887c434d8773ee0094f92cdf",
       "version_major": 2,
       "version_minor": 0
      },
      "text/plain": [
       "  0%|          | 0/30 [00:00<?, ?it/s]"
      ]
     },
     "metadata": {},
     "output_type": "display_data"
    },
    {
     "data": {
      "application/vnd.jupyter.widget-view+json": {
       "model_id": "f3dc2fd7b8f641fba158aee325f9df9f",
       "version_major": 2,
       "version_minor": 0
      },
      "text/plain": [
       "  0%|          | 0/30 [00:00<?, ?it/s]"
      ]
     },
     "metadata": {},
     "output_type": "display_data"
    },
    {
     "data": {
      "application/vnd.jupyter.widget-view+json": {
       "model_id": "01cfd6d972e24ed88bfd68c4e393a469",
       "version_major": 2,
       "version_minor": 0
      },
      "text/plain": [
       "  0%|          | 0/30 [00:00<?, ?it/s]"
      ]
     },
     "metadata": {},
     "output_type": "display_data"
    },
    {
     "data": {
      "application/vnd.jupyter.widget-view+json": {
       "model_id": "a8366c7d36d34b93ac7c21118a94b59a",
       "version_major": 2,
       "version_minor": 0
      },
      "text/plain": [
       "  0%|          | 0/30 [00:00<?, ?it/s]"
      ]
     },
     "metadata": {},
     "output_type": "display_data"
    },
    {
     "data": {
      "application/vnd.jupyter.widget-view+json": {
       "model_id": "8dbd9ffd0eeb40c9967deb6190ab14ec",
       "version_major": 2,
       "version_minor": 0
      },
      "text/plain": [
       "  0%|          | 0/30 [00:00<?, ?it/s]"
      ]
     },
     "metadata": {},
     "output_type": "display_data"
    },
    {
     "data": {
      "application/vnd.jupyter.widget-view+json": {
       "model_id": "b1725d0b828442c989f9d3aea28ab5fc",
       "version_major": 2,
       "version_minor": 0
      },
      "text/plain": [
       "  0%|          | 0/30 [00:00<?, ?it/s]"
      ]
     },
     "metadata": {},
     "output_type": "display_data"
    },
    {
     "data": {
      "application/vnd.jupyter.widget-view+json": {
       "model_id": "e608716c636941a79afedf58f8ead406",
       "version_major": 2,
       "version_minor": 0
      },
      "text/plain": [
       "  0%|          | 0/30 [00:00<?, ?it/s]"
      ]
     },
     "metadata": {},
     "output_type": "display_data"
    },
    {
     "data": {
      "application/vnd.jupyter.widget-view+json": {
       "model_id": "e5c552bfdfe84a418f5161ab71f30623",
       "version_major": 2,
       "version_minor": 0
      },
      "text/plain": [
       "  0%|          | 0/30 [00:00<?, ?it/s]"
      ]
     },
     "metadata": {},
     "output_type": "display_data"
    },
    {
     "data": {
      "application/vnd.jupyter.widget-view+json": {
       "model_id": "8481996527c941dcbb7da897af1e7587",
       "version_major": 2,
       "version_minor": 0
      },
      "text/plain": [
       "  0%|          | 0/30 [00:00<?, ?it/s]"
      ]
     },
     "metadata": {},
     "output_type": "display_data"
    },
    {
     "data": {
      "application/vnd.jupyter.widget-view+json": {
       "model_id": "be3362f4f14c4e9294b82470844acf47",
       "version_major": 2,
       "version_minor": 0
      },
      "text/plain": [
       "  0%|          | 0/30 [00:00<?, ?it/s]"
      ]
     },
     "metadata": {},
     "output_type": "display_data"
    },
    {
     "data": {
      "application/vnd.jupyter.widget-view+json": {
       "model_id": "cf727fdbecf24603bb95269e828a6295",
       "version_major": 2,
       "version_minor": 0
      },
      "text/plain": [
       "  0%|          | 0/30 [00:00<?, ?it/s]"
      ]
     },
     "metadata": {},
     "output_type": "display_data"
    },
    {
     "data": {
      "application/vnd.jupyter.widget-view+json": {
       "model_id": "92835cf768144d1db59a7253fcaf43ea",
       "version_major": 2,
       "version_minor": 0
      },
      "text/plain": [
       "  0%|          | 0/30 [00:00<?, ?it/s]"
      ]
     },
     "metadata": {},
     "output_type": "display_data"
    },
    {
     "data": {
      "application/vnd.jupyter.widget-view+json": {
       "model_id": "2c8a838224b44a64be8e2b582196540d",
       "version_major": 2,
       "version_minor": 0
      },
      "text/plain": [
       "  0%|          | 0/30 [00:00<?, ?it/s]"
      ]
     },
     "metadata": {},
     "output_type": "display_data"
    },
    {
     "data": {
      "application/vnd.jupyter.widget-view+json": {
       "model_id": "9ab2445c881b4278ba786b47d6259a23",
       "version_major": 2,
       "version_minor": 0
      },
      "text/plain": [
       "  0%|          | 0/30 [00:00<?, ?it/s]"
      ]
     },
     "metadata": {},
     "output_type": "display_data"
    },
    {
     "data": {
      "application/vnd.jupyter.widget-view+json": {
       "model_id": "7c2e4f1679734823b4d95be8feaf28db",
       "version_major": 2,
       "version_minor": 0
      },
      "text/plain": [
       "  0%|          | 0/30 [00:00<?, ?it/s]"
      ]
     },
     "metadata": {},
     "output_type": "display_data"
    },
    {
     "data": {
      "application/vnd.jupyter.widget-view+json": {
       "model_id": "bdd4c9f5aab144e49c5294cc697f6fc8",
       "version_major": 2,
       "version_minor": 0
      },
      "text/plain": [
       "  0%|          | 0/30 [00:00<?, ?it/s]"
      ]
     },
     "metadata": {},
     "output_type": "display_data"
    },
    {
     "data": {
      "application/vnd.jupyter.widget-view+json": {
       "model_id": "42bc2d18f937432aa8f0f98fe316d5e9",
       "version_major": 2,
       "version_minor": 0
      },
      "text/plain": [
       "  0%|          | 0/30 [00:00<?, ?it/s]"
      ]
     },
     "metadata": {},
     "output_type": "display_data"
    },
    {
     "data": {
      "application/vnd.jupyter.widget-view+json": {
       "model_id": "462809ce14b6431e9574e4f218a49e33",
       "version_major": 2,
       "version_minor": 0
      },
      "text/plain": [
       "  0%|          | 0/30 [00:00<?, ?it/s]"
      ]
     },
     "metadata": {},
     "output_type": "display_data"
    },
    {
     "data": {
      "application/vnd.jupyter.widget-view+json": {
       "model_id": "f976632a51c14c3b9d3731fa948728fe",
       "version_major": 2,
       "version_minor": 0
      },
      "text/plain": [
       "  0%|          | 0/30 [00:00<?, ?it/s]"
      ]
     },
     "metadata": {},
     "output_type": "display_data"
    },
    {
     "data": {
      "application/vnd.jupyter.widget-view+json": {
       "model_id": "d13c5ce549db4c1fbcfaa3c56687059b",
       "version_major": 2,
       "version_minor": 0
      },
      "text/plain": [
       "  0%|          | 0/30 [00:00<?, ?it/s]"
      ]
     },
     "metadata": {},
     "output_type": "display_data"
    },
    {
     "data": {
      "application/vnd.jupyter.widget-view+json": {
       "model_id": "8dae901b9a8340ee876ea079031f898c",
       "version_major": 2,
       "version_minor": 0
      },
      "text/plain": [
       "  0%|          | 0/30 [00:00<?, ?it/s]"
      ]
     },
     "metadata": {},
     "output_type": "display_data"
    },
    {
     "data": {
      "application/vnd.jupyter.widget-view+json": {
       "model_id": "a8d434e2479f40279e719a101436702e",
       "version_major": 2,
       "version_minor": 0
      },
      "text/plain": [
       "  0%|          | 0/30 [00:00<?, ?it/s]"
      ]
     },
     "metadata": {},
     "output_type": "display_data"
    },
    {
     "data": {
      "application/vnd.jupyter.widget-view+json": {
       "model_id": "e66bb7778e6d44a09b0d5fe1b6d35ac5",
       "version_major": 2,
       "version_minor": 0
      },
      "text/plain": [
       "  0%|          | 0/30 [00:00<?, ?it/s]"
      ]
     },
     "metadata": {},
     "output_type": "display_data"
    },
    {
     "data": {
      "application/vnd.jupyter.widget-view+json": {
       "model_id": "da85e28f55c14425b46ae5bc9222b8f8",
       "version_major": 2,
       "version_minor": 0
      },
      "text/plain": [
       "  0%|          | 0/30 [00:00<?, ?it/s]"
      ]
     },
     "metadata": {},
     "output_type": "display_data"
    },
    {
     "data": {
      "application/vnd.jupyter.widget-view+json": {
       "model_id": "6d264bb14a804f4a91d3c9b4c0ec8102",
       "version_major": 2,
       "version_minor": 0
      },
      "text/plain": [
       "  0%|          | 0/30 [00:00<?, ?it/s]"
      ]
     },
     "metadata": {},
     "output_type": "display_data"
    },
    {
     "data": {
      "application/vnd.jupyter.widget-view+json": {
       "model_id": "a7fc8af908ae47df85b51c749db56da5",
       "version_major": 2,
       "version_minor": 0
      },
      "text/plain": [
       "  0%|          | 0/30 [00:00<?, ?it/s]"
      ]
     },
     "metadata": {},
     "output_type": "display_data"
    },
    {
     "data": {
      "application/vnd.jupyter.widget-view+json": {
       "model_id": "cd6e25fb6c504fc0929e1ee6ea34647a",
       "version_major": 2,
       "version_minor": 0
      },
      "text/plain": [
       "  0%|          | 0/30 [00:00<?, ?it/s]"
      ]
     },
     "metadata": {},
     "output_type": "display_data"
    },
    {
     "data": {
      "application/vnd.jupyter.widget-view+json": {
       "model_id": "5df64860651e48b692454ac7a7ac9996",
       "version_major": 2,
       "version_minor": 0
      },
      "text/plain": [
       "  0%|          | 0/30 [00:00<?, ?it/s]"
      ]
     },
     "metadata": {},
     "output_type": "display_data"
    },
    {
     "data": {
      "application/vnd.jupyter.widget-view+json": {
       "model_id": "94c45f58703949428963e8b87e15f061",
       "version_major": 2,
       "version_minor": 0
      },
      "text/plain": [
       "  0%|          | 0/30 [00:00<?, ?it/s]"
      ]
     },
     "metadata": {},
     "output_type": "display_data"
    },
    {
     "data": {
      "application/vnd.jupyter.widget-view+json": {
       "model_id": "07b23a24a3c2479f948d709a08ed7ea6",
       "version_major": 2,
       "version_minor": 0
      },
      "text/plain": [
       "  0%|          | 0/30 [00:00<?, ?it/s]"
      ]
     },
     "metadata": {},
     "output_type": "display_data"
    },
    {
     "data": {
      "application/vnd.jupyter.widget-view+json": {
       "model_id": "01d0f6a56db045cdae7e708bf611b665",
       "version_major": 2,
       "version_minor": 0
      },
      "text/plain": [
       "  0%|          | 0/30 [00:00<?, ?it/s]"
      ]
     },
     "metadata": {},
     "output_type": "display_data"
    },
    {
     "data": {
      "application/vnd.jupyter.widget-view+json": {
       "model_id": "5eb713f0786a4e0ebb0260365735662e",
       "version_major": 2,
       "version_minor": 0
      },
      "text/plain": [
       "  0%|          | 0/30 [00:00<?, ?it/s]"
      ]
     },
     "metadata": {},
     "output_type": "display_data"
    },
    {
     "data": {
      "application/vnd.jupyter.widget-view+json": {
       "model_id": "c78221269f8c4819ac1c59183180fb09",
       "version_major": 2,
       "version_minor": 0
      },
      "text/plain": [
       "  0%|          | 0/30 [00:00<?, ?it/s]"
      ]
     },
     "metadata": {},
     "output_type": "display_data"
    },
    {
     "data": {
      "application/vnd.jupyter.widget-view+json": {
       "model_id": "1e20b21d5767471581f27dfeff2f1ff7",
       "version_major": 2,
       "version_minor": 0
      },
      "text/plain": [
       "  0%|          | 0/30 [00:00<?, ?it/s]"
      ]
     },
     "metadata": {},
     "output_type": "display_data"
    },
    {
     "data": {
      "application/vnd.jupyter.widget-view+json": {
       "model_id": "e784163a77114353919d2f575d4be923",
       "version_major": 2,
       "version_minor": 0
      },
      "text/plain": [
       "  0%|          | 0/30 [00:00<?, ?it/s]"
      ]
     },
     "metadata": {},
     "output_type": "display_data"
    },
    {
     "data": {
      "application/vnd.jupyter.widget-view+json": {
       "model_id": "67f7873bca0d43fca3afb15f868c66b0",
       "version_major": 2,
       "version_minor": 0
      },
      "text/plain": [
       "  0%|          | 0/30 [00:00<?, ?it/s]"
      ]
     },
     "metadata": {},
     "output_type": "display_data"
    }
   ],
   "source": [
    "import implicit\n",
    "## will need to tweak the number of latent factors by potentially identifying loss function stability\n",
    "## will need to tweak regularization to tune parameters\n",
    "## user cross validation to tune the optimum factors in model\n",
    "## Reasonable solution usually occurs in 20 iterations or less\n",
    "## Knowing the number of latent or hidden factors influencing the model is impossible. We should\n",
    "## start at 5-10, then increase by 5 until performance of model stops improving\n",
    "from sklearn.model_selection import StratifiedKFold\n",
    "k_latent_factors = [35, 40, 50]\n",
    "regularization_options = [0.05, 0.1, 0.2, 0.3]\n",
    "alpha_options = [30, 35]\n",
    "col_names=['Model', 'Hit Ratio', 'Mean_Avg_Precision', 'Mean_Avg_Recall']\n",
    "x = model_df[['song_id', 'count']].to_numpy()\n",
    "y = model_df[['user_id']].to_numpy()\n",
    "model_evaluation_metrics_df = pd.DataFrame(columns=col_names)\n",
    "n_splits = 5\n",
    "skf = KFold(n_splits=n_splits, shuffle=True, random_state=None)\n",
    "skf.get_n_splits(model_df)\n",
    "MAP = 0\n",
    "for k in k_latent_factors:\n",
    "    for i in regularization_options:\n",
    "        for m in alpha_options:\n",
    "            for train_index, test_index in skf.split(x, y):\n",
    "                x_train, x_test = x[train_index], x[test_index]\n",
    "                y_train, y_test = y[train_index], y[test_index]\n",
    "                song_info = x_train[:,0]\n",
    "                count_info = x_train[:,1]\n",
    "                sparse_content_user = sparse.csr_matrix((count_info.astype(float), (song_info, y_train.flatten())))\n",
    "                sparse_user_content = sparse.csr_matrix((count_info.astype(float),(y_train.flatten(), song_info)))\n",
    "                model = implicit.als.AlternatingLeastSquares(factors=k, regularization=i, iterations=30)\n",
    "                model.show_progress = False\n",
    "                alpha = m\n",
    "                data = (sparse_content_user*alpha).astype('double')\n",
    "                model.fit(data)\n",
    "                model_results = pd.DataFrame(data=x_test, columns=[\"song_id\", 'count'])\n",
    "                model_results['user_id']=pd.Series(y_test.flatten())\n",
    "                model_results['predicted'] = model_results.apply(lambda row: model.recommend(row.user_id, sparse_user_content, N=10), axis=1)\n",
    "                model_results['hits'] = model_results.apply(lambda row:[i for i in row['predicted'] if row['song_id'] in i], axis=1)\n",
    "                model_results['hit'] = model_results.apply(lambda row: len(row['hits'])>0, axis=1)\n",
    "                hits = len(model_results[model_results.hit==True])\n",
    "                total = len(model_results)\n",
    "                hit_ratio = hits/total\n",
    "                user_actions = model_results.groupby('user_id').count()\n",
    "                accurate_recommendations = model_results.groupby('user_id').sum()\n",
    "                user_actions=user_actions[['song_id']]\n",
    "                accurate_recommendations = accurate_recommendations[['hit']]\n",
    "                metrics = user_actions.merge(accurate_recommendations, left_index=True, right_index=True)\n",
    "                metrics['precision'] = metrics.hit/metrics.song_id\n",
    "                metrics['recall'] = metrics.hit/10\n",
    "                mean_average_precision = metrics.precision.mean()\n",
    "                mean_average_recall = metrics.recall.mean()\n",
    "                model_name = \"factors:\" + str(k) + \" l2: \" + str(i) + \" alpha\" + str(m)\n",
    "                instance = {'Model': model_name, 'Hit Ratio': hit_ratio, 'Mean_Avg_Precision': mean_average_precision, 'Mean_Avg_Recall': mean_average_recall}\n",
    "                model_evaluation_metrics_df = model_evaluation_metrics_df.append(instance, ignore_index=True)"
   ]
  },
  {
   "cell_type": "code",
   "execution_count": 137,
   "id": "0defb67a-4a2f-4a5f-95ff-5d72e7621cbc",
   "metadata": {},
   "outputs": [
    {
     "data": {
      "text/html": [
       "<div>\n",
       "<style scoped>\n",
       "    .dataframe tbody tr th:only-of-type {\n",
       "        vertical-align: middle;\n",
       "    }\n",
       "\n",
       "    .dataframe tbody tr th {\n",
       "        vertical-align: top;\n",
       "    }\n",
       "\n",
       "    .dataframe thead th {\n",
       "        text-align: right;\n",
       "    }\n",
       "</style>\n",
       "<table border=\"1\" class=\"dataframe\">\n",
       "  <thead>\n",
       "    <tr style=\"text-align: right;\">\n",
       "      <th></th>\n",
       "      <th>Hit Ratio</th>\n",
       "      <th>Mean_Avg_Precision</th>\n",
       "      <th>Mean_Avg_Recall</th>\n",
       "    </tr>\n",
       "    <tr>\n",
       "      <th>Model</th>\n",
       "      <th></th>\n",
       "      <th></th>\n",
       "      <th></th>\n",
       "    </tr>\n",
       "  </thead>\n",
       "  <tbody>\n",
       "    <tr>\n",
       "      <th>factors:50 l2: 0.2 alpha30</th>\n",
       "      <td>0.339898</td>\n",
       "      <td>0.351371</td>\n",
       "      <td>0.060102</td>\n",
       "    </tr>\n",
       "    <tr>\n",
       "      <th>factors:40 l2: 0.3 alpha30</th>\n",
       "      <td>0.339852</td>\n",
       "      <td>0.349501</td>\n",
       "      <td>0.060099</td>\n",
       "    </tr>\n",
       "    <tr>\n",
       "      <th>factors:40 l2: 0.2 alpha30</th>\n",
       "      <td>0.339435</td>\n",
       "      <td>0.348773</td>\n",
       "      <td>0.060140</td>\n",
       "    </tr>\n",
       "    <tr>\n",
       "      <th>factors:50 l2: 0.3 alpha30</th>\n",
       "      <td>0.339382</td>\n",
       "      <td>0.350471</td>\n",
       "      <td>0.059982</td>\n",
       "    </tr>\n",
       "    <tr>\n",
       "      <th>factors:50 l2: 0.05 alpha30</th>\n",
       "      <td>0.339375</td>\n",
       "      <td>0.349269</td>\n",
       "      <td>0.060020</td>\n",
       "    </tr>\n",
       "    <tr>\n",
       "      <th>factors:35 l2: 0.2 alpha30</th>\n",
       "      <td>0.339183</td>\n",
       "      <td>0.349588</td>\n",
       "      <td>0.059814</td>\n",
       "    </tr>\n",
       "    <tr>\n",
       "      <th>factors:50 l2: 0.1 alpha30</th>\n",
       "      <td>0.339011</td>\n",
       "      <td>0.348690</td>\n",
       "      <td>0.059887</td>\n",
       "    </tr>\n",
       "    <tr>\n",
       "      <th>factors:50 l2: 0.2 alpha35</th>\n",
       "      <td>0.338793</td>\n",
       "      <td>0.348758</td>\n",
       "      <td>0.059939</td>\n",
       "    </tr>\n",
       "    <tr>\n",
       "      <th>factors:35 l2: 0.3 alpha30</th>\n",
       "      <td>0.338779</td>\n",
       "      <td>0.348197</td>\n",
       "      <td>0.059806</td>\n",
       "    </tr>\n",
       "    <tr>\n",
       "      <th>factors:50 l2: 0.1 alpha35</th>\n",
       "      <td>0.338356</td>\n",
       "      <td>0.348592</td>\n",
       "      <td>0.059679</td>\n",
       "    </tr>\n",
       "    <tr>\n",
       "      <th>factors:50 l2: 0.05 alpha35</th>\n",
       "      <td>0.338309</td>\n",
       "      <td>0.347492</td>\n",
       "      <td>0.059813</td>\n",
       "    </tr>\n",
       "    <tr>\n",
       "      <th>factors:40 l2: 0.1 alpha30</th>\n",
       "      <td>0.338276</td>\n",
       "      <td>0.347435</td>\n",
       "      <td>0.059878</td>\n",
       "    </tr>\n",
       "    <tr>\n",
       "      <th>factors:40 l2: 0.05 alpha30</th>\n",
       "      <td>0.338157</td>\n",
       "      <td>0.347731</td>\n",
       "      <td>0.059718</td>\n",
       "    </tr>\n",
       "    <tr>\n",
       "      <th>factors:40 l2: 0.05 alpha35</th>\n",
       "      <td>0.337680</td>\n",
       "      <td>0.347320</td>\n",
       "      <td>0.059677</td>\n",
       "    </tr>\n",
       "    <tr>\n",
       "      <th>factors:40 l2: 0.2 alpha35</th>\n",
       "      <td>0.337661</td>\n",
       "      <td>0.347361</td>\n",
       "      <td>0.059730</td>\n",
       "    </tr>\n",
       "    <tr>\n",
       "      <th>factors:35 l2: 0.05 alpha30</th>\n",
       "      <td>0.337482</td>\n",
       "      <td>0.346977</td>\n",
       "      <td>0.059560</td>\n",
       "    </tr>\n",
       "    <tr>\n",
       "      <th>factors:40 l2: 0.3 alpha35</th>\n",
       "      <td>0.337257</td>\n",
       "      <td>0.347574</td>\n",
       "      <td>0.059678</td>\n",
       "    </tr>\n",
       "    <tr>\n",
       "      <th>factors:35 l2: 0.1 alpha30</th>\n",
       "      <td>0.337144</td>\n",
       "      <td>0.347647</td>\n",
       "      <td>0.059607</td>\n",
       "    </tr>\n",
       "    <tr>\n",
       "      <th>factors:50 l2: 0.3 alpha35</th>\n",
       "      <td>0.337032</td>\n",
       "      <td>0.346563</td>\n",
       "      <td>0.059614</td>\n",
       "    </tr>\n",
       "    <tr>\n",
       "      <th>factors:35 l2: 0.3 alpha35</th>\n",
       "      <td>0.336595</td>\n",
       "      <td>0.346949</td>\n",
       "      <td>0.059529</td>\n",
       "    </tr>\n",
       "    <tr>\n",
       "      <th>factors:35 l2: 0.2 alpha35</th>\n",
       "      <td>0.335800</td>\n",
       "      <td>0.345528</td>\n",
       "      <td>0.059392</td>\n",
       "    </tr>\n",
       "    <tr>\n",
       "      <th>factors:35 l2: 0.1 alpha35</th>\n",
       "      <td>0.335092</td>\n",
       "      <td>0.344426</td>\n",
       "      <td>0.059225</td>\n",
       "    </tr>\n",
       "    <tr>\n",
       "      <th>factors:40 l2: 0.1 alpha35</th>\n",
       "      <td>0.334880</td>\n",
       "      <td>0.345457</td>\n",
       "      <td>0.059333</td>\n",
       "    </tr>\n",
       "    <tr>\n",
       "      <th>factors:35 l2: 0.05 alpha35</th>\n",
       "      <td>0.334748</td>\n",
       "      <td>0.344567</td>\n",
       "      <td>0.059238</td>\n",
       "    </tr>\n",
       "  </tbody>\n",
       "</table>\n",
       "</div>"
      ],
      "text/plain": [
       "                             Hit Ratio  Mean_Avg_Precision  Mean_Avg_Recall\n",
       "Model                                                                      \n",
       "factors:50 l2: 0.2 alpha30   0.339898   0.351371            0.060102       \n",
       "factors:40 l2: 0.3 alpha30   0.339852   0.349501            0.060099       \n",
       "factors:40 l2: 0.2 alpha30   0.339435   0.348773            0.060140       \n",
       "factors:50 l2: 0.3 alpha30   0.339382   0.350471            0.059982       \n",
       "factors:50 l2: 0.05 alpha30  0.339375   0.349269            0.060020       \n",
       "factors:35 l2: 0.2 alpha30   0.339183   0.349588            0.059814       \n",
       "factors:50 l2: 0.1 alpha30   0.339011   0.348690            0.059887       \n",
       "factors:50 l2: 0.2 alpha35   0.338793   0.348758            0.059939       \n",
       "factors:35 l2: 0.3 alpha30   0.338779   0.348197            0.059806       \n",
       "factors:50 l2: 0.1 alpha35   0.338356   0.348592            0.059679       \n",
       "factors:50 l2: 0.05 alpha35  0.338309   0.347492            0.059813       \n",
       "factors:40 l2: 0.1 alpha30   0.338276   0.347435            0.059878       \n",
       "factors:40 l2: 0.05 alpha30  0.338157   0.347731            0.059718       \n",
       "factors:40 l2: 0.05 alpha35  0.337680   0.347320            0.059677       \n",
       "factors:40 l2: 0.2 alpha35   0.337661   0.347361            0.059730       \n",
       "factors:35 l2: 0.05 alpha30  0.337482   0.346977            0.059560       \n",
       "factors:40 l2: 0.3 alpha35   0.337257   0.347574            0.059678       \n",
       "factors:35 l2: 0.1 alpha30   0.337144   0.347647            0.059607       \n",
       "factors:50 l2: 0.3 alpha35   0.337032   0.346563            0.059614       \n",
       "factors:35 l2: 0.3 alpha35   0.336595   0.346949            0.059529       \n",
       "factors:35 l2: 0.2 alpha35   0.335800   0.345528            0.059392       \n",
       "factors:35 l2: 0.1 alpha35   0.335092   0.344426            0.059225       \n",
       "factors:40 l2: 0.1 alpha35   0.334880   0.345457            0.059333       \n",
       "factors:35 l2: 0.05 alpha35  0.334748   0.344567            0.059238       "
      ]
     },
     "execution_count": 137,
     "metadata": {},
     "output_type": "execute_result"
    }
   ],
   "source": [
    "model_evaluation_metrics_df = model_evaluation_metrics_df.groupby('Model').mean()\n",
    "model_evaluation_metrics_df.sort_values(by=['Hit Ratio'], ascending=False)"
   ]
  },
  {
   "cell_type": "markdown",
   "id": "334b511e-c833-4036-ab2d-a8efb0736416",
   "metadata": {},
   "source": [
    "Link to help explain confidence and alpha's impact on confidence:\n",
    "https://stats.stackexchange.com/questions/155296/alternating-least-squares-als-why-two-different-kinds-of-setting-for-lambd"
   ]
  },
  {
   "cell_type": "code",
   "execution_count": 125,
   "id": "378d9058-35cf-49f3-b096-528e6b7b9161",
   "metadata": {},
   "outputs": [],
   "source": [
    "reldir = 'C:\\\\Users\\\\shefa\\\\OneDrive\\\\CS6220\\\\msd.recsys\\\\datasets\\\\'\n",
    "model_evaluation_metrics_df.to_pickle(reldir + 'als_tuning_df2.csv', compression='zip')"
   ]
  },
  {
   "cell_type": "code",
   "execution_count": 29,
   "id": "62f30e06-3ac0-434b-b5bd-849c4cc98e4d",
   "metadata": {},
   "outputs": [
    {
     "data": {
      "application/vnd.jupyter.widget-view+json": {
       "model_id": "b90931ccad7942c79ff678f4c5a2917c",
       "version_major": 2,
       "version_minor": 0
      },
      "text/plain": [
       "  0%|          | 0/20 [00:00<?, ?it/s]"
      ]
     },
     "metadata": {},
     "output_type": "display_data"
    }
   ],
   "source": [
    "## The paper used to develop ALS used alpha of 40\n",
    "alpha = 40\n",
    "data = (sparse_content_user*alpha).astype('double')\n",
    "model.fit(data)"
   ]
  },
  {
   "cell_type": "code",
   "execution_count": 30,
   "id": "a9549cdd-b429-4e70-93b7-011ffb6e9116",
   "metadata": {},
   "outputs": [
    {
     "name": "stdout",
     "output_type": "stream",
     "text": [
      "[(693, 0.79169756), (1722, 0.71202666), (203, 0.70730686), (2730, 0.6374319), (2942, 0.63132167)]\n"
     ]
    }
   ],
   "source": [
    "## Obtain recommendations for a given user\n",
    "user_id = 350627\n",
    "recommended = model.recommend(user_id, sparse_user_content, N=5)\n",
    "print(recommended)"
   ]
  },
  {
   "cell_type": "code",
   "execution_count": 31,
   "id": "1d50112d-16dc-47e0-bcc5-9d7b3d41e3d0",
   "metadata": {},
   "outputs": [
    {
     "name": "stdout",
     "output_type": "stream",
     "text": [
      "[(2918, 0.99999994), (162, 0.8860025), (227, 0.8719206)]\n"
     ]
    }
   ],
   "source": [
    "## Get similar items\n",
    "\n",
    "song_id=2918\n",
    "n_similar = 3\n",
    "similar = model.similar_items(song_id, n_similar)\n",
    "print(similar)"
   ]
  },
  {
   "cell_type": "markdown",
   "id": "e44b7774-8fc2-4d93-8af6-aec1a9fa0a14",
   "metadata": {},
   "source": [
    "https://campus.datacamp.com/courses/recommendation-engines-in-pyspark/what-if-you-dont-have-customer-ratings?ex=6"
   ]
  },
  {
   "cell_type": "code",
   "execution_count": null,
   "id": "45867049-1c8e-4b53-a468-fc5a65240bca",
   "metadata": {},
   "outputs": [],
   "source": [
    "#Use ROEM as evaluation metric"
   ]
  }
 ],
 "metadata": {
  "kernelspec": {
   "display_name": "Python 3",
   "language": "python",
   "name": "python3"
  },
  "language_info": {
   "codemirror_mode": {
    "name": "ipython",
    "version": 3
   },
   "file_extension": ".py",
   "mimetype": "text/x-python",
   "name": "python",
   "nbconvert_exporter": "python",
   "pygments_lexer": "ipython3",
   "version": "3.8.10"
  }
 },
 "nbformat": 4,
 "nbformat_minor": 5
}

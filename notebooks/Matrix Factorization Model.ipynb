{
 "cells": [
  {
   "cell_type": "code",
   "execution_count": 20,
   "id": "d0886dad-05aa-4a96-b8f7-d0ced5a7aa24",
   "metadata": {},
   "outputs": [],
   "source": [
    "import numpy as np\n",
    "import pandas as pd"
   ]
  },
  {
   "cell_type": "code",
   "execution_count": 21,
   "id": "808c24cd-111f-4067-9982-23c338e08627",
   "metadata": {},
   "outputs": [],
   "source": [
    "reldir = 'C:\\\\Users\\\\shefa\\\\OneDrive\\\\CS6220\\\\msd.recsys\\\\datasets\\\\'"
   ]
  },
  {
   "cell_type": "code",
   "execution_count": 22,
   "id": "c9d62b15-1fd3-483d-a468-a1759314a565",
   "metadata": {},
   "outputs": [],
   "source": [
    "standardized_df = pd.read_pickle(reldir + 'combined.csv', compression='zip')"
   ]
  },
  {
   "cell_type": "code",
   "execution_count": 23,
   "id": "3d6ec025-81e2-4ec6-882a-06f9f14720a3",
   "metadata": {
    "tags": []
   },
   "outputs": [],
   "source": [
    "master_df = pd.read_pickle(reldir + 'songdata.csv', compression='zip')"
   ]
  },
  {
   "cell_type": "code",
   "execution_count": 24,
   "id": "1851b0b7-64ef-4eee-8094-c704e17ac028",
   "metadata": {
    "tags": []
   },
   "outputs": [
    {
     "data": {
      "text/html": [
       "<div>\n",
       "<style scoped>\n",
       "    .dataframe tbody tr th:only-of-type {\n",
       "        vertical-align: middle;\n",
       "    }\n",
       "\n",
       "    .dataframe tbody tr th {\n",
       "        vertical-align: top;\n",
       "    }\n",
       "\n",
       "    .dataframe thead th {\n",
       "        text-align: right;\n",
       "    }\n",
       "</style>\n",
       "<table border=\"1\" class=\"dataframe\">\n",
       "  <thead>\n",
       "    <tr style=\"text-align: right;\">\n",
       "      <th></th>\n",
       "      <th>user</th>\n",
       "      <th>song</th>\n",
       "      <th>count</th>\n",
       "      <th>analysis_songs_track_id</th>\n",
       "      <th>metadata_songs_artist_id</th>\n",
       "      <th>metadata_songs_song_id</th>\n",
       "      <th>analysis_songs_key</th>\n",
       "      <th>analysis_songs_key_confidence</th>\n",
       "      <th>analysis_songs_mode</th>\n",
       "      <th>analysis_songs_mode_confidence</th>\n",
       "      <th>...</th>\n",
       "      <th>tempo_binned</th>\n",
       "      <th>analysis_songs_duration</th>\n",
       "      <th>metadata_songs_artist_familiarity</th>\n",
       "      <th>metadata_songs_artist_hotttnesss</th>\n",
       "      <th>metadata_songs_song_hotttnesss</th>\n",
       "      <th>metadata_artist_terms</th>\n",
       "      <th>metadata_songs_artist_name</th>\n",
       "      <th>metadata_songs_release</th>\n",
       "      <th>metadata_songs_title</th>\n",
       "      <th>musicbrainz_artist_mbtags</th>\n",
       "    </tr>\n",
       "  </thead>\n",
       "  <tbody>\n",
       "    <tr>\n",
       "      <th>0</th>\n",
       "      <td>b80344d063b5ccb3212f76538f3d9e43d87dca9e</td>\n",
       "      <td>SOWEZSI12A81C21CE6</td>\n",
       "      <td>1</td>\n",
       "      <td>TRAUCNU128F42671EB</td>\n",
       "      <td>AR2UQQ51187B9AC816</td>\n",
       "      <td>SOWEZSI12A81C21CE6</td>\n",
       "      <td>5</td>\n",
       "      <td>0.351</td>\n",
       "      <td>0</td>\n",
       "      <td>0.318</td>\n",
       "      <td>...</td>\n",
       "      <td>8</td>\n",
       "      <td>-0.280898</td>\n",
       "      <td>0.732042</td>\n",
       "      <td>1.243373</td>\n",
       "      <td>5.09644</td>\n",
       "      <td>b'flamenco'|b'soundtrack'|b'folk'|b'spanish'|b...</td>\n",
       "      <td>Gipsy Kings</td>\n",
       "      <td>Greatest Hits</td>\n",
       "      <td>Tu Quieres Volver</td>\n",
       "      <td>b'classic pop and rock'|b'folk'</td>\n",
       "    </tr>\n",
       "    <tr>\n",
       "      <th>1</th>\n",
       "      <td>833c530ecda3d99deb8395f70400aa3999783d91</td>\n",
       "      <td>SOWEZSI12A81C21CE6</td>\n",
       "      <td>2</td>\n",
       "      <td>TRAUCNU128F42671EB</td>\n",
       "      <td>AR2UQQ51187B9AC816</td>\n",
       "      <td>SOWEZSI12A81C21CE6</td>\n",
       "      <td>5</td>\n",
       "      <td>0.351</td>\n",
       "      <td>0</td>\n",
       "      <td>0.318</td>\n",
       "      <td>...</td>\n",
       "      <td>8</td>\n",
       "      <td>-0.280898</td>\n",
       "      <td>0.732042</td>\n",
       "      <td>1.243373</td>\n",
       "      <td>5.09644</td>\n",
       "      <td>b'flamenco'|b'soundtrack'|b'folk'|b'spanish'|b...</td>\n",
       "      <td>Gipsy Kings</td>\n",
       "      <td>Greatest Hits</td>\n",
       "      <td>Tu Quieres Volver</td>\n",
       "      <td>b'classic pop and rock'|b'folk'</td>\n",
       "    </tr>\n",
       "    <tr>\n",
       "      <th>2</th>\n",
       "      <td>d6c5bd2b570b4faf8964d7ed04f3392ff505d2be</td>\n",
       "      <td>SOWEZSI12A81C21CE6</td>\n",
       "      <td>1</td>\n",
       "      <td>TRAUCNU128F42671EB</td>\n",
       "      <td>AR2UQQ51187B9AC816</td>\n",
       "      <td>SOWEZSI12A81C21CE6</td>\n",
       "      <td>5</td>\n",
       "      <td>0.351</td>\n",
       "      <td>0</td>\n",
       "      <td>0.318</td>\n",
       "      <td>...</td>\n",
       "      <td>8</td>\n",
       "      <td>-0.280898</td>\n",
       "      <td>0.732042</td>\n",
       "      <td>1.243373</td>\n",
       "      <td>5.09644</td>\n",
       "      <td>b'flamenco'|b'soundtrack'|b'folk'|b'spanish'|b...</td>\n",
       "      <td>Gipsy Kings</td>\n",
       "      <td>Greatest Hits</td>\n",
       "      <td>Tu Quieres Volver</td>\n",
       "      <td>b'classic pop and rock'|b'folk'</td>\n",
       "    </tr>\n",
       "    <tr>\n",
       "      <th>3</th>\n",
       "      <td>724534729c9f5dc72a009269c2c225883e4775d2</td>\n",
       "      <td>SOWEZSI12A81C21CE6</td>\n",
       "      <td>1</td>\n",
       "      <td>TRAUCNU128F42671EB</td>\n",
       "      <td>AR2UQQ51187B9AC816</td>\n",
       "      <td>SOWEZSI12A81C21CE6</td>\n",
       "      <td>5</td>\n",
       "      <td>0.351</td>\n",
       "      <td>0</td>\n",
       "      <td>0.318</td>\n",
       "      <td>...</td>\n",
       "      <td>8</td>\n",
       "      <td>-0.280898</td>\n",
       "      <td>0.732042</td>\n",
       "      <td>1.243373</td>\n",
       "      <td>5.09644</td>\n",
       "      <td>b'flamenco'|b'soundtrack'|b'folk'|b'spanish'|b...</td>\n",
       "      <td>Gipsy Kings</td>\n",
       "      <td>Greatest Hits</td>\n",
       "      <td>Tu Quieres Volver</td>\n",
       "      <td>b'classic pop and rock'|b'folk'</td>\n",
       "    </tr>\n",
       "    <tr>\n",
       "      <th>4</th>\n",
       "      <td>ee7aa84c164038c963cfd02a7e52a5598aa470c3</td>\n",
       "      <td>SOWEZSI12A81C21CE6</td>\n",
       "      <td>2</td>\n",
       "      <td>TRAUCNU128F42671EB</td>\n",
       "      <td>AR2UQQ51187B9AC816</td>\n",
       "      <td>SOWEZSI12A81C21CE6</td>\n",
       "      <td>5</td>\n",
       "      <td>0.351</td>\n",
       "      <td>0</td>\n",
       "      <td>0.318</td>\n",
       "      <td>...</td>\n",
       "      <td>8</td>\n",
       "      <td>-0.280898</td>\n",
       "      <td>0.732042</td>\n",
       "      <td>1.243373</td>\n",
       "      <td>5.09644</td>\n",
       "      <td>b'flamenco'|b'soundtrack'|b'folk'|b'spanish'|b...</td>\n",
       "      <td>Gipsy Kings</td>\n",
       "      <td>Greatest Hits</td>\n",
       "      <td>Tu Quieres Volver</td>\n",
       "      <td>b'classic pop and rock'|b'folk'</td>\n",
       "    </tr>\n",
       "  </tbody>\n",
       "</table>\n",
       "<p>5 rows × 27 columns</p>\n",
       "</div>"
      ],
      "text/plain": [
       "                                       user                song  count  \\\n",
       "0  b80344d063b5ccb3212f76538f3d9e43d87dca9e  SOWEZSI12A81C21CE6      1   \n",
       "1  833c530ecda3d99deb8395f70400aa3999783d91  SOWEZSI12A81C21CE6      2   \n",
       "2  d6c5bd2b570b4faf8964d7ed04f3392ff505d2be  SOWEZSI12A81C21CE6      1   \n",
       "3  724534729c9f5dc72a009269c2c225883e4775d2  SOWEZSI12A81C21CE6      1   \n",
       "4  ee7aa84c164038c963cfd02a7e52a5598aa470c3  SOWEZSI12A81C21CE6      2   \n",
       "\n",
       "  analysis_songs_track_id metadata_songs_artist_id metadata_songs_song_id  \\\n",
       "0      TRAUCNU128F42671EB       AR2UQQ51187B9AC816     SOWEZSI12A81C21CE6   \n",
       "1      TRAUCNU128F42671EB       AR2UQQ51187B9AC816     SOWEZSI12A81C21CE6   \n",
       "2      TRAUCNU128F42671EB       AR2UQQ51187B9AC816     SOWEZSI12A81C21CE6   \n",
       "3      TRAUCNU128F42671EB       AR2UQQ51187B9AC816     SOWEZSI12A81C21CE6   \n",
       "4      TRAUCNU128F42671EB       AR2UQQ51187B9AC816     SOWEZSI12A81C21CE6   \n",
       "\n",
       "   analysis_songs_key  analysis_songs_key_confidence  analysis_songs_mode  \\\n",
       "0                   5                          0.351                    0   \n",
       "1                   5                          0.351                    0   \n",
       "2                   5                          0.351                    0   \n",
       "3                   5                          0.351                    0   \n",
       "4                   5                          0.351                    0   \n",
       "\n",
       "   analysis_songs_mode_confidence  ...  tempo_binned  analysis_songs_duration  \\\n",
       "0                           0.318  ...             8                -0.280898   \n",
       "1                           0.318  ...             8                -0.280898   \n",
       "2                           0.318  ...             8                -0.280898   \n",
       "3                           0.318  ...             8                -0.280898   \n",
       "4                           0.318  ...             8                -0.280898   \n",
       "\n",
       "   metadata_songs_artist_familiarity  metadata_songs_artist_hotttnesss  \\\n",
       "0                           0.732042                          1.243373   \n",
       "1                           0.732042                          1.243373   \n",
       "2                           0.732042                          1.243373   \n",
       "3                           0.732042                          1.243373   \n",
       "4                           0.732042                          1.243373   \n",
       "\n",
       "   metadata_songs_song_hotttnesss  \\\n",
       "0                         5.09644   \n",
       "1                         5.09644   \n",
       "2                         5.09644   \n",
       "3                         5.09644   \n",
       "4                         5.09644   \n",
       "\n",
       "                               metadata_artist_terms  \\\n",
       "0  b'flamenco'|b'soundtrack'|b'folk'|b'spanish'|b...   \n",
       "1  b'flamenco'|b'soundtrack'|b'folk'|b'spanish'|b...   \n",
       "2  b'flamenco'|b'soundtrack'|b'folk'|b'spanish'|b...   \n",
       "3  b'flamenco'|b'soundtrack'|b'folk'|b'spanish'|b...   \n",
       "4  b'flamenco'|b'soundtrack'|b'folk'|b'spanish'|b...   \n",
       "\n",
       "   metadata_songs_artist_name  metadata_songs_release  metadata_songs_title  \\\n",
       "0                 Gipsy Kings           Greatest Hits     Tu Quieres Volver   \n",
       "1                 Gipsy Kings           Greatest Hits     Tu Quieres Volver   \n",
       "2                 Gipsy Kings           Greatest Hits     Tu Quieres Volver   \n",
       "3                 Gipsy Kings           Greatest Hits     Tu Quieres Volver   \n",
       "4                 Gipsy Kings           Greatest Hits     Tu Quieres Volver   \n",
       "\n",
       "         musicbrainz_artist_mbtags  \n",
       "0  b'classic pop and rock'|b'folk'  \n",
       "1  b'classic pop and rock'|b'folk'  \n",
       "2  b'classic pop and rock'|b'folk'  \n",
       "3  b'classic pop and rock'|b'folk'  \n",
       "4  b'classic pop and rock'|b'folk'  \n",
       "\n",
       "[5 rows x 27 columns]"
      ]
     },
     "execution_count": 24,
     "metadata": {},
     "output_type": "execute_result"
    }
   ],
   "source": [
    "standardized_df.head()"
   ]
  },
  {
   "cell_type": "markdown",
   "id": "c650148f-5820-4072-9b33-d9d8cba13e54",
   "metadata": {
    "tags": []
   },
   "source": [
    "https://jessesw.com/Rec-System/"
   ]
  },
  {
   "cell_type": "markdown",
   "id": "9debd100-883b-4655-beca-cd8f1a21ee80",
   "metadata": {
    "tags": []
   },
   "source": [
    "https://towardsdatascience.com/building-a-collaborative-filtering-recommender-system-with-clickstream-data-dffc86c8c65"
   ]
  },
  {
   "cell_type": "code",
   "execution_count": 31,
   "id": "2c1e31b2-d7b2-4e1a-aee7-9cb195d92b0e",
   "metadata": {},
   "outputs": [
    {
     "data": {
      "text/html": [
       "<div>\n",
       "<style scoped>\n",
       "    .dataframe tbody tr th:only-of-type {\n",
       "        vertical-align: middle;\n",
       "    }\n",
       "\n",
       "    .dataframe tbody tr th {\n",
       "        vertical-align: top;\n",
       "    }\n",
       "\n",
       "    .dataframe thead th {\n",
       "        text-align: right;\n",
       "    }\n",
       "</style>\n",
       "<table border=\"1\" class=\"dataframe\">\n",
       "  <thead>\n",
       "    <tr style=\"text-align: right;\">\n",
       "      <th></th>\n",
       "      <th>user</th>\n",
       "      <th>song</th>\n",
       "      <th>count</th>\n",
       "      <th>analysis_songs_track_id</th>\n",
       "      <th>metadata_songs_artist_id</th>\n",
       "      <th>metadata_songs_song_id</th>\n",
       "      <th>analysis_songs_key</th>\n",
       "      <th>analysis_songs_key_confidence</th>\n",
       "      <th>analysis_songs_mode</th>\n",
       "      <th>analysis_songs_mode_confidence</th>\n",
       "      <th>...</th>\n",
       "      <th>metadata_songs_artist_familiarity</th>\n",
       "      <th>metadata_songs_artist_hotttnesss</th>\n",
       "      <th>metadata_songs_song_hotttnesss</th>\n",
       "      <th>metadata_artist_terms</th>\n",
       "      <th>metadata_songs_artist_name</th>\n",
       "      <th>metadata_songs_release</th>\n",
       "      <th>metadata_songs_title</th>\n",
       "      <th>musicbrainz_artist_mbtags</th>\n",
       "      <th>user_id</th>\n",
       "      <th>song_id</th>\n",
       "    </tr>\n",
       "  </thead>\n",
       "  <tbody>\n",
       "    <tr>\n",
       "      <th>3</th>\n",
       "      <td>724534729c9f5dc72a009269c2c225883e4775d2</td>\n",
       "      <td>SOWEZSI12A81C21CE6</td>\n",
       "      <td>1</td>\n",
       "      <td>TRAUCNU128F42671EB</td>\n",
       "      <td>AR2UQQ51187B9AC816</td>\n",
       "      <td>SOWEZSI12A81C21CE6</td>\n",
       "      <td>5</td>\n",
       "      <td>0.351</td>\n",
       "      <td>0</td>\n",
       "      <td>0.318</td>\n",
       "      <td>...</td>\n",
       "      <td>0.732042</td>\n",
       "      <td>1.243373</td>\n",
       "      <td>5.09644</td>\n",
       "      <td>b'flamenco'|b'soundtrack'|b'folk'|b'spanish'|b...</td>\n",
       "      <td>Gipsy Kings</td>\n",
       "      <td>Greatest Hits</td>\n",
       "      <td>Tu Quieres Volver</td>\n",
       "      <td>b'classic pop and rock'|b'folk'</td>\n",
       "      <td>186356</td>\n",
       "      <td>3214</td>\n",
       "    </tr>\n",
       "    <tr>\n",
       "      <th>4</th>\n",
       "      <td>ee7aa84c164038c963cfd02a7e52a5598aa470c3</td>\n",
       "      <td>SOWEZSI12A81C21CE6</td>\n",
       "      <td>2</td>\n",
       "      <td>TRAUCNU128F42671EB</td>\n",
       "      <td>AR2UQQ51187B9AC816</td>\n",
       "      <td>SOWEZSI12A81C21CE6</td>\n",
       "      <td>5</td>\n",
       "      <td>0.351</td>\n",
       "      <td>0</td>\n",
       "      <td>0.318</td>\n",
       "      <td>...</td>\n",
       "      <td>0.732042</td>\n",
       "      <td>1.243373</td>\n",
       "      <td>5.09644</td>\n",
       "      <td>b'flamenco'|b'soundtrack'|b'folk'|b'spanish'|b...</td>\n",
       "      <td>Gipsy Kings</td>\n",
       "      <td>Greatest Hits</td>\n",
       "      <td>Tu Quieres Volver</td>\n",
       "      <td>b'classic pop and rock'|b'folk'</td>\n",
       "      <td>389460</td>\n",
       "      <td>3214</td>\n",
       "    </tr>\n",
       "    <tr>\n",
       "      <th>5</th>\n",
       "      <td>1aa4fd215aadb160965110ed8a829745cde319eb</td>\n",
       "      <td>SOWEZSI12A81C21CE6</td>\n",
       "      <td>1</td>\n",
       "      <td>TRAUCNU128F42671EB</td>\n",
       "      <td>AR2UQQ51187B9AC816</td>\n",
       "      <td>SOWEZSI12A81C21CE6</td>\n",
       "      <td>5</td>\n",
       "      <td>0.351</td>\n",
       "      <td>0</td>\n",
       "      <td>0.318</td>\n",
       "      <td>...</td>\n",
       "      <td>0.732042</td>\n",
       "      <td>1.243373</td>\n",
       "      <td>5.09644</td>\n",
       "      <td>b'flamenco'|b'soundtrack'|b'folk'|b'spanish'|b...</td>\n",
       "      <td>Gipsy Kings</td>\n",
       "      <td>Greatest Hits</td>\n",
       "      <td>Tu Quieres Volver</td>\n",
       "      <td>b'classic pop and rock'|b'folk'</td>\n",
       "      <td>43196</td>\n",
       "      <td>3214</td>\n",
       "    </tr>\n",
       "    <tr>\n",
       "      <th>8</th>\n",
       "      <td>cca2694a19b2474bc731574ebb8b10382214f865</td>\n",
       "      <td>SOWEZSI12A81C21CE6</td>\n",
       "      <td>2</td>\n",
       "      <td>TRAUCNU128F42671EB</td>\n",
       "      <td>AR2UQQ51187B9AC816</td>\n",
       "      <td>SOWEZSI12A81C21CE6</td>\n",
       "      <td>5</td>\n",
       "      <td>0.351</td>\n",
       "      <td>0</td>\n",
       "      <td>0.318</td>\n",
       "      <td>...</td>\n",
       "      <td>0.732042</td>\n",
       "      <td>1.243373</td>\n",
       "      <td>5.09644</td>\n",
       "      <td>b'flamenco'|b'soundtrack'|b'folk'|b'spanish'|b...</td>\n",
       "      <td>Gipsy Kings</td>\n",
       "      <td>Greatest Hits</td>\n",
       "      <td>Tu Quieres Volver</td>\n",
       "      <td>b'classic pop and rock'|b'folk'</td>\n",
       "      <td>334055</td>\n",
       "      <td>3214</td>\n",
       "    </tr>\n",
       "    <tr>\n",
       "      <th>17</th>\n",
       "      <td>091d959cd1d21f270d9f6dc58b93ee78caa4ab96</td>\n",
       "      <td>SOWEZSI12A81C21CE6</td>\n",
       "      <td>10</td>\n",
       "      <td>TRAUCNU128F42671EB</td>\n",
       "      <td>AR2UQQ51187B9AC816</td>\n",
       "      <td>SOWEZSI12A81C21CE6</td>\n",
       "      <td>5</td>\n",
       "      <td>0.351</td>\n",
       "      <td>0</td>\n",
       "      <td>0.318</td>\n",
       "      <td>...</td>\n",
       "      <td>0.732042</td>\n",
       "      <td>1.243373</td>\n",
       "      <td>5.09644</td>\n",
       "      <td>b'flamenco'|b'soundtrack'|b'folk'|b'spanish'|b...</td>\n",
       "      <td>Gipsy Kings</td>\n",
       "      <td>Greatest Hits</td>\n",
       "      <td>Tu Quieres Volver</td>\n",
       "      <td>b'classic pop and rock'|b'folk'</td>\n",
       "      <td>14761</td>\n",
       "      <td>3214</td>\n",
       "    </tr>\n",
       "  </tbody>\n",
       "</table>\n",
       "<p>5 rows × 29 columns</p>\n",
       "</div>"
      ],
      "text/plain": [
       "                                        user                song  count  \\\n",
       "3   724534729c9f5dc72a009269c2c225883e4775d2  SOWEZSI12A81C21CE6      1   \n",
       "4   ee7aa84c164038c963cfd02a7e52a5598aa470c3  SOWEZSI12A81C21CE6      2   \n",
       "5   1aa4fd215aadb160965110ed8a829745cde319eb  SOWEZSI12A81C21CE6      1   \n",
       "8   cca2694a19b2474bc731574ebb8b10382214f865  SOWEZSI12A81C21CE6      2   \n",
       "17  091d959cd1d21f270d9f6dc58b93ee78caa4ab96  SOWEZSI12A81C21CE6     10   \n",
       "\n",
       "   analysis_songs_track_id metadata_songs_artist_id metadata_songs_song_id  \\\n",
       "3       TRAUCNU128F42671EB       AR2UQQ51187B9AC816     SOWEZSI12A81C21CE6   \n",
       "4       TRAUCNU128F42671EB       AR2UQQ51187B9AC816     SOWEZSI12A81C21CE6   \n",
       "5       TRAUCNU128F42671EB       AR2UQQ51187B9AC816     SOWEZSI12A81C21CE6   \n",
       "8       TRAUCNU128F42671EB       AR2UQQ51187B9AC816     SOWEZSI12A81C21CE6   \n",
       "17      TRAUCNU128F42671EB       AR2UQQ51187B9AC816     SOWEZSI12A81C21CE6   \n",
       "\n",
       "    analysis_songs_key  analysis_songs_key_confidence  analysis_songs_mode  \\\n",
       "3                    5                          0.351                    0   \n",
       "4                    5                          0.351                    0   \n",
       "5                    5                          0.351                    0   \n",
       "8                    5                          0.351                    0   \n",
       "17                   5                          0.351                    0   \n",
       "\n",
       "    analysis_songs_mode_confidence  ...  metadata_songs_artist_familiarity  \\\n",
       "3                            0.318  ...                           0.732042   \n",
       "4                            0.318  ...                           0.732042   \n",
       "5                            0.318  ...                           0.732042   \n",
       "8                            0.318  ...                           0.732042   \n",
       "17                           0.318  ...                           0.732042   \n",
       "\n",
       "    metadata_songs_artist_hotttnesss  metadata_songs_song_hotttnesss  \\\n",
       "3                           1.243373                         5.09644   \n",
       "4                           1.243373                         5.09644   \n",
       "5                           1.243373                         5.09644   \n",
       "8                           1.243373                         5.09644   \n",
       "17                          1.243373                         5.09644   \n",
       "\n",
       "                                metadata_artist_terms  \\\n",
       "3   b'flamenco'|b'soundtrack'|b'folk'|b'spanish'|b...   \n",
       "4   b'flamenco'|b'soundtrack'|b'folk'|b'spanish'|b...   \n",
       "5   b'flamenco'|b'soundtrack'|b'folk'|b'spanish'|b...   \n",
       "8   b'flamenco'|b'soundtrack'|b'folk'|b'spanish'|b...   \n",
       "17  b'flamenco'|b'soundtrack'|b'folk'|b'spanish'|b...   \n",
       "\n",
       "    metadata_songs_artist_name  metadata_songs_release  metadata_songs_title  \\\n",
       "3                  Gipsy Kings           Greatest Hits     Tu Quieres Volver   \n",
       "4                  Gipsy Kings           Greatest Hits     Tu Quieres Volver   \n",
       "5                  Gipsy Kings           Greatest Hits     Tu Quieres Volver   \n",
       "8                  Gipsy Kings           Greatest Hits     Tu Quieres Volver   \n",
       "17                 Gipsy Kings           Greatest Hits     Tu Quieres Volver   \n",
       "\n",
       "          musicbrainz_artist_mbtags  user_id  song_id  \n",
       "3   b'classic pop and rock'|b'folk'   186356     3214  \n",
       "4   b'classic pop and rock'|b'folk'   389460     3214  \n",
       "5   b'classic pop and rock'|b'folk'    43196     3214  \n",
       "8   b'classic pop and rock'|b'folk'   334055     3214  \n",
       "17  b'classic pop and rock'|b'folk'    14761     3214  \n",
       "\n",
       "[5 rows x 29 columns]"
      ]
     },
     "execution_count": 31,
     "metadata": {},
     "output_type": "execute_result"
    }
   ],
   "source": [
    "master_df = standardized_df[standardized_df.groupby('user').user.transform('count')>4].copy()\n",
    "master_df.head()"
   ]
  },
  {
   "cell_type": "markdown",
   "id": "ac23d561-4e60-4fb7-a8e8-e18494c87a9e",
   "metadata": {
    "tags": []
   },
   "source": [
    "## Attempt 1 Using jessesw.com"
   ]
  },
  {
   "cell_type": "code",
   "execution_count": 6,
   "id": "511cb8b7-4ff7-41b4-bb07-b1a8fe00c418",
   "metadata": {
    "tags": []
   },
   "outputs": [
    {
     "data": {
      "text/html": [
       "<div>\n",
       "<style scoped>\n",
       "    .dataframe tbody tr th:only-of-type {\n",
       "        vertical-align: middle;\n",
       "    }\n",
       "\n",
       "    .dataframe tbody tr th {\n",
       "        vertical-align: top;\n",
       "    }\n",
       "\n",
       "    .dataframe thead th {\n",
       "        text-align: right;\n",
       "    }\n",
       "</style>\n",
       "<table border=\"1\" class=\"dataframe\">\n",
       "  <thead>\n",
       "    <tr style=\"text-align: right;\">\n",
       "      <th></th>\n",
       "      <th>count</th>\n",
       "      <th>analysis_songs_key</th>\n",
       "      <th>analysis_songs_key_confidence</th>\n",
       "      <th>analysis_songs_mode</th>\n",
       "      <th>analysis_songs_mode_confidence</th>\n",
       "      <th>analysis_songs_tempo</th>\n",
       "      <th>analysis_songs_time_signature</th>\n",
       "      <th>analysis_songs_time_signature_confidence</th>\n",
       "      <th>musicbrainz_songs_year</th>\n",
       "      <th>years_binned</th>\n",
       "      <th>tempo_binned</th>\n",
       "      <th>analysis_songs_duration</th>\n",
       "      <th>metadata_songs_artist_familiarity</th>\n",
       "      <th>metadata_songs_artist_hotttnesss</th>\n",
       "      <th>metadata_songs_song_hotttnesss</th>\n",
       "    </tr>\n",
       "  </thead>\n",
       "  <tbody>\n",
       "    <tr>\n",
       "      <th>count</th>\n",
       "      <td>772661.000000</td>\n",
       "      <td>772661.000000</td>\n",
       "      <td>772661.000000</td>\n",
       "      <td>772661.000000</td>\n",
       "      <td>772661.000000</td>\n",
       "      <td>772661.000000</td>\n",
       "      <td>772661.000000</td>\n",
       "      <td>772661.000000</td>\n",
       "      <td>772661.000000</td>\n",
       "      <td>772661.000000</td>\n",
       "      <td>772661.000000</td>\n",
       "      <td>772661.000000</td>\n",
       "      <td>772661.000000</td>\n",
       "      <td>772661.000000</td>\n",
       "      <td>772661.000000</td>\n",
       "    </tr>\n",
       "    <tr>\n",
       "      <th>mean</th>\n",
       "      <td>2.684340</td>\n",
       "      <td>5.673522</td>\n",
       "      <td>0.432972</td>\n",
       "      <td>0.637005</td>\n",
       "      <td>0.489415</td>\n",
       "      <td>126.560860</td>\n",
       "      <td>3.730847</td>\n",
       "      <td>0.626652</td>\n",
       "      <td>1543.714245</td>\n",
       "      <td>2.646629</td>\n",
       "      <td>4.783883</td>\n",
       "      <td>0.158297</td>\n",
       "      <td>1.137810</td>\n",
       "      <td>1.828713</td>\n",
       "      <td>3.760755</td>\n",
       "    </tr>\n",
       "    <tr>\n",
       "      <th>std</th>\n",
       "      <td>5.454646</td>\n",
       "      <td>3.615617</td>\n",
       "      <td>0.270784</td>\n",
       "      <td>0.480864</td>\n",
       "      <td>0.165614</td>\n",
       "      <td>31.789887</td>\n",
       "      <td>1.021593</td>\n",
       "      <td>0.361508</td>\n",
       "      <td>839.540567</td>\n",
       "      <td>1.620828</td>\n",
       "      <td>2.637524</td>\n",
       "      <td>0.801748</td>\n",
       "      <td>0.594691</td>\n",
       "      <td>1.180343</td>\n",
       "      <td>2.317352</td>\n",
       "    </tr>\n",
       "    <tr>\n",
       "      <th>min</th>\n",
       "      <td>1.000000</td>\n",
       "      <td>0.000000</td>\n",
       "      <td>0.000000</td>\n",
       "      <td>0.000000</td>\n",
       "      <td>0.000000</td>\n",
       "      <td>0.000000</td>\n",
       "      <td>0.000000</td>\n",
       "      <td>0.000000</td>\n",
       "      <td>0.000000</td>\n",
       "      <td>0.000000</td>\n",
       "      <td>0.000000</td>\n",
       "      <td>-2.151904</td>\n",
       "      <td>-2.813196</td>\n",
       "      <td>-2.960846</td>\n",
       "      <td>-4.007280</td>\n",
       "    </tr>\n",
       "    <tr>\n",
       "      <th>25%</th>\n",
       "      <td>1.000000</td>\n",
       "      <td>2.000000</td>\n",
       "      <td>0.222000</td>\n",
       "      <td>0.000000</td>\n",
       "      <td>0.397000</td>\n",
       "      <td>102.984000</td>\n",
       "      <td>4.000000</td>\n",
       "      <td>0.358000</td>\n",
       "      <td>1977.000000</td>\n",
       "      <td>1.000000</td>\n",
       "      <td>3.000000</td>\n",
       "      <td>-0.228571</td>\n",
       "      <td>0.847774</td>\n",
       "      <td>1.077402</td>\n",
       "      <td>2.414042</td>\n",
       "    </tr>\n",
       "    <tr>\n",
       "      <th>50%</th>\n",
       "      <td>1.000000</td>\n",
       "      <td>6.000000</td>\n",
       "      <td>0.437000</td>\n",
       "      <td>1.000000</td>\n",
       "      <td>0.480000</td>\n",
       "      <td>121.884000</td>\n",
       "      <td>4.000000</td>\n",
       "      <td>0.742000</td>\n",
       "      <td>2000.000000</td>\n",
       "      <td>3.000000</td>\n",
       "      <td>5.000000</td>\n",
       "      <td>0.052587</td>\n",
       "      <td>1.298247</td>\n",
       "      <td>1.707256</td>\n",
       "      <td>4.332809</td>\n",
       "    </tr>\n",
       "    <tr>\n",
       "      <th>75%</th>\n",
       "      <td>2.000000</td>\n",
       "      <td>9.000000</td>\n",
       "      <td>0.630000</td>\n",
       "      <td>1.000000</td>\n",
       "      <td>0.596000</td>\n",
       "      <td>146.022000</td>\n",
       "      <td>4.000000</td>\n",
       "      <td>0.994000</td>\n",
       "      <td>2006.000000</td>\n",
       "      <td>4.000000</td>\n",
       "      <td>7.000000</td>\n",
       "      <td>0.464172</td>\n",
       "      <td>1.572213</td>\n",
       "      <td>2.589013</td>\n",
       "      <td>5.325418</td>\n",
       "    </tr>\n",
       "    <tr>\n",
       "      <th>max</th>\n",
       "      <td>771.000000</td>\n",
       "      <td>11.000000</td>\n",
       "      <td>1.000000</td>\n",
       "      <td>1.000000</td>\n",
       "      <td>1.000000</td>\n",
       "      <td>253.357000</td>\n",
       "      <td>7.000000</td>\n",
       "      <td>1.000000</td>\n",
       "      <td>2010.000000</td>\n",
       "      <td>4.000000</td>\n",
       "      <td>9.000000</td>\n",
       "      <td>14.586918</td>\n",
       "      <td>2.176964</td>\n",
       "      <td>5.457244</td>\n",
       "      <td>7.681827</td>\n",
       "    </tr>\n",
       "  </tbody>\n",
       "</table>\n",
       "</div>"
      ],
      "text/plain": [
       "               count  analysis_songs_key  analysis_songs_key_confidence  \\\n",
       "count  772661.000000       772661.000000                  772661.000000   \n",
       "mean        2.684340            5.673522                       0.432972   \n",
       "std         5.454646            3.615617                       0.270784   \n",
       "min         1.000000            0.000000                       0.000000   \n",
       "25%         1.000000            2.000000                       0.222000   \n",
       "50%         1.000000            6.000000                       0.437000   \n",
       "75%         2.000000            9.000000                       0.630000   \n",
       "max       771.000000           11.000000                       1.000000   \n",
       "\n",
       "       analysis_songs_mode  analysis_songs_mode_confidence  \\\n",
       "count        772661.000000                   772661.000000   \n",
       "mean              0.637005                        0.489415   \n",
       "std               0.480864                        0.165614   \n",
       "min               0.000000                        0.000000   \n",
       "25%               0.000000                        0.397000   \n",
       "50%               1.000000                        0.480000   \n",
       "75%               1.000000                        0.596000   \n",
       "max               1.000000                        1.000000   \n",
       "\n",
       "       analysis_songs_tempo  analysis_songs_time_signature  \\\n",
       "count         772661.000000                  772661.000000   \n",
       "mean             126.560860                       3.730847   \n",
       "std               31.789887                       1.021593   \n",
       "min                0.000000                       0.000000   \n",
       "25%              102.984000                       4.000000   \n",
       "50%              121.884000                       4.000000   \n",
       "75%              146.022000                       4.000000   \n",
       "max              253.357000                       7.000000   \n",
       "\n",
       "       analysis_songs_time_signature_confidence  musicbrainz_songs_year  \\\n",
       "count                             772661.000000           772661.000000   \n",
       "mean                                   0.626652             1543.714245   \n",
       "std                                    0.361508              839.540567   \n",
       "min                                    0.000000                0.000000   \n",
       "25%                                    0.358000             1977.000000   \n",
       "50%                                    0.742000             2000.000000   \n",
       "75%                                    0.994000             2006.000000   \n",
       "max                                    1.000000             2010.000000   \n",
       "\n",
       "        years_binned   tempo_binned  analysis_songs_duration  \\\n",
       "count  772661.000000  772661.000000            772661.000000   \n",
       "mean        2.646629       4.783883                 0.158297   \n",
       "std         1.620828       2.637524                 0.801748   \n",
       "min         0.000000       0.000000                -2.151904   \n",
       "25%         1.000000       3.000000                -0.228571   \n",
       "50%         3.000000       5.000000                 0.052587   \n",
       "75%         4.000000       7.000000                 0.464172   \n",
       "max         4.000000       9.000000                14.586918   \n",
       "\n",
       "       metadata_songs_artist_familiarity  metadata_songs_artist_hotttnesss  \\\n",
       "count                      772661.000000                     772661.000000   \n",
       "mean                            1.137810                          1.828713   \n",
       "std                             0.594691                          1.180343   \n",
       "min                            -2.813196                         -2.960846   \n",
       "25%                             0.847774                          1.077402   \n",
       "50%                             1.298247                          1.707256   \n",
       "75%                             1.572213                          2.589013   \n",
       "max                             2.176964                          5.457244   \n",
       "\n",
       "       metadata_songs_song_hotttnesss  \n",
       "count                   772661.000000  \n",
       "mean                         3.760755  \n",
       "std                          2.317352  \n",
       "min                         -4.007280  \n",
       "25%                          2.414042  \n",
       "50%                          4.332809  \n",
       "75%                          5.325418  \n",
       "max                          7.681827  "
      ]
     },
     "execution_count": 6,
     "metadata": {},
     "output_type": "execute_result"
    }
   ],
   "source": [
    "## Check that all counts in dataset are 1 or greater\n",
    "standardized_df.describe()"
   ]
  },
  {
   "cell_type": "code",
   "execution_count": 7,
   "id": "42c1bd87-868b-4781-8e3e-121b18a6d1bc",
   "metadata": {},
   "outputs": [],
   "source": [
    "## Get our unique users\n",
    "users = list(np.sort(standardized_df.user.unique()))\n",
    "## Get our unique songs\n",
    "songs = list(standardized_df.song.unique())\n",
    "## Get counts of songs listened to\n",
    "song_count = list(standardized_df['count'])"
   ]
  },
  {
   "cell_type": "code",
   "execution_count": 8,
   "id": "1a2ec133-d133-4842-9467-5d6e622f537a",
   "metadata": {},
   "outputs": [],
   "source": [
    "import scipy.sparse as sparse\n",
    "from scipy.sparse.linalg import spsolve\n",
    "\n",
    "## Get associated row indices\n",
    "rows = pd.Categorical(standardized_df.user, categories=users).codes\n",
    "## Get associated column indices\n",
    "cols = pd.Categorical(standardized_df.song, categories=songs).codes\n",
    "matrix = sparse.csr_matrix((song_count, (rows, cols)), shape=(len(users), len(songs)))"
   ]
  },
  {
   "cell_type": "code",
   "execution_count": 9,
   "id": "e7e1c57e-5d28-486f-8b18-a03fcd5d0d46",
   "metadata": {},
   "outputs": [
    {
     "data": {
      "text/plain": [
       "<418252x3675 sparse matrix of type '<class 'numpy.intc'>'\n",
       "\twith 772661 stored elements in Compressed Sparse Row format>"
      ]
     },
     "execution_count": 9,
     "metadata": {},
     "output_type": "execute_result"
    }
   ],
   "source": [
    "matrix"
   ]
  },
  {
   "cell_type": "markdown",
   "id": "808d47cd-7d8f-4e2e-9d13-9be9c1a0003b",
   "metadata": {},
   "source": [
    "We have a total of 418,252 users and 3,675 songs, with 772,661 songs heard."
   ]
  },
  {
   "cell_type": "code",
   "execution_count": 10,
   "id": "9f5dffbc-3289-41b4-b026-4026abf0431a",
   "metadata": {},
   "outputs": [
    {
     "data": {
      "text/plain": [
       "99.94973176669653"
      ]
     },
     "execution_count": 10,
     "metadata": {},
     "output_type": "execute_result"
    }
   ],
   "source": [
    "## Calculate matrix sparsity\n",
    "# Obtain number of possible interactions in the matrix\n",
    "matrix_size = matrix.shape[0]*matrix.shape[1]\n",
    "# Obtain number of songs interacted with\n",
    "num_songs_heard = len(matrix.nonzero()[0])\n",
    "sparsity = 100*(1-(num_songs_heard/matrix_size))\n",
    "sparsity"
   ]
  },
  {
   "cell_type": "markdown",
   "id": "28ccb566-4f67-4157-8ef8-49a31ad0647e",
   "metadata": {},
   "source": [
    "99.9% of the interaction matrix is sparse whereas the maximum that usually works for collaborative filtering is 99.5%. Therefore, we can attempt to build a matrix factorization model, but this may not perform well."
   ]
  },
  {
   "cell_type": "code",
   "execution_count": 11,
   "id": "3dd3e81e-b035-4993-aed6-b40a208dc29a",
   "metadata": {},
   "outputs": [
    {
     "name": "stdout",
     "output_type": "stream",
     "text": [
      "Requirement already satisfied: implicit in c:\\users\\shefa\\anaconda3\\lib\\site-packages (0.4.4)\n",
      "Requirement already satisfied: numpy in c:\\users\\shefa\\anaconda3\\lib\\site-packages (from implicit) (1.20.2)\n",
      "Requirement already satisfied: scipy>=0.16 in c:\\users\\shefa\\anaconda3\\lib\\site-packages (from implicit) (1.6.2)\n",
      "Requirement already satisfied: tqdm>=4.27 in c:\\users\\shefa\\anaconda3\\lib\\site-packages (from implicit) (4.61.1)\n"
     ]
    }
   ],
   "source": [
    "# Install a pip package in the current Jupyter kernel\n",
    "import sys\n",
    "!{sys.executable} -m pip install implicit"
   ]
  },
  {
   "cell_type": "markdown",
   "id": "4e423898-5bad-4779-9376-7cd50e3c03b4",
   "metadata": {},
   "source": [
    "## Attempt 2 Using Towards Data Science"
   ]
  },
  {
   "cell_type": "code",
   "execution_count": 63,
   "id": "b5900f42-ee62-43b5-ae2f-f9790b81c3ac",
   "metadata": {
    "tags": []
   },
   "outputs": [
    {
     "name": "stdout",
     "output_type": "stream",
     "text": [
      "  (6, 639)\t2.0\n",
      "  (6, 1223)\t1.0\n",
      "  (6, 2370)\t1.0\n",
      "  (6, 2550)\t1.0\n",
      "  (6, 3548)\t1.0\n",
      "  (12, 114)\t1.0\n",
      "  (12, 370)\t5.0\n",
      "  (12, 868)\t1.0\n",
      "  (12, 1036)\t7.0\n",
      "  (12, 1192)\t1.0\n",
      "  (12, 2529)\t5.0\n",
      "  (12, 3374)\t1.0\n",
      "  (14, 1054)\t1.0\n",
      "  (14, 1231)\t4.0\n",
      "  (14, 1424)\t2.0\n",
      "  (14, 2276)\t5.0\n",
      "  (14, 2582)\t1.0\n",
      "  (14, 2792)\t2.0\n",
      "  (33, 114)\t1.0\n",
      "  (33, 964)\t2.0\n",
      "  (33, 1424)\t9.0\n",
      "  (33, 2792)\t1.0\n",
      "  (33, 2880)\t8.0\n",
      "  (33, 3213)\t1.0\n",
      "  (33, 3475)\t1.0\n",
      "  :\t:\n",
      "  (418219, 1831)\t7.0\n",
      "  (418219, 1965)\t1.0\n",
      "  (418219, 2142)\t1.0\n",
      "  (418219, 2165)\t1.0\n",
      "  (418219, 2374)\t1.0\n",
      "  (418219, 2426)\t1.0\n",
      "  (418219, 3311)\t1.0\n",
      "  (418219, 3634)\t2.0\n",
      "  (418226, 692)\t1.0\n",
      "  (418226, 924)\t1.0\n",
      "  (418226, 964)\t1.0\n",
      "  (418226, 1831)\t1.0\n",
      "  (418226, 2214)\t1.0\n",
      "  (418227, 114)\t1.0\n",
      "  (418227, 1153)\t1.0\n",
      "  (418227, 1215)\t7.0\n",
      "  (418227, 1235)\t1.0\n",
      "  (418227, 2545)\t1.0\n",
      "  (418227, 3467)\t2.0\n",
      "  (418227, 3542)\t1.0\n",
      "  (418246, 521)\t4.0\n",
      "  (418246, 1918)\t4.0\n",
      "  (418246, 2426)\t13.0\n",
      "  (418246, 3223)\t14.0\n",
      "  (418246, 3258)\t19.0\n"
     ]
    }
   ],
   "source": [
    "#content_matrix = sparse.csr_matrix((song_count, (rows, cols)), shape=(len(songs), len(users)))\n",
    "import scipy.sparse as sparse\n",
    "from scipy.sparse.linalg import spsolve\n",
    "from scipy.sparse import csr_matrix\n",
    "\n",
    "master_df['user']= master_df['user'].astype(\"category\")\n",
    "master_df['song']= master_df['song'].astype(\"category\")\n",
    "master_df['user_id']= master_df['user'].cat.codes\n",
    "master_df['song_id']= master_df['song'].cat.codes\n",
    "\n",
    "sparse_content_user = sparse.csr_matrix((master_df['count'].astype(float), (master_df['song_id'], master_df['user_id'])))\n",
    "sparse_user_content = sparse.csr_matrix((master_df['count'].astype(float), (master_df['user_id'], master_df['song_id'])))\n",
    "print (sparse_user_content)"
   ]
  },
  {
   "cell_type": "code",
   "execution_count": 47,
   "id": "dfe580b0-9f6a-40c1-a74f-8ed2dfe72c23",
   "metadata": {},
   "outputs": [
    {
     "data": {
      "text/html": [
       "<div>\n",
       "<style scoped>\n",
       "    .dataframe tbody tr th:only-of-type {\n",
       "        vertical-align: middle;\n",
       "    }\n",
       "\n",
       "    .dataframe tbody tr th {\n",
       "        vertical-align: top;\n",
       "    }\n",
       "\n",
       "    .dataframe thead th {\n",
       "        text-align: right;\n",
       "    }\n",
       "</style>\n",
       "<table border=\"1\" class=\"dataframe\">\n",
       "  <thead>\n",
       "    <tr style=\"text-align: right;\">\n",
       "      <th></th>\n",
       "      <th>user</th>\n",
       "      <th>user_id</th>\n",
       "    </tr>\n",
       "  </thead>\n",
       "  <tbody>\n",
       "    <tr>\n",
       "      <th>3</th>\n",
       "      <td>724534729c9f5dc72a009269c2c225883e4775d2</td>\n",
       "      <td>186356</td>\n",
       "    </tr>\n",
       "    <tr>\n",
       "      <th>4</th>\n",
       "      <td>ee7aa84c164038c963cfd02a7e52a5598aa470c3</td>\n",
       "      <td>389460</td>\n",
       "    </tr>\n",
       "    <tr>\n",
       "      <th>5</th>\n",
       "      <td>1aa4fd215aadb160965110ed8a829745cde319eb</td>\n",
       "      <td>43196</td>\n",
       "    </tr>\n",
       "    <tr>\n",
       "      <th>8</th>\n",
       "      <td>cca2694a19b2474bc731574ebb8b10382214f865</td>\n",
       "      <td>334055</td>\n",
       "    </tr>\n",
       "    <tr>\n",
       "      <th>17</th>\n",
       "      <td>091d959cd1d21f270d9f6dc58b93ee78caa4ab96</td>\n",
       "      <td>14761</td>\n",
       "    </tr>\n",
       "  </tbody>\n",
       "</table>\n",
       "</div>"
      ],
      "text/plain": [
       "                                        user  user_id\n",
       "3   724534729c9f5dc72a009269c2c225883e4775d2   186356\n",
       "4   ee7aa84c164038c963cfd02a7e52a5598aa470c3   389460\n",
       "5   1aa4fd215aadb160965110ed8a829745cde319eb    43196\n",
       "8   cca2694a19b2474bc731574ebb8b10382214f865   334055\n",
       "17  091d959cd1d21f270d9f6dc58b93ee78caa4ab96    14761"
      ]
     },
     "execution_count": 47,
     "metadata": {},
     "output_type": "execute_result"
    }
   ],
   "source": [
    "## Create a dataframe to look up user\n",
    "user_lookup = master_df[['user', 'user_id']].drop_duplicates()\n",
    "user_lookup.head()"
   ]
  },
  {
   "cell_type": "code",
   "execution_count": 48,
   "id": "52b084c3-0001-4e83-8b0e-a9ba4d99b9ef",
   "metadata": {},
   "outputs": [
    {
     "data": {
      "text/html": [
       "<div>\n",
       "<style scoped>\n",
       "    .dataframe tbody tr th:only-of-type {\n",
       "        vertical-align: middle;\n",
       "    }\n",
       "\n",
       "    .dataframe tbody tr th {\n",
       "        vertical-align: top;\n",
       "    }\n",
       "\n",
       "    .dataframe thead th {\n",
       "        text-align: right;\n",
       "    }\n",
       "</style>\n",
       "<table border=\"1\" class=\"dataframe\">\n",
       "  <thead>\n",
       "    <tr style=\"text-align: right;\">\n",
       "      <th></th>\n",
       "      <th>song</th>\n",
       "      <th>song_id</th>\n",
       "    </tr>\n",
       "  </thead>\n",
       "  <tbody>\n",
       "    <tr>\n",
       "      <th>3</th>\n",
       "      <td>SOWEZSI12A81C21CE6</td>\n",
       "      <td>3214</td>\n",
       "    </tr>\n",
       "    <tr>\n",
       "      <th>771</th>\n",
       "      <td>SODCXXY12AB0187452</td>\n",
       "      <td>521</td>\n",
       "    </tr>\n",
       "    <tr>\n",
       "      <th>1364</th>\n",
       "      <td>SOWPAXV12A67ADA046</td>\n",
       "      <td>3269</td>\n",
       "    </tr>\n",
       "    <tr>\n",
       "      <th>5056</th>\n",
       "      <td>SOLXDDC12A6701FBFD</td>\n",
       "      <td>1853</td>\n",
       "    </tr>\n",
       "    <tr>\n",
       "      <th>7423</th>\n",
       "      <td>SONJBQX12A6D4F8382</td>\n",
       "      <td>2047</td>\n",
       "    </tr>\n",
       "  </tbody>\n",
       "</table>\n",
       "</div>"
      ],
      "text/plain": [
       "                    song  song_id\n",
       "3     SOWEZSI12A81C21CE6     3214\n",
       "771   SODCXXY12AB0187452      521\n",
       "1364  SOWPAXV12A67ADA046     3269\n",
       "5056  SOLXDDC12A6701FBFD     1853\n",
       "7423  SONJBQX12A6D4F8382     2047"
      ]
     },
     "execution_count": 48,
     "metadata": {},
     "output_type": "execute_result"
    }
   ],
   "source": [
    "## Create a dataframe to look up song\n",
    "song_lookup = master_df[['song', 'song_id']].drop_duplicates()\n",
    "song_lookup.head()"
   ]
  },
  {
   "cell_type": "code",
   "execution_count": 49,
   "id": "0ba48706-39c0-40db-951d-365feb9d6f01",
   "metadata": {},
   "outputs": [
    {
     "data": {
      "text/html": [
       "<div>\n",
       "<style scoped>\n",
       "    .dataframe tbody tr th:only-of-type {\n",
       "        vertical-align: middle;\n",
       "    }\n",
       "\n",
       "    .dataframe tbody tr th {\n",
       "        vertical-align: top;\n",
       "    }\n",
       "\n",
       "    .dataframe thead th {\n",
       "        text-align: right;\n",
       "    }\n",
       "</style>\n",
       "<table border=\"1\" class=\"dataframe\">\n",
       "  <thead>\n",
       "    <tr style=\"text-align: right;\">\n",
       "      <th></th>\n",
       "      <th>user_id</th>\n",
       "      <th>song_id</th>\n",
       "      <th>count</th>\n",
       "    </tr>\n",
       "  </thead>\n",
       "  <tbody>\n",
       "    <tr>\n",
       "      <th>3</th>\n",
       "      <td>186356</td>\n",
       "      <td>3214</td>\n",
       "      <td>1</td>\n",
       "    </tr>\n",
       "    <tr>\n",
       "      <th>4</th>\n",
       "      <td>389460</td>\n",
       "      <td>3214</td>\n",
       "      <td>2</td>\n",
       "    </tr>\n",
       "    <tr>\n",
       "      <th>5</th>\n",
       "      <td>43196</td>\n",
       "      <td>3214</td>\n",
       "      <td>1</td>\n",
       "    </tr>\n",
       "    <tr>\n",
       "      <th>8</th>\n",
       "      <td>334055</td>\n",
       "      <td>3214</td>\n",
       "      <td>2</td>\n",
       "    </tr>\n",
       "    <tr>\n",
       "      <th>17</th>\n",
       "      <td>14761</td>\n",
       "      <td>3214</td>\n",
       "      <td>10</td>\n",
       "    </tr>\n",
       "  </tbody>\n",
       "</table>\n",
       "</div>"
      ],
      "text/plain": [
       "    user_id  song_id  count\n",
       "3    186356     3214      1\n",
       "4    389460     3214      2\n",
       "5     43196     3214      1\n",
       "8    334055     3214      2\n",
       "17    14761     3214     10"
      ]
     },
     "execution_count": 49,
     "metadata": {},
     "output_type": "execute_result"
    }
   ],
   "source": [
    "## Subset to data for model\n",
    "model_df = master_df[['user_id', 'song_id', 'count']]\n",
    "model_df.head()"
   ]
  },
  {
   "cell_type": "code",
   "execution_count": null,
   "id": "f41a8d22-bb71-4608-82b7-b4b4c7ada688",
   "metadata": {
    "tags": []
   },
   "outputs": [
    {
     "data": {
      "application/vnd.jupyter.widget-view+json": {
       "model_id": "5720361f490f46aa92b1e6255fb691d1",
       "version_major": 2,
       "version_minor": 0
      },
      "text/plain": [
       "  0%|          | 0/30 [00:00<?, ?it/s]"
      ]
     },
     "metadata": {},
     "output_type": "display_data"
    },
    {
     "data": {
      "application/vnd.jupyter.widget-view+json": {
       "model_id": "cdb21c301145402db333534f513606f8",
       "version_major": 2,
       "version_minor": 0
      },
      "text/plain": [
       "  0%|          | 0/30 [00:00<?, ?it/s]"
      ]
     },
     "metadata": {},
     "output_type": "display_data"
    },
    {
     "data": {
      "application/vnd.jupyter.widget-view+json": {
       "model_id": "61893610536e4ce18470269e5641860d",
       "version_major": 2,
       "version_minor": 0
      },
      "text/plain": [
       "  0%|          | 0/30 [00:00<?, ?it/s]"
      ]
     },
     "metadata": {},
     "output_type": "display_data"
    },
    {
     "data": {
      "application/vnd.jupyter.widget-view+json": {
       "model_id": "5238caff0b694e2987cf939560de90c9",
       "version_major": 2,
       "version_minor": 0
      },
      "text/plain": [
       "  0%|          | 0/30 [00:00<?, ?it/s]"
      ]
     },
     "metadata": {},
     "output_type": "display_data"
    },
    {
     "data": {
      "application/vnd.jupyter.widget-view+json": {
       "model_id": "48bc637ef03242de99853b74ef9b7595",
       "version_major": 2,
       "version_minor": 0
      },
      "text/plain": [
       "  0%|          | 0/30 [00:00<?, ?it/s]"
      ]
     },
     "metadata": {},
     "output_type": "display_data"
    },
    {
     "data": {
      "application/vnd.jupyter.widget-view+json": {
       "model_id": "98acb38f8b354cdd81b8f82a6ee7fad1",
       "version_major": 2,
       "version_minor": 0
      },
      "text/plain": [
       "  0%|          | 0/30 [00:00<?, ?it/s]"
      ]
     },
     "metadata": {},
     "output_type": "display_data"
    },
    {
     "data": {
      "application/vnd.jupyter.widget-view+json": {
       "model_id": "09d41d42ea00458886f727e123dd1dda",
       "version_major": 2,
       "version_minor": 0
      },
      "text/plain": [
       "  0%|          | 0/30 [00:00<?, ?it/s]"
      ]
     },
     "metadata": {},
     "output_type": "display_data"
    },
    {
     "data": {
      "application/vnd.jupyter.widget-view+json": {
       "model_id": "d0e3948ec896489e927fb8da75360009",
       "version_major": 2,
       "version_minor": 0
      },
      "text/plain": [
       "  0%|          | 0/30 [00:00<?, ?it/s]"
      ]
     },
     "metadata": {},
     "output_type": "display_data"
    },
    {
     "data": {
      "application/vnd.jupyter.widget-view+json": {
       "model_id": "887c6ed20729476d9c9a6011152f0393",
       "version_major": 2,
       "version_minor": 0
      },
      "text/plain": [
       "  0%|          | 0/30 [00:00<?, ?it/s]"
      ]
     },
     "metadata": {},
     "output_type": "display_data"
    },
    {
     "data": {
      "application/vnd.jupyter.widget-view+json": {
       "model_id": "588fada36cd14e7fa1e484275bc6e437",
       "version_major": 2,
       "version_minor": 0
      },
      "text/plain": [
       "  0%|          | 0/30 [00:00<?, ?it/s]"
      ]
     },
     "metadata": {},
     "output_type": "display_data"
    },
    {
     "data": {
      "application/vnd.jupyter.widget-view+json": {
       "model_id": "7c998c65212444a6aca1635c0b3cb6dd",
       "version_major": 2,
       "version_minor": 0
      },
      "text/plain": [
       "  0%|          | 0/30 [00:00<?, ?it/s]"
      ]
     },
     "metadata": {},
     "output_type": "display_data"
    },
    {
     "data": {
      "application/vnd.jupyter.widget-view+json": {
       "model_id": "45c8a134d19d40b38e8f7fd37c1eae56",
       "version_major": 2,
       "version_minor": 0
      },
      "text/plain": [
       "  0%|          | 0/30 [00:00<?, ?it/s]"
      ]
     },
     "metadata": {},
     "output_type": "display_data"
    },
    {
     "data": {
      "application/vnd.jupyter.widget-view+json": {
       "model_id": "aae997383fa943a389c7d7ef8d98ea48",
       "version_major": 2,
       "version_minor": 0
      },
      "text/plain": [
       "  0%|          | 0/30 [00:00<?, ?it/s]"
      ]
     },
     "metadata": {},
     "output_type": "display_data"
    },
    {
     "data": {
      "application/vnd.jupyter.widget-view+json": {
       "model_id": "9747a295118646ad9109b9322bdfbbc6",
       "version_major": 2,
       "version_minor": 0
      },
      "text/plain": [
       "  0%|          | 0/30 [00:00<?, ?it/s]"
      ]
     },
     "metadata": {},
     "output_type": "display_data"
    },
    {
     "data": {
      "application/vnd.jupyter.widget-view+json": {
       "model_id": "1ca63e7bcafe4be2b031f205cbdefd34",
       "version_major": 2,
       "version_minor": 0
      },
      "text/plain": [
       "  0%|          | 0/30 [00:00<?, ?it/s]"
      ]
     },
     "metadata": {},
     "output_type": "display_data"
    },
    {
     "data": {
      "application/vnd.jupyter.widget-view+json": {
       "model_id": "5badebd7745d48e4a22b75a77e4f7a8b",
       "version_major": 2,
       "version_minor": 0
      },
      "text/plain": [
       "  0%|          | 0/30 [00:00<?, ?it/s]"
      ]
     },
     "metadata": {},
     "output_type": "display_data"
    },
    {
     "data": {
      "application/vnd.jupyter.widget-view+json": {
       "model_id": "a606f4d4061b4ea5af786e275440c7c4",
       "version_major": 2,
       "version_minor": 0
      },
      "text/plain": [
       "  0%|          | 0/30 [00:00<?, ?it/s]"
      ]
     },
     "metadata": {},
     "output_type": "display_data"
    },
    {
     "data": {
      "application/vnd.jupyter.widget-view+json": {
       "model_id": "ae7031e067564f3eacdd0a15cd1e57f4",
       "version_major": 2,
       "version_minor": 0
      },
      "text/plain": [
       "  0%|          | 0/30 [00:00<?, ?it/s]"
      ]
     },
     "metadata": {},
     "output_type": "display_data"
    },
    {
     "data": {
      "application/vnd.jupyter.widget-view+json": {
       "model_id": "889910518fca4cc39e0d5bcbf150b903",
       "version_major": 2,
       "version_minor": 0
      },
      "text/plain": [
       "  0%|          | 0/30 [00:00<?, ?it/s]"
      ]
     },
     "metadata": {},
     "output_type": "display_data"
    },
    {
     "data": {
      "application/vnd.jupyter.widget-view+json": {
       "model_id": "35d8e79947be42b7b57be7c8c66e3f77",
       "version_major": 2,
       "version_minor": 0
      },
      "text/plain": [
       "  0%|          | 0/30 [00:00<?, ?it/s]"
      ]
     },
     "metadata": {},
     "output_type": "display_data"
    },
    {
     "data": {
      "application/vnd.jupyter.widget-view+json": {
       "model_id": "cb7b22b07ff640018f0c2213cdd59674",
       "version_major": 2,
       "version_minor": 0
      },
      "text/plain": [
       "  0%|          | 0/30 [00:00<?, ?it/s]"
      ]
     },
     "metadata": {},
     "output_type": "display_data"
    },
    {
     "data": {
      "application/vnd.jupyter.widget-view+json": {
       "model_id": "c83bf98f17ee40a39a2fe145bab66d61",
       "version_major": 2,
       "version_minor": 0
      },
      "text/plain": [
       "  0%|          | 0/30 [00:00<?, ?it/s]"
      ]
     },
     "metadata": {},
     "output_type": "display_data"
    },
    {
     "data": {
      "application/vnd.jupyter.widget-view+json": {
       "model_id": "dec612af8d8a40df897df109b05c1a35",
       "version_major": 2,
       "version_minor": 0
      },
      "text/plain": [
       "  0%|          | 0/30 [00:00<?, ?it/s]"
      ]
     },
     "metadata": {},
     "output_type": "display_data"
    },
    {
     "data": {
      "application/vnd.jupyter.widget-view+json": {
       "model_id": "578d60ffa766493e9e851726a105c0b8",
       "version_major": 2,
       "version_minor": 0
      },
      "text/plain": [
       "  0%|          | 0/30 [00:00<?, ?it/s]"
      ]
     },
     "metadata": {},
     "output_type": "display_data"
    },
    {
     "data": {
      "application/vnd.jupyter.widget-view+json": {
       "model_id": "e8396d7e1bf74a3b95a97e86aefe1063",
       "version_major": 2,
       "version_minor": 0
      },
      "text/plain": [
       "  0%|          | 0/30 [00:00<?, ?it/s]"
      ]
     },
     "metadata": {},
     "output_type": "display_data"
    },
    {
     "data": {
      "application/vnd.jupyter.widget-view+json": {
       "model_id": "fb046d5bc41e4998aa8896ecbf737305",
       "version_major": 2,
       "version_minor": 0
      },
      "text/plain": [
       "  0%|          | 0/30 [00:00<?, ?it/s]"
      ]
     },
     "metadata": {},
     "output_type": "display_data"
    },
    {
     "data": {
      "application/vnd.jupyter.widget-view+json": {
       "model_id": "4cf70dfac40f43599c1fd18d445e8f3a",
       "version_major": 2,
       "version_minor": 0
      },
      "text/plain": [
       "  0%|          | 0/30 [00:00<?, ?it/s]"
      ]
     },
     "metadata": {},
     "output_type": "display_data"
    },
    {
     "data": {
      "application/vnd.jupyter.widget-view+json": {
       "model_id": "cbcd653b8aa3472db48bd7cc11b66da0",
       "version_major": 2,
       "version_minor": 0
      },
      "text/plain": [
       "  0%|          | 0/30 [00:00<?, ?it/s]"
      ]
     },
     "metadata": {},
     "output_type": "display_data"
    },
    {
     "data": {
      "application/vnd.jupyter.widget-view+json": {
       "model_id": "7f0e0875a1854accb376eebb3896226e",
       "version_major": 2,
       "version_minor": 0
      },
      "text/plain": [
       "  0%|          | 0/30 [00:00<?, ?it/s]"
      ]
     },
     "metadata": {},
     "output_type": "display_data"
    },
    {
     "data": {
      "application/vnd.jupyter.widget-view+json": {
       "model_id": "345f4c6052464f7eb8664f7b195df694",
       "version_major": 2,
       "version_minor": 0
      },
      "text/plain": [
       "  0%|          | 0/30 [00:00<?, ?it/s]"
      ]
     },
     "metadata": {},
     "output_type": "display_data"
    },
    {
     "data": {
      "application/vnd.jupyter.widget-view+json": {
       "model_id": "ce6014758dcb456dacad88bcb4f16347",
       "version_major": 2,
       "version_minor": 0
      },
      "text/plain": [
       "  0%|          | 0/30 [00:00<?, ?it/s]"
      ]
     },
     "metadata": {},
     "output_type": "display_data"
    },
    {
     "data": {
      "application/vnd.jupyter.widget-view+json": {
       "model_id": "1d543b6b64d64c2f9213886dc9db68c2",
       "version_major": 2,
       "version_minor": 0
      },
      "text/plain": [
       "  0%|          | 0/30 [00:00<?, ?it/s]"
      ]
     },
     "metadata": {},
     "output_type": "display_data"
    },
    {
     "data": {
      "application/vnd.jupyter.widget-view+json": {
       "model_id": "c8193427a2c34dd6ad112664583562d1",
       "version_major": 2,
       "version_minor": 0
      },
      "text/plain": [
       "  0%|          | 0/30 [00:00<?, ?it/s]"
      ]
     },
     "metadata": {},
     "output_type": "display_data"
    },
    {
     "data": {
      "application/vnd.jupyter.widget-view+json": {
       "model_id": "a358724d914c491c87e95d2faaf68367",
       "version_major": 2,
       "version_minor": 0
      },
      "text/plain": [
       "  0%|          | 0/30 [00:00<?, ?it/s]"
      ]
     },
     "metadata": {},
     "output_type": "display_data"
    },
    {
     "data": {
      "application/vnd.jupyter.widget-view+json": {
       "model_id": "5390289bfcb24ef4a22248ba74bfedf8",
       "version_major": 2,
       "version_minor": 0
      },
      "text/plain": [
       "  0%|          | 0/30 [00:00<?, ?it/s]"
      ]
     },
     "metadata": {},
     "output_type": "display_data"
    },
    {
     "data": {
      "application/vnd.jupyter.widget-view+json": {
       "model_id": "de2ace1c8b464194a2dc9d5962e9ac11",
       "version_major": 2,
       "version_minor": 0
      },
      "text/plain": [
       "  0%|          | 0/30 [00:00<?, ?it/s]"
      ]
     },
     "metadata": {},
     "output_type": "display_data"
    },
    {
     "data": {
      "application/vnd.jupyter.widget-view+json": {
       "model_id": "632745c28c1d47cabd16e5cb8a9c28dc",
       "version_major": 2,
       "version_minor": 0
      },
      "text/plain": [
       "  0%|          | 0/30 [00:00<?, ?it/s]"
      ]
     },
     "metadata": {},
     "output_type": "display_data"
    },
    {
     "data": {
      "application/vnd.jupyter.widget-view+json": {
       "model_id": "8a610af1dd80404292c4b570ebb95fe1",
       "version_major": 2,
       "version_minor": 0
      },
      "text/plain": [
       "  0%|          | 0/30 [00:00<?, ?it/s]"
      ]
     },
     "metadata": {},
     "output_type": "display_data"
    },
    {
     "data": {
      "application/vnd.jupyter.widget-view+json": {
       "model_id": "21710251976049b88100e65c70e016a8",
       "version_major": 2,
       "version_minor": 0
      },
      "text/plain": [
       "  0%|          | 0/30 [00:00<?, ?it/s]"
      ]
     },
     "metadata": {},
     "output_type": "display_data"
    },
    {
     "data": {
      "application/vnd.jupyter.widget-view+json": {
       "model_id": "5b5cdd7751a24d48b3afa2e157cfe551",
       "version_major": 2,
       "version_minor": 0
      },
      "text/plain": [
       "  0%|          | 0/30 [00:00<?, ?it/s]"
      ]
     },
     "metadata": {},
     "output_type": "display_data"
    },
    {
     "data": {
      "application/vnd.jupyter.widget-view+json": {
       "model_id": "324d236c567342cca171dd0326a770db",
       "version_major": 2,
       "version_minor": 0
      },
      "text/plain": [
       "  0%|          | 0/30 [00:00<?, ?it/s]"
      ]
     },
     "metadata": {},
     "output_type": "display_data"
    },
    {
     "data": {
      "application/vnd.jupyter.widget-view+json": {
       "model_id": "8d9240d10b114c5cb8d76cad3ed0cd80",
       "version_major": 2,
       "version_minor": 0
      },
      "text/plain": [
       "  0%|          | 0/30 [00:00<?, ?it/s]"
      ]
     },
     "metadata": {},
     "output_type": "display_data"
    },
    {
     "data": {
      "application/vnd.jupyter.widget-view+json": {
       "model_id": "5e9987709a5949caa5e4626d0357db19",
       "version_major": 2,
       "version_minor": 0
      },
      "text/plain": [
       "  0%|          | 0/30 [00:00<?, ?it/s]"
      ]
     },
     "metadata": {},
     "output_type": "display_data"
    },
    {
     "data": {
      "application/vnd.jupyter.widget-view+json": {
       "model_id": "8b71b5aeb13e42d2a8d95e21b3fbc4f8",
       "version_major": 2,
       "version_minor": 0
      },
      "text/plain": [
       "  0%|          | 0/30 [00:00<?, ?it/s]"
      ]
     },
     "metadata": {},
     "output_type": "display_data"
    },
    {
     "data": {
      "application/vnd.jupyter.widget-view+json": {
       "model_id": "afd7357df261490187a09722cc80a871",
       "version_major": 2,
       "version_minor": 0
      },
      "text/plain": [
       "  0%|          | 0/30 [00:00<?, ?it/s]"
      ]
     },
     "metadata": {},
     "output_type": "display_data"
    },
    {
     "data": {
      "application/vnd.jupyter.widget-view+json": {
       "model_id": "9b42d742b2d4487f92f8d711da890010",
       "version_major": 2,
       "version_minor": 0
      },
      "text/plain": [
       "  0%|          | 0/30 [00:00<?, ?it/s]"
      ]
     },
     "metadata": {},
     "output_type": "display_data"
    },
    {
     "data": {
      "application/vnd.jupyter.widget-view+json": {
       "model_id": "2657ba7858364f3585cf776bb3290059",
       "version_major": 2,
       "version_minor": 0
      },
      "text/plain": [
       "  0%|          | 0/30 [00:00<?, ?it/s]"
      ]
     },
     "metadata": {},
     "output_type": "display_data"
    },
    {
     "data": {
      "application/vnd.jupyter.widget-view+json": {
       "model_id": "2fd2b0a479a54405a3493af391a6e873",
       "version_major": 2,
       "version_minor": 0
      },
      "text/plain": [
       "  0%|          | 0/30 [00:00<?, ?it/s]"
      ]
     },
     "metadata": {},
     "output_type": "display_data"
    },
    {
     "data": {
      "application/vnd.jupyter.widget-view+json": {
       "model_id": "d66ca57be182407fad8b36d4d0c6a61e",
       "version_major": 2,
       "version_minor": 0
      },
      "text/plain": [
       "  0%|          | 0/30 [00:00<?, ?it/s]"
      ]
     },
     "metadata": {},
     "output_type": "display_data"
    },
    {
     "data": {
      "application/vnd.jupyter.widget-view+json": {
       "model_id": "a3420eab5ab34513853f264c29d3b119",
       "version_major": 2,
       "version_minor": 0
      },
      "text/plain": [
       "  0%|          | 0/30 [00:00<?, ?it/s]"
      ]
     },
     "metadata": {},
     "output_type": "display_data"
    },
    {
     "data": {
      "application/vnd.jupyter.widget-view+json": {
       "model_id": "5a2e78b244fb43dc90669025349f4f5a",
       "version_major": 2,
       "version_minor": 0
      },
      "text/plain": [
       "  0%|          | 0/30 [00:00<?, ?it/s]"
      ]
     },
     "metadata": {},
     "output_type": "display_data"
    },
    {
     "data": {
      "application/vnd.jupyter.widget-view+json": {
       "model_id": "aae0c7af8ab44a1389e8628030ea78c3",
       "version_major": 2,
       "version_minor": 0
      },
      "text/plain": [
       "  0%|          | 0/30 [00:00<?, ?it/s]"
      ]
     },
     "metadata": {},
     "output_type": "display_data"
    },
    {
     "data": {
      "application/vnd.jupyter.widget-view+json": {
       "model_id": "7db797b0af3e491d9503b5777700df2d",
       "version_major": 2,
       "version_minor": 0
      },
      "text/plain": [
       "  0%|          | 0/30 [00:00<?, ?it/s]"
      ]
     },
     "metadata": {},
     "output_type": "display_data"
    },
    {
     "data": {
      "application/vnd.jupyter.widget-view+json": {
       "model_id": "fc38504b558c4f65b086fc26a1f96836",
       "version_major": 2,
       "version_minor": 0
      },
      "text/plain": [
       "  0%|          | 0/30 [00:00<?, ?it/s]"
      ]
     },
     "metadata": {},
     "output_type": "display_data"
    },
    {
     "data": {
      "application/vnd.jupyter.widget-view+json": {
       "model_id": "7f2b91ac1d3642d8a3f4a06b765e2f6d",
       "version_major": 2,
       "version_minor": 0
      },
      "text/plain": [
       "  0%|          | 0/30 [00:00<?, ?it/s]"
      ]
     },
     "metadata": {},
     "output_type": "display_data"
    },
    {
     "data": {
      "application/vnd.jupyter.widget-view+json": {
       "model_id": "17b4f98bbeed41529ebf6ed46eea62eb",
       "version_major": 2,
       "version_minor": 0
      },
      "text/plain": [
       "  0%|          | 0/30 [00:00<?, ?it/s]"
      ]
     },
     "metadata": {},
     "output_type": "display_data"
    },
    {
     "data": {
      "application/vnd.jupyter.widget-view+json": {
       "model_id": "3e8560e57e994a0eb74f290267856184",
       "version_major": 2,
       "version_minor": 0
      },
      "text/plain": [
       "  0%|          | 0/30 [00:00<?, ?it/s]"
      ]
     },
     "metadata": {},
     "output_type": "display_data"
    },
    {
     "data": {
      "application/vnd.jupyter.widget-view+json": {
       "model_id": "10e2edf114b34bc688fcd786206604ae",
       "version_major": 2,
       "version_minor": 0
      },
      "text/plain": [
       "  0%|          | 0/30 [00:00<?, ?it/s]"
      ]
     },
     "metadata": {},
     "output_type": "display_data"
    },
    {
     "data": {
      "application/vnd.jupyter.widget-view+json": {
       "model_id": "68f060b504f9414899cd3472e589c170",
       "version_major": 2,
       "version_minor": 0
      },
      "text/plain": [
       "  0%|          | 0/30 [00:00<?, ?it/s]"
      ]
     },
     "metadata": {},
     "output_type": "display_data"
    },
    {
     "data": {
      "application/vnd.jupyter.widget-view+json": {
       "model_id": "265ced5de0d24bb48ab26d273b1e7e88",
       "version_major": 2,
       "version_minor": 0
      },
      "text/plain": [
       "  0%|          | 0/30 [00:00<?, ?it/s]"
      ]
     },
     "metadata": {},
     "output_type": "display_data"
    },
    {
     "data": {
      "application/vnd.jupyter.widget-view+json": {
       "model_id": "cea58fa7a90042afb83b51166495b5f5",
       "version_major": 2,
       "version_minor": 0
      },
      "text/plain": [
       "  0%|          | 0/30 [00:00<?, ?it/s]"
      ]
     },
     "metadata": {},
     "output_type": "display_data"
    },
    {
     "data": {
      "application/vnd.jupyter.widget-view+json": {
       "model_id": "1e9224a28db8416eb85750e802e47c77",
       "version_major": 2,
       "version_minor": 0
      },
      "text/plain": [
       "  0%|          | 0/30 [00:00<?, ?it/s]"
      ]
     },
     "metadata": {},
     "output_type": "display_data"
    },
    {
     "data": {
      "application/vnd.jupyter.widget-view+json": {
       "model_id": "dc31a635437940f087525df33185399c",
       "version_major": 2,
       "version_minor": 0
      },
      "text/plain": [
       "  0%|          | 0/30 [00:00<?, ?it/s]"
      ]
     },
     "metadata": {},
     "output_type": "display_data"
    },
    {
     "data": {
      "application/vnd.jupyter.widget-view+json": {
       "model_id": "392a54adaa804363bbd5bfab0726bb65",
       "version_major": 2,
       "version_minor": 0
      },
      "text/plain": [
       "  0%|          | 0/30 [00:00<?, ?it/s]"
      ]
     },
     "metadata": {},
     "output_type": "display_data"
    },
    {
     "data": {
      "application/vnd.jupyter.widget-view+json": {
       "model_id": "d18f18cb4c1f4a5d929c32fb62591ef3",
       "version_major": 2,
       "version_minor": 0
      },
      "text/plain": [
       "  0%|          | 0/30 [00:00<?, ?it/s]"
      ]
     },
     "metadata": {},
     "output_type": "display_data"
    },
    {
     "data": {
      "application/vnd.jupyter.widget-view+json": {
       "model_id": "5e47149e0edb495599da4d7b43388ca5",
       "version_major": 2,
       "version_minor": 0
      },
      "text/plain": [
       "  0%|          | 0/30 [00:00<?, ?it/s]"
      ]
     },
     "metadata": {},
     "output_type": "display_data"
    },
    {
     "data": {
      "application/vnd.jupyter.widget-view+json": {
       "model_id": "ca7e1463b5764e90a883e1bdac75962c",
       "version_major": 2,
       "version_minor": 0
      },
      "text/plain": [
       "  0%|          | 0/30 [00:00<?, ?it/s]"
      ]
     },
     "metadata": {},
     "output_type": "display_data"
    },
    {
     "data": {
      "application/vnd.jupyter.widget-view+json": {
       "model_id": "ff7e13e26c31488a83557efba8aacd71",
       "version_major": 2,
       "version_minor": 0
      },
      "text/plain": [
       "  0%|          | 0/30 [00:00<?, ?it/s]"
      ]
     },
     "metadata": {},
     "output_type": "display_data"
    },
    {
     "data": {
      "application/vnd.jupyter.widget-view+json": {
       "model_id": "59ed92139bd745a9b0e90e82f81432e4",
       "version_major": 2,
       "version_minor": 0
      },
      "text/plain": [
       "  0%|          | 0/30 [00:00<?, ?it/s]"
      ]
     },
     "metadata": {},
     "output_type": "display_data"
    },
    {
     "data": {
      "application/vnd.jupyter.widget-view+json": {
       "model_id": "2ac9b885d7c349ccb2ea81b0c963f4cd",
       "version_major": 2,
       "version_minor": 0
      },
      "text/plain": [
       "  0%|          | 0/30 [00:00<?, ?it/s]"
      ]
     },
     "metadata": {},
     "output_type": "display_data"
    },
    {
     "data": {
      "application/vnd.jupyter.widget-view+json": {
       "model_id": "cabd43c9f47f42b89814700d8cd24714",
       "version_major": 2,
       "version_minor": 0
      },
      "text/plain": [
       "  0%|          | 0/30 [00:00<?, ?it/s]"
      ]
     },
     "metadata": {},
     "output_type": "display_data"
    },
    {
     "data": {
      "application/vnd.jupyter.widget-view+json": {
       "model_id": "c17567e42da64706a47017364d1538ca",
       "version_major": 2,
       "version_minor": 0
      },
      "text/plain": [
       "  0%|          | 0/30 [00:00<?, ?it/s]"
      ]
     },
     "metadata": {},
     "output_type": "display_data"
    },
    {
     "data": {
      "application/vnd.jupyter.widget-view+json": {
       "model_id": "74f4c147adf74584915ccb2f6860ba3f",
       "version_major": 2,
       "version_minor": 0
      },
      "text/plain": [
       "  0%|          | 0/30 [00:00<?, ?it/s]"
      ]
     },
     "metadata": {},
     "output_type": "display_data"
    },
    {
     "data": {
      "application/vnd.jupyter.widget-view+json": {
       "model_id": "809cadaab7b341028c394d0908e6aed2",
       "version_major": 2,
       "version_minor": 0
      },
      "text/plain": [
       "  0%|          | 0/30 [00:00<?, ?it/s]"
      ]
     },
     "metadata": {},
     "output_type": "display_data"
    },
    {
     "data": {
      "application/vnd.jupyter.widget-view+json": {
       "model_id": "688bea2d94794e88b9d2e0fcda990698",
       "version_major": 2,
       "version_minor": 0
      },
      "text/plain": [
       "  0%|          | 0/30 [00:00<?, ?it/s]"
      ]
     },
     "metadata": {},
     "output_type": "display_data"
    },
    {
     "data": {
      "application/vnd.jupyter.widget-view+json": {
       "model_id": "1744936862324278a45158858c67630f",
       "version_major": 2,
       "version_minor": 0
      },
      "text/plain": [
       "  0%|          | 0/30 [00:00<?, ?it/s]"
      ]
     },
     "metadata": {},
     "output_type": "display_data"
    },
    {
     "data": {
      "application/vnd.jupyter.widget-view+json": {
       "model_id": "97e65e345117415999b50259b5acabce",
       "version_major": 2,
       "version_minor": 0
      },
      "text/plain": [
       "  0%|          | 0/30 [00:00<?, ?it/s]"
      ]
     },
     "metadata": {},
     "output_type": "display_data"
    },
    {
     "data": {
      "application/vnd.jupyter.widget-view+json": {
       "model_id": "b07e2f48f3c04b408f1b7203f9157287",
       "version_major": 2,
       "version_minor": 0
      },
      "text/plain": [
       "  0%|          | 0/30 [00:00<?, ?it/s]"
      ]
     },
     "metadata": {},
     "output_type": "display_data"
    },
    {
     "data": {
      "application/vnd.jupyter.widget-view+json": {
       "model_id": "c16469c865f44de5bc020d76c13b1a5c",
       "version_major": 2,
       "version_minor": 0
      },
      "text/plain": [
       "  0%|          | 0/30 [00:00<?, ?it/s]"
      ]
     },
     "metadata": {},
     "output_type": "display_data"
    },
    {
     "data": {
      "application/vnd.jupyter.widget-view+json": {
       "model_id": "c369a5bb88034a9b8813564eeed3e1fc",
       "version_major": 2,
       "version_minor": 0
      },
      "text/plain": [
       "  0%|          | 0/30 [00:00<?, ?it/s]"
      ]
     },
     "metadata": {},
     "output_type": "display_data"
    },
    {
     "data": {
      "application/vnd.jupyter.widget-view+json": {
       "model_id": "5f1d42b6539f4e559a565a4b83568994",
       "version_major": 2,
       "version_minor": 0
      },
      "text/plain": [
       "  0%|          | 0/30 [00:00<?, ?it/s]"
      ]
     },
     "metadata": {},
     "output_type": "display_data"
    },
    {
     "data": {
      "application/vnd.jupyter.widget-view+json": {
       "model_id": "8b524b467489444189f557652bd83e62",
       "version_major": 2,
       "version_minor": 0
      },
      "text/plain": [
       "  0%|          | 0/30 [00:00<?, ?it/s]"
      ]
     },
     "metadata": {},
     "output_type": "display_data"
    },
    {
     "data": {
      "application/vnd.jupyter.widget-view+json": {
       "model_id": "a43aeb07230c4867bef2dba1dacf3b50",
       "version_major": 2,
       "version_minor": 0
      },
      "text/plain": [
       "  0%|          | 0/30 [00:00<?, ?it/s]"
      ]
     },
     "metadata": {},
     "output_type": "display_data"
    },
    {
     "data": {
      "application/vnd.jupyter.widget-view+json": {
       "model_id": "1bbfab2cc6c8424aabf6b2472d8ca12c",
       "version_major": 2,
       "version_minor": 0
      },
      "text/plain": [
       "  0%|          | 0/30 [00:00<?, ?it/s]"
      ]
     },
     "metadata": {},
     "output_type": "display_data"
    },
    {
     "data": {
      "application/vnd.jupyter.widget-view+json": {
       "model_id": "11e8311fef94423991738bd58b77ea03",
       "version_major": 2,
       "version_minor": 0
      },
      "text/plain": [
       "  0%|          | 0/30 [00:00<?, ?it/s]"
      ]
     },
     "metadata": {},
     "output_type": "display_data"
    },
    {
     "data": {
      "application/vnd.jupyter.widget-view+json": {
       "model_id": "9562aa442fd84005b3f477752f11baac",
       "version_major": 2,
       "version_minor": 0
      },
      "text/plain": [
       "  0%|          | 0/30 [00:00<?, ?it/s]"
      ]
     },
     "metadata": {},
     "output_type": "display_data"
    },
    {
     "data": {
      "application/vnd.jupyter.widget-view+json": {
       "model_id": "ee143eaf81d54218997b1ab6a5a7651e",
       "version_major": 2,
       "version_minor": 0
      },
      "text/plain": [
       "  0%|          | 0/30 [00:00<?, ?it/s]"
      ]
     },
     "metadata": {},
     "output_type": "display_data"
    },
    {
     "data": {
      "application/vnd.jupyter.widget-view+json": {
       "model_id": "216adb7eee0e4472883a54ef4e1fca80",
       "version_major": 2,
       "version_minor": 0
      },
      "text/plain": [
       "  0%|          | 0/30 [00:00<?, ?it/s]"
      ]
     },
     "metadata": {},
     "output_type": "display_data"
    },
    {
     "data": {
      "application/vnd.jupyter.widget-view+json": {
       "model_id": "c3dd87cc373e48adb882d288a4aed5f5",
       "version_major": 2,
       "version_minor": 0
      },
      "text/plain": [
       "  0%|          | 0/30 [00:00<?, ?it/s]"
      ]
     },
     "metadata": {},
     "output_type": "display_data"
    },
    {
     "data": {
      "application/vnd.jupyter.widget-view+json": {
       "model_id": "4e02f1a728794f4b8c4c69e1014a1ede",
       "version_major": 2,
       "version_minor": 0
      },
      "text/plain": [
       "  0%|          | 0/30 [00:00<?, ?it/s]"
      ]
     },
     "metadata": {},
     "output_type": "display_data"
    },
    {
     "data": {
      "application/vnd.jupyter.widget-view+json": {
       "model_id": "6e502dacf6804481b4c8cbc42c182b11",
       "version_major": 2,
       "version_minor": 0
      },
      "text/plain": [
       "  0%|          | 0/30 [00:00<?, ?it/s]"
      ]
     },
     "metadata": {},
     "output_type": "display_data"
    },
    {
     "data": {
      "application/vnd.jupyter.widget-view+json": {
       "model_id": "f5daddea6e2c4044ab67fabe3c06620d",
       "version_major": 2,
       "version_minor": 0
      },
      "text/plain": [
       "  0%|          | 0/30 [00:00<?, ?it/s]"
      ]
     },
     "metadata": {},
     "output_type": "display_data"
    },
    {
     "data": {
      "application/vnd.jupyter.widget-view+json": {
       "model_id": "41a4954b2aeb48d89fa23f3745d8f347",
       "version_major": 2,
       "version_minor": 0
      },
      "text/plain": [
       "  0%|          | 0/30 [00:00<?, ?it/s]"
      ]
     },
     "metadata": {},
     "output_type": "display_data"
    },
    {
     "data": {
      "application/vnd.jupyter.widget-view+json": {
       "model_id": "6dbabaeb1b1e402bad3e72080ce85ad6",
       "version_major": 2,
       "version_minor": 0
      },
      "text/plain": [
       "  0%|          | 0/30 [00:00<?, ?it/s]"
      ]
     },
     "metadata": {},
     "output_type": "display_data"
    },
    {
     "data": {
      "application/vnd.jupyter.widget-view+json": {
       "model_id": "3ef4ec7a788342f9bd8ec02fcbf5e366",
       "version_major": 2,
       "version_minor": 0
      },
      "text/plain": [
       "  0%|          | 0/30 [00:00<?, ?it/s]"
      ]
     },
     "metadata": {},
     "output_type": "display_data"
    },
    {
     "data": {
      "application/vnd.jupyter.widget-view+json": {
       "model_id": "d9e413150bcf4e939ba2b32a52e6710e",
       "version_major": 2,
       "version_minor": 0
      },
      "text/plain": [
       "  0%|          | 0/30 [00:00<?, ?it/s]"
      ]
     },
     "metadata": {},
     "output_type": "display_data"
    },
    {
     "data": {
      "application/vnd.jupyter.widget-view+json": {
       "model_id": "113520c0ab7b44c1bb48ae6e3dcea34d",
       "version_major": 2,
       "version_minor": 0
      },
      "text/plain": [
       "  0%|          | 0/30 [00:00<?, ?it/s]"
      ]
     },
     "metadata": {},
     "output_type": "display_data"
    },
    {
     "data": {
      "application/vnd.jupyter.widget-view+json": {
       "model_id": "4e698f78fae24888b2f628041533b7a7",
       "version_major": 2,
       "version_minor": 0
      },
      "text/plain": [
       "  0%|          | 0/30 [00:00<?, ?it/s]"
      ]
     },
     "metadata": {},
     "output_type": "display_data"
    },
    {
     "data": {
      "application/vnd.jupyter.widget-view+json": {
       "model_id": "c36441186ffc436992204545ea791772",
       "version_major": 2,
       "version_minor": 0
      },
      "text/plain": [
       "  0%|          | 0/30 [00:00<?, ?it/s]"
      ]
     },
     "metadata": {},
     "output_type": "display_data"
    },
    {
     "data": {
      "application/vnd.jupyter.widget-view+json": {
       "model_id": "ddb3974624e041b48d84667755580443",
       "version_major": 2,
       "version_minor": 0
      },
      "text/plain": [
       "  0%|          | 0/30 [00:00<?, ?it/s]"
      ]
     },
     "metadata": {},
     "output_type": "display_data"
    },
    {
     "data": {
      "application/vnd.jupyter.widget-view+json": {
       "model_id": "c78acac300f04dc38cad0f3a626c9ca9",
       "version_major": 2,
       "version_minor": 0
      },
      "text/plain": [
       "  0%|          | 0/30 [00:00<?, ?it/s]"
      ]
     },
     "metadata": {},
     "output_type": "display_data"
    }
   ],
   "source": [
    "import implicit\n",
    "## will need to tweak the number of latent factors by potentially identifying loss function stability\n",
    "## will need to tweak regularization to tune parameters\n",
    "## user cross validation to tune the optimum factors in model\n",
    "## Reasonable solution usually occurs in 20 iterations or less\n",
    "## Knowing the number of latent or hidden factors influencing the model is impossible. We should\n",
    "## start at 5-10, then increase by 5 until performance of model stops improving\n",
    "from sklearn.model_selection import StratifiedKFold\n",
    "k_latent_factors = [5, 6, 7, 8, 9, 10, 15, 20, 25, 30, 35, 40]\n",
    "regularization_options = [0.02, 0.05, 0.08, 0.1, 0.2, 0.3, 0.4]\n",
    "k_iterations = [3, 6, 9, 12, 15, 18, 20]\n",
    "alpha_options = [30, 35, 40, 45, 50]\n",
    "col_names=['Model', 'Hit Ratio', 'Mean_Avg_Precision', 'Mean_Avg_Recall']\n",
    "x = model_df[['song_id', 'count']].to_numpy()\n",
    "y = model_df[['user_id']].to_numpy()\n",
    "model_evaluation_metrics_df = pd.DataFrame(columns=col_names)\n",
    "n_splits = 5\n",
    "skf = KFold(n_splits=n_splits, shuffle=True, random_state=None)\n",
    "skf.get_n_splits(model_df)\n",
    "MAP = 0\n",
    "for k in k_latent_factors:\n",
    "    for i in regularization_options:\n",
    "        for m in alpha_options:\n",
    "            for train_index, test_index in skf.split(x, y):\n",
    "                x_train, x_test = x[train_index], x[test_index]\n",
    "                y_train, y_test = y[train_index], y[test_index]\n",
    "                song_info = x_train[:,0]\n",
    "                count_info = x_train[:,1]\n",
    "                sparse_content_user = sparse.csr_matrix((count_info.astype(float), (song_info, y_train.flatten())))\n",
    "                sparse_user_content = sparse.csr_matrix((count_info.astype(float),(y_train.flatten(), song_info)))\n",
    "                model = implicit.als.AlternatingLeastSquares(factors=k, regularization=i, iterations=30)\n",
    "                model.show_progress = False\n",
    "                alpha = m\n",
    "                data = (sparse_content_user*alpha).astype('double')\n",
    "                model.fit(data)\n",
    "                model_results = pd.DataFrame(data=x_test, columns=[\"song_id\", 'count'])\n",
    "                model_results['user_id']=pd.Series(y_test.flatten())\n",
    "                model_results['predicted'] = model_results.apply(lambda row: model.recommend(row.user_id, sparse_user_content, N=10), axis=1)\n",
    "                model_results['hits'] = model_results.apply(lambda row:[i for i in row['predicted'] if row['song_id'] in i], axis=1)\n",
    "                model_results['hit'] = model_results.apply(lambda row: len(row['hits'])>0, axis=1)\n",
    "                hits = len(model_results[model_results.hit==True])\n",
    "                total = len(model_results)\n",
    "                hit_ratio = hits/total\n",
    "                user_actions = model_results.groupby('user_id').count()\n",
    "                accurate_recommendations = model_results.groupby('user_id').sum()\n",
    "                user_actions=user_actions[['song_id']]\n",
    "                accurate_recommendations = accurate_recommendations[['hit']]\n",
    "                metrics = user_actions.merge(accurate_recommendations, left_index=True, right_index=True)\n",
    "                metrics['precision'] = metrics.hit/metrics.song_id\n",
    "                metrics['recall'] = metrics.hit/10\n",
    "                mean_average_precision = metrics.precision.mean()\n",
    "                mean_average_recall = metrics.recall.mean()\n",
    "                model_name = \"factors:\" + str(k) + \" l2: \" + str(i) + \" alpha\" + str(m)\n",
    "                instance = {'Model': model_name, 'Hit Ratio': hit_ratio, 'Mean_Avg_Precision': mean_average_precision, 'Mean_Avg_Recall': mean_average_recall}\n",
    "                model_evaluation_metrics_df = model_evaluation_metrics_df.append(instance, ignore_index=True)"
   ]
  },
  {
   "cell_type": "code",
   "execution_count": 116,
   "id": "0defb67a-4a2f-4a5f-95ff-5d72e7621cbc",
   "metadata": {},
   "outputs": [
    {
     "data": {
      "text/html": [
       "<div>\n",
       "<style scoped>\n",
       "    .dataframe tbody tr th:only-of-type {\n",
       "        vertical-align: middle;\n",
       "    }\n",
       "\n",
       "    .dataframe tbody tr th {\n",
       "        vertical-align: top;\n",
       "    }\n",
       "\n",
       "    .dataframe thead th {\n",
       "        text-align: right;\n",
       "    }\n",
       "</style>\n",
       "<table border=\"1\" class=\"dataframe\">\n",
       "  <thead>\n",
       "    <tr style=\"text-align: right;\">\n",
       "      <th></th>\n",
       "      <th>Model</th>\n",
       "      <th>Hit Ratio</th>\n",
       "      <th>Mean_Avg_Precision</th>\n",
       "      <th>Mean_Avg_Recall</th>\n",
       "    </tr>\n",
       "  </thead>\n",
       "  <tbody>\n",
       "    <tr>\n",
       "      <th>0</th>\n",
       "      <td>factors:10 l2: 0.02 alpha40</td>\n",
       "      <td>0.285185</td>\n",
       "      <td>0.292011</td>\n",
       "      <td>0.050557</td>\n",
       "    </tr>\n",
       "    <tr>\n",
       "      <th>1</th>\n",
       "      <td>factors:10 l2: 0.02 alpha40</td>\n",
       "      <td>0.288462</td>\n",
       "      <td>0.297038</td>\n",
       "      <td>0.050893</td>\n",
       "    </tr>\n",
       "    <tr>\n",
       "      <th>2</th>\n",
       "      <td>factors:10 l2: 0.02 alpha40</td>\n",
       "      <td>0.292973</td>\n",
       "      <td>0.299281</td>\n",
       "      <td>0.051615</td>\n",
       "    </tr>\n",
       "    <tr>\n",
       "      <th>3</th>\n",
       "      <td>factors:10 l2: 0.02 alpha40</td>\n",
       "      <td>0.288405</td>\n",
       "      <td>0.294355</td>\n",
       "      <td>0.051154</td>\n",
       "    </tr>\n",
       "    <tr>\n",
       "      <th>4</th>\n",
       "      <td>factors:10 l2: 0.02 alpha40</td>\n",
       "      <td>0.290656</td>\n",
       "      <td>0.296247</td>\n",
       "      <td>0.051435</td>\n",
       "    </tr>\n",
       "  </tbody>\n",
       "</table>\n",
       "</div>"
      ],
      "text/plain": [
       "                         Model  Hit Ratio  Mean_Avg_Precision  Mean_Avg_Recall\n",
       "0  factors:10 l2: 0.02 alpha40  0.285185   0.292011            0.050557       \n",
       "1  factors:10 l2: 0.02 alpha40  0.288462   0.297038            0.050893       \n",
       "2  factors:10 l2: 0.02 alpha40  0.292973   0.299281            0.051615       \n",
       "3  factors:10 l2: 0.02 alpha40  0.288405   0.294355            0.051154       \n",
       "4  factors:10 l2: 0.02 alpha40  0.290656   0.296247            0.051435       "
      ]
     },
     "execution_count": 116,
     "metadata": {},
     "output_type": "execute_result"
    }
   ],
   "source": []
  },
  {
   "cell_type": "markdown",
   "id": "334b511e-c833-4036-ab2d-a8efb0736416",
   "metadata": {},
   "source": [
    "Link to help explain confidence and alpha's impact on confidence:\n",
    "https://stats.stackexchange.com/questions/155296/alternating-least-squares-als-why-two-different-kinds-of-setting-for-lambd"
   ]
  },
  {
   "cell_type": "code",
   "execution_count": 29,
   "id": "62f30e06-3ac0-434b-b5bd-849c4cc98e4d",
   "metadata": {},
   "outputs": [
    {
     "data": {
      "application/vnd.jupyter.widget-view+json": {
       "model_id": "b90931ccad7942c79ff678f4c5a2917c",
       "version_major": 2,
       "version_minor": 0
      },
      "text/plain": [
       "  0%|          | 0/20 [00:00<?, ?it/s]"
      ]
     },
     "metadata": {},
     "output_type": "display_data"
    }
   ],
   "source": [
    "## The paper used to develop ALS used alpha of 40\n",
    "alpha = 40\n",
    "data = (sparse_content_user*alpha).astype('double')\n",
    "model.fit(data)"
   ]
  },
  {
   "cell_type": "code",
   "execution_count": 30,
   "id": "a9549cdd-b429-4e70-93b7-011ffb6e9116",
   "metadata": {},
   "outputs": [
    {
     "name": "stdout",
     "output_type": "stream",
     "text": [
      "[(693, 0.79169756), (1722, 0.71202666), (203, 0.70730686), (2730, 0.6374319), (2942, 0.63132167)]\n"
     ]
    }
   ],
   "source": [
    "## Obtain recommendations for a given user\n",
    "user_id = 350627\n",
    "recommended = model.recommend(user_id, sparse_user_content, N=5)\n",
    "print(recommended)"
   ]
  },
  {
   "cell_type": "code",
   "execution_count": 31,
   "id": "1d50112d-16dc-47e0-bcc5-9d7b3d41e3d0",
   "metadata": {},
   "outputs": [
    {
     "name": "stdout",
     "output_type": "stream",
     "text": [
      "[(2918, 0.99999994), (162, 0.8860025), (227, 0.8719206)]\n"
     ]
    }
   ],
   "source": [
    "## Get similar items\n",
    "\n",
    "song_id=2918\n",
    "n_similar = 3\n",
    "similar = model.similar_items(song_id, n_similar)\n",
    "print(similar)"
   ]
  },
  {
   "cell_type": "markdown",
   "id": "e44b7774-8fc2-4d93-8af6-aec1a9fa0a14",
   "metadata": {},
   "source": [
    "https://campus.datacamp.com/courses/recommendation-engines-in-pyspark/what-if-you-dont-have-customer-ratings?ex=6"
   ]
  },
  {
   "cell_type": "code",
   "execution_count": null,
   "id": "45867049-1c8e-4b53-a468-fc5a65240bca",
   "metadata": {},
   "outputs": [],
   "source": [
    "#Use ROEM as evaluation metric"
   ]
  }
 ],
 "metadata": {
  "kernelspec": {
   "display_name": "Python 3",
   "language": "python",
   "name": "python3"
  },
  "language_info": {
   "codemirror_mode": {
    "name": "ipython",
    "version": 3
   },
   "file_extension": ".py",
   "mimetype": "text/x-python",
   "name": "python",
   "nbconvert_exporter": "python",
   "pygments_lexer": "ipython3",
   "version": "3.8.10"
  }
 },
 "nbformat": 4,
 "nbformat_minor": 5
}

{
 "cells": [
  {
   "cell_type": "code",
   "execution_count": 1,
   "id": "d0886dad-05aa-4a96-b8f7-d0ced5a7aa24",
   "metadata": {},
   "outputs": [],
   "source": [
    "import numpy as np\n",
    "import pandas as pd"
   ]
  },
  {
   "cell_type": "code",
   "execution_count": 2,
   "id": "808c24cd-111f-4067-9982-23c338e08627",
   "metadata": {},
   "outputs": [],
   "source": [
    "reldir = 'C:\\\\Users\\\\shefa\\\\OneDrive\\\\CS6220\\\\msd.recsys\\\\datasets\\\\'"
   ]
  },
  {
   "cell_type": "code",
   "execution_count": 3,
   "id": "c9d62b15-1fd3-483d-a468-a1759314a565",
   "metadata": {},
   "outputs": [],
   "source": [
    "standardized_df = pd.read_pickle(reldir + 'combined.csv', compression='zip')"
   ]
  },
  {
   "cell_type": "code",
   "execution_count": 4,
   "id": "3d6ec025-81e2-4ec6-882a-06f9f14720a3",
   "metadata": {
    "tags": []
   },
   "outputs": [],
   "source": [
    "master_df = pd.read_pickle(reldir + 'songdata.csv', compression='zip')"
   ]
  },
  {
   "cell_type": "code",
   "execution_count": 5,
   "id": "1851b0b7-64ef-4eee-8094-c704e17ac028",
   "metadata": {},
   "outputs": [
    {
     "data": {
      "text/html": [
       "<div>\n",
       "<style scoped>\n",
       "    .dataframe tbody tr th:only-of-type {\n",
       "        vertical-align: middle;\n",
       "    }\n",
       "\n",
       "    .dataframe tbody tr th {\n",
       "        vertical-align: top;\n",
       "    }\n",
       "\n",
       "    .dataframe thead th {\n",
       "        text-align: right;\n",
       "    }\n",
       "</style>\n",
       "<table border=\"1\" class=\"dataframe\">\n",
       "  <thead>\n",
       "    <tr style=\"text-align: right;\">\n",
       "      <th></th>\n",
       "      <th>user</th>\n",
       "      <th>song</th>\n",
       "      <th>count</th>\n",
       "      <th>analysis_songs_track_id</th>\n",
       "      <th>metadata_songs_artist_id</th>\n",
       "      <th>metadata_songs_song_id</th>\n",
       "      <th>analysis_songs_key</th>\n",
       "      <th>analysis_songs_key_confidence</th>\n",
       "      <th>analysis_songs_mode</th>\n",
       "      <th>analysis_songs_mode_confidence</th>\n",
       "      <th>...</th>\n",
       "      <th>tempo_binned</th>\n",
       "      <th>analysis_songs_duration</th>\n",
       "      <th>metadata_songs_artist_familiarity</th>\n",
       "      <th>metadata_songs_artist_hotttnesss</th>\n",
       "      <th>metadata_songs_song_hotttnesss</th>\n",
       "      <th>metadata_artist_terms</th>\n",
       "      <th>metadata_songs_artist_name</th>\n",
       "      <th>metadata_songs_release</th>\n",
       "      <th>metadata_songs_title</th>\n",
       "      <th>musicbrainz_artist_mbtags</th>\n",
       "    </tr>\n",
       "  </thead>\n",
       "  <tbody>\n",
       "    <tr>\n",
       "      <th>0</th>\n",
       "      <td>b80344d063b5ccb3212f76538f3d9e43d87dca9e</td>\n",
       "      <td>SOWEZSI12A81C21CE6</td>\n",
       "      <td>1</td>\n",
       "      <td>TRAUCNU128F42671EB</td>\n",
       "      <td>AR2UQQ51187B9AC816</td>\n",
       "      <td>SOWEZSI12A81C21CE6</td>\n",
       "      <td>5</td>\n",
       "      <td>0.351</td>\n",
       "      <td>0</td>\n",
       "      <td>0.318</td>\n",
       "      <td>...</td>\n",
       "      <td>8</td>\n",
       "      <td>-0.280898</td>\n",
       "      <td>0.732042</td>\n",
       "      <td>1.243373</td>\n",
       "      <td>5.09644</td>\n",
       "      <td>b'flamenco'|b'soundtrack'|b'folk'|b'spanish'|b...</td>\n",
       "      <td>Gipsy Kings</td>\n",
       "      <td>Greatest Hits</td>\n",
       "      <td>Tu Quieres Volver</td>\n",
       "      <td>b'classic pop and rock'|b'folk'</td>\n",
       "    </tr>\n",
       "    <tr>\n",
       "      <th>1</th>\n",
       "      <td>833c530ecda3d99deb8395f70400aa3999783d91</td>\n",
       "      <td>SOWEZSI12A81C21CE6</td>\n",
       "      <td>2</td>\n",
       "      <td>TRAUCNU128F42671EB</td>\n",
       "      <td>AR2UQQ51187B9AC816</td>\n",
       "      <td>SOWEZSI12A81C21CE6</td>\n",
       "      <td>5</td>\n",
       "      <td>0.351</td>\n",
       "      <td>0</td>\n",
       "      <td>0.318</td>\n",
       "      <td>...</td>\n",
       "      <td>8</td>\n",
       "      <td>-0.280898</td>\n",
       "      <td>0.732042</td>\n",
       "      <td>1.243373</td>\n",
       "      <td>5.09644</td>\n",
       "      <td>b'flamenco'|b'soundtrack'|b'folk'|b'spanish'|b...</td>\n",
       "      <td>Gipsy Kings</td>\n",
       "      <td>Greatest Hits</td>\n",
       "      <td>Tu Quieres Volver</td>\n",
       "      <td>b'classic pop and rock'|b'folk'</td>\n",
       "    </tr>\n",
       "    <tr>\n",
       "      <th>2</th>\n",
       "      <td>d6c5bd2b570b4faf8964d7ed04f3392ff505d2be</td>\n",
       "      <td>SOWEZSI12A81C21CE6</td>\n",
       "      <td>1</td>\n",
       "      <td>TRAUCNU128F42671EB</td>\n",
       "      <td>AR2UQQ51187B9AC816</td>\n",
       "      <td>SOWEZSI12A81C21CE6</td>\n",
       "      <td>5</td>\n",
       "      <td>0.351</td>\n",
       "      <td>0</td>\n",
       "      <td>0.318</td>\n",
       "      <td>...</td>\n",
       "      <td>8</td>\n",
       "      <td>-0.280898</td>\n",
       "      <td>0.732042</td>\n",
       "      <td>1.243373</td>\n",
       "      <td>5.09644</td>\n",
       "      <td>b'flamenco'|b'soundtrack'|b'folk'|b'spanish'|b...</td>\n",
       "      <td>Gipsy Kings</td>\n",
       "      <td>Greatest Hits</td>\n",
       "      <td>Tu Quieres Volver</td>\n",
       "      <td>b'classic pop and rock'|b'folk'</td>\n",
       "    </tr>\n",
       "    <tr>\n",
       "      <th>3</th>\n",
       "      <td>724534729c9f5dc72a009269c2c225883e4775d2</td>\n",
       "      <td>SOWEZSI12A81C21CE6</td>\n",
       "      <td>1</td>\n",
       "      <td>TRAUCNU128F42671EB</td>\n",
       "      <td>AR2UQQ51187B9AC816</td>\n",
       "      <td>SOWEZSI12A81C21CE6</td>\n",
       "      <td>5</td>\n",
       "      <td>0.351</td>\n",
       "      <td>0</td>\n",
       "      <td>0.318</td>\n",
       "      <td>...</td>\n",
       "      <td>8</td>\n",
       "      <td>-0.280898</td>\n",
       "      <td>0.732042</td>\n",
       "      <td>1.243373</td>\n",
       "      <td>5.09644</td>\n",
       "      <td>b'flamenco'|b'soundtrack'|b'folk'|b'spanish'|b...</td>\n",
       "      <td>Gipsy Kings</td>\n",
       "      <td>Greatest Hits</td>\n",
       "      <td>Tu Quieres Volver</td>\n",
       "      <td>b'classic pop and rock'|b'folk'</td>\n",
       "    </tr>\n",
       "    <tr>\n",
       "      <th>4</th>\n",
       "      <td>ee7aa84c164038c963cfd02a7e52a5598aa470c3</td>\n",
       "      <td>SOWEZSI12A81C21CE6</td>\n",
       "      <td>2</td>\n",
       "      <td>TRAUCNU128F42671EB</td>\n",
       "      <td>AR2UQQ51187B9AC816</td>\n",
       "      <td>SOWEZSI12A81C21CE6</td>\n",
       "      <td>5</td>\n",
       "      <td>0.351</td>\n",
       "      <td>0</td>\n",
       "      <td>0.318</td>\n",
       "      <td>...</td>\n",
       "      <td>8</td>\n",
       "      <td>-0.280898</td>\n",
       "      <td>0.732042</td>\n",
       "      <td>1.243373</td>\n",
       "      <td>5.09644</td>\n",
       "      <td>b'flamenco'|b'soundtrack'|b'folk'|b'spanish'|b...</td>\n",
       "      <td>Gipsy Kings</td>\n",
       "      <td>Greatest Hits</td>\n",
       "      <td>Tu Quieres Volver</td>\n",
       "      <td>b'classic pop and rock'|b'folk'</td>\n",
       "    </tr>\n",
       "  </tbody>\n",
       "</table>\n",
       "<p>5 rows × 27 columns</p>\n",
       "</div>"
      ],
      "text/plain": [
       "                                       user                song  count  \\\n",
       "0  b80344d063b5ccb3212f76538f3d9e43d87dca9e  SOWEZSI12A81C21CE6      1   \n",
       "1  833c530ecda3d99deb8395f70400aa3999783d91  SOWEZSI12A81C21CE6      2   \n",
       "2  d6c5bd2b570b4faf8964d7ed04f3392ff505d2be  SOWEZSI12A81C21CE6      1   \n",
       "3  724534729c9f5dc72a009269c2c225883e4775d2  SOWEZSI12A81C21CE6      1   \n",
       "4  ee7aa84c164038c963cfd02a7e52a5598aa470c3  SOWEZSI12A81C21CE6      2   \n",
       "\n",
       "  analysis_songs_track_id metadata_songs_artist_id metadata_songs_song_id  \\\n",
       "0      TRAUCNU128F42671EB       AR2UQQ51187B9AC816     SOWEZSI12A81C21CE6   \n",
       "1      TRAUCNU128F42671EB       AR2UQQ51187B9AC816     SOWEZSI12A81C21CE6   \n",
       "2      TRAUCNU128F42671EB       AR2UQQ51187B9AC816     SOWEZSI12A81C21CE6   \n",
       "3      TRAUCNU128F42671EB       AR2UQQ51187B9AC816     SOWEZSI12A81C21CE6   \n",
       "4      TRAUCNU128F42671EB       AR2UQQ51187B9AC816     SOWEZSI12A81C21CE6   \n",
       "\n",
       "   analysis_songs_key  analysis_songs_key_confidence  analysis_songs_mode  \\\n",
       "0                   5                          0.351                    0   \n",
       "1                   5                          0.351                    0   \n",
       "2                   5                          0.351                    0   \n",
       "3                   5                          0.351                    0   \n",
       "4                   5                          0.351                    0   \n",
       "\n",
       "   analysis_songs_mode_confidence  ...  tempo_binned  analysis_songs_duration  \\\n",
       "0                           0.318  ...             8                -0.280898   \n",
       "1                           0.318  ...             8                -0.280898   \n",
       "2                           0.318  ...             8                -0.280898   \n",
       "3                           0.318  ...             8                -0.280898   \n",
       "4                           0.318  ...             8                -0.280898   \n",
       "\n",
       "   metadata_songs_artist_familiarity  metadata_songs_artist_hotttnesss  \\\n",
       "0                           0.732042                          1.243373   \n",
       "1                           0.732042                          1.243373   \n",
       "2                           0.732042                          1.243373   \n",
       "3                           0.732042                          1.243373   \n",
       "4                           0.732042                          1.243373   \n",
       "\n",
       "   metadata_songs_song_hotttnesss  \\\n",
       "0                         5.09644   \n",
       "1                         5.09644   \n",
       "2                         5.09644   \n",
       "3                         5.09644   \n",
       "4                         5.09644   \n",
       "\n",
       "                               metadata_artist_terms  \\\n",
       "0  b'flamenco'|b'soundtrack'|b'folk'|b'spanish'|b...   \n",
       "1  b'flamenco'|b'soundtrack'|b'folk'|b'spanish'|b...   \n",
       "2  b'flamenco'|b'soundtrack'|b'folk'|b'spanish'|b...   \n",
       "3  b'flamenco'|b'soundtrack'|b'folk'|b'spanish'|b...   \n",
       "4  b'flamenco'|b'soundtrack'|b'folk'|b'spanish'|b...   \n",
       "\n",
       "   metadata_songs_artist_name  metadata_songs_release  metadata_songs_title  \\\n",
       "0                 Gipsy Kings           Greatest Hits     Tu Quieres Volver   \n",
       "1                 Gipsy Kings           Greatest Hits     Tu Quieres Volver   \n",
       "2                 Gipsy Kings           Greatest Hits     Tu Quieres Volver   \n",
       "3                 Gipsy Kings           Greatest Hits     Tu Quieres Volver   \n",
       "4                 Gipsy Kings           Greatest Hits     Tu Quieres Volver   \n",
       "\n",
       "         musicbrainz_artist_mbtags  \n",
       "0  b'classic pop and rock'|b'folk'  \n",
       "1  b'classic pop and rock'|b'folk'  \n",
       "2  b'classic pop and rock'|b'folk'  \n",
       "3  b'classic pop and rock'|b'folk'  \n",
       "4  b'classic pop and rock'|b'folk'  \n",
       "\n",
       "[5 rows x 27 columns]"
      ]
     },
     "execution_count": 5,
     "metadata": {},
     "output_type": "execute_result"
    }
   ],
   "source": [
    "standardized_df.head()"
   ]
  },
  {
   "cell_type": "markdown",
   "id": "c650148f-5820-4072-9b33-d9d8cba13e54",
   "metadata": {},
   "source": [
    "https://jessesw.com/Rec-System/"
   ]
  },
  {
   "cell_type": "markdown",
   "id": "9debd100-883b-4655-beca-cd8f1a21ee80",
   "metadata": {},
   "source": [
    "https://towardsdatascience.com/building-a-collaborative-filtering-recommender-system-with-clickstream-data-dffc86c8c65"
   ]
  },
  {
   "cell_type": "markdown",
   "id": "ac23d561-4e60-4fb7-a8e8-e18494c87a9e",
   "metadata": {},
   "source": [
    "## Attempt 1 Using jessesw.com"
   ]
  },
  {
   "cell_type": "code",
   "execution_count": 6,
   "id": "511cb8b7-4ff7-41b4-bb07-b1a8fe00c418",
   "metadata": {},
   "outputs": [
    {
     "data": {
      "text/html": [
       "<div>\n",
       "<style scoped>\n",
       "    .dataframe tbody tr th:only-of-type {\n",
       "        vertical-align: middle;\n",
       "    }\n",
       "\n",
       "    .dataframe tbody tr th {\n",
       "        vertical-align: top;\n",
       "    }\n",
       "\n",
       "    .dataframe thead th {\n",
       "        text-align: right;\n",
       "    }\n",
       "</style>\n",
       "<table border=\"1\" class=\"dataframe\">\n",
       "  <thead>\n",
       "    <tr style=\"text-align: right;\">\n",
       "      <th></th>\n",
       "      <th>count</th>\n",
       "      <th>analysis_songs_key</th>\n",
       "      <th>analysis_songs_key_confidence</th>\n",
       "      <th>analysis_songs_mode</th>\n",
       "      <th>analysis_songs_mode_confidence</th>\n",
       "      <th>analysis_songs_tempo</th>\n",
       "      <th>analysis_songs_time_signature</th>\n",
       "      <th>analysis_songs_time_signature_confidence</th>\n",
       "      <th>musicbrainz_songs_year</th>\n",
       "      <th>years_binned</th>\n",
       "      <th>tempo_binned</th>\n",
       "      <th>analysis_songs_duration</th>\n",
       "      <th>metadata_songs_artist_familiarity</th>\n",
       "      <th>metadata_songs_artist_hotttnesss</th>\n",
       "      <th>metadata_songs_song_hotttnesss</th>\n",
       "    </tr>\n",
       "  </thead>\n",
       "  <tbody>\n",
       "    <tr>\n",
       "      <th>count</th>\n",
       "      <td>772661.000000</td>\n",
       "      <td>772661.000000</td>\n",
       "      <td>772661.000000</td>\n",
       "      <td>772661.000000</td>\n",
       "      <td>772661.000000</td>\n",
       "      <td>772661.000000</td>\n",
       "      <td>772661.000000</td>\n",
       "      <td>772661.000000</td>\n",
       "      <td>772661.000000</td>\n",
       "      <td>772661.000000</td>\n",
       "      <td>772661.000000</td>\n",
       "      <td>772661.000000</td>\n",
       "      <td>772661.000000</td>\n",
       "      <td>772661.000000</td>\n",
       "      <td>772661.000000</td>\n",
       "    </tr>\n",
       "    <tr>\n",
       "      <th>mean</th>\n",
       "      <td>2.684340</td>\n",
       "      <td>5.673522</td>\n",
       "      <td>0.432972</td>\n",
       "      <td>0.637005</td>\n",
       "      <td>0.489415</td>\n",
       "      <td>126.560860</td>\n",
       "      <td>3.730847</td>\n",
       "      <td>0.626652</td>\n",
       "      <td>1543.714245</td>\n",
       "      <td>2.646629</td>\n",
       "      <td>4.783883</td>\n",
       "      <td>0.158297</td>\n",
       "      <td>1.137810</td>\n",
       "      <td>1.828713</td>\n",
       "      <td>3.760755</td>\n",
       "    </tr>\n",
       "    <tr>\n",
       "      <th>std</th>\n",
       "      <td>5.454646</td>\n",
       "      <td>3.615617</td>\n",
       "      <td>0.270784</td>\n",
       "      <td>0.480864</td>\n",
       "      <td>0.165614</td>\n",
       "      <td>31.789887</td>\n",
       "      <td>1.021593</td>\n",
       "      <td>0.361508</td>\n",
       "      <td>839.540567</td>\n",
       "      <td>1.620828</td>\n",
       "      <td>2.637524</td>\n",
       "      <td>0.801748</td>\n",
       "      <td>0.594691</td>\n",
       "      <td>1.180343</td>\n",
       "      <td>2.317352</td>\n",
       "    </tr>\n",
       "    <tr>\n",
       "      <th>min</th>\n",
       "      <td>1.000000</td>\n",
       "      <td>0.000000</td>\n",
       "      <td>0.000000</td>\n",
       "      <td>0.000000</td>\n",
       "      <td>0.000000</td>\n",
       "      <td>0.000000</td>\n",
       "      <td>0.000000</td>\n",
       "      <td>0.000000</td>\n",
       "      <td>0.000000</td>\n",
       "      <td>0.000000</td>\n",
       "      <td>0.000000</td>\n",
       "      <td>-2.151904</td>\n",
       "      <td>-2.813196</td>\n",
       "      <td>-2.960846</td>\n",
       "      <td>-4.007280</td>\n",
       "    </tr>\n",
       "    <tr>\n",
       "      <th>25%</th>\n",
       "      <td>1.000000</td>\n",
       "      <td>2.000000</td>\n",
       "      <td>0.222000</td>\n",
       "      <td>0.000000</td>\n",
       "      <td>0.397000</td>\n",
       "      <td>102.984000</td>\n",
       "      <td>4.000000</td>\n",
       "      <td>0.358000</td>\n",
       "      <td>1977.000000</td>\n",
       "      <td>1.000000</td>\n",
       "      <td>3.000000</td>\n",
       "      <td>-0.228571</td>\n",
       "      <td>0.847774</td>\n",
       "      <td>1.077402</td>\n",
       "      <td>2.414042</td>\n",
       "    </tr>\n",
       "    <tr>\n",
       "      <th>50%</th>\n",
       "      <td>1.000000</td>\n",
       "      <td>6.000000</td>\n",
       "      <td>0.437000</td>\n",
       "      <td>1.000000</td>\n",
       "      <td>0.480000</td>\n",
       "      <td>121.884000</td>\n",
       "      <td>4.000000</td>\n",
       "      <td>0.742000</td>\n",
       "      <td>2000.000000</td>\n",
       "      <td>3.000000</td>\n",
       "      <td>5.000000</td>\n",
       "      <td>0.052587</td>\n",
       "      <td>1.298247</td>\n",
       "      <td>1.707256</td>\n",
       "      <td>4.332809</td>\n",
       "    </tr>\n",
       "    <tr>\n",
       "      <th>75%</th>\n",
       "      <td>2.000000</td>\n",
       "      <td>9.000000</td>\n",
       "      <td>0.630000</td>\n",
       "      <td>1.000000</td>\n",
       "      <td>0.596000</td>\n",
       "      <td>146.022000</td>\n",
       "      <td>4.000000</td>\n",
       "      <td>0.994000</td>\n",
       "      <td>2006.000000</td>\n",
       "      <td>4.000000</td>\n",
       "      <td>7.000000</td>\n",
       "      <td>0.464172</td>\n",
       "      <td>1.572213</td>\n",
       "      <td>2.589013</td>\n",
       "      <td>5.325418</td>\n",
       "    </tr>\n",
       "    <tr>\n",
       "      <th>max</th>\n",
       "      <td>771.000000</td>\n",
       "      <td>11.000000</td>\n",
       "      <td>1.000000</td>\n",
       "      <td>1.000000</td>\n",
       "      <td>1.000000</td>\n",
       "      <td>253.357000</td>\n",
       "      <td>7.000000</td>\n",
       "      <td>1.000000</td>\n",
       "      <td>2010.000000</td>\n",
       "      <td>4.000000</td>\n",
       "      <td>9.000000</td>\n",
       "      <td>14.586918</td>\n",
       "      <td>2.176964</td>\n",
       "      <td>5.457244</td>\n",
       "      <td>7.681827</td>\n",
       "    </tr>\n",
       "  </tbody>\n",
       "</table>\n",
       "</div>"
      ],
      "text/plain": [
       "               count  analysis_songs_key  analysis_songs_key_confidence  \\\n",
       "count  772661.000000       772661.000000                  772661.000000   \n",
       "mean        2.684340            5.673522                       0.432972   \n",
       "std         5.454646            3.615617                       0.270784   \n",
       "min         1.000000            0.000000                       0.000000   \n",
       "25%         1.000000            2.000000                       0.222000   \n",
       "50%         1.000000            6.000000                       0.437000   \n",
       "75%         2.000000            9.000000                       0.630000   \n",
       "max       771.000000           11.000000                       1.000000   \n",
       "\n",
       "       analysis_songs_mode  analysis_songs_mode_confidence  \\\n",
       "count        772661.000000                   772661.000000   \n",
       "mean              0.637005                        0.489415   \n",
       "std               0.480864                        0.165614   \n",
       "min               0.000000                        0.000000   \n",
       "25%               0.000000                        0.397000   \n",
       "50%               1.000000                        0.480000   \n",
       "75%               1.000000                        0.596000   \n",
       "max               1.000000                        1.000000   \n",
       "\n",
       "       analysis_songs_tempo  analysis_songs_time_signature  \\\n",
       "count         772661.000000                  772661.000000   \n",
       "mean             126.560860                       3.730847   \n",
       "std               31.789887                       1.021593   \n",
       "min                0.000000                       0.000000   \n",
       "25%              102.984000                       4.000000   \n",
       "50%              121.884000                       4.000000   \n",
       "75%              146.022000                       4.000000   \n",
       "max              253.357000                       7.000000   \n",
       "\n",
       "       analysis_songs_time_signature_confidence  musicbrainz_songs_year  \\\n",
       "count                             772661.000000           772661.000000   \n",
       "mean                                   0.626652             1543.714245   \n",
       "std                                    0.361508              839.540567   \n",
       "min                                    0.000000                0.000000   \n",
       "25%                                    0.358000             1977.000000   \n",
       "50%                                    0.742000             2000.000000   \n",
       "75%                                    0.994000             2006.000000   \n",
       "max                                    1.000000             2010.000000   \n",
       "\n",
       "        years_binned   tempo_binned  analysis_songs_duration  \\\n",
       "count  772661.000000  772661.000000            772661.000000   \n",
       "mean        2.646629       4.783883                 0.158297   \n",
       "std         1.620828       2.637524                 0.801748   \n",
       "min         0.000000       0.000000                -2.151904   \n",
       "25%         1.000000       3.000000                -0.228571   \n",
       "50%         3.000000       5.000000                 0.052587   \n",
       "75%         4.000000       7.000000                 0.464172   \n",
       "max         4.000000       9.000000                14.586918   \n",
       "\n",
       "       metadata_songs_artist_familiarity  metadata_songs_artist_hotttnesss  \\\n",
       "count                      772661.000000                     772661.000000   \n",
       "mean                            1.137810                          1.828713   \n",
       "std                             0.594691                          1.180343   \n",
       "min                            -2.813196                         -2.960846   \n",
       "25%                             0.847774                          1.077402   \n",
       "50%                             1.298247                          1.707256   \n",
       "75%                             1.572213                          2.589013   \n",
       "max                             2.176964                          5.457244   \n",
       "\n",
       "       metadata_songs_song_hotttnesss  \n",
       "count                   772661.000000  \n",
       "mean                         3.760755  \n",
       "std                          2.317352  \n",
       "min                         -4.007280  \n",
       "25%                          2.414042  \n",
       "50%                          4.332809  \n",
       "75%                          5.325418  \n",
       "max                          7.681827  "
      ]
     },
     "execution_count": 6,
     "metadata": {},
     "output_type": "execute_result"
    }
   ],
   "source": [
    "## Check that all counts in dataset are 1 or greater\n",
    "standardized_df.describe()"
   ]
  },
  {
   "cell_type": "code",
   "execution_count": 7,
   "id": "42c1bd87-868b-4781-8e3e-121b18a6d1bc",
   "metadata": {},
   "outputs": [],
   "source": [
    "## Get our unique users\n",
    "users = list(np.sort(standardized_df.user.unique()))\n",
    "## Get our unique songs\n",
    "songs = list(standardized_df.song.unique())\n",
    "## Get counts of songs listened to\n",
    "song_count = list(standardized_df['count'])"
   ]
  },
  {
   "cell_type": "code",
   "execution_count": 8,
   "id": "1a2ec133-d133-4842-9467-5d6e622f537a",
   "metadata": {},
   "outputs": [],
   "source": [
    "import scipy.sparse as sparse\n",
    "from scipy.sparse.linalg import spsolve\n",
    "\n",
    "## Get associated row indices\n",
    "rows = pd.Categorical(standardized_df.user, categories=users).codes\n",
    "## Get associated column indices\n",
    "cols = pd.Categorical(standardized_df.song, categories=songs).codes\n",
    "matrix = sparse.csr_matrix((song_count, (rows, cols)), shape=(len(users), len(songs)))"
   ]
  },
  {
   "cell_type": "code",
   "execution_count": 9,
   "id": "e7e1c57e-5d28-486f-8b18-a03fcd5d0d46",
   "metadata": {},
   "outputs": [
    {
     "data": {
      "text/plain": [
       "<418252x3675 sparse matrix of type '<class 'numpy.intc'>'\n",
       "\twith 772661 stored elements in Compressed Sparse Row format>"
      ]
     },
     "execution_count": 9,
     "metadata": {},
     "output_type": "execute_result"
    }
   ],
   "source": [
    "matrix"
   ]
  },
  {
   "cell_type": "markdown",
   "id": "808d47cd-7d8f-4e2e-9d13-9be9c1a0003b",
   "metadata": {},
   "source": [
    "We have a total of 418,252 users and 3,675 songs, with 772,661 songs heard."
   ]
  },
  {
   "cell_type": "code",
   "execution_count": 10,
   "id": "9f5dffbc-3289-41b4-b026-4026abf0431a",
   "metadata": {},
   "outputs": [
    {
     "data": {
      "text/plain": [
       "99.94973176669653"
      ]
     },
     "execution_count": 10,
     "metadata": {},
     "output_type": "execute_result"
    }
   ],
   "source": [
    "## Calculate matrix sparsity\n",
    "# Obtain number of possible interactions in the matrix\n",
    "matrix_size = matrix.shape[0]*matrix.shape[1]\n",
    "# Obtain number of songs interacted with\n",
    "num_songs_heard = len(matrix.nonzero()[0])\n",
    "sparsity = 100*(1-(num_songs_heard/matrix_size))\n",
    "sparsity"
   ]
  },
  {
   "cell_type": "markdown",
   "id": "28ccb566-4f67-4157-8ef8-49a31ad0647e",
   "metadata": {},
   "source": [
    "99.9% of the interaction matrix is sparse whereas the maximum that usually works for collaborative filtering is 99.5%. Therefore, we can attempt to build a matrix factorization model, but this may not perform well."
   ]
  },
  {
   "cell_type": "code",
   "execution_count": 14,
   "id": "3dd3e81e-b035-4993-aed6-b40a208dc29a",
   "metadata": {},
   "outputs": [
    {
     "name": "stdout",
     "output_type": "stream",
     "text": [
      "Collecting implicit\n",
      "  Using cached implicit-0.4.4.tar.gz (1.1 MB)\n",
      "Requirement already satisfied: numpy in c:\\users\\shefa\\anaconda3\\lib\\site-packages (from implicit) (1.20.2)\n",
      "Requirement already satisfied: scipy>=0.16 in c:\\users\\shefa\\anaconda3\\lib\\site-packages (from implicit) (1.6.2)\n",
      "Requirement already satisfied: tqdm>=4.27 in c:\\users\\shefa\\anaconda3\\lib\\site-packages (from implicit) (4.61.1)\n",
      "Building wheels for collected packages: implicit\n",
      "  Building wheel for implicit (setup.py): started\n",
      "  Building wheel for implicit (setup.py): finished with status 'done'\n",
      "  Created wheel for implicit: filename=implicit-0.4.4-cp38-cp38-win_amd64.whl size=612867 sha256=0c525b2fc8cd2b45d8a245a88d932f1729d208e904b55c4a8507e8c005aa46f0\n",
      "  Stored in directory: c:\\users\\shefa\\appdata\\local\\pip\\cache\\wheels\\00\\ac\\67\\6f4536c819ed560c2c7e17c0f7a920e3e50c26108616087d05\n",
      "Successfully built implicit\n",
      "Installing collected packages: implicit\n",
      "Successfully installed implicit-0.4.4\n"
     ]
    }
   ],
   "source": [
    "# Install a pip package in the current Jupyter kernel\n",
    "import sys\n",
    "!{sys.executable} -m pip install implicit"
   ]
  },
  {
   "cell_type": "markdown",
   "id": "4e423898-5bad-4779-9376-7cd50e3c03b4",
   "metadata": {},
   "source": [
    "## Attempt 2 Using Towards Data Science"
   ]
  },
  {
   "cell_type": "code",
   "execution_count": 11,
   "id": "b5900f42-ee62-43b5-ae2f-f9790b81c3ac",
   "metadata": {
    "tags": []
   },
   "outputs": [],
   "source": [
    "#content_matrix = sparse.csr_matrix((song_count, (rows, cols)), shape=(len(songs), len(users)))\n",
    "\n",
    "import scipy.sparse as sparse\n",
    "from scipy.sparse.linalg import spsolve\n",
    "from scipy.sparse import csr_matrix\n",
    "\n",
    "standardized_df['user']=standardized_df['user'].astype(\"category\")\n",
    "standardized_df['song']=standardized_df['song'].astype(\"category\")\n",
    "standardized_df['user_id']= standardized_df['user'].cat.codes\n",
    "standardized_df['song_id']=standardized_df['song'].cat.codes\n",
    "\n",
    "sparse_content_user = sparse.csr_matrix((standardized_df['count'].astype(float), (standardized_df['song_id'], standardized_df['user_id'])))\n",
    "sparse_user_content = sparse.csr_matrix((standardized_df['count'].astype(float), (standardized_df['user_id'], standardized_df['song_id'])))"
   ]
  },
  {
   "cell_type": "code",
   "execution_count": 28,
   "id": "f41a8d22-bb71-4608-82b7-b4b4c7ada688",
   "metadata": {},
   "outputs": [],
   "source": [
    "import implicit\n",
    "## will need to tweak the number of latent factors by potentially identifying loss function stability\n",
    "## will need to tweak regularization to tune parameters\n",
    "## user cross validation to tune the optimum factors in model\n",
    "## Reasonable solution usually occurs in 20 iterations or less\n",
    "## Knowing the number of latent or hidden factors influencing the model is impossible. We should\n",
    "## start at 5-10, then increase by 5 until performance of model stops improving\n",
    "model = implicit.als.AlternatingLeastSquares(factors=10, regularization=0.1, iterations=20)\n",
    "#model can be evaluated by selecting model that generates the lowest RMSE on training set."
   ]
  },
  {
   "cell_type": "markdown",
   "id": "334b511e-c833-4036-ab2d-a8efb0736416",
   "metadata": {},
   "source": [
    "Link to help explain confidence and alpha's impact on confidence:\n",
    "https://stats.stackexchange.com/questions/155296/alternating-least-squares-als-why-two-different-kinds-of-setting-for-lambd"
   ]
  },
  {
   "cell_type": "code",
   "execution_count": 29,
   "id": "62f30e06-3ac0-434b-b5bd-849c4cc98e4d",
   "metadata": {},
   "outputs": [
    {
     "data": {
      "application/vnd.jupyter.widget-view+json": {
       "model_id": "b90931ccad7942c79ff678f4c5a2917c",
       "version_major": 2,
       "version_minor": 0
      },
      "text/plain": [
       "  0%|          | 0/20 [00:00<?, ?it/s]"
      ]
     },
     "metadata": {},
     "output_type": "display_data"
    }
   ],
   "source": [
    "## The paper used to develop ALS used alpha of 40\n",
    "alpha = 40\n",
    "data = (sparse_content_user*alpha).astype('double')\n",
    "model.fit(data)"
   ]
  },
  {
   "cell_type": "code",
   "execution_count": 30,
   "id": "a9549cdd-b429-4e70-93b7-011ffb6e9116",
   "metadata": {},
   "outputs": [
    {
     "name": "stdout",
     "output_type": "stream",
     "text": [
      "[(693, 0.79169756), (1722, 0.71202666), (203, 0.70730686), (2730, 0.6374319), (2942, 0.63132167)]\n"
     ]
    }
   ],
   "source": [
    "## Obtain recommendations for a given user\n",
    "user_id = 350627\n",
    "recommended = model.recommend(user_id, sparse_user_content, N=5)\n",
    "print(recommended)"
   ]
  },
  {
   "cell_type": "code",
   "execution_count": 31,
   "id": "1d50112d-16dc-47e0-bcc5-9d7b3d41e3d0",
   "metadata": {},
   "outputs": [
    {
     "name": "stdout",
     "output_type": "stream",
     "text": [
      "[(2918, 0.99999994), (162, 0.8860025), (227, 0.8719206)]\n"
     ]
    }
   ],
   "source": [
    "## Get similar items\n",
    "\n",
    "song_id=2918\n",
    "n_similar = 3\n",
    "similar = model.similar_items(song_id, n_similar)\n",
    "print(similar)"
   ]
  },
  {
   "cell_type": "markdown",
   "id": "e44b7774-8fc2-4d93-8af6-aec1a9fa0a14",
   "metadata": {},
   "source": [
    "https://campus.datacamp.com/courses/recommendation-engines-in-pyspark/what-if-you-dont-have-customer-ratings?ex=6"
   ]
  },
  {
   "cell_type": "code",
   "execution_count": null,
   "id": "45867049-1c8e-4b53-a468-fc5a65240bca",
   "metadata": {},
   "outputs": [],
   "source": [
    "#Use ROEM as evaluation metric"
   ]
  }
 ],
 "metadata": {
  "kernelspec": {
   "display_name": "Python 3",
   "language": "python",
   "name": "python3"
  },
  "language_info": {
   "codemirror_mode": {
    "name": "ipython",
    "version": 3
   },
   "file_extension": ".py",
   "mimetype": "text/x-python",
   "name": "python",
   "nbconvert_exporter": "python",
   "pygments_lexer": "ipython3",
   "version": "3.8.10"
  }
 },
 "nbformat": 4,
 "nbformat_minor": 5
}

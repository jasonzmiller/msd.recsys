{
 "cells": [
  {
   "cell_type": "code",
   "execution_count": 4,
   "id": "4143948e",
   "metadata": {},
   "outputs": [],
   "source": [
    "import numpy as np\n",
    "import pandas as pd\n",
    "import scipy as sp\n",
    "from collections import OrderedDict\n",
    "from tqdm import tqdm\n",
    "from typing import Dict\n",
    "\n",
    "import tensorflow as tf\n",
    "from tensorflow.keras.models import Model, load_model\n",
    "from tensorflow.keras.layers import Embedding, Flatten, Input, Lambda\n",
    "from tensorflow.keras.optimizers import Adam\n",
    "import tensorflow.keras.backend as K\n",
    "\n",
    "from sklearn.metrics import roc_auc_score\n",
    "from sklearn.model_selection import train_test_split\n",
    "\n",
    "import matplotlib.pyplot as plt\n",
    "%matplotlib inline"
   ]
  },
  {
   "cell_type": "code",
   "execution_count": 2,
   "id": "d3b58e04",
   "metadata": {},
   "outputs": [],
   "source": [
    "df = pd.read_pickle('../datasets/clean_df.csv', compression='zip')"
   ]
  },
  {
   "cell_type": "code",
   "execution_count": 3,
   "id": "3d4888df",
   "metadata": {},
   "outputs": [],
   "source": [
    "# Convert user id and song id to numerical ids\n",
    "df['user_id'] = df['user'].astype('category').cat.codes\n",
    "df['song_id'] = df['song'].astype('category').cat.codes\n",
    "\n",
    "df_orig = df.copy()\n",
    "\n",
    "# Create lookup frame so we can get the 'Song - Artist' later\n",
    "item_lookup = df[['song_id','Song - Artist']].drop_duplicates()\n",
    "item_lookup['song_id'] = item_lookup['song_id'].astype(str)\n",
    "\n",
    "# Drop 'user' and 'song' and 'Song - Artist'\n",
    "df = df.drop(['user','song','Song - Artist'], axis=1)\n",
    "\n",
    "# Create lists of all users, songs, and counts\n",
    "users = list(np.sort(df['user_id'].unique()))\n",
    "songs = list(np.sort(df['song_id'].unique()))\n",
    "play_counts = list(np.sort(df['count']))"
   ]
  },
  {
   "cell_type": "markdown",
   "id": "6ecdf1ca",
   "metadata": {},
   "source": [
    "### Train/test split"
   ]
  },
  {
   "cell_type": "code",
   "execution_count": 5,
   "id": "1a76f976",
   "metadata": {},
   "outputs": [],
   "source": [
    "X_train, X_test = train_test_split(df, test_size=0.2, random_state=42)"
   ]
  },
  {
   "cell_type": "code",
   "execution_count": 12,
   "id": "09059dd7",
   "metadata": {},
   "outputs": [
    {
     "name": "stdout",
     "output_type": "stream",
     "text": [
      "(618128, 3)\n",
      "(154533, 3)\n"
     ]
    }
   ],
   "source": [
    "print(X_train.shape)\n",
    "print(X_test.shape)"
   ]
  },
  {
   "cell_type": "markdown",
   "id": "d3f7c01f",
   "metadata": {},
   "source": [
    "### Building triplets"
   ]
  },
  {
   "cell_type": "code",
   "execution_count": 67,
   "id": "27f4abe0",
   "metadata": {},
   "outputs": [
    {
     "name": "stderr",
     "output_type": "stream",
     "text": [
      "100%|██████████| 365111/365111 [10:41:07<00:00,  9.49it/s]      \n"
     ]
    },
    {
     "name": "stdout",
     "output_type": "stream",
     "text": [
      "CPU times: user 5h 32min 9s, sys: 9min 31s, total: 5h 41min 41s\n",
      "Wall time: 10h 41min 11s\n"
     ]
    }
   ],
   "source": [
    "%%time\n",
    "\n",
    "data = []\n",
    "n_random_samples = 2\n",
    "\n",
    "uusers_train = list(X_train['user_id'].unique())\n",
    "\n",
    "for user in tqdm( uusers_train ):\n",
    "#     if ( iterations % 10_000 == 0 ):\n",
    "#         print(f'{iterations} users processed.')\n",
    "    \n",
    "    listened = X_train[X_train['user_id'] == user]['song_id'].values\n",
    "    \n",
    "    for i in listened:\n",
    "        cnt = 0\n",
    "        while ( cnt < n_random_samples ):\n",
    "            j = X_train.sample(1).iloc[0,2]\n",
    "            if ( j not in listened ):\n",
    "                data.append({\n",
    "                    'u' : user,\n",
    "                    'i' : i,\n",
    "                    'j' : j\n",
    "                })\n",
    "                cnt += 1\n",
    "\n",
    "ttriplets = pd.DataFrame(data, columns=['u', 'i', 'j'])"
   ]
  },
  {
   "cell_type": "code",
   "execution_count": 120,
   "id": "59b20358",
   "metadata": {},
   "outputs": [],
   "source": [
    "ttriplets.to_pickle('../datasets/ttriplets01.csv', compression='zip')"
   ]
  },
  {
   "cell_type": "markdown",
   "id": "63b90368",
   "metadata": {},
   "source": [
    "### BPR NN"
   ]
  },
  {
   "cell_type": "code",
   "execution_count": 69,
   "id": "8d1c1e21",
   "metadata": {},
   "outputs": [],
   "source": [
    "nusers = len(users)\n",
    "nsongs = len(songs)"
   ]
  },
  {
   "cell_type": "code",
   "execution_count": 70,
   "id": "498148ac",
   "metadata": {},
   "outputs": [],
   "source": [
    "@tf.function\n",
    "def identity_loss(_, y_pred):\n",
    "    return tf.math.reduce_mean(y_pred)\n",
    "\n",
    "@tf.function\n",
    "def bpr_triplet_loss(X: dict):\n",
    "    \"\"\"\n",
    "    Calculate triplet loss - as higher the difference between positive interactions\n",
    "    and negative interactions as better\n",
    "\n",
    "    :param X: X contains the user input, positive item input, negative item input\n",
    "    :return:\n",
    "    \"\"\"\n",
    "    positive_item_latent, negative_item_latent, user_latent = X\n",
    "\n",
    "    positive_interactions = tf.math.reduce_sum(tf.math.multiply(user_latent, positive_item_latent), axis=-1, keepdims=True)\n",
    "    negative_interactions = tf.math.reduce_sum(tf.math.multiply(user_latent, negative_item_latent), axis=-1, keepdims=True)\n",
    "\n",
    "    return tf.math.subtract(tf.constant(1.0), tf.sigmoid(tf.math.subtract(positive_interactions, negative_interactions)))"
   ]
  },
  {
   "cell_type": "code",
   "execution_count": 71,
   "id": "a9b130f3",
   "metadata": {},
   "outputs": [],
   "source": [
    "def out_shape(shapes):\n",
    "    return shapes[0]\n",
    "    \n",
    "def build_model(num_users: int, num_items: int, latent_dim: int) -> Model:\n",
    "    \"\"\"\n",
    "    Build a model for Bayesian personalized ranking\n",
    "\n",
    "    :param num_users: a number of the unique users\n",
    "    :param num_items: a number of the unique movies\n",
    "    :param latent_dim: vector length for the latent representation\n",
    "    :return: Model\n",
    "    \"\"\"\n",
    "    user_input = Input((1,), name='user_input')\n",
    "\n",
    "    positive_item_input = Input((1,), name='positive_item_input')\n",
    "    negative_item_input = Input((1,), name='negative_item_input')\n",
    "    # One embedding layer is shared between positive and negative items\n",
    "    item_embedding_layer = Embedding(num_items, latent_dim, name='item_embedding', input_length=1)\n",
    "\n",
    "    positive_item_embedding = Flatten()(item_embedding_layer(positive_item_input))\n",
    "    negative_item_embedding = Flatten()(item_embedding_layer(negative_item_input))\n",
    "\n",
    "    user_embedding = Embedding(num_users, latent_dim, name='user_embedding', input_length=1)(user_input)\n",
    "    user_embedding = Flatten()(user_embedding)\n",
    "\n",
    "    triplet_loss = Lambda(bpr_triplet_loss, output_shape=out_shape)([positive_item_embedding,\n",
    "                                                             negative_item_embedding,\n",
    "                                                             user_embedding])\n",
    "\n",
    "    model = Model(inputs=[positive_item_input, negative_item_input, user_input], outputs=triplet_loss)\n",
    "\n",
    "    return model"
   ]
  },
  {
   "cell_type": "code",
   "execution_count": 72,
   "id": "81ce1594",
   "metadata": {},
   "outputs": [],
   "source": [
    "def bpr_predict(model: Model, user_id: int, song_ids: list, user_layer='user_embedding', item_layer='item_embedding'):\n",
    "    user_vector = model.get_layer(user_layer).get_weights()[0][user_id]\n",
    "    item_matrix = model.get_layer(item_layer).get_weights()[0][song_ids]\n",
    "    \n",
    "    scores = np.dot(user_vector, item_matrix.T)\n",
    "    \n",
    "    return scores"
   ]
  },
  {
   "cell_type": "code",
   "execution_count": 80,
   "id": "e539a993",
   "metadata": {},
   "outputs": [],
   "source": [
    "#---------------\n",
    "#  HYPERPARAMS\n",
    "#---------------\n",
    "latent_dim = 350\n",
    "batch_size = 256\n",
    "epochs = 3\n",
    "lr = 0.01"
   ]
  },
  {
   "cell_type": "code",
   "execution_count": 82,
   "id": "fa6dc1eb",
   "metadata": {},
   "outputs": [],
   "source": [
    "model = build_model(nusers, nsongs, latent_dim=latent_dim)\n",
    "model.compile(loss=identity_loss, optimizer=Adam(learning_rate=lr))"
   ]
  },
  {
   "cell_type": "code",
   "execution_count": 83,
   "id": "c45d91bc",
   "metadata": {},
   "outputs": [
    {
     "name": "stdout",
     "output_type": "stream",
     "text": [
      "Model: \"model_3\"\n",
      "__________________________________________________________________________________________________\n",
      "Layer (type)                    Output Shape         Param #     Connected to                     \n",
      "==================================================================================================\n",
      "positive_item_input (InputLayer [(None, 1)]          0                                            \n",
      "__________________________________________________________________________________________________\n",
      "negative_item_input (InputLayer [(None, 1)]          0                                            \n",
      "__________________________________________________________________________________________________\n",
      "user_input (InputLayer)         [(None, 1)]          0                                            \n",
      "__________________________________________________________________________________________________\n",
      "item_embedding (Embedding)      (None, 1, 350)       1286250     positive_item_input[0][0]        \n",
      "                                                                 negative_item_input[0][0]        \n",
      "__________________________________________________________________________________________________\n",
      "user_embedding (Embedding)      (None, 1, 350)       146388200   user_input[0][0]                 \n",
      "__________________________________________________________________________________________________\n",
      "flatten_9 (Flatten)             (None, 350)          0           item_embedding[0][0]             \n",
      "__________________________________________________________________________________________________\n",
      "flatten_10 (Flatten)            (None, 350)          0           item_embedding[1][0]             \n",
      "__________________________________________________________________________________________________\n",
      "flatten_11 (Flatten)            (None, 350)          0           user_embedding[0][0]             \n",
      "__________________________________________________________________________________________________\n",
      "lambda_3 (Lambda)               (None, 1)            0           flatten_9[0][0]                  \n",
      "                                                                 flatten_10[0][0]                 \n",
      "                                                                 flatten_11[0][0]                 \n",
      "==================================================================================================\n",
      "Total params: 147,674,450\n",
      "Trainable params: 147,674,450\n",
      "Non-trainable params: 0\n",
      "__________________________________________________________________________________________________\n"
     ]
    }
   ],
   "source": [
    "model.summary()"
   ]
  },
  {
   "cell_type": "code",
   "execution_count": 84,
   "id": "4078989b",
   "metadata": {},
   "outputs": [
    {
     "data": {
      "text/plain": [
       "(1236256, 3)"
      ]
     },
     "execution_count": 84,
     "metadata": {},
     "output_type": "execute_result"
    }
   ],
   "source": [
    "ttriplets.shape"
   ]
  },
  {
   "cell_type": "code",
   "execution_count": 87,
   "id": "7f5f3f6b",
   "metadata": {},
   "outputs": [
    {
     "name": "stdout",
     "output_type": "stream",
     "text": [
      "Epoch 1/3\n",
      "40/40 [==============================] - 117s 3s/step - loss: 0.3696\n",
      "Epoch 2/3\n",
      "40/40 [==============================] - 126s 3s/step - loss: 0.0227\n",
      "Epoch 3/3\n",
      "40/40 [==============================] - 127s 3s/step - loss: 0.0029\n",
      "CPU times: user 5min 51s, sys: 4min 59s, total: 10min 50s\n",
      "Wall time: 6min 10s\n"
     ]
    }
   ],
   "source": [
    "%%time\n",
    "\n",
    "sample_size = 10_000\n",
    "\n",
    "striplets = ttriplets.iloc[:sample_size]\n",
    "\n",
    "X = {\n",
    "    'user_input': tf.convert_to_tensor(striplets['u']),\n",
    "    'positive_item_input': tf.convert_to_tensor(striplets['i']),\n",
    "    'negative_item_input': tf.convert_to_tensor(striplets['j'])\n",
    "}\n",
    "\n",
    "hist = model.fit(X, tf.ones(striplets.shape[0]), batch_size=batch_size,verbose=1,epochs=epochs)"
   ]
  },
  {
   "cell_type": "code",
   "execution_count": 105,
   "id": "7c977f37",
   "metadata": {},
   "outputs": [
    {
     "name": "stdout",
     "output_type": "stream",
     "text": [
      "CPU times: user 502 ms, sys: 1.25 s, total: 1.75 s\n",
      "Wall time: 2.52 s\n"
     ]
    }
   ],
   "source": [
    "uweights = model.get_layer('user_embedding').get_weights()\n",
    "iweights = model.get_layer('item_embedding').get_weights()"
   ]
  },
  {
   "cell_type": "code",
   "execution_count": 103,
   "id": "6afbbf5b",
   "metadata": {},
   "outputs": [
    {
     "data": {
      "text/plain": [
       "(350, 3675)"
      ]
     },
     "execution_count": 103,
     "metadata": {},
     "output_type": "execute_result"
    }
   ],
   "source": [
    "iweights[0][songs].T.shape"
   ]
  },
  {
   "cell_type": "code",
   "execution_count": 106,
   "id": "87dc5416",
   "metadata": {},
   "outputs": [
    {
     "name": "stdout",
     "output_type": "stream",
     "text": [
      "CPU times: user 3.4 ms, sys: 3.71 ms, total: 7.11 ms\n",
      "Wall time: 5.63 ms\n"
     ]
    }
   ],
   "source": [
    "%%time\n",
    "dot = np.dot(uweights[0][0], iweights[0][songs].T)"
   ]
  },
  {
   "cell_type": "code",
   "execution_count": 118,
   "id": "39d67516",
   "metadata": {},
   "outputs": [],
   "source": [
    "grnd = np.zeros(nsongs, dtype=np.int32)"
   ]
  },
  {
   "cell_type": "code",
   "execution_count": 119,
   "id": "6a97b763",
   "metadata": {},
   "outputs": [
    {
     "data": {
      "text/plain": [
       "array([0, 0, 0, ..., 0, 0, 0], dtype=int32)"
      ]
     },
     "execution_count": 119,
     "metadata": {},
     "output_type": "execute_result"
    }
   ],
   "source": [
    "grnd"
   ]
  },
  {
   "cell_type": "code",
   "execution_count": 112,
   "id": "e3aa71c4",
   "metadata": {},
   "outputs": [
    {
     "ename": "TypeError",
     "evalue": "_sort_dispatcher() got an unexpected keyword argument 'ascending'",
     "output_type": "error",
     "traceback": [
      "\u001b[0;31m---------------------------------------------------------------------------\u001b[0m",
      "\u001b[0;31mTypeError\u001b[0m                                 Traceback (most recent call last)",
      "\u001b[0;32m<ipython-input-112-4ca9bc8c191d>\u001b[0m in \u001b[0;36m<module>\u001b[0;34m\u001b[0m\n\u001b[0;32m----> 1\u001b[0;31m \u001b[0mnp\u001b[0m\u001b[0;34m.\u001b[0m\u001b[0msort\u001b[0m\u001b[0;34m(\u001b[0m\u001b[0mdot\u001b[0m\u001b[0;34m,\u001b[0m \u001b[0mascending\u001b[0m\u001b[0;34m=\u001b[0m\u001b[0;32mFalse\u001b[0m\u001b[0;34m)\u001b[0m\u001b[0;34m\u001b[0m\u001b[0;34m\u001b[0m\u001b[0m\n\u001b[0m",
      "\u001b[0;32m<__array_function__ internals>\u001b[0m in \u001b[0;36msort\u001b[0;34m(*args, **kwargs)\u001b[0m\n",
      "\u001b[0;31mTypeError\u001b[0m: _sort_dispatcher() got an unexpected keyword argument 'ascending'"
     ]
    }
   ],
   "source": [
    "np.sort(dot, ascending=False)"
   ]
  },
  {
   "cell_type": "code",
   "execution_count": 116,
   "id": "122cc28d",
   "metadata": {},
   "outputs": [
    {
     "data": {
      "text/plain": [
       "array([0.2685007 , 0.26486716, 0.25799644, 0.25115645, 0.24870834,\n",
       "       0.23784854, 0.22005787, 0.20737101, 0.20207833, 0.1917183 ],\n",
       "      dtype=float32)"
      ]
     },
     "execution_count": 116,
     "metadata": {},
     "output_type": "execute_result"
    }
   ],
   "source": [
    "np.sort(dot)[::-1][:10]"
   ]
  }
 ],
 "metadata": {
  "kernelspec": {
   "display_name": "Python 3",
   "language": "python",
   "name": "python3"
  },
  "language_info": {
   "codemirror_mode": {
    "name": "ipython",
    "version": 3
   },
   "file_extension": ".py",
   "mimetype": "text/x-python",
   "name": "python",
   "nbconvert_exporter": "python",
   "pygments_lexer": "ipython3",
   "version": "3.8.8"
  }
 },
 "nbformat": 4,
 "nbformat_minor": 5
}

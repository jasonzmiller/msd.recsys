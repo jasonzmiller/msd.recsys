{
 "cells": [
  {
   "cell_type": "code",
   "execution_count": 1,
   "id": "70301af8",
   "metadata": {},
   "outputs": [],
   "source": [
    "import numpy as np\n",
    "import pandas as pd"
   ]
  },
  {
   "cell_type": "code",
   "execution_count": 2,
   "id": "e1ed15a0",
   "metadata": {},
   "outputs": [],
   "source": [
    "reldir = '../datasets/'"
   ]
  },
  {
   "cell_type": "code",
   "execution_count": 12,
   "id": "27ad274a",
   "metadata": {},
   "outputs": [],
   "source": [
    "df = pd.read_pickle(reldir + 'msd_tastes_merged.csv', compression='zip')"
   ]
  },
  {
   "cell_type": "code",
   "execution_count": 17,
   "id": "ba815579",
   "metadata": {},
   "outputs": [],
   "source": [
    "df_msd = pd.read_pickle(reldir + 'msd.csv', compression='zip')"
   ]
  },
  {
   "cell_type": "markdown",
   "id": "a9f14427",
   "metadata": {},
   "source": [
    "## Missing values"
   ]
  },
  {
   "cell_type": "code",
   "execution_count": 13,
   "id": "550b42d7",
   "metadata": {},
   "outputs": [],
   "source": [
    "df_nan = pd.isnull(df).sum().where(lambda x : x > 0).dropna()"
   ]
  },
  {
   "cell_type": "code",
   "execution_count": 14,
   "id": "5c2b207f",
   "metadata": {},
   "outputs": [
    {
     "data": {
      "text/plain": [
       "metadata_songs_artist_latitude     489715.0\n",
       "metadata_songs_artist_longitude    489715.0\n",
       "metadata_songs_song_hotttnesss      90514.0\n",
       "dtype: float64"
      ]
     },
     "execution_count": 14,
     "metadata": {},
     "output_type": "execute_result"
    }
   ],
   "source": [
    "df_nan"
   ]
  },
  {
   "cell_type": "code",
   "execution_count": 19,
   "id": "fe529b7f",
   "metadata": {},
   "outputs": [
    {
     "data": {
      "text/plain": [
       "metadata_songs_artist_familiarity       4.0\n",
       "metadata_songs_artist_latitude       6258.0\n",
       "metadata_songs_artist_longitude      6258.0\n",
       "metadata_songs_song_hotttnesss       4352.0\n",
       "dtype: float64"
      ]
     },
     "execution_count": 19,
     "metadata": {},
     "output_type": "execute_result"
    }
   ],
   "source": [
    "df_msd_nan = pd.isnull(df_msd).sum().where(lambda x : x > 0).dropna()\n",
    "df_msd_nan"
   ]
  },
  {
   "cell_type": "markdown",
   "id": "443973d2",
   "metadata": {},
   "source": [
    "How did artist familiarity get values?\n",
    "\n",
    "For each user in the user dataset, we appended song data for each song the user played. Multiple users played the same songs, so we appended the same song data for each user that played a given song. This is the reason why the number of missing values increased. This is something interesting to consider when exploring other data. However, the percentage of missing values should probably still be the same."
   ]
  }
 ],
 "metadata": {
  "kernelspec": {
   "display_name": "Python 3",
   "language": "python",
   "name": "python3"
  },
  "language_info": {
   "codemirror_mode": {
    "name": "ipython",
    "version": 3
   },
   "file_extension": ".py",
   "mimetype": "text/x-python",
   "name": "python",
   "nbconvert_exporter": "python",
   "pygments_lexer": "ipython3",
   "version": "3.8.8"
  }
 },
 "nbformat": 4,
 "nbformat_minor": 5
}

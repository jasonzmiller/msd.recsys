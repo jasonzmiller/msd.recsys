{
 "cells": [
  {
   "cell_type": "code",
   "execution_count": 1,
   "id": "61d69861",
   "metadata": {},
   "outputs": [],
   "source": [
    "import numpy as np\n",
    "import pandas as pd\n",
    "import scipy as sp\n",
    "import implicit"
   ]
  },
  {
   "cell_type": "code",
   "execution_count": 2,
   "id": "9394978e",
   "metadata": {},
   "outputs": [],
   "source": [
    "df = pd.read_pickle('../../datasets/clean_df.csv', compression='zip')"
   ]
  },
  {
   "cell_type": "code",
   "execution_count": 15,
   "id": "d83ec192",
   "metadata": {},
   "outputs": [
    {
     "data": {
      "text/html": [
       "<div>\n",
       "<style scoped>\n",
       "    .dataframe tbody tr th:only-of-type {\n",
       "        vertical-align: middle;\n",
       "    }\n",
       "\n",
       "    .dataframe tbody tr th {\n",
       "        vertical-align: top;\n",
       "    }\n",
       "\n",
       "    .dataframe thead th {\n",
       "        text-align: right;\n",
       "    }\n",
       "</style>\n",
       "<table border=\"1\" class=\"dataframe\">\n",
       "  <thead>\n",
       "    <tr style=\"text-align: right;\">\n",
       "      <th></th>\n",
       "      <th>user</th>\n",
       "      <th>song</th>\n",
       "      <th>count</th>\n",
       "      <th>Song - Artist</th>\n",
       "      <th>user_id</th>\n",
       "      <th>song_id</th>\n",
       "    </tr>\n",
       "  </thead>\n",
       "  <tbody>\n",
       "    <tr>\n",
       "      <th>0</th>\n",
       "      <td>b80344d063b5ccb3212f76538f3d9e43d87dca9e</td>\n",
       "      <td>SOWEZSI12A81C21CE6</td>\n",
       "      <td>1</td>\n",
       "      <td>Tu Quieres Volver - Gipsy Kings</td>\n",
       "      <td>300402</td>\n",
       "      <td>3214</td>\n",
       "    </tr>\n",
       "    <tr>\n",
       "      <th>1</th>\n",
       "      <td>833c530ecda3d99deb8395f70400aa3999783d91</td>\n",
       "      <td>SOWEZSI12A81C21CE6</td>\n",
       "      <td>2</td>\n",
       "      <td>Tu Quieres Volver - Gipsy Kings</td>\n",
       "      <td>214106</td>\n",
       "      <td>3214</td>\n",
       "    </tr>\n",
       "    <tr>\n",
       "      <th>2</th>\n",
       "      <td>d6c5bd2b570b4faf8964d7ed04f3392ff505d2be</td>\n",
       "      <td>SOWEZSI12A81C21CE6</td>\n",
       "      <td>1</td>\n",
       "      <td>Tu Quieres Volver - Gipsy Kings</td>\n",
       "      <td>350627</td>\n",
       "      <td>3214</td>\n",
       "    </tr>\n",
       "    <tr>\n",
       "      <th>3</th>\n",
       "      <td>724534729c9f5dc72a009269c2c225883e4775d2</td>\n",
       "      <td>SOWEZSI12A81C21CE6</td>\n",
       "      <td>1</td>\n",
       "      <td>Tu Quieres Volver - Gipsy Kings</td>\n",
       "      <td>186356</td>\n",
       "      <td>3214</td>\n",
       "    </tr>\n",
       "    <tr>\n",
       "      <th>4</th>\n",
       "      <td>ee7aa84c164038c963cfd02a7e52a5598aa470c3</td>\n",
       "      <td>SOWEZSI12A81C21CE6</td>\n",
       "      <td>2</td>\n",
       "      <td>Tu Quieres Volver - Gipsy Kings</td>\n",
       "      <td>389460</td>\n",
       "      <td>3214</td>\n",
       "    </tr>\n",
       "  </tbody>\n",
       "</table>\n",
       "</div>"
      ],
      "text/plain": [
       "                                       user                song  count  \\\n",
       "0  b80344d063b5ccb3212f76538f3d9e43d87dca9e  SOWEZSI12A81C21CE6      1   \n",
       "1  833c530ecda3d99deb8395f70400aa3999783d91  SOWEZSI12A81C21CE6      2   \n",
       "2  d6c5bd2b570b4faf8964d7ed04f3392ff505d2be  SOWEZSI12A81C21CE6      1   \n",
       "3  724534729c9f5dc72a009269c2c225883e4775d2  SOWEZSI12A81C21CE6      1   \n",
       "4  ee7aa84c164038c963cfd02a7e52a5598aa470c3  SOWEZSI12A81C21CE6      2   \n",
       "\n",
       "                     Song - Artist  user_id  song_id  \n",
       "0  Tu Quieres Volver - Gipsy Kings   300402     3214  \n",
       "1  Tu Quieres Volver - Gipsy Kings   214106     3214  \n",
       "2  Tu Quieres Volver - Gipsy Kings   350627     3214  \n",
       "3  Tu Quieres Volver - Gipsy Kings   186356     3214  \n",
       "4  Tu Quieres Volver - Gipsy Kings   389460     3214  "
      ]
     },
     "execution_count": 15,
     "metadata": {},
     "output_type": "execute_result"
    }
   ],
   "source": [
    "df_orig.head()"
   ]
  },
  {
   "cell_type": "code",
   "execution_count": 16,
   "id": "0e705cff",
   "metadata": {},
   "outputs": [
    {
     "data": {
      "text/plain": [
       "418252"
      ]
     },
     "execution_count": 16,
     "metadata": {},
     "output_type": "execute_result"
    }
   ],
   "source": [
    "len(users)"
   ]
  },
  {
   "cell_type": "code",
   "execution_count": 17,
   "id": "bc333cfe",
   "metadata": {},
   "outputs": [
    {
     "data": {
      "text/plain": [
       "3675"
      ]
     },
     "execution_count": 17,
     "metadata": {},
     "output_type": "execute_result"
    }
   ],
   "source": [
    "len(songs)"
   ]
  },
  {
   "cell_type": "code",
   "execution_count": 3,
   "id": "e8ba6b76",
   "metadata": {},
   "outputs": [],
   "source": [
    "# Convert user id and song id to numerical ids\n",
    "df['user_id'] = df['user'].astype('category').cat.codes\n",
    "df['song_id'] = df['song'].astype('category').cat.codes\n",
    "\n",
    "df_orig = df.copy()\n",
    "\n",
    "# Create lookup frame so we can get the 'Song - Artist' later\n",
    "item_lookup = df[['song_id','Song - Artist']].drop_duplicates()\n",
    "item_lookup['song_id'] = item_lookup['song_id'].astype(str)\n",
    "\n",
    "# Drop 'user' and 'song' and 'Song - Artist'\n",
    "df = df.drop(['user','song','Song - Artist'], axis=1)\n",
    "\n",
    "# Create lists of all users, songs, and counts\n",
    "users = list(np.sort(df['user_id'].unique()))\n",
    "songs = list(np.sort(df['song_id'].unique()))\n",
    "play_counts = list(np.sort(df['count']))\n",
    "\n",
    "# Get the rows and columns for our matrix\n",
    "user_ = df['user_id'].astype(float)\n",
    "item_ = df['song_id'].astype(float)"
   ]
  },
  {
   "cell_type": "code",
   "execution_count": 4,
   "id": "9bd4c267",
   "metadata": {},
   "outputs": [],
   "source": [
    "# data_sparse = sp.sparse.csr_matrix((play_counts, (rows, cols)), shape=(len(users), len(songs)))"
   ]
  },
  {
   "cell_type": "code",
   "execution_count": 5,
   "id": "ff3fade1",
   "metadata": {},
   "outputs": [],
   "source": [
    "sp_user_item = sp.sparse.csr_matrix(\n",
    "    (df['count'].astype(float), (user_, item_)),\n",
    "    shape=(len(users), len(songs))\n",
    ")\n",
    "\n",
    "sp_item_user = sp.sparse.csr_matrix(\n",
    "    (df['count'].astype(float), (item_, user_)),\n",
    "    shape=(len(songs), len(users))\n",
    ")"
   ]
  },
  {
   "cell_type": "markdown",
   "id": "74b31795",
   "metadata": {},
   "source": [
    "# Alternating Least Squares"
   ]
  },
  {
   "cell_type": "code",
   "execution_count": 6,
   "id": "aabb058a",
   "metadata": {},
   "outputs": [],
   "source": [
    "# Hyperparams\n",
    "factors=30\n",
    "regularization=0.1\n",
    "iterations=20\n",
    "alpha=40"
   ]
  },
  {
   "cell_type": "code",
   "execution_count": 7,
   "id": "cdd541ec",
   "metadata": {},
   "outputs": [
    {
     "name": "stderr",
     "output_type": "stream",
     "text": [
      "WARNING:root:OpenBLAS detected. Its highly recommend to set the environment variable 'export OPENBLAS_NUM_THREADS=1' to disable its internal multithreading\n"
     ]
    }
   ],
   "source": [
    "model = implicit.als.AlternatingLeastSquares(\n",
    "            factors=factors,\n",
    "            regularization=regularization,\n",
    "            iterations=iterations)"
   ]
  },
  {
   "cell_type": "code",
   "execution_count": 8,
   "id": "66849f43",
   "metadata": {},
   "outputs": [
    {
     "data": {
      "application/vnd.jupyter.widget-view+json": {
       "model_id": "953ee15dfa9c42f1b86e33a3eef287f1",
       "version_major": 2,
       "version_minor": 0
      },
      "text/plain": [
       "  0%|          | 0/20 [00:00<?, ?it/s]"
      ]
     },
     "metadata": {},
     "output_type": "display_data"
    }
   ],
   "source": [
    "data = (sp_item_user * alpha).astype('double')\n",
    "model.fit(data)"
   ]
  },
  {
   "cell_type": "code",
   "execution_count": 9,
   "id": "882f0a57",
   "metadata": {},
   "outputs": [
    {
     "name": "stdout",
     "output_type": "stream",
     "text": [
      "[(2736, 0.7499832), (1722, 0.7386374), (1160, 0.7153151), (2693, 0.65778404), (2629, 0.62132347)]\n"
     ]
    }
   ],
   "source": [
    "recs_raw = model.recommend(1, sp_user_item, N=5)\n",
    "print(recs_raw)"
   ]
  },
  {
   "cell_type": "code",
   "execution_count": 11,
   "id": "7e301d85",
   "metadata": {},
   "outputs": [
    {
     "name": "stdout",
     "output_type": "stream",
     "text": [
      "325048    Show You How - The Killers\n",
      "Name: Song - Artist, dtype: object\n",
      "232653    Check On It - Beyoncé feat. Slim Thug\n",
      "Name: Song - Artist, dtype: object\n",
      "228969    Everyone's At It - Lily Allen\n",
      "Name: Song - Artist, dtype: object\n",
      "346705    Valerie - Amy Winehouse\n",
      "Name: Song - Artist, dtype: object\n",
      "631587    I Am The Club (Explicit Album Version) - Plies\n",
      "Name: Song - Artist, dtype: object\n"
     ]
    }
   ],
   "source": [
    "for song_id , _ in recs_raw:\n",
    "    print(item_lookup[item_lookup['song_id'] == song_id.astype(str)]['Song - Artist'])"
   ]
  },
  {
   "cell_type": "markdown",
   "id": "80fc897d",
   "metadata": {},
   "source": [
    "# Bayesian Personalized Ranking"
   ]
  },
  {
   "cell_type": "markdown",
   "id": "091d86f6",
   "metadata": {},
   "source": [
    "https://medium.com/heyjobs-tech/building-recommendation-system-based-bayesian-personalized-ranking-using-tensorflow-2-1-b814d2704130"
   ]
  },
  {
   "cell_type": "markdown",
   "id": "98f14751",
   "metadata": {},
   "source": [
    "The missing values in the sparse matrix are **MNAR**. This is because we do not know if the user did not listen to a certain song because the user didn't like the song, was not aware of the song, or for some other reasons unforeseen to us."
   ]
  },
  {
   "cell_type": "code",
   "execution_count": 13,
   "id": "ae791f01",
   "metadata": {},
   "outputs": [],
   "source": [
    "model_bpr = implicit.bpr.BayesianPersonalizedRanking(\n",
    "                factors=factors, \n",
    "                regularization=regularization,\n",
    "                iterations=iterations)"
   ]
  },
  {
   "cell_type": "markdown",
   "id": "bb7285cb",
   "metadata": {},
   "source": [
    "To train a model based on Bayes Personalized Ranking, we need to define the triplets of a user, positive item and negative item.\n",
    "\n",
    "This means we must define what constitutes either a positive item or negative item in the scope of our dataset."
   ]
  },
  {
   "cell_type": "code",
   "execution_count": null,
   "id": "f91148b4",
   "metadata": {},
   "outputs": [],
   "source": [
    "# Build triplets\n"
   ]
  }
 ],
 "metadata": {
  "kernelspec": {
   "display_name": "Python 3",
   "language": "python",
   "name": "python3"
  },
  "language_info": {
   "codemirror_mode": {
    "name": "ipython",
    "version": 3
   },
   "file_extension": ".py",
   "mimetype": "text/x-python",
   "name": "python",
   "nbconvert_exporter": "python",
   "pygments_lexer": "ipython3",
   "version": "3.8.8"
  }
 },
 "nbformat": 4,
 "nbformat_minor": 5
}

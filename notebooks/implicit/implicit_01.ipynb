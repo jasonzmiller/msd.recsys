{
 "cells": [
  {
   "cell_type": "code",
   "execution_count": 48,
   "id": "61d69861",
   "metadata": {},
   "outputs": [],
   "source": [
    "import numpy as np\n",
    "import pandas as pd\n",
    "import scipy as sp\n",
    "from typing import Dict\n",
    "\n",
    "import tensorflow as tf\n",
    "from tensorflow.keras.models import Model, load_model\n",
    "from tensorflow.keras.layers import Embedding, Flatten, Input, Lambda\n",
    "from tensorflow.keras.optimizers import Adam\n",
    "import tensorflow.keras.backend as K\n",
    "\n",
    "from sklearn.metrics import roc_auc_score\n",
    "\n",
    "import matplotlib.pyplot as plt\n",
    "%matplotlib inline"
   ]
  },
  {
   "cell_type": "code",
   "execution_count": 43,
   "id": "9394978e",
   "metadata": {},
   "outputs": [],
   "source": [
    "df = pd.read_pickle('../../datasets/clean_df.csv', compression='zip')"
   ]
  },
  {
   "cell_type": "code",
   "execution_count": 3,
   "id": "e8ba6b76",
   "metadata": {},
   "outputs": [],
   "source": [
    "# Convert user id and song id to numerical ids\n",
    "df['user_id'] = df['user'].astype('category').cat.codes\n",
    "df['song_id'] = df['song'].astype('category').cat.codes\n",
    "\n",
    "df_orig = df.copy()\n",
    "\n",
    "# Create lookup frame so we can get the 'Song - Artist' later\n",
    "item_lookup = df[['song_id','Song - Artist']].drop_duplicates()\n",
    "item_lookup['song_id'] = item_lookup['song_id'].astype(str)\n",
    "\n",
    "# Drop 'user' and 'song' and 'Song - Artist'\n",
    "df = df.drop(['user','song','Song - Artist'], axis=1)\n",
    "\n",
    "# Create lists of all users, songs, and counts\n",
    "users = list(np.sort(df['user_id'].unique()))\n",
    "songs = list(np.sort(df['song_id'].unique()))\n",
    "play_counts = list(np.sort(df['count']))\n",
    "\n",
    "# Get the rows and columns for our matrix\n",
    "user_ = df['user_id'].astype(float)\n",
    "item_ = df['song_id'].astype(float)"
   ]
  },
  {
   "cell_type": "code",
   "execution_count": 4,
   "id": "9bd4c267",
   "metadata": {},
   "outputs": [],
   "source": [
    "# data_sparse = sp.sparse.csr_matrix((play_counts, (rows, cols)), shape=(len(users), len(songs)))"
   ]
  },
  {
   "cell_type": "code",
   "execution_count": 5,
   "id": "ff3fade1",
   "metadata": {},
   "outputs": [],
   "source": [
    "sp_user_item = sp.sparse.csr_matrix(\n",
    "    (df['count'].astype(float), (user_, item_)),\n",
    "    shape=(len(users), len(songs))\n",
    ")\n",
    "\n",
    "sp_item_user = sp.sparse.csr_matrix(\n",
    "    (df['count'].astype(float), (item_, user_)),\n",
    "    shape=(len(songs), len(users))\n",
    ")"
   ]
  },
  {
   "cell_type": "markdown",
   "id": "74b31795",
   "metadata": {},
   "source": [
    "# Alternating Least Squares"
   ]
  },
  {
   "cell_type": "code",
   "execution_count": 6,
   "id": "aabb058a",
   "metadata": {},
   "outputs": [],
   "source": [
    "# Hyperparams\n",
    "factors=30\n",
    "regularization=0.1\n",
    "iterations=20\n",
    "alpha=40"
   ]
  },
  {
   "cell_type": "code",
   "execution_count": 7,
   "id": "cdd541ec",
   "metadata": {},
   "outputs": [
    {
     "name": "stderr",
     "output_type": "stream",
     "text": [
      "WARNING:root:OpenBLAS detected. Its highly recommend to set the environment variable 'export OPENBLAS_NUM_THREADS=1' to disable its internal multithreading\n"
     ]
    }
   ],
   "source": [
    "model = implicit.als.AlternatingLeastSquares(\n",
    "            factors=factors,\n",
    "            regularization=regularization,\n",
    "            iterations=iterations)"
   ]
  },
  {
   "cell_type": "code",
   "execution_count": 8,
   "id": "66849f43",
   "metadata": {},
   "outputs": [
    {
     "data": {
      "application/vnd.jupyter.widget-view+json": {
       "model_id": "1b35ce9855444f20a90f8952f1f2730c",
       "version_major": 2,
       "version_minor": 0
      },
      "text/plain": [
       "  0%|          | 0/20 [00:00<?, ?it/s]"
      ]
     },
     "metadata": {},
     "output_type": "display_data"
    }
   ],
   "source": [
    "data = (sp_item_user * alpha).astype('double')\n",
    "model.fit(data)"
   ]
  },
  {
   "cell_type": "code",
   "execution_count": 9,
   "id": "882f0a57",
   "metadata": {},
   "outputs": [
    {
     "name": "stdout",
     "output_type": "stream",
     "text": [
      "[(2736, 0.7730313), (2629, 0.7692152), (848, 0.7180464), (1160, 0.7083988), (691, 0.58708537)]\n"
     ]
    }
   ],
   "source": [
    "recs_raw = model.recommend(1, sp_user_item, N=5)\n",
    "print(recs_raw)"
   ]
  },
  {
   "cell_type": "code",
   "execution_count": 10,
   "id": "7e301d85",
   "metadata": {},
   "outputs": [
    {
     "name": "stdout",
     "output_type": "stream",
     "text": [
      "325048    Show You How - The Killers\n",
      "Name: Song - Artist, dtype: object\n",
      "631587    I Am The Club (Explicit Album Version) - Plies\n",
      "Name: Song - Artist, dtype: object\n",
      "438930    You (featuring Tank) (Amended Album Version) -...\n",
      "Name: Song - Artist, dtype: object\n",
      "228969    Everyone's At It - Lily Allen\n",
      "Name: Song - Artist, dtype: object\n",
      "272655    One I Love - Coldplay\n",
      "Name: Song - Artist, dtype: object\n"
     ]
    }
   ],
   "source": [
    "for song_id , _ in recs_raw:\n",
    "    print(item_lookup[item_lookup['song_id'] == song_id.astype(str)]['Song - Artist'])"
   ]
  },
  {
   "cell_type": "markdown",
   "id": "80fc897d",
   "metadata": {},
   "source": [
    "# Bayesian Personalized Ranking"
   ]
  },
  {
   "cell_type": "markdown",
   "id": "091d86f6",
   "metadata": {},
   "source": [
    "https://medium.com/heyjobs-tech/building-recommendation-system-based-bayesian-personalized-ranking-using-tensorflow-2-1-b814d2704130"
   ]
  },
  {
   "cell_type": "markdown",
   "id": "98f14751",
   "metadata": {},
   "source": [
    "The missing values in the sparse matrix are **MNAR**. This is because we do not know if the user did not listen to a certain song because the user didn't like the song, was not aware of the song, or for some other reasons unforeseen to us."
   ]
  },
  {
   "cell_type": "code",
   "execution_count": 11,
   "id": "ae791f01",
   "metadata": {},
   "outputs": [],
   "source": [
    "model_bpr = implicit.bpr.BayesianPersonalizedRanking(\n",
    "                factors=factors, \n",
    "                regularization=regularization,\n",
    "                iterations=iterations)"
   ]
  },
  {
   "cell_type": "markdown",
   "id": "bb7285cb",
   "metadata": {},
   "source": [
    "To train a model based on Bayes Personalized Ranking, we need to define the triplets of a user, positive item and negative item.\n",
    "\n",
    "This means we must define what constitutes either a positive item or negative item in the scope of our dataset."
   ]
  },
  {
   "cell_type": "code",
   "execution_count": 46,
   "id": "e5b41f11",
   "metadata": {
    "scrolled": true
   },
   "outputs": [
    {
     "data": {
      "application/vnd.jupyter.widget-view+json": {
       "model_id": "a7dc87ad3dc048c58e718e2ce49bac31",
       "version_major": 2,
       "version_minor": 0
      },
      "text/plain": [
       "  0%|          | 0/20 [00:00<?, ?it/s]"
      ]
     },
     "metadata": {},
     "output_type": "display_data"
    }
   ],
   "source": [
    "model_bpr.fit(sp_item_user)"
   ]
  },
  {
   "cell_type": "code",
   "execution_count": 47,
   "id": "3735119c",
   "metadata": {},
   "outputs": [
    {
     "name": "stdout",
     "output_type": "stream",
     "text": [
      "763209    Brand New Broken Heart - NewFound Road\n",
      "Name: Song - Artist, dtype: object\n",
      "504826    You Need Hands (1993 Digital Remaster) - Malco...\n",
      "Name: Song - Artist, dtype: object\n",
      "740634    Lonesome To The Bone - Johnny Cash\n",
      "Name: Song - Artist, dtype: object\n",
      "754710    Die Meisten - Samy Deluxe\n",
      "Name: Song - Artist, dtype: object\n",
      "701335    The Luck You Got - The High Strung\n",
      "Name: Song - Artist, dtype: object\n"
     ]
    }
   ],
   "source": [
    "recs_raw_bpr = model_bpr.recommend(1, sp_user_item, N=5)\n",
    "for song_id , _ in recs_raw_bpr:\n",
    "    print(item_lookup[item_lookup['song_id'] == song_id.astype(str)]['Song - Artist'])"
   ]
  },
  {
   "cell_type": "markdown",
   "id": "fbc95f30",
   "metadata": {},
   "source": [
    "## Build triplets"
   ]
  },
  {
   "cell_type": "code",
   "execution_count": 14,
   "id": "f91148b4",
   "metadata": {},
   "outputs": [],
   "source": [
    "num_records_for_user = pd.DataFrame(\n",
    "    df.groupby(['user_id'])['song_id'].count().reset_index()\n",
    ").rename({'song_id' : 'records'}, axis=1)"
   ]
  },
  {
   "cell_type": "code",
   "execution_count": 15,
   "id": "808e1c91",
   "metadata": {},
   "outputs": [],
   "source": [
    "users_gt_1_record = num_records_for_user[num_records_for_user['records'] > 1]['user_id'].tolist()"
   ]
  },
  {
   "cell_type": "code",
   "execution_count": 16,
   "id": "4d61f05f",
   "metadata": {},
   "outputs": [],
   "source": [
    "half_users_gt_1 = len(users_gt_1_record) / 2"
   ]
  },
  {
   "cell_type": "code",
   "execution_count": 49,
   "id": "fc61a89d",
   "metadata": {},
   "outputs": [
    {
     "name": "stdout",
     "output_type": "stream",
     "text": [
      "0 users processed. Found 0 qualified users. 172844 users remaining.\n"
     ]
    },
    {
     "ename": "KeyError",
     "evalue": "'user_id'",
     "output_type": "error",
     "traceback": [
      "\u001b[0;31m---------------------------------------------------------------------------\u001b[0m",
      "\u001b[0;31mKeyError\u001b[0m                                  Traceback (most recent call last)",
      "\u001b[0;32m/opt/anaconda3/lib/python3.8/site-packages/pandas/core/indexes/base.py\u001b[0m in \u001b[0;36mget_loc\u001b[0;34m(self, key, method, tolerance)\u001b[0m\n\u001b[1;32m   3079\u001b[0m             \u001b[0;32mtry\u001b[0m\u001b[0;34m:\u001b[0m\u001b[0;34m\u001b[0m\u001b[0;34m\u001b[0m\u001b[0m\n\u001b[0;32m-> 3080\u001b[0;31m                 \u001b[0;32mreturn\u001b[0m \u001b[0mself\u001b[0m\u001b[0;34m.\u001b[0m\u001b[0m_engine\u001b[0m\u001b[0;34m.\u001b[0m\u001b[0mget_loc\u001b[0m\u001b[0;34m(\u001b[0m\u001b[0mcasted_key\u001b[0m\u001b[0;34m)\u001b[0m\u001b[0;34m\u001b[0m\u001b[0;34m\u001b[0m\u001b[0m\n\u001b[0m\u001b[1;32m   3081\u001b[0m             \u001b[0;32mexcept\u001b[0m \u001b[0mKeyError\u001b[0m \u001b[0;32mas\u001b[0m \u001b[0merr\u001b[0m\u001b[0;34m:\u001b[0m\u001b[0;34m\u001b[0m\u001b[0;34m\u001b[0m\u001b[0m\n",
      "\u001b[0;32mpandas/_libs/index.pyx\u001b[0m in \u001b[0;36mpandas._libs.index.IndexEngine.get_loc\u001b[0;34m()\u001b[0m\n",
      "\u001b[0;32mpandas/_libs/index.pyx\u001b[0m in \u001b[0;36mpandas._libs.index.IndexEngine.get_loc\u001b[0;34m()\u001b[0m\n",
      "\u001b[0;32mpandas/_libs/hashtable_class_helper.pxi\u001b[0m in \u001b[0;36mpandas._libs.hashtable.PyObjectHashTable.get_item\u001b[0;34m()\u001b[0m\n",
      "\u001b[0;32mpandas/_libs/hashtable_class_helper.pxi\u001b[0m in \u001b[0;36mpandas._libs.hashtable.PyObjectHashTable.get_item\u001b[0;34m()\u001b[0m\n",
      "\u001b[0;31mKeyError\u001b[0m: 'user_id'",
      "\nThe above exception was the direct cause of the following exception:\n",
      "\u001b[0;31mKeyError\u001b[0m                                  Traceback (most recent call last)",
      "\u001b[0;32m<ipython-input-49-55bfa5d2177b>\u001b[0m in \u001b[0;36m<module>\u001b[0;34m\u001b[0m\n\u001b[1;32m     10\u001b[0m         \u001b[0mprint\u001b[0m\u001b[0;34m(\u001b[0m\u001b[0;34mf'{len(processed_users)} users processed. Found {len(qualified_users)} qualified users. {len(users_gt_1_record) - len(processed_users)} users remaining.'\u001b[0m\u001b[0;34m)\u001b[0m\u001b[0;34m\u001b[0m\u001b[0;34m\u001b[0m\u001b[0m\n\u001b[1;32m     11\u001b[0m     \u001b[0mprocessed_users\u001b[0m\u001b[0;34m.\u001b[0m\u001b[0mappend\u001b[0m\u001b[0;34m(\u001b[0m\u001b[0muser\u001b[0m\u001b[0;34m)\u001b[0m\u001b[0;34m\u001b[0m\u001b[0;34m\u001b[0m\u001b[0m\n\u001b[0;32m---> 12\u001b[0;31m     \u001b[0mtemp\u001b[0m \u001b[0;34m=\u001b[0m \u001b[0mdf\u001b[0m\u001b[0;34m[\u001b[0m\u001b[0mdf\u001b[0m\u001b[0;34m[\u001b[0m\u001b[0;34m'user_id'\u001b[0m\u001b[0;34m]\u001b[0m \u001b[0;34m==\u001b[0m \u001b[0muser\u001b[0m\u001b[0;34m]\u001b[0m\u001b[0;34m\u001b[0m\u001b[0;34m\u001b[0m\u001b[0m\n\u001b[0m\u001b[1;32m     13\u001b[0m     \u001b[0mpositive\u001b[0m \u001b[0;34m=\u001b[0m \u001b[0;32mNone\u001b[0m\u001b[0;34m\u001b[0m\u001b[0;34m\u001b[0m\u001b[0m\n\u001b[1;32m     14\u001b[0m     \u001b[0mnegative\u001b[0m \u001b[0;34m=\u001b[0m \u001b[0;32mNone\u001b[0m\u001b[0;34m\u001b[0m\u001b[0;34m\u001b[0m\u001b[0m\n",
      "\u001b[0;32m/opt/anaconda3/lib/python3.8/site-packages/pandas/core/frame.py\u001b[0m in \u001b[0;36m__getitem__\u001b[0;34m(self, key)\u001b[0m\n\u001b[1;32m   3022\u001b[0m             \u001b[0;32mif\u001b[0m \u001b[0mself\u001b[0m\u001b[0;34m.\u001b[0m\u001b[0mcolumns\u001b[0m\u001b[0;34m.\u001b[0m\u001b[0mnlevels\u001b[0m \u001b[0;34m>\u001b[0m \u001b[0;36m1\u001b[0m\u001b[0;34m:\u001b[0m\u001b[0;34m\u001b[0m\u001b[0;34m\u001b[0m\u001b[0m\n\u001b[1;32m   3023\u001b[0m                 \u001b[0;32mreturn\u001b[0m \u001b[0mself\u001b[0m\u001b[0;34m.\u001b[0m\u001b[0m_getitem_multilevel\u001b[0m\u001b[0;34m(\u001b[0m\u001b[0mkey\u001b[0m\u001b[0;34m)\u001b[0m\u001b[0;34m\u001b[0m\u001b[0;34m\u001b[0m\u001b[0m\n\u001b[0;32m-> 3024\u001b[0;31m             \u001b[0mindexer\u001b[0m \u001b[0;34m=\u001b[0m \u001b[0mself\u001b[0m\u001b[0;34m.\u001b[0m\u001b[0mcolumns\u001b[0m\u001b[0;34m.\u001b[0m\u001b[0mget_loc\u001b[0m\u001b[0;34m(\u001b[0m\u001b[0mkey\u001b[0m\u001b[0;34m)\u001b[0m\u001b[0;34m\u001b[0m\u001b[0;34m\u001b[0m\u001b[0m\n\u001b[0m\u001b[1;32m   3025\u001b[0m             \u001b[0;32mif\u001b[0m \u001b[0mis_integer\u001b[0m\u001b[0;34m(\u001b[0m\u001b[0mindexer\u001b[0m\u001b[0;34m)\u001b[0m\u001b[0;34m:\u001b[0m\u001b[0;34m\u001b[0m\u001b[0;34m\u001b[0m\u001b[0m\n\u001b[1;32m   3026\u001b[0m                 \u001b[0mindexer\u001b[0m \u001b[0;34m=\u001b[0m \u001b[0;34m[\u001b[0m\u001b[0mindexer\u001b[0m\u001b[0;34m]\u001b[0m\u001b[0;34m\u001b[0m\u001b[0;34m\u001b[0m\u001b[0m\n",
      "\u001b[0;32m/opt/anaconda3/lib/python3.8/site-packages/pandas/core/indexes/base.py\u001b[0m in \u001b[0;36mget_loc\u001b[0;34m(self, key, method, tolerance)\u001b[0m\n\u001b[1;32m   3080\u001b[0m                 \u001b[0;32mreturn\u001b[0m \u001b[0mself\u001b[0m\u001b[0;34m.\u001b[0m\u001b[0m_engine\u001b[0m\u001b[0;34m.\u001b[0m\u001b[0mget_loc\u001b[0m\u001b[0;34m(\u001b[0m\u001b[0mcasted_key\u001b[0m\u001b[0;34m)\u001b[0m\u001b[0;34m\u001b[0m\u001b[0;34m\u001b[0m\u001b[0m\n\u001b[1;32m   3081\u001b[0m             \u001b[0;32mexcept\u001b[0m \u001b[0mKeyError\u001b[0m \u001b[0;32mas\u001b[0m \u001b[0merr\u001b[0m\u001b[0;34m:\u001b[0m\u001b[0;34m\u001b[0m\u001b[0;34m\u001b[0m\u001b[0m\n\u001b[0;32m-> 3082\u001b[0;31m                 \u001b[0;32mraise\u001b[0m \u001b[0mKeyError\u001b[0m\u001b[0;34m(\u001b[0m\u001b[0mkey\u001b[0m\u001b[0;34m)\u001b[0m \u001b[0;32mfrom\u001b[0m \u001b[0merr\u001b[0m\u001b[0;34m\u001b[0m\u001b[0;34m\u001b[0m\u001b[0m\n\u001b[0m\u001b[1;32m   3083\u001b[0m \u001b[0;34m\u001b[0m\u001b[0m\n\u001b[1;32m   3084\u001b[0m         \u001b[0;32mif\u001b[0m \u001b[0mtolerance\u001b[0m \u001b[0;32mis\u001b[0m \u001b[0;32mnot\u001b[0m \u001b[0;32mNone\u001b[0m\u001b[0;34m:\u001b[0m\u001b[0;34m\u001b[0m\u001b[0;34m\u001b[0m\u001b[0m\n",
      "\u001b[0;31mKeyError\u001b[0m: 'user_id'"
     ]
    }
   ],
   "source": [
    "threshold = 2\n",
    "qualified_users = []\n",
    "pos_user_item = {}\n",
    "neg_user_item = {}\n",
    "processed_users = []\n",
    "\n",
    "# for each user\n",
    "for user in users_gt_1_record:\n",
    "    if ( len(processed_users) % 10_000 == 0 ):\n",
    "        print(f'{len(processed_users)} users processed. Found {len(qualified_users)} qualified users. {len(users_gt_1_record) - len(processed_users)} users remaining.')\n",
    "    processed_users.append(user)\n",
    "    temp = df[df['user_id'] == user]\n",
    "    positive = None\n",
    "    negative = None\n",
    "    for _ , row in temp.iterrows():\n",
    "        if ( row['count'] > threshold ):\n",
    "            positive = user, row['song_id']\n",
    "            # pos_user_item[user] = row['song']\n",
    "        else : \n",
    "            negative = user, row['song_id']\n",
    "            # neg_user_item[user] = row['song']\n",
    "        if ( positive != None and negative != None ):\n",
    "            qualified_users.append(user)\n",
    "            pos_user_item[positive[0]] = positive[1]\n",
    "            neg_user_item[negative[0]] = negative[1]\n",
    "            break"
   ]
  },
  {
   "cell_type": "code",
   "execution_count": 36,
   "id": "07fcc69f",
   "metadata": {},
   "outputs": [],
   "source": [
    "triplets = pd.DataFrame(columns=['user_id','positive','negative'])\n",
    "for user in qualified_users:\n",
    "    triplets = triplets.append({\n",
    "        'user_id':user,\n",
    "        'positive':pos_user_item[user],\n",
    "        'negative':neg_user_item[user]}, ignore_index=True)\n",
    "#     triplets['user'] = user\n",
    "#     triplets['positive'] = pos_user_item[user]\n",
    "#     triplets['negative'] = neg_user_item[user]"
   ]
  },
  {
   "cell_type": "code",
   "execution_count": null,
   "id": "6d5dd06c",
   "metadata": {},
   "outputs": [],
   "source": []
  },
  {
   "cell_type": "code",
   "execution_count": 37,
   "id": "ce3d6a83",
   "metadata": {},
   "outputs": [
    {
     "data": {
      "text/html": [
       "<div>\n",
       "<style scoped>\n",
       "    .dataframe tbody tr th:only-of-type {\n",
       "        vertical-align: middle;\n",
       "    }\n",
       "\n",
       "    .dataframe tbody tr th {\n",
       "        vertical-align: top;\n",
       "    }\n",
       "\n",
       "    .dataframe thead th {\n",
       "        text-align: right;\n",
       "    }\n",
       "</style>\n",
       "<table border=\"1\" class=\"dataframe\">\n",
       "  <thead>\n",
       "    <tr style=\"text-align: right;\">\n",
       "      <th></th>\n",
       "      <th>user_id</th>\n",
       "      <th>positive</th>\n",
       "      <th>negative</th>\n",
       "    </tr>\n",
       "  </thead>\n",
       "  <tbody>\n",
       "    <tr>\n",
       "      <th>0</th>\n",
       "      <td>1</td>\n",
       "      <td>2370</td>\n",
       "      <td>2818</td>\n",
       "    </tr>\n",
       "    <tr>\n",
       "      <th>1</th>\n",
       "      <td>4</td>\n",
       "      <td>366</td>\n",
       "      <td>1894</td>\n",
       "    </tr>\n",
       "    <tr>\n",
       "      <th>2</th>\n",
       "      <td>5</td>\n",
       "      <td>2988</td>\n",
       "      <td>691</td>\n",
       "    </tr>\n",
       "    <tr>\n",
       "      <th>3</th>\n",
       "      <td>12</td>\n",
       "      <td>370</td>\n",
       "      <td>114</td>\n",
       "    </tr>\n",
       "    <tr>\n",
       "      <th>4</th>\n",
       "      <td>14</td>\n",
       "      <td>1231</td>\n",
       "      <td>1424</td>\n",
       "    </tr>\n",
       "    <tr>\n",
       "      <th>...</th>\n",
       "      <td>...</td>\n",
       "      <td>...</td>\n",
       "      <td>...</td>\n",
       "    </tr>\n",
       "    <tr>\n",
       "      <th>68328</th>\n",
       "      <td>418224</td>\n",
       "      <td>1354</td>\n",
       "      <td>2930</td>\n",
       "    </tr>\n",
       "    <tr>\n",
       "      <th>68329</th>\n",
       "      <td>418227</td>\n",
       "      <td>1215</td>\n",
       "      <td>114</td>\n",
       "    </tr>\n",
       "    <tr>\n",
       "      <th>68330</th>\n",
       "      <td>418229</td>\n",
       "      <td>1231</td>\n",
       "      <td>764</td>\n",
       "    </tr>\n",
       "    <tr>\n",
       "      <th>68331</th>\n",
       "      <td>418231</td>\n",
       "      <td>2381</td>\n",
       "      <td>2032</td>\n",
       "    </tr>\n",
       "    <tr>\n",
       "      <th>68332</th>\n",
       "      <td>418250</td>\n",
       "      <td>189</td>\n",
       "      <td>2661</td>\n",
       "    </tr>\n",
       "  </tbody>\n",
       "</table>\n",
       "<p>68333 rows × 3 columns</p>\n",
       "</div>"
      ],
      "text/plain": [
       "      user_id positive negative\n",
       "0           1     2370     2818\n",
       "1           4      366     1894\n",
       "2           5     2988      691\n",
       "3          12      370      114\n",
       "4          14     1231     1424\n",
       "...       ...      ...      ...\n",
       "68328  418224     1354     2930\n",
       "68329  418227     1215      114\n",
       "68330  418229     1231      764\n",
       "68331  418231     2381     2032\n",
       "68332  418250      189     2661\n",
       "\n",
       "[68333 rows x 3 columns]"
      ]
     },
     "execution_count": 37,
     "metadata": {},
     "output_type": "execute_result"
    }
   ],
   "source": [
    "# The assumption is that the recommendations should as many as possible high ranked movies \n",
    "# that a specific user has already watched.\n",
    "\n",
    "ground_truth_train = df_train[df_train.rating > 3].groupby('user_id').movie_id.agg(list).reset_index()\n",
    "\n",
    "ground_truth_train.head(1)"
   ]
  },
  {
   "cell_type": "code",
   "execution_count": 41,
   "id": "70b4892f",
   "metadata": {},
   "outputs": [],
   "source": [
    "def bpr_triplet_loss(X: dict):\n",
    "    \"\"\"\n",
    "    Calculate triplet loss - as higher the difference between positive interactions\n",
    "    and negative interactions as better\n",
    "    :param X: X contains the user input, positive item input, negative item input\n",
    "    :return:\n",
    "    \"\"\"\n",
    "    positive_item_latent, negative_item_latent, user_latent = X\n",
    "\n",
    "    positive_interactions = tf.math.reduce_sum(tf.math.multiply(user_latent, positive_item_latent), axis=-1, keepdims=True)\n",
    "    negative_interactions = tf.math.reduce_sum(tf.math.multiply(user_latent, negative_item_latent), axis=-1, keepdims=True)\n",
    "\n",
    "    return tf.math.subtract(tf.constant(1.0), tf.sigmoid(tf.math.subtract(positive_interactions, negative_interactions)))"
   ]
  },
  {
   "cell_type": "code",
   "execution_count": 44,
   "id": "af915b52",
   "metadata": {},
   "outputs": [
    {
     "ename": "NameError",
     "evalue": "name 'Model' is not defined",
     "output_type": "error",
     "traceback": [
      "\u001b[0;31m---------------------------------------------------------------------------\u001b[0m",
      "\u001b[0;31mNameError\u001b[0m                                 Traceback (most recent call last)",
      "\u001b[0;32m<ipython-input-44-c07f99041a14>\u001b[0m in \u001b[0;36m<module>\u001b[0;34m\u001b[0m\n\u001b[0;32m----> 1\u001b[0;31m \u001b[0;32mdef\u001b[0m \u001b[0mfull_auc\u001b[0m\u001b[0;34m(\u001b[0m\u001b[0mmodel\u001b[0m\u001b[0;34m:\u001b[0m \u001b[0mModel\u001b[0m\u001b[0;34m,\u001b[0m \u001b[0mground_truth\u001b[0m\u001b[0;34m:\u001b[0m \u001b[0mDict\u001b[0m\u001b[0;34m[\u001b[0m\u001b[0mint\u001b[0m\u001b[0;34m,\u001b[0m \u001b[0mlist\u001b[0m\u001b[0;34m]\u001b[0m\u001b[0;34m,\u001b[0m \u001b[0mitems\u001b[0m\u001b[0;34m:\u001b[0m \u001b[0mlist\u001b[0m\u001b[0;34m)\u001b[0m \u001b[0;34m->\u001b[0m \u001b[0mfloat\u001b[0m\u001b[0;34m:\u001b[0m\u001b[0;34m\u001b[0m\u001b[0;34m\u001b[0m\u001b[0m\n\u001b[0m\u001b[1;32m      2\u001b[0m     \"\"\"\n\u001b[1;32m      3\u001b[0m     \u001b[0;34m:\u001b[0m\u001b[0mparam\u001b[0m \u001b[0mmodel\u001b[0m\u001b[0;34m:\u001b[0m\u001b[0;34m\u001b[0m\u001b[0;34m\u001b[0m\u001b[0m\n\u001b[1;32m      4\u001b[0m     \u001b[0;34m:\u001b[0m\u001b[0mparam\u001b[0m \u001b[0mground_truth\u001b[0m\u001b[0;34m:\u001b[0m \u001b[0mdictionary\u001b[0m \u001b[0mof\u001b[0m \u001b[0mthe\u001b[0m \u001b[0musers\u001b[0m \u001b[0;32mand\u001b[0m \u001b[0mthe\u001b[0m \u001b[0mhigh\u001b[0m \u001b[0mranked\u001b[0m \u001b[0mmovies\u001b[0m \u001b[0;32mfor\u001b[0m \u001b[0mthe\u001b[0m \u001b[0mspecific\u001b[0m \u001b[0muser\u001b[0m\u001b[0;34m\u001b[0m\u001b[0;34m\u001b[0m\u001b[0m\n\u001b[1;32m      5\u001b[0m     \u001b[0;34m:\u001b[0m\u001b[0mparam\u001b[0m \u001b[0mitems\u001b[0m\u001b[0;34m:\u001b[0m \u001b[0ma\u001b[0m \u001b[0mlist\u001b[0m \u001b[0mof\u001b[0m \u001b[0mthe\u001b[0m \u001b[0mall\u001b[0m \u001b[0mavailable\u001b[0m \u001b[0mmovies\u001b[0m\u001b[0;34m\u001b[0m\u001b[0;34m\u001b[0m\u001b[0m\n",
      "\u001b[0;31mNameError\u001b[0m: name 'Model' is not defined"
     ]
    }
   ],
   "source": [
    "def full_auc(model: Model, ground_truth: Dict[int, list], items: list) -> float:\n",
    "    \"\"\"\n",
    "    :param model: \n",
    "    :param ground_truth: dictionary of the users and the high ranked movies for the specific user\n",
    "    :param items: a list of the all available movies\n",
    "    :return: AUC\n",
    "    \"\"\"\n",
    "\n",
    "    number_of_items = len(items)\n",
    "    scores = []\n",
    "\n",
    "    for user_id, true_item_ids in ground_truth:\n",
    "        predictions = bpr_predict(model, user_id, items)\n",
    "        grnd = np.zeros(number_of_items, dtype=np.int32)\n",
    "\n",
    "        for p in true_item_ids:\n",
    "            index = items.index(p)\n",
    "            grnd[index] = 1\n",
    "\n",
    "        if true_item_ids:\n",
    "            scores.append(roc_auc_score(grnd, predictions))\n",
    "\n",
    "    return sum(scores) / len(scores)\n"
   ]
  },
  {
   "cell_type": "code",
   "execution_count": 45,
   "id": "b2119340",
   "metadata": {},
   "outputs": [
    {
     "ename": "NameError",
     "evalue": "name 'Model' is not defined",
     "output_type": "error",
     "traceback": [
      "\u001b[0;31m---------------------------------------------------------------------------\u001b[0m",
      "\u001b[0;31mNameError\u001b[0m                                 Traceback (most recent call last)",
      "\u001b[0;32m<ipython-input-45-e2a0b199d237>\u001b[0m in \u001b[0;36m<module>\u001b[0;34m\u001b[0m\n\u001b[0;32m----> 1\u001b[0;31m def mean_average_precision_k(model: Model,  \n\u001b[0m\u001b[1;32m      2\u001b[0m                              \u001b[0mground_truth\u001b[0m\u001b[0;34m:\u001b[0m \u001b[0mDict\u001b[0m\u001b[0;34m[\u001b[0m\u001b[0mint\u001b[0m\u001b[0;34m,\u001b[0m \u001b[0mlist\u001b[0m\u001b[0;34m]\u001b[0m\u001b[0;34m,\u001b[0m\u001b[0;34m\u001b[0m\u001b[0;34m\u001b[0m\u001b[0m\n\u001b[1;32m      3\u001b[0m                              \u001b[0mitems\u001b[0m\u001b[0;34m:\u001b[0m \u001b[0mlist\u001b[0m\u001b[0;34m,\u001b[0m\u001b[0;34m\u001b[0m\u001b[0;34m\u001b[0m\u001b[0m\n\u001b[1;32m      4\u001b[0m                              k=100) -> float:\n\u001b[1;32m      5\u001b[0m     \u001b[0mscores\u001b[0m \u001b[0;34m=\u001b[0m \u001b[0;34m[\u001b[0m\u001b[0;34m]\u001b[0m\u001b[0;34m\u001b[0m\u001b[0;34m\u001b[0m\u001b[0m\n",
      "\u001b[0;31mNameError\u001b[0m: name 'Model' is not defined"
     ]
    }
   ],
   "source": [
    "def mean_average_precision_k(model: Model,  \n",
    "                             ground_truth: Dict[int, list], \n",
    "                             items: list, \n",
    "                             k=100) -> float:\n",
    "    scores = []\n",
    "\n",
    "    for user, actual in ground_truth:\n",
    "        predictions = bpr_predict(model, user, items)\n",
    "        predictions = dict(zip(items, predictions))\n",
    "        predictions = sorted(predictions.items(), key=lambda kv: kv[1], reverse=True)[:k]\n",
    "        predictions = list(OrderedDict(predictions).keys())\n",
    "\n",
    "        score = 0.0\n",
    "        num_hits = 0.0\n",
    "\n",
    "        for i, p in enumerate(predictions):\n",
    "            if p in actual:\n",
    "                num_hits += 1.0\n",
    "                score += num_hits / (i + 1.0)\n",
    "\n",
    "        score = score / min(len(actual), k)\n",
    "        scores.append(score)\n",
    "\n",
    "    return np.mean(scores)"
   ]
  },
  {
   "cell_type": "code",
   "execution_count": null,
   "id": "1652fb12",
   "metadata": {},
   "outputs": [],
   "source": []
  }
 ],
 "metadata": {
  "kernelspec": {
   "display_name": "Python 3",
   "language": "python",
   "name": "python3"
  },
  "language_info": {
   "codemirror_mode": {
    "name": "ipython",
    "version": 3
   },
   "file_extension": ".py",
   "mimetype": "text/x-python",
   "name": "python",
   "nbconvert_exporter": "python",
   "pygments_lexer": "ipython3",
   "version": "3.8.8"
  }
 },
 "nbformat": 4,
 "nbformat_minor": 5
}

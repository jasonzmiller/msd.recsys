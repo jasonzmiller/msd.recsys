{
 "cells": [
  {
   "cell_type": "code",
   "execution_count": 1,
   "id": "00952880-263e-425e-91ae-b8871b01409a",
   "metadata": {},
   "outputs": [],
   "source": [
    "import pandas as pd\n",
    "import numpy as np"
   ]
  },
  {
   "cell_type": "code",
   "execution_count": 9,
   "id": "03df0285-e75e-4a24-acd9-d93cde49c831",
   "metadata": {},
   "outputs": [],
   "source": [
    "df = pd.read_csv('../datasets/train_triplets.txt', header=None, sep='\\t', names=['user','song','count'])"
   ]
  },
  {
   "cell_type": "code",
   "execution_count": 10,
   "id": "359dcff3-f00e-4045-ba06-fed5eb551ec2",
   "metadata": {},
   "outputs": [
    {
     "data": {
      "text/html": [
       "<div>\n",
       "<style scoped>\n",
       "    .dataframe tbody tr th:only-of-type {\n",
       "        vertical-align: middle;\n",
       "    }\n",
       "\n",
       "    .dataframe tbody tr th {\n",
       "        vertical-align: top;\n",
       "    }\n",
       "\n",
       "    .dataframe thead th {\n",
       "        text-align: right;\n",
       "    }\n",
       "</style>\n",
       "<table border=\"1\" class=\"dataframe\">\n",
       "  <thead>\n",
       "    <tr style=\"text-align: right;\">\n",
       "      <th></th>\n",
       "      <th>user</th>\n",
       "      <th>song</th>\n",
       "      <th>count</th>\n",
       "    </tr>\n",
       "  </thead>\n",
       "  <tbody>\n",
       "    <tr>\n",
       "      <th>0</th>\n",
       "      <td>b80344d063b5ccb3212f76538f3d9e43d87dca9e</td>\n",
       "      <td>SOAKIMP12A8C130995</td>\n",
       "      <td>1</td>\n",
       "    </tr>\n",
       "    <tr>\n",
       "      <th>1</th>\n",
       "      <td>b80344d063b5ccb3212f76538f3d9e43d87dca9e</td>\n",
       "      <td>SOAPDEY12A81C210A9</td>\n",
       "      <td>1</td>\n",
       "    </tr>\n",
       "    <tr>\n",
       "      <th>2</th>\n",
       "      <td>b80344d063b5ccb3212f76538f3d9e43d87dca9e</td>\n",
       "      <td>SOBBMDR12A8C13253B</td>\n",
       "      <td>2</td>\n",
       "    </tr>\n",
       "    <tr>\n",
       "      <th>3</th>\n",
       "      <td>b80344d063b5ccb3212f76538f3d9e43d87dca9e</td>\n",
       "      <td>SOBFNSP12AF72A0E22</td>\n",
       "      <td>1</td>\n",
       "    </tr>\n",
       "    <tr>\n",
       "      <th>4</th>\n",
       "      <td>b80344d063b5ccb3212f76538f3d9e43d87dca9e</td>\n",
       "      <td>SOBFOVM12A58A7D494</td>\n",
       "      <td>1</td>\n",
       "    </tr>\n",
       "  </tbody>\n",
       "</table>\n",
       "</div>"
      ],
      "text/plain": [
       "                                       user                song  count\n",
       "0  b80344d063b5ccb3212f76538f3d9e43d87dca9e  SOAKIMP12A8C130995      1\n",
       "1  b80344d063b5ccb3212f76538f3d9e43d87dca9e  SOAPDEY12A81C210A9      1\n",
       "2  b80344d063b5ccb3212f76538f3d9e43d87dca9e  SOBBMDR12A8C13253B      2\n",
       "3  b80344d063b5ccb3212f76538f3d9e43d87dca9e  SOBFNSP12AF72A0E22      1\n",
       "4  b80344d063b5ccb3212f76538f3d9e43d87dca9e  SOBFOVM12A58A7D494      1"
      ]
     },
     "execution_count": 10,
     "metadata": {},
     "output_type": "execute_result"
    }
   ],
   "source": [
    "df.head()"
   ]
  },
  {
   "cell_type": "code",
   "execution_count": 11,
   "id": "c1488768-b142-44aa-8a2b-b8fea7a55169",
   "metadata": {},
   "outputs": [],
   "source": [
    "nusers = df.user.nunique()\n",
    "nsongs = df.song.nunique()"
   ]
  },
  {
   "cell_type": "code",
   "execution_count": 12,
   "id": "0553381b-71e0-4e4f-b08b-83fa40081f70",
   "metadata": {},
   "outputs": [
    {
     "name": "stdout",
     "output_type": "stream",
     "text": [
      "1019318 users, 384546 songs\n"
     ]
    }
   ],
   "source": [
    "print(f'{nusers} users, {nsongs} songs')"
   ]
  },
  {
   "cell_type": "code",
   "execution_count": 14,
   "id": "e95ee5ea-706c-4b9c-a254-5135e34bbec0",
   "metadata": {},
   "outputs": [],
   "source": [
    "# Convert user id and song id to numerical ids\n",
    "df['user_id'] = df['user'].astype('category').cat.codes\n",
    "df['song_id'] = df['song'].astype('category').cat.codes\n",
    "\n",
    "df_orig = df.copy()\n",
    "\n",
    "# Drop 'user' and 'song'\n",
    "df = df.drop(['user','song'], axis=1)\n",
    "\n",
    "# Sort values\n",
    "df = df.sort_values(by=['user_id','song_id'])"
   ]
  },
  {
   "cell_type": "code",
   "execution_count": 16,
   "id": "38cdf435-c984-4c13-af8f-38ebddc257e3",
   "metadata": {},
   "outputs": [],
   "source": [
    "records_per_user = (\n",
    "        df.groupby('user_id')['song_id'].count()\n",
    "    ).reset_index().rename({'song_id':'records_per_user'}, axis=1)"
   ]
  },
  {
   "cell_type": "code",
   "execution_count": 25,
   "id": "f84ff184-4d11-4a28-a600-5b374297def2",
   "metadata": {},
   "outputs": [],
   "source": [
    "records_per_song = (\n",
    "        df.groupby('song_id')['user_id'].count()\n",
    "    ).reset_index().rename({'user_id': 'records_per_song'}, axis=1)"
   ]
  },
  {
   "cell_type": "code",
   "execution_count": 47,
   "id": "483d610f-f611-4109-9e74-df9cc65f19b6",
   "metadata": {},
   "outputs": [
    {
     "data": {
      "text/plain": [
       "records_per_user\n",
       "10    50608\n",
       "11    46219\n",
       "12    42170\n",
       "13    38721\n",
       "14    35585\n",
       "15    33065\n",
       "16    30834\n",
       "17    28662\n",
       "18    26931\n",
       "19    25420\n",
       "20    23627\n",
       "21    22268\n",
       "22    20679\n",
       "23    19546\n",
       "24    18646\n",
       "Name: user_id, dtype: int64"
      ]
     },
     "execution_count": 47,
     "metadata": {},
     "output_type": "execute_result"
    }
   ],
   "source": [
    "records_per_user.groupby('records_per_user')['user_id'].count().iloc[:15]"
   ]
  },
  {
   "cell_type": "code",
   "execution_count": 48,
   "id": "4ee60b7e-5b63-48ad-a210-df46c8b1a569",
   "metadata": {},
   "outputs": [
    {
     "data": {
      "text/plain": [
       "records_per_song\n",
       "1     31781\n",
       "2     26516\n",
       "3     22192\n",
       "4     18996\n",
       "5     16354\n",
       "6     14477\n",
       "7     12287\n",
       "8     11048\n",
       "9      9679\n",
       "10     8689\n",
       "11     7860\n",
       "12     7308\n",
       "13     6565\n",
       "14     5916\n",
       "15     5474\n",
       "Name: song_id, dtype: int64"
      ]
     },
     "execution_count": 48,
     "metadata": {},
     "output_type": "execute_result"
    }
   ],
   "source": [
    "records_per_song.groupby('records_per_song')['song_id'].count().iloc[:15]"
   ]
  },
  {
   "cell_type": "code",
   "execution_count": 91,
   "id": "8276d128-eef5-4696-bd0b-6a1b7aa35ec7",
   "metadata": {},
   "outputs": [
    {
     "data": {
      "text/plain": [
       "806015"
      ]
     },
     "execution_count": 91,
     "metadata": {},
     "output_type": "execute_result"
    }
   ],
   "source": [
    "# users that have 15 or more records in dataset\n",
    "qusers_15 = np.sort(records_per_user[records_per_user['records_per_user'] >= 15]['user_id'].values)\n",
    "len(qusers_15)"
   ]
  },
  {
   "cell_type": "code",
   "execution_count": 96,
   "id": "1221c567-c9e5-4f73-a005-841e3a525ee3",
   "metadata": {},
   "outputs": [
    {
     "data": {
      "text/plain": [
       "221216"
      ]
     },
     "execution_count": 96,
     "metadata": {},
     "output_type": "execute_result"
    }
   ],
   "source": [
    "# songs that have 10 or more records in dataset\n",
    "qsongs_10 = np.sort(records_per_song[records_per_song['records_per_song'] >= 10]['song_id'].values)\n",
    "len(qsongs_10)"
   ]
  },
  {
   "cell_type": "code",
   "execution_count": 103,
   "id": "c05f632f-658a-41b9-8a0d-976b4fe139ef",
   "metadata": {},
   "outputs": [],
   "source": [
    "df_15_10 = pd.DataFrame(columns=['count','user_id','song_id'])\n",
    "\n",
    "for user in qusers_15:\n",
    "    usongs = df[df['user_id'] == user]['song_id'].values\n",
    "    "
   ]
  },
  {
   "cell_type": "code",
   "execution_count": 93,
   "id": "b2342942-1afe-4fe9-863b-67d966e60ad5",
   "metadata": {},
   "outputs": [
    {
     "ename": "NameError",
     "evalue": "name 'song' is not defined",
     "output_type": "error",
     "traceback": [
      "\u001b[0;31m---------------------------------------------------------------------------\u001b[0m",
      "\u001b[0;31mNameError\u001b[0m                                 Traceback (most recent call last)",
      "\u001b[0;32m<ipython-input-93-af4f5bfc5f21>\u001b[0m in \u001b[0;36m<module>\u001b[0;34m\u001b[0m\n\u001b[0;32m----> 1\u001b[0;31m \u001b[0mqusers_15_10\u001b[0m \u001b[0;34m=\u001b[0m \u001b[0;34m[\u001b[0m\u001b[0muser\u001b[0m \u001b[0;32mfor\u001b[0m \u001b[0muser\u001b[0m \u001b[0;32min\u001b[0m \u001b[0mqusers_15\u001b[0m \u001b[0;32mif\u001b[0m \u001b[0mdf\u001b[0m\u001b[0;34m[\u001b[0m\u001b[0mdf\u001b[0m\u001b[0;34m[\u001b[0m\u001b[0;34m'user_id'\u001b[0m\u001b[0;34m]\u001b[0m \u001b[0;34m==\u001b[0m \u001b[0muser\u001b[0m\u001b[0;34m]\u001b[0m\u001b[0;34m.\u001b[0m\u001b[0mvalues\u001b[0m\u001b[0;34m.\u001b[0m\u001b[0m__contains__\u001b[0m\u001b[0;34m(\u001b[0m\u001b[0msong\u001b[0m \u001b[0;32min\u001b[0m \u001b[0mqsongs_10\u001b[0m\u001b[0;34m)\u001b[0m\u001b[0;34m]\u001b[0m\u001b[0;34m\u001b[0m\u001b[0;34m\u001b[0m\u001b[0m\n\u001b[0m",
      "\u001b[0;32m<ipython-input-93-af4f5bfc5f21>\u001b[0m in \u001b[0;36m<listcomp>\u001b[0;34m(.0)\u001b[0m\n\u001b[0;32m----> 1\u001b[0;31m \u001b[0mqusers_15_10\u001b[0m \u001b[0;34m=\u001b[0m \u001b[0;34m[\u001b[0m\u001b[0muser\u001b[0m \u001b[0;32mfor\u001b[0m \u001b[0muser\u001b[0m \u001b[0;32min\u001b[0m \u001b[0mqusers_15\u001b[0m \u001b[0;32mif\u001b[0m \u001b[0mdf\u001b[0m\u001b[0;34m[\u001b[0m\u001b[0mdf\u001b[0m\u001b[0;34m[\u001b[0m\u001b[0;34m'user_id'\u001b[0m\u001b[0;34m]\u001b[0m \u001b[0;34m==\u001b[0m \u001b[0muser\u001b[0m\u001b[0;34m]\u001b[0m\u001b[0;34m.\u001b[0m\u001b[0mvalues\u001b[0m\u001b[0;34m.\u001b[0m\u001b[0m__contains__\u001b[0m\u001b[0;34m(\u001b[0m\u001b[0msong\u001b[0m \u001b[0;32min\u001b[0m \u001b[0mqsongs_10\u001b[0m\u001b[0;34m)\u001b[0m\u001b[0;34m]\u001b[0m\u001b[0;34m\u001b[0m\u001b[0;34m\u001b[0m\u001b[0m\n\u001b[0m",
      "\u001b[0;31mNameError\u001b[0m: name 'song' is not defined"
     ]
    }
   ],
   "source": [
    "qusers_15_10 = [user for user in qusers_15 if df[df['user_id'] == user].values.__contains__(song in qsongs_10)]"
   ]
  },
  {
   "cell_type": "code",
   "execution_count": null,
   "id": "b5b8129a-d9ad-4c9c-862e-83c3e53addaa",
   "metadata": {},
   "outputs": [],
   "source": []
  },
  {
   "cell_type": "code",
   "execution_count": null,
   "id": "f0c5f7ef-0ca6-42b4-9c56-9388e759d6ee",
   "metadata": {},
   "outputs": [],
   "source": []
  },
  {
   "cell_type": "code",
   "execution_count": null,
   "id": "068c44a8-8652-4120-98fe-8675c0d3254b",
   "metadata": {},
   "outputs": [],
   "source": []
  },
  {
   "cell_type": "code",
   "execution_count": null,
   "id": "55e659e8-0fe3-4985-8890-2d248ed93afc",
   "metadata": {},
   "outputs": [],
   "source": []
  },
  {
   "cell_type": "code",
   "execution_count": null,
   "id": "35f050e8-c118-43d8-9c7e-8ce995383b91",
   "metadata": {},
   "outputs": [],
   "source": []
  },
  {
   "cell_type": "code",
   "execution_count": null,
   "id": "b0d39def-faa2-492e-932b-674ff51c8410",
   "metadata": {},
   "outputs": [],
   "source": []
  },
  {
   "cell_type": "code",
   "execution_count": null,
   "id": "b6e8e90c-b738-42bb-b667-d37b50edc0d2",
   "metadata": {},
   "outputs": [],
   "source": []
  },
  {
   "cell_type": "code",
   "execution_count": null,
   "id": "d26be45f-7522-4cbf-bf33-81686a7d66e6",
   "metadata": {},
   "outputs": [],
   "source": []
  },
  {
   "cell_type": "code",
   "execution_count": null,
   "id": "e4c78367-65b4-4f11-8872-7687d3a37387",
   "metadata": {},
   "outputs": [],
   "source": []
  },
  {
   "cell_type": "code",
   "execution_count": 73,
   "id": "57fb753b-cd23-4434-a3f1-adf0464bc93b",
   "metadata": {},
   "outputs": [],
   "source": [
    "import matplotlib.pyplot as plt\n",
    "%matplotlib inline"
   ]
  },
  {
   "cell_type": "code",
   "execution_count": 80,
   "id": "6f6e7b50-c3ab-4391-8e75-257ecdcfa0bf",
   "metadata": {},
   "outputs": [
    {
     "data": {
      "image/png": "[encoded data removed]",
      "text/plain": [
       "<Figure size 432x288 with 1 Axes>"
      ]
     },
     "metadata": {
      "needs_background": "light"
     },
     "output_type": "display_data"
    }
   ],
   "source": [
    "latent_dims = [200, 250, 300, 350]\n",
    "precision = [0.965031, 0.968241, 0.968892, 0.969123]\n",
    "log_precision = [np.log(x) for x in precision]\n",
    "recall = [0.168893, 0.169767, 0.169883, 0.169924]\n",
    "log_recall = [np.log(x) for x in recall]\n",
    "hit_ratio = [0.914239, 0.91897, 0.9196, 0.919823]\n",
    "log_hit_ratio = [np.log(x) for x in hit_ratio]\n",
    "\n",
    "plt.plot(latent_dims, precision, label='precision')\n",
    "plt.plot(latent_dims, hit_ratio, label='hit_ratio')\n",
    "plt.xlabel('Latent Dimensions')\n",
    "plt.legend()\n",
    "plt.show()"
   ]
  },
  {
   "cell_type": "code",
   "execution_count": 82,
   "id": "4d85d454-2a9d-41fe-b99f-3ac7f3672bcb",
   "metadata": {},
   "outputs": [
    {
     "data": {
      "image/png": "[encoded data removed]",
      "text/plain": [
       "<Figure size 432x288 with 1 Axes>"
      ]
     },
     "metadata": {
      "needs_background": "light"
     },
     "output_type": "display_data"
    }
   ],
   "source": [
    "plt.plot(latent_dims, recall, label='recall')\n",
    "plt.xlabel('Latent Dimensions')\n",
    "plt.legend()\n",
    "plt.show()"
   ]
  },
  {
   "cell_type": "code",
   "execution_count": null,
   "id": "4544764d-e2a6-4ca9-98cd-f4d2ba9b48ab",
   "metadata": {},
   "outputs": [],
   "source": []
  }
 ],
 "metadata": {
  "kernelspec": {
   "display_name": "Python 3",
   "language": "python",
   "name": "python3"
  },
  "language_info": {
   "codemirror_mode": {
    "name": "ipython",
    "version": 3
   },
   "file_extension": ".py",
   "mimetype": "text/x-python",
   "name": "python",
   "nbconvert_exporter": "python",
   "pygments_lexer": "ipython3",
   "version": "3.8.8"
  }
 },
 "nbformat": 4,
 "nbformat_minor": 5
}

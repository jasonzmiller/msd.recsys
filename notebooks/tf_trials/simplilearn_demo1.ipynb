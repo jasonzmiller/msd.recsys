{
 "cells": [
  {
   "cell_type": "code",
   "execution_count": 1,
   "id": "6e48a923",
   "metadata": {},
   "outputs": [
    {
     "name": "stdout",
     "output_type": "stream",
     "text": [
      "Your Tensorflow version: 2.5.0\n"
     ]
    }
   ],
   "source": [
    "import tensorflow as tf\n",
    "print(('Your Tensorflow version: {0}').format(tf.__version__))"
   ]
  },
  {
   "cell_type": "code",
   "execution_count": 3,
   "id": "cb8ade79",
   "metadata": {},
   "outputs": [
    {
     "data": {
      "text/plain": [
       "<tf.Tensor: shape=(2, 2), dtype=int32, numpy=\n",
       "array([[4, 3],\n",
       "       [6, 1]], dtype=int32)>"
      ]
     },
     "execution_count": 3,
     "metadata": {},
     "output_type": "execute_result"
    }
   ],
   "source": [
    "# Create a constant tensor A\n",
    "A = tf.constant([[4,3],\n",
    "                 [6,1]])\n",
    "A"
   ]
  },
  {
   "cell_type": "code",
   "execution_count": 5,
   "id": "1d0b6fa7",
   "metadata": {},
   "outputs": [
    {
     "name": "stdout",
     "output_type": "stream",
     "text": [
      "<tf.Variable 'Variable:0' shape=(2, 2) dtype=int32, numpy=\n",
      "array([[3, 1],\n",
      "       [4, 5]], dtype=int32)>\n",
      "tf.Tensor(\n",
      "[[7 8]\n",
      " [4 5]], shape=(2, 2), dtype=int32)\n"
     ]
    }
   ],
   "source": [
    "# Create a variable tensor V\n",
    "V = tf.Variable([[3,1],\n",
    "                 [4,5]])\n",
    "# Create another tensor B\n",
    "B = tf.constant([[7,8],\n",
    "                 [4,5]])\n",
    "print(V)\n",
    "print(B)"
   ]
  },
  {
   "cell_type": "code",
   "execution_count": 6,
   "id": "1ce5f17c",
   "metadata": {},
   "outputs": [
    {
     "data": {
      "text/plain": [
       "<tf.Tensor: shape=(2, 4), dtype=int32, numpy=\n",
       "array([[4, 3, 7, 8],\n",
       "       [6, 1, 4, 5]], dtype=int32)>"
      ]
     },
     "execution_count": 6,
     "metadata": {},
     "output_type": "execute_result"
    }
   ],
   "source": [
    "# Concatenate columns\n",
    "AB_concatenated = tf.concat(values=[A,B], axis=1)\n",
    "AB_concatenated"
   ]
  },
  {
   "cell_type": "code",
   "execution_count": 7,
   "id": "6bc44458",
   "metadata": {},
   "outputs": [
    {
     "data": {
      "text/plain": [
       "<tf.Tensor: shape=(4, 2), dtype=int32, numpy=\n",
       "array([[4, 3],\n",
       "       [6, 1],\n",
       "       [7, 8],\n",
       "       [4, 5]], dtype=int32)>"
      ]
     },
     "execution_count": 7,
     "metadata": {},
     "output_type": "execute_result"
    }
   ],
   "source": [
    "# Concatenate rows\n",
    "AB_concatenated = tf.concat(values=[A,B], axis=0)\n",
    "AB_concatenated"
   ]
  },
  {
   "cell_type": "code",
   "execution_count": 11,
   "id": "1f1883ca",
   "metadata": {},
   "outputs": [
    {
     "name": "stdout",
     "output_type": "stream",
     "text": [
      "tf.Tensor(\n",
      "[[0 0 0 0]\n",
      " [0 0 0 0]\n",
      " [0 0 0 0]], shape=(3, 4), dtype=int32)\n",
      "tf.Tensor(\n",
      "[[1 1 1 1]\n",
      " [1 1 1 1]\n",
      " [1 1 1 1]], shape=(3, 4), dtype=int32)\n",
      "tf.Tensor(\n",
      "[[0.37793577 0.05848992 0.9313886  0.64358854]\n",
      " [0.8564768  0.43852234 0.96035314 0.484033  ]\n",
      " [0.9751936  0.63782823 0.10739052 0.5677314 ]], shape=(3, 4), dtype=float32)\n"
     ]
    }
   ],
   "source": [
    "# Usually we initialize tensors with random numbers\n",
    "# But use 0s and 1s for masking\n",
    "tensor = tf.zeros(shape=[3,4], dtype=tf.int32)\n",
    "print(tensor)\n",
    "tensor = tf.ones(shape=[3,4], dtype=tf.int32)\n",
    "print(tensor)\n",
    "tensor = tf.random.uniform(shape=[3,4], dtype=tf.float32)\n",
    "print(tensor)"
   ]
  },
  {
   "cell_type": "code",
   "execution_count": 12,
   "id": "e1261339",
   "metadata": {},
   "outputs": [
    {
     "data": {
      "text/plain": [
       "<tf.Tensor: shape=(4, 3), dtype=float32, numpy=\n",
       "array([[0.37793577, 0.05848992, 0.9313886 ],\n",
       "       [0.64358854, 0.8564768 , 0.43852234],\n",
       "       [0.96035314, 0.484033  , 0.9751936 ],\n",
       "       [0.63782823, 0.10739052, 0.5677314 ]], dtype=float32)>"
      ]
     },
     "execution_count": 12,
     "metadata": {},
     "output_type": "execute_result"
    }
   ],
   "source": [
    "reshaped_tensor = tf.reshape(tensor=tensor, shape=[4,3])\n",
    "reshaped_tensor"
   ]
  },
  {
   "cell_type": "code",
   "execution_count": 13,
   "id": "2c5dc31d",
   "metadata": {},
   "outputs": [
    {
     "name": "stdout",
     "output_type": "stream",
     "text": [
      "tf.Tensor(\n",
      "[[4.6 4.2]\n",
      " [7.5 3.6]\n",
      " [2.7 9.4]\n",
      " [6.7 8.3]], shape=(4, 2), dtype=float32)\n",
      "tf.Tensor(\n",
      "[[4 4]\n",
      " [7 3]\n",
      " [2 9]\n",
      " [6 8]], shape=(4, 2), dtype=int32)\n"
     ]
    }
   ],
   "source": [
    "tensor = tf.constant([[4.6, 4.2],\n",
    "                      [7.5, 3.6], \n",
    "                      [2.7, 9.4],\n",
    "                      [6.7, 8.3]], \n",
    "                      dtype=tf.float32)\n",
    "tensor_as_int = tf.cast(tensor, tf.int32)\n",
    "print(tensor)\n",
    "print(tensor_as_int)"
   ]
  },
  {
   "cell_type": "code",
   "execution_count": 14,
   "id": "b5f46c0c",
   "metadata": {},
   "outputs": [
    {
     "data": {
      "text/plain": [
       "<tf.Tensor: shape=(2, 4), dtype=int32, numpy=\n",
       "array([[4, 7, 2, 6],\n",
       "       [4, 3, 9, 8]], dtype=int32)>"
      ]
     },
     "execution_count": 14,
     "metadata": {},
     "output_type": "execute_result"
    }
   ],
   "source": [
    "# Notice this is a true transpose\n",
    "# whereas reshape simply reshaped it 'linearly'\n",
    "a = tf.transpose(tensor_as_int)\n",
    "a"
   ]
  },
  {
   "cell_type": "code",
   "execution_count": 15,
   "id": "36510b30",
   "metadata": {},
   "outputs": [
    {
     "data": {
      "text/plain": [
       "<tf.Tensor: shape=(2, 1), dtype=int32, numpy=\n",
       "array([[36],\n",
       "       [30]], dtype=int32)>"
      ]
     },
     "execution_count": 15,
     "metadata": {},
     "output_type": "execute_result"
    }
   ],
   "source": [
    "A = tf.constant([[5, 8],\n",
    "                 [3, 9]])\n",
    "\n",
    "v = tf.constant([[4],[2]])\n",
    "\n",
    "Av = tf.matmul(A,v)\n",
    "Av"
   ]
  },
  {
   "cell_type": "code",
   "execution_count": 17,
   "id": "773fceb9",
   "metadata": {},
   "outputs": [
    {
     "data": {
      "text/plain": [
       "<tf.Tensor: shape=(2, 2), dtype=int32, numpy=\n",
       "array([[20, 32],\n",
       "       [ 6, 18]], dtype=int32)>"
      ]
     },
     "execution_count": 17,
     "metadata": {},
     "output_type": "execute_result"
    }
   ],
   "source": [
    "Av = tf.multiply(A, v)\n",
    "Av"
   ]
  },
  {
   "cell_type": "code",
   "execution_count": 22,
   "id": "f2147be0",
   "metadata": {},
   "outputs": [
    {
     "name": "stdout",
     "output_type": "stream",
     "text": [
      "rows: 3, columns: 2\n",
      "tf.Tensor(\n",
      "[[1 0]\n",
      " [0 1]\n",
      " [0 0]], shape=(3, 2), dtype=int32)\n"
     ]
    }
   ],
   "source": [
    "# Create an identity matrix\n",
    "A = tf.constant([[4, 9], [5, 6], [1, 8]])\n",
    "rows, columns = A.shape\n",
    "print('rows: {0}, columns: {1}'.format(rows, columns))\n",
    "A_identity = tf.eye(num_rows=rows, num_columns=columns, dtype=tf.int32)\n",
    "print(A_identity)"
   ]
  }
 ],
 "metadata": {
  "kernelspec": {
   "display_name": "Python 3",
   "language": "python",
   "name": "python3"
  },
  "language_info": {
   "codemirror_mode": {
    "name": "ipython",
    "version": 3
   },
   "file_extension": ".py",
   "mimetype": "text/x-python",
   "name": "python",
   "nbconvert_exporter": "python",
   "pygments_lexer": "ipython3",
   "version": "3.8.8"
  }
 },
 "nbformat": 4,
 "nbformat_minor": 5
}

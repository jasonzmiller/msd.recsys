{
 "cells": [
  {
   "cell_type": "markdown",
   "id": "4ee42ef1",
   "metadata": {},
   "source": [
    "https://heartbeat.fritz.ai/build-train-and-deploy-a-book-recommender-system-using-keras-tensorflow-js-b96944b936a7\n",
    "\n",
    "https://gist.github.com/risenW"
   ]
  },
  {
   "cell_type": "code",
   "execution_count": 1,
   "id": "b6a2bcc7",
   "metadata": {},
   "outputs": [],
   "source": [
    "import pandas as pd\n",
    "import numpy as np\n",
    "import tensorflow as tf\n",
    "import tensorflow.keras as keras\n",
    "import tensorflow.keras.layers as layers\n",
    "from sklearn.model_selection import train_test_split"
   ]
  },
  {
   "cell_type": "code",
   "execution_count": 2,
   "id": "c6f47adb",
   "metadata": {},
   "outputs": [],
   "source": [
    "df = pd.read_pickle('./datasets/clean_df.csv', compression='zip')"
   ]
  },
  {
   "cell_type": "code",
   "execution_count": 3,
   "id": "b8b978a2",
   "metadata": {},
   "outputs": [],
   "source": [
    "# Convert user id and song id to numerical ids\n",
    "df['user_id'] = df['user'].astype('category').cat.codes\n",
    "df['song_id'] = df['song'].astype('category').cat.codes\n",
    "\n",
    "# Create lookup frame so we can get the 'Song - Artist' later\n",
    "item_lookup = df[['song_id','Song - Artist']].drop_duplicates()\n",
    "item_lookup['song_id'] = item_lookup['song_id'].astype(str)"
   ]
  },
  {
   "cell_type": "code",
   "execution_count": 4,
   "id": "1d80ef27",
   "metadata": {},
   "outputs": [],
   "source": [
    "# Drop 'user' and 'song' and 'Song - Artist'\n",
    "df = df.drop(['user','song','Song - Artist'], axis=1)"
   ]
  },
  {
   "cell_type": "code",
   "execution_count": 5,
   "id": "012e4cc0",
   "metadata": {},
   "outputs": [],
   "source": [
    "df = df[['song_id','user_id','count']]"
   ]
  },
  {
   "cell_type": "code",
   "execution_count": 6,
   "id": "31fa9b5a",
   "metadata": {},
   "outputs": [
    {
     "name": "stdout",
     "output_type": "stream",
     "text": [
      "Shape of train data: (618128, 3)\n",
      "Shape of test data: (154533, 3)\n"
     ]
    }
   ],
   "source": [
    "# train-test split 80/20\n",
    "Xtrain, Xtest = train_test_split(df, test_size=0.2, random_state=1)\n",
    "print(f\"Shape of train data: {Xtrain.shape}\")\n",
    "print(f\"Shape of test data: {Xtest.shape}\")"
   ]
  },
  {
   "cell_type": "code",
   "execution_count": 7,
   "id": "8137e2de",
   "metadata": {},
   "outputs": [],
   "source": [
    "# Get number of unique entities in songs & users columns\n",
    "nsong_id = df.song_id.nunique()\n",
    "nuser_id = df.user_id.nunique()"
   ]
  },
  {
   "cell_type": "code",
   "execution_count": 8,
   "id": "262d7418",
   "metadata": {},
   "outputs": [],
   "source": [
    "# Song input network\n",
    "input_songs = layers.Input(shape=[1])\n",
    "embed_songs = layers.Embedding(nsong_id + 1, 15)(input_songs)\n",
    "out_songs = layers.Flatten()(embed_songs)\n",
    "\n",
    "# User input network\n",
    "input_users = layers.Input(shape=[1])\n",
    "embed_users = layers.Embedding(nuser_id + 1, 15)(input_users)\n",
    "out_users = layers.Flatten()(embed_users)\n",
    "\n",
    "conc_layer = layers.Concatenate()([out_songs, out_users])\n",
    "x = layers.Dense(128, activation='relu')(conc_layer)\n",
    "x_out = x = layers.Dense(1, activation='relu')(x)\n",
    "model = keras.Model([input_songs, input_users], x_out)"
   ]
  },
  {
   "cell_type": "code",
   "execution_count": 9,
   "id": "0a7c9e7f",
   "metadata": {},
   "outputs": [
    {
     "name": "stdout",
     "output_type": "stream",
     "text": [
      "Model: \"model\"\n",
      "__________________________________________________________________________________________________\n",
      "Layer (type)                    Output Shape         Param #     Connected to                     \n",
      "==================================================================================================\n",
      "input_1 (InputLayer)            [(None, 1)]          0                                            \n",
      "__________________________________________________________________________________________________\n",
      "input_2 (InputLayer)            [(None, 1)]          0                                            \n",
      "__________________________________________________________________________________________________\n",
      "embedding (Embedding)           (None, 1, 15)        55140       input_1[0][0]                    \n",
      "__________________________________________________________________________________________________\n",
      "embedding_1 (Embedding)         (None, 1, 15)        6273795     input_2[0][0]                    \n",
      "__________________________________________________________________________________________________\n",
      "flatten (Flatten)               (None, 15)           0           embedding[0][0]                  \n",
      "__________________________________________________________________________________________________\n",
      "flatten_1 (Flatten)             (None, 15)           0           embedding_1[0][0]                \n",
      "__________________________________________________________________________________________________\n",
      "concatenate (Concatenate)       (None, 30)           0           flatten[0][0]                    \n",
      "                                                                 flatten_1[0][0]                  \n",
      "__________________________________________________________________________________________________\n",
      "dense (Dense)                   (None, 128)          3968        concatenate[0][0]                \n",
      "__________________________________________________________________________________________________\n",
      "dense_1 (Dense)                 (None, 1)            129         dense[0][0]                      \n",
      "==================================================================================================\n",
      "Total params: 6,333,032\n",
      "Trainable params: 6,333,032\n",
      "Non-trainable params: 0\n",
      "__________________________________________________________________________________________________\n"
     ]
    }
   ],
   "source": [
    "# normal learning rates are around .01\n",
    "opt = tf.optimizers.Adam(learning_rate=0.001)\n",
    "model.compile(optimizer=opt, loss='mean_squared_error')\n",
    "model.summary()"
   ]
  },
  {
   "cell_type": "code",
   "execution_count": 12,
   "id": "842d6673",
   "metadata": {},
   "outputs": [
    {
     "name": "stdout",
     "output_type": "stream",
     "text": [
      "Epoch 1/5\n",
      "9659/9659 [==============================] - 389s 40ms/step - loss: 28.8394 - val_loss: 28.4907\n",
      "Epoch 2/5\n",
      "9659/9659 [==============================] - 414s 43ms/step - loss: 24.2304 - val_loss: 29.4985\n",
      "Epoch 3/5\n",
      "9659/9659 [==============================] - 438s 45ms/step - loss: 20.2321 - val_loss: 31.3561\n",
      "Epoch 4/5\n",
      "9659/9659 [==============================] - 421s 44ms/step - loss: 17.3027 - val_loss: 32.5919\n",
      "Epoch 5/5\n",
      "9659/9659 [==============================] - 418s 43ms/step - loss: 14.8553 - val_loss: 33.5686\n"
     ]
    }
   ],
   "source": [
    "# large batch size may work more effectively for sparse dataset\n",
    "hist = model.fit([Xtrain['song_id'], Xtrain['user_id']], Xtrain['count'], \n",
    "                 batch_size=64, \n",
    "                 epochs=5, \n",
    "                 verbose=1,\n",
    "                 validation_data=([Xtest['song_id'], Xtest['user_id']], Xtest['count']))"
   ]
  },
  {
   "cell_type": "code",
   "execution_count": 14,
   "id": "80e8a14c",
   "metadata": {},
   "outputs": [
    {
     "data": {
      "image/png": "[encoded data removed]",
      "text/plain": [
       "<Figure size 432x288 with 1 Axes>"
      ]
     },
     "metadata": {
      "needs_background": "light"
     },
     "output_type": "display_data"
    }
   ],
   "source": [
    "import matplotlib.pyplot as plt\n",
    "train_loss = hist.history['loss']\n",
    "val_loss = hist.history['val_loss']\n",
    "plt.plot(train_loss, color='r', label='Train Loss')\n",
    "plt.plot(val_loss, color='b', label='Validation Loss')\n",
    "plt.title(\"Train and Validation Loss Curve\")\n",
    "plt.legend()\n",
    "plt.show()"
   ]
  },
  {
   "cell_type": "code",
   "execution_count": 15,
   "id": "ff7a44ec",
   "metadata": {},
   "outputs": [
    {
     "name": "stdout",
     "output_type": "stream",
     "text": [
      "INFO:tensorflow:Assets written to: models/msd_plan01/assets\n"
     ]
    }
   ],
   "source": [
    "model.save('models/msd_plan01')"
   ]
  }
 ],
 "metadata": {
  "kernelspec": {
   "display_name": "Python 3",
   "language": "python",
   "name": "python3"
  },
  "language_info": {
   "codemirror_mode": {
    "name": "ipython",
    "version": 3
   },
   "file_extension": ".py",
   "mimetype": "text/x-python",
   "name": "python",
   "nbconvert_exporter": "python",
   "pygments_lexer": "ipython3",
   "version": "3.8.8"
  }
 },
 "nbformat": 4,
 "nbformat_minor": 5
}

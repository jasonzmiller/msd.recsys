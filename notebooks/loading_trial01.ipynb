{
 "cells": [
  {
   "cell_type": "markdown",
   "id": "43f6603e",
   "metadata": {},
   "source": [
    "iterate over file directories: https://www.geeksforgeeks.org/how-to-iterate-over-files-in-directory-using-python/\n",
    "\n",
    "import local module: https://stackoverflow.com/questions/53049195/importing-custom-module-into-jupyter-notebook/53052990\n",
    "\n",
    "\\_\\_init\\_\\_ files: https://stackoverflow.com/questions/1944569/how-do-i-write-good-correct-package-init-py-files"
   ]
  },
  {
   "cell_type": "code",
   "execution_count": 1,
   "id": "76fd1ce0",
   "metadata": {},
   "outputs": [],
   "source": [
    "import os\n",
    "import glob\n",
    "import sys\n",
    "import numpy as np\n",
    "import pandas as pd\n",
    "sys.path.append('../src/')\n",
    "from util import hdf5_getters as hget\n",
    "import h5py\n",
    "import tables"
   ]
  },
  {
   "cell_type": "code",
   "execution_count": 2,
   "id": "52b25f69",
   "metadata": {},
   "outputs": [],
   "source": [
    "rel_msdpath = '../datasets/MillionSongSubset'\n",
    "rel_userdatapath = '../datasets/train_triplets.txt'\n",
    "rel_mappingpath = '../datasets/msdchallenge/taste_profile_song_to_tracks.txt'"
   ]
  },
  {
   "cell_type": "code",
   "execution_count": 3,
   "id": "56324e57",
   "metadata": {},
   "outputs": [],
   "source": [
    "# returns list of all files with extension .h5 in a directory\n",
    "# iterates through subdirectories as well\n",
    "def load_all_h5_files(rootdir, ext='.h5'):\n",
    "    tab = []\n",
    "    for subdir, dirs, files in os.walk(rootdir):\n",
    "        files = glob.glob(os.path.join(subdir,'*'+ext))\n",
    "        for f in files:\n",
    "            tab.append(os.path.abspath(f))\n",
    "    return tab\n",
    "\n",
    "def get_all_titles(rootdir, ext='.h5'):\n",
    "    titles = []\n",
    "    for subdir, dirs, files in os.walk(rootdir):\n",
    "        files = glob.glob(os.path.join(subdir,'*'+ext))\n",
    "        for f in files:\n",
    "            h5 = hget.open_h5_file_read(f)\n",
    "            titles.append(hget.get_title(h5))\n",
    "            h5.close()\n",
    "    return titles\n",
    "\n",
    "# checked for multiple songs - none in the subset\n",
    "def get_files_with_multiple_songs(rootdir, ext='.h5'):\n",
    "    h5s = []\n",
    "    for subdir, dirs, files in os.walk(rootdir):\n",
    "        files = glob.glob(os.path.join(subdir,'*'+ext))\n",
    "        for f in files:\n",
    "            h5 = hget.open_h5_file_read(f)\n",
    "            if ( hget.get_num_songs(h5) > 1 ):\n",
    "                h5s.append(f)\n",
    "            h5.close()\n",
    "    return h5s\n",
    "\n",
    "# want to make sure each h5 has 3 groups: 'analysis', 'metadata', 'musicbrainz'\n",
    "def assert_rootgroup_contains_same_number_groups(files):\n",
    "    violations = []\n",
    "    for file in files:\n",
    "        h5 = hget.open_h5_file_read(file)\n",
    "        if ( len(h5.root._f_list_nodes()) > 3 ):\n",
    "            violations.append(h5)\n",
    "        h5.close()\n",
    "    return violations"
   ]
  },
  {
   "cell_type": "code",
   "execution_count": 4,
   "id": "8c1171ef",
   "metadata": {},
   "outputs": [],
   "source": [
    "# From a list of h5 files, extracts song metadata and creates a dataframe\n",
    "def extract_song_data(files):\n",
    "    # Init empty df\n",
    "    df = pd.DataFrame()\n",
    "    # Get total h5 file count\n",
    "    size = len(files)\n",
    "    print(size, 'files found.')\n",
    "    # Iter thru files\n",
    "    for i, f in enumerate(files):\n",
    "        # Update progress bar\n",
    "        # progress(i, size, 'of files processed')\n",
    "        \n",
    "        # Read file into store\n",
    "        s_hdf = pd.HDFStore(f)\n",
    "        # DF to hold single file info\n",
    "        data = pd.DataFrame()\n",
    "        # Walk nodes under root\n",
    "        for item in s_hdf.root._f_walknodes():\n",
    "            # Get name for column\n",
    "            name = item._v_pathname[1:].replace('/','_')\n",
    "            # Store arrays\n",
    "            if type(item) is tables.earray.EArray:\n",
    "                data[name] = [np.array(item)]\n",
    "            # Store tables\n",
    "            elif type(item) is tables.table.Table:\n",
    "                # Get all columns\n",
    "                cols =  item.coldescrs.keys()\n",
    "                for row in item:\n",
    "                    for col in cols:\n",
    "                        col_name = '_'.join([name,col])\n",
    "                        try:\n",
    "                            data[col_name] = row[col]\n",
    "                        except Exception as e:\n",
    "                            print(e)\n",
    "\n",
    "        # Append to main df\n",
    "        df = df.append(data, ignore_index=True)\n",
    "        # Close store for reading\n",
    "        s_hdf.close()\n",
    "\n",
    "    # Dev set of columns\n",
    "    # df = df[['metadata_songs_artist_id','metadata_songs_title','musicbrainz_songs_year','metadata_artist_terms','analysis_songs_analysis_sample_rate','metadata_songs_artist_location','analysis_sections_confidence','analysis_sections_start','analysis_segments_start','analysis_segments_timbre','analysis_segments_pitches','analysis_songs_tempo','analysis_bars_confidence','analysis_bars_start','analysis_beats_confidence','analysis_beats_start','analysis_songs_duration','analysis_songs_energy','analysis_songs_key','analysis_songs_key_confidence','analysis_songs_time_signature','analysis_songs_time_signature_confidence','metadata_similar_artists']]\n",
    "\n",
    "    # Drop bad columns\n",
    "    # df.drop(['musicbrainz_artist_mbtags_count','musicbrainz_artist_mbtags',\n",
    "    #          'musicbrainz_songs_idx_artist_mbtags'], inplace=True, axis=1)\n",
    "\n",
    "    return df"
   ]
  },
  {
   "cell_type": "code",
   "execution_count": 5,
   "id": "eb1836eb",
   "metadata": {},
   "outputs": [],
   "source": [
    "# converts columns in the df that are represented as byte strings to regular strings\n",
    "def convert_bytes_to_string(df):\n",
    "    for i, col in enumerate(df.columns):\n",
    "        if ( type(df.iloc[0,i]) == bytes ):\n",
    "            df[col] = df[col].str.decode('utf-8')"
   ]
  },
  {
   "cell_type": "code",
   "execution_count": 6,
   "id": "d75213af",
   "metadata": {},
   "outputs": [],
   "source": [
    "# takes a list of h5 files, opens all and closes them properly\n",
    "def close_all_open_h5(files):\n",
    "    for file in files:\n",
    "        hFile = h5py.File(file, 'r')\n",
    "        if hFile.__bool__() :\n",
    "            hFile.close()\n",
    "\n",
    "    return leaks"
   ]
  },
  {
   "cell_type": "code",
   "execution_count": 7,
   "id": "520da5b3",
   "metadata": {},
   "outputs": [],
   "source": [
    "def get_user_taste_data(filename):\n",
    "    tasteDF = pd.read_csv(filename, sep='\\t', header=None, names=['user','song','count'])\n",
    "    return tasteDF"
   ]
  },
  {
   "cell_type": "code",
   "execution_count": 8,
   "id": "a6a4b873",
   "metadata": {},
   "outputs": [],
   "source": [
    "def get_mapping_dict(filename):\n",
    "    mapping = pd.read_csv(\n",
    "                            filename,\n",
    "                            sep='\\t',\n",
    "                            header=None,\n",
    "                            names=['song_id','track_id'])\n",
    "    mapping_dict = dict(zip(mapping.song_id, mapping.track_id))\n",
    "    return mapping_dict"
   ]
  },
  {
   "cell_type": "code",
   "execution_count": 9,
   "id": "a4c05623",
   "metadata": {},
   "outputs": [],
   "source": [
    "# pipeline to compile workable dataset\n",
    "def load_data_pipeline(msdpath, userdatapath, mappingpath):\n",
    "    files = load_all_h5_files(msdpath)\n",
    "    df_song_data = extract_song_data(files)\n",
    "    convert_bytes_to_string(df_song_data)\n",
    "    \n",
    "    df_user_data = get_user_taste_data(userdatapath)\n",
    "    mapping_dict = get_mapping_dict(mappingpath)\n",
    "    \n",
    "    return df_song_data, df_user_data, mapping_dict"
   ]
  },
  {
   "cell_type": "code",
   "execution_count": 10,
   "id": "5f67b398",
   "metadata": {},
   "outputs": [
    {
     "name": "stdout",
     "output_type": "stream",
     "text": [
      "10000 files found.\n",
      "CPU times: user 19min 5s, sys: 1min 8s, total: 20min 13s\n",
      "Wall time: 22min 25s\n"
     ]
    }
   ],
   "source": [
    "%%time\n",
    "df_song_data, df_user_data, mapping_dict = load_data_pipeline(rel_msdpath, rel_userdatapath, rel_mappingpath)"
   ]
  },
  {
   "cell_type": "code",
   "execution_count": 99,
   "id": "29280487",
   "metadata": {},
   "outputs": [],
   "source": [
    "df_song_backup = df_song_data.copy()\n",
    "df_user_backup = df_user_data.copy()"
   ]
  },
  {
   "cell_type": "code",
   "execution_count": 100,
   "id": "1973fb1d",
   "metadata": {},
   "outputs": [],
   "source": [
    "df_song = df_song_data\n",
    "df_user = df_user_data"
   ]
  },
  {
   "cell_type": "code",
   "execution_count": 111,
   "id": "e3cbf74a",
   "metadata": {},
   "outputs": [],
   "source": [
    "df_merged = df_user.merge(df_song, left_on='song', right_on='metadata_songs_song_id')"
   ]
  },
  {
   "cell_type": "code",
   "execution_count": 112,
   "id": "4632b9c6",
   "metadata": {},
   "outputs": [
    {
     "data": {
      "text/html": [
       "<div>\n",
       "<style scoped>\n",
       "    .dataframe tbody tr th:only-of-type {\n",
       "        vertical-align: middle;\n",
       "    }\n",
       "\n",
       "    .dataframe tbody tr th {\n",
       "        vertical-align: top;\n",
       "    }\n",
       "\n",
       "    .dataframe thead th {\n",
       "        text-align: right;\n",
       "    }\n",
       "</style>\n",
       "<table border=\"1\" class=\"dataframe\">\n",
       "  <thead>\n",
       "    <tr style=\"text-align: right;\">\n",
       "      <th></th>\n",
       "      <th>user</th>\n",
       "      <th>song</th>\n",
       "      <th>count</th>\n",
       "      <th>analysis_bars_confidence</th>\n",
       "      <th>analysis_bars_start</th>\n",
       "      <th>analysis_beats_confidence</th>\n",
       "      <th>analysis_beats_start</th>\n",
       "      <th>analysis_sections_confidence</th>\n",
       "      <th>analysis_sections_start</th>\n",
       "      <th>analysis_segments_confidence</th>\n",
       "      <th>...</th>\n",
       "      <th>metadata_songs_release</th>\n",
       "      <th>metadata_songs_release_7digitalid</th>\n",
       "      <th>metadata_songs_song_hotttnesss</th>\n",
       "      <th>metadata_songs_song_id</th>\n",
       "      <th>metadata_songs_title</th>\n",
       "      <th>metadata_songs_track_7digitalid</th>\n",
       "      <th>musicbrainz_artist_mbtags</th>\n",
       "      <th>musicbrainz_artist_mbtags_count</th>\n",
       "      <th>musicbrainz_songs_idx_artist_mbtags</th>\n",
       "      <th>musicbrainz_songs_year</th>\n",
       "    </tr>\n",
       "  </thead>\n",
       "  <tbody>\n",
       "    <tr>\n",
       "      <th>0</th>\n",
       "      <td>b80344d063b5ccb3212f76538f3d9e43d87dca9e</td>\n",
       "      <td>SOWEZSI12A81C21CE6</td>\n",
       "      <td>1</td>\n",
       "      <td>[0.0, 0.0, 0.0, 0.0, 0.0, 0.71, 0.772, 0.791, ...</td>\n",
       "      <td>[0.18795, 0.5345, 0.90098, 1.26745, 1.6303, 1....</td>\n",
       "      <td>[0.0, 0.0, 0.0, 0.0, 0.0, 0.71, 0.772, 0.791, ...</td>\n",
       "      <td>[0.18795, 0.5345, 0.90098, 1.26745, 1.6303, 1....</td>\n",
       "      <td>[1.0, 0.63, 0.519, 0.637, 0.806, 0.526, 0.39, ...</td>\n",
       "      <td>[0.0, 27.81345, 38.36246, 48.17733, 79.82575, ...</td>\n",
       "      <td>[0.0, 1.0, 1.0, 1.0, 0.31, 0.298, 0.8, 0.232, ...</td>\n",
       "      <td>...</td>\n",
       "      <td>Greatest Hits</td>\n",
       "      <td>283353</td>\n",
       "      <td>0.778821</td>\n",
       "      <td>SOWEZSI12A81C21CE6</td>\n",
       "      <td>Tu Quieres Volver</td>\n",
       "      <td>3167278</td>\n",
       "      <td>[b'classic pop and rock', b'folk']</td>\n",
       "      <td>[1, 1]</td>\n",
       "      <td>0</td>\n",
       "      <td>1987</td>\n",
       "    </tr>\n",
       "    <tr>\n",
       "      <th>1</th>\n",
       "      <td>833c530ecda3d99deb8395f70400aa3999783d91</td>\n",
       "      <td>SOWEZSI12A81C21CE6</td>\n",
       "      <td>2</td>\n",
       "      <td>[0.0, 0.0, 0.0, 0.0, 0.0, 0.71, 0.772, 0.791, ...</td>\n",
       "      <td>[0.18795, 0.5345, 0.90098, 1.26745, 1.6303, 1....</td>\n",
       "      <td>[0.0, 0.0, 0.0, 0.0, 0.0, 0.71, 0.772, 0.791, ...</td>\n",
       "      <td>[0.18795, 0.5345, 0.90098, 1.26745, 1.6303, 1....</td>\n",
       "      <td>[1.0, 0.63, 0.519, 0.637, 0.806, 0.526, 0.39, ...</td>\n",
       "      <td>[0.0, 27.81345, 38.36246, 48.17733, 79.82575, ...</td>\n",
       "      <td>[0.0, 1.0, 1.0, 1.0, 0.31, 0.298, 0.8, 0.232, ...</td>\n",
       "      <td>...</td>\n",
       "      <td>Greatest Hits</td>\n",
       "      <td>283353</td>\n",
       "      <td>0.778821</td>\n",
       "      <td>SOWEZSI12A81C21CE6</td>\n",
       "      <td>Tu Quieres Volver</td>\n",
       "      <td>3167278</td>\n",
       "      <td>[b'classic pop and rock', b'folk']</td>\n",
       "      <td>[1, 1]</td>\n",
       "      <td>0</td>\n",
       "      <td>1987</td>\n",
       "    </tr>\n",
       "    <tr>\n",
       "      <th>2</th>\n",
       "      <td>d6c5bd2b570b4faf8964d7ed04f3392ff505d2be</td>\n",
       "      <td>SOWEZSI12A81C21CE6</td>\n",
       "      <td>1</td>\n",
       "      <td>[0.0, 0.0, 0.0, 0.0, 0.0, 0.71, 0.772, 0.791, ...</td>\n",
       "      <td>[0.18795, 0.5345, 0.90098, 1.26745, 1.6303, 1....</td>\n",
       "      <td>[0.0, 0.0, 0.0, 0.0, 0.0, 0.71, 0.772, 0.791, ...</td>\n",
       "      <td>[0.18795, 0.5345, 0.90098, 1.26745, 1.6303, 1....</td>\n",
       "      <td>[1.0, 0.63, 0.519, 0.637, 0.806, 0.526, 0.39, ...</td>\n",
       "      <td>[0.0, 27.81345, 38.36246, 48.17733, 79.82575, ...</td>\n",
       "      <td>[0.0, 1.0, 1.0, 1.0, 0.31, 0.298, 0.8, 0.232, ...</td>\n",
       "      <td>...</td>\n",
       "      <td>Greatest Hits</td>\n",
       "      <td>283353</td>\n",
       "      <td>0.778821</td>\n",
       "      <td>SOWEZSI12A81C21CE6</td>\n",
       "      <td>Tu Quieres Volver</td>\n",
       "      <td>3167278</td>\n",
       "      <td>[b'classic pop and rock', b'folk']</td>\n",
       "      <td>[1, 1]</td>\n",
       "      <td>0</td>\n",
       "      <td>1987</td>\n",
       "    </tr>\n",
       "    <tr>\n",
       "      <th>3</th>\n",
       "      <td>724534729c9f5dc72a009269c2c225883e4775d2</td>\n",
       "      <td>SOWEZSI12A81C21CE6</td>\n",
       "      <td>1</td>\n",
       "      <td>[0.0, 0.0, 0.0, 0.0, 0.0, 0.71, 0.772, 0.791, ...</td>\n",
       "      <td>[0.18795, 0.5345, 0.90098, 1.26745, 1.6303, 1....</td>\n",
       "      <td>[0.0, 0.0, 0.0, 0.0, 0.0, 0.71, 0.772, 0.791, ...</td>\n",
       "      <td>[0.18795, 0.5345, 0.90098, 1.26745, 1.6303, 1....</td>\n",
       "      <td>[1.0, 0.63, 0.519, 0.637, 0.806, 0.526, 0.39, ...</td>\n",
       "      <td>[0.0, 27.81345, 38.36246, 48.17733, 79.82575, ...</td>\n",
       "      <td>[0.0, 1.0, 1.0, 1.0, 0.31, 0.298, 0.8, 0.232, ...</td>\n",
       "      <td>...</td>\n",
       "      <td>Greatest Hits</td>\n",
       "      <td>283353</td>\n",
       "      <td>0.778821</td>\n",
       "      <td>SOWEZSI12A81C21CE6</td>\n",
       "      <td>Tu Quieres Volver</td>\n",
       "      <td>3167278</td>\n",
       "      <td>[b'classic pop and rock', b'folk']</td>\n",
       "      <td>[1, 1]</td>\n",
       "      <td>0</td>\n",
       "      <td>1987</td>\n",
       "    </tr>\n",
       "    <tr>\n",
       "      <th>4</th>\n",
       "      <td>ee7aa84c164038c963cfd02a7e52a5598aa470c3</td>\n",
       "      <td>SOWEZSI12A81C21CE6</td>\n",
       "      <td>2</td>\n",
       "      <td>[0.0, 0.0, 0.0, 0.0, 0.0, 0.71, 0.772, 0.791, ...</td>\n",
       "      <td>[0.18795, 0.5345, 0.90098, 1.26745, 1.6303, 1....</td>\n",
       "      <td>[0.0, 0.0, 0.0, 0.0, 0.0, 0.71, 0.772, 0.791, ...</td>\n",
       "      <td>[0.18795, 0.5345, 0.90098, 1.26745, 1.6303, 1....</td>\n",
       "      <td>[1.0, 0.63, 0.519, 0.637, 0.806, 0.526, 0.39, ...</td>\n",
       "      <td>[0.0, 27.81345, 38.36246, 48.17733, 79.82575, ...</td>\n",
       "      <td>[0.0, 1.0, 1.0, 1.0, 0.31, 0.298, 0.8, 0.232, ...</td>\n",
       "      <td>...</td>\n",
       "      <td>Greatest Hits</td>\n",
       "      <td>283353</td>\n",
       "      <td>0.778821</td>\n",
       "      <td>SOWEZSI12A81C21CE6</td>\n",
       "      <td>Tu Quieres Volver</td>\n",
       "      <td>3167278</td>\n",
       "      <td>[b'classic pop and rock', b'folk']</td>\n",
       "      <td>[1, 1]</td>\n",
       "      <td>0</td>\n",
       "      <td>1987</td>\n",
       "    </tr>\n",
       "  </tbody>\n",
       "</table>\n",
       "<p>5 rows × 77 columns</p>\n",
       "</div>"
      ],
      "text/plain": [
       "                                       user                song  count  \\\n",
       "0  b80344d063b5ccb3212f76538f3d9e43d87dca9e  SOWEZSI12A81C21CE6      1   \n",
       "1  833c530ecda3d99deb8395f70400aa3999783d91  SOWEZSI12A81C21CE6      2   \n",
       "2  d6c5bd2b570b4faf8964d7ed04f3392ff505d2be  SOWEZSI12A81C21CE6      1   \n",
       "3  724534729c9f5dc72a009269c2c225883e4775d2  SOWEZSI12A81C21CE6      1   \n",
       "4  ee7aa84c164038c963cfd02a7e52a5598aa470c3  SOWEZSI12A81C21CE6      2   \n",
       "\n",
       "                            analysis_bars_confidence  \\\n",
       "0  [0.0, 0.0, 0.0, 0.0, 0.0, 0.71, 0.772, 0.791, ...   \n",
       "1  [0.0, 0.0, 0.0, 0.0, 0.0, 0.71, 0.772, 0.791, ...   \n",
       "2  [0.0, 0.0, 0.0, 0.0, 0.0, 0.71, 0.772, 0.791, ...   \n",
       "3  [0.0, 0.0, 0.0, 0.0, 0.0, 0.71, 0.772, 0.791, ...   \n",
       "4  [0.0, 0.0, 0.0, 0.0, 0.0, 0.71, 0.772, 0.791, ...   \n",
       "\n",
       "                                 analysis_bars_start  \\\n",
       "0  [0.18795, 0.5345, 0.90098, 1.26745, 1.6303, 1....   \n",
       "1  [0.18795, 0.5345, 0.90098, 1.26745, 1.6303, 1....   \n",
       "2  [0.18795, 0.5345, 0.90098, 1.26745, 1.6303, 1....   \n",
       "3  [0.18795, 0.5345, 0.90098, 1.26745, 1.6303, 1....   \n",
       "4  [0.18795, 0.5345, 0.90098, 1.26745, 1.6303, 1....   \n",
       "\n",
       "                           analysis_beats_confidence  \\\n",
       "0  [0.0, 0.0, 0.0, 0.0, 0.0, 0.71, 0.772, 0.791, ...   \n",
       "1  [0.0, 0.0, 0.0, 0.0, 0.0, 0.71, 0.772, 0.791, ...   \n",
       "2  [0.0, 0.0, 0.0, 0.0, 0.0, 0.71, 0.772, 0.791, ...   \n",
       "3  [0.0, 0.0, 0.0, 0.0, 0.0, 0.71, 0.772, 0.791, ...   \n",
       "4  [0.0, 0.0, 0.0, 0.0, 0.0, 0.71, 0.772, 0.791, ...   \n",
       "\n",
       "                                analysis_beats_start  \\\n",
       "0  [0.18795, 0.5345, 0.90098, 1.26745, 1.6303, 1....   \n",
       "1  [0.18795, 0.5345, 0.90098, 1.26745, 1.6303, 1....   \n",
       "2  [0.18795, 0.5345, 0.90098, 1.26745, 1.6303, 1....   \n",
       "3  [0.18795, 0.5345, 0.90098, 1.26745, 1.6303, 1....   \n",
       "4  [0.18795, 0.5345, 0.90098, 1.26745, 1.6303, 1....   \n",
       "\n",
       "                        analysis_sections_confidence  \\\n",
       "0  [1.0, 0.63, 0.519, 0.637, 0.806, 0.526, 0.39, ...   \n",
       "1  [1.0, 0.63, 0.519, 0.637, 0.806, 0.526, 0.39, ...   \n",
       "2  [1.0, 0.63, 0.519, 0.637, 0.806, 0.526, 0.39, ...   \n",
       "3  [1.0, 0.63, 0.519, 0.637, 0.806, 0.526, 0.39, ...   \n",
       "4  [1.0, 0.63, 0.519, 0.637, 0.806, 0.526, 0.39, ...   \n",
       "\n",
       "                             analysis_sections_start  \\\n",
       "0  [0.0, 27.81345, 38.36246, 48.17733, 79.82575, ...   \n",
       "1  [0.0, 27.81345, 38.36246, 48.17733, 79.82575, ...   \n",
       "2  [0.0, 27.81345, 38.36246, 48.17733, 79.82575, ...   \n",
       "3  [0.0, 27.81345, 38.36246, 48.17733, 79.82575, ...   \n",
       "4  [0.0, 27.81345, 38.36246, 48.17733, 79.82575, ...   \n",
       "\n",
       "                        analysis_segments_confidence  ...  \\\n",
       "0  [0.0, 1.0, 1.0, 1.0, 0.31, 0.298, 0.8, 0.232, ...  ...   \n",
       "1  [0.0, 1.0, 1.0, 1.0, 0.31, 0.298, 0.8, 0.232, ...  ...   \n",
       "2  [0.0, 1.0, 1.0, 1.0, 0.31, 0.298, 0.8, 0.232, ...  ...   \n",
       "3  [0.0, 1.0, 1.0, 1.0, 0.31, 0.298, 0.8, 0.232, ...  ...   \n",
       "4  [0.0, 1.0, 1.0, 1.0, 0.31, 0.298, 0.8, 0.232, ...  ...   \n",
       "\n",
       "  metadata_songs_release metadata_songs_release_7digitalid  \\\n",
       "0          Greatest Hits                            283353   \n",
       "1          Greatest Hits                            283353   \n",
       "2          Greatest Hits                            283353   \n",
       "3          Greatest Hits                            283353   \n",
       "4          Greatest Hits                            283353   \n",
       "\n",
       "  metadata_songs_song_hotttnesss metadata_songs_song_id metadata_songs_title  \\\n",
       "0                       0.778821     SOWEZSI12A81C21CE6    Tu Quieres Volver   \n",
       "1                       0.778821     SOWEZSI12A81C21CE6    Tu Quieres Volver   \n",
       "2                       0.778821     SOWEZSI12A81C21CE6    Tu Quieres Volver   \n",
       "3                       0.778821     SOWEZSI12A81C21CE6    Tu Quieres Volver   \n",
       "4                       0.778821     SOWEZSI12A81C21CE6    Tu Quieres Volver   \n",
       "\n",
       "  metadata_songs_track_7digitalid           musicbrainz_artist_mbtags  \\\n",
       "0                         3167278  [b'classic pop and rock', b'folk']   \n",
       "1                         3167278  [b'classic pop and rock', b'folk']   \n",
       "2                         3167278  [b'classic pop and rock', b'folk']   \n",
       "3                         3167278  [b'classic pop and rock', b'folk']   \n",
       "4                         3167278  [b'classic pop and rock', b'folk']   \n",
       "\n",
       "  musicbrainz_artist_mbtags_count  musicbrainz_songs_idx_artist_mbtags  \\\n",
       "0                          [1, 1]                                    0   \n",
       "1                          [1, 1]                                    0   \n",
       "2                          [1, 1]                                    0   \n",
       "3                          [1, 1]                                    0   \n",
       "4                          [1, 1]                                    0   \n",
       "\n",
       "   musicbrainz_songs_year  \n",
       "0                    1987  \n",
       "1                    1987  \n",
       "2                    1987  \n",
       "3                    1987  \n",
       "4                    1987  \n",
       "\n",
       "[5 rows x 77 columns]"
      ]
     },
     "execution_count": 112,
     "metadata": {},
     "output_type": "execute_result"
    }
   ],
   "source": [
    "df_merged.head()"
   ]
  },
  {
   "cell_type": "code",
   "execution_count": 114,
   "id": "ab5bec68",
   "metadata": {},
   "outputs": [],
   "source": [
    "df_merged.to_pickle('../datasets/msd_tastes_merged.csv', compression='zip')"
   ]
  },
  {
   "cell_type": "code",
   "execution_count": 88,
   "id": "3e94551a",
   "metadata": {},
   "outputs": [],
   "source": [
    "df_song_data.to_pickle(r'../datasets/msd.csv', compression='zip')"
   ]
  },
  {
   "cell_type": "code",
   "execution_count": 90,
   "id": "fbed3373",
   "metadata": {},
   "outputs": [],
   "source": [
    "df_try = pd.read_pickle('../datasets/msd.csv', compression='zip')"
   ]
  },
  {
   "cell_type": "code",
   "execution_count": 91,
   "id": "63dcc9d8",
   "metadata": {},
   "outputs": [
    {
     "name": "stdout",
     "output_type": "stream",
     "text": [
      "[1.    1.    0.508 0.334 0.113 0.593]\n",
      "<class 'numpy.ndarray'>\n"
     ]
    }
   ],
   "source": [
    "print(df_try.iloc[0,4])\n",
    "print(type(df_try.iloc[0,4]))"
   ]
  },
  {
   "cell_type": "code",
   "execution_count": 92,
   "id": "6118e86a",
   "metadata": {
    "scrolled": true
   },
   "outputs": [
    {
     "name": "stdout",
     "output_type": "stream",
     "text": [
      "[1.    1.    0.508 0.334 0.113 0.593]\n",
      "<class 'numpy.ndarray'>\n"
     ]
    }
   ],
   "source": [
    "print(df_song_data.iloc[0,4])\n",
    "print(type(df_song_data.iloc[0,4]))"
   ]
  },
  {
   "cell_type": "markdown",
   "id": "eec88e38",
   "metadata": {},
   "source": [
    "## Preprocessing"
   ]
  },
  {
   "cell_type": "code",
   "execution_count": 36,
   "id": "a643b688",
   "metadata": {},
   "outputs": [
    {
     "data": {
      "text/plain": [
       "(10000, 74)"
      ]
     },
     "execution_count": 36,
     "metadata": {},
     "output_type": "execute_result"
    }
   ],
   "source": [
    "df_song_data.shape"
   ]
  },
  {
   "cell_type": "code",
   "execution_count": 41,
   "id": "1571cbf2",
   "metadata": {},
   "outputs": [],
   "source": [
    "df_song_data_nan = pd.isnull(df_song_data).sum().where(lambda x : x > 0).dropna()\n",
    "df_user_data_nan = pd.isnull(df_user_data).sum().where(lambda x : x > 0).dropna()"
   ]
  },
  {
   "cell_type": "code",
   "execution_count": 42,
   "id": "95bfb6ac",
   "metadata": {},
   "outputs": [
    {
     "data": {
      "text/plain": [
       "Series([], dtype: float64)"
      ]
     },
     "execution_count": 42,
     "metadata": {},
     "output_type": "execute_result"
    }
   ],
   "source": [
    "df_user_data_nan"
   ]
  }
 ],
 "metadata": {
  "kernelspec": {
   "display_name": "Python 3",
   "language": "python",
   "name": "python3"
  },
  "language_info": {
   "codemirror_mode": {
    "name": "ipython",
    "version": 3
   },
   "file_extension": ".py",
   "mimetype": "text/x-python",
   "name": "python",
   "nbconvert_exporter": "python",
   "pygments_lexer": "ipython3",
   "version": "3.8.8"
  }
 },
 "nbformat": 4,
 "nbformat_minor": 5
}

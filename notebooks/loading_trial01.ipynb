{
 "cells": [
  {
   "cell_type": "markdown",
   "id": "43f6603e",
   "metadata": {},
   "source": [
    "iterate over file directories: https://www.geeksforgeeks.org/how-to-iterate-over-files-in-directory-using-python/\n",
    "\n",
    "import local module: https://stackoverflow.com/questions/53049195/importing-custom-module-into-jupyter-notebook/53052990\n",
    "\n",
    "\\_\\_init\\_\\_ files: https://stackoverflow.com/questions/1944569/how-do-i-write-good-correct-package-init-py-files"
   ]
  },
  {
   "cell_type": "code",
   "execution_count": 1,
   "id": "76fd1ce0",
   "metadata": {},
   "outputs": [],
   "source": [
    "import os\n",
    "import glob\n",
    "import sys\n",
    "import numpy as np\n",
    "import pandas as pd\n",
    "sys.path.append('../src/')\n",
    "from util import hdf5_getters as hget\n",
    "import h5py\n",
    "import tables"
   ]
  },
  {
   "cell_type": "code",
   "execution_count": 2,
   "id": "52b25f69",
   "metadata": {},
   "outputs": [],
   "source": [
    "rootdir = '/Users/jasonmiller/Documents/docs/Northeastern/2021_2SU/CS6220/final_project/datasets/MillionSongSubset'\n",
    "reldir = '../datasets/MillionSongSubset'"
   ]
  },
  {
   "cell_type": "code",
   "execution_count": 106,
   "id": "56324e57",
   "metadata": {},
   "outputs": [],
   "source": [
    "# returns list of all files with extension .h5 in a directory\n",
    "# iterates through subdirectories as well\n",
    "def load_all_h5_files(rootdir, ext='.h5'):\n",
    "    tab = []\n",
    "    for subdir, dirs, files in os.walk(rootdir):\n",
    "        files = glob.glob(os.path.join(subdir,'*'+ext))\n",
    "        for f in files:\n",
    "            tab.append(f)\n",
    "    return tab\n",
    "\n",
    "def get_all_titles(rootdir, ext='.h5'):\n",
    "    titles = []\n",
    "    for subdir, dirs, files in os.walk(rootdir):\n",
    "        files = glob.glob(os.path.join(subdir,'*'+ext))\n",
    "        for f in files:\n",
    "            h5 = hget.open_h5_file_read(f)\n",
    "            titles.append(hget.get_title(h5))\n",
    "            h5.close()\n",
    "    return titles\n",
    "\n",
    "# checked for multiple songs - none in the subset\n",
    "def get_files_with_multiple_songs(rootdir, ext='.h5'):\n",
    "    h5s = []\n",
    "    for subdir, dirs, files in os.walk(rootdir):\n",
    "        files = glob.glob(os.path.join(subdir,'*'+ext))\n",
    "        for f in files:\n",
    "            h5 = hget.open_h5_file_read(f)\n",
    "            if ( hget.get_num_songs(h5) > 1 ):\n",
    "                h5s.append(f)\n",
    "            h5.close()\n",
    "    return h5s"
   ]
  },
  {
   "cell_type": "code",
   "execution_count": 5,
   "id": "1600f6f1",
   "metadata": {},
   "outputs": [],
   "source": [
    "files = load_all_h5_files(reldir)"
   ]
  },
  {
   "cell_type": "code",
   "execution_count": 105,
   "id": "068865a0",
   "metadata": {},
   "outputs": [
    {
     "data": {
      "text/plain": [
       "0"
      ]
     },
     "execution_count": 105,
     "metadata": {},
     "output_type": "execute_result"
    }
   ],
   "source": [
    "# want to make sure each h5 has 3 groups: 'analysis', 'metadata', 'musicbrainz'\n",
    "def assert_rootgroup_contains_same_number_groups(files):\n",
    "    violations = []\n",
    "    for file in files:\n",
    "        h5 = hget.open_h5_file_read(file)\n",
    "        if ( len(h5.root._f_list_nodes()) > 3 ):\n",
    "            violations.append(h5)\n",
    "        h5.close()\n",
    "    return violations\n",
    "\n",
    "violations = assert_rootgroup_contains_same_number_groups(files)\n",
    "len(violations)"
   ]
  },
  {
   "cell_type": "code",
   "execution_count": 144,
   "id": "643b25f8",
   "metadata": {},
   "outputs": [
    {
     "data": {
      "text/plain": [
       "/analysis/bars_confidence (EArray(134,), shuffle, zlib(1)) 'array of confidence of bars'\n",
       "  atom := Float64Atom(shape=(), dflt=0.0)\n",
       "  maindim := 0\n",
       "  flavor := 'numpy'\n",
       "  byteorder := 'little'\n",
       "  chunkshape := (1024,)"
      ]
     },
     "execution_count": 144,
     "metadata": {},
     "output_type": "execute_result"
    }
   ],
   "source": [
    "h5.root.analysis.bars_confidence"
   ]
  },
  {
   "cell_type": "markdown",
   "id": "38027a55",
   "metadata": {},
   "source": [
    "Each h5 file has a root with groups: ('analysis', 'metadata', 'musicbrainz')\n",
    "\n",
    "Can get a dictionary of all children in each group using `._v_children`"
   ]
  },
  {
   "cell_type": "code",
   "execution_count": 119,
   "id": "969c8dcf",
   "metadata": {},
   "outputs": [
    {
     "data": {
      "text/plain": [
       "'array of confidence of bars'"
      ]
     },
     "execution_count": 119,
     "metadata": {},
     "output_type": "execute_result"
    }
   ],
   "source": [
    "h5.root.analysis.bars_confidence._v_title"
   ]
  },
  {
   "cell_type": "code",
   "execution_count": 137,
   "id": "a4a8cc99",
   "metadata": {},
   "outputs": [
    {
     "data": {
      "text/plain": [
       "dict_keys(['bars_confidence', 'bars_start', 'beats_confidence', 'beats_start', 'sections_confidence', 'sections_start', 'segments_confidence', 'segments_loudness_max', 'segments_loudness_max_time', 'segments_loudness_start', 'segments_pitches', 'segments_start', 'segments_timbre', 'songs', 'tatums_confidence', 'tatums_start'])"
      ]
     },
     "execution_count": 137,
     "metadata": {},
     "output_type": "execute_result"
    }
   ],
   "source": [
    "h5.root.analysis._v_children.keys()"
   ]
  },
  {
   "cell_type": "code",
   "execution_count": 139,
   "id": "e7cdf486",
   "metadata": {},
   "outputs": [
    {
     "name": "stdout",
     "output_type": "stream",
     "text": [
      "bars_confidence\n",
      "bars_start\n",
      "beats_confidence\n",
      "beats_start\n",
      "sections_confidence\n",
      "sections_start\n",
      "segments_confidence\n",
      "segments_loudness_max\n",
      "segments_loudness_max_time\n",
      "segments_loudness_start\n",
      "segments_pitches\n",
      "segments_start\n",
      "segments_timbre\n",
      "songs\n",
      "tatums_confidence\n",
      "tatums_start\n"
     ]
    }
   ],
   "source": [
    "for key in h5.root.analysis._v_children.keys():\n",
    "    print(key)"
   ]
  },
  {
   "cell_type": "code",
   "execution_count": 132,
   "id": "a4ab847c",
   "metadata": {},
   "outputs": [
    {
     "data": {
      "text/plain": [
       "/analysis/bars_confidence (EArray(134,), shuffle, zlib(1)) 'array of confidence of bars'\n",
       "  atom := Float64Atom(shape=(), dflt=0.0)\n",
       "  maindim := 0\n",
       "  flavor := 'numpy'\n",
       "  byteorder := 'little'\n",
       "  chunkshape := (1024,)"
      ]
     },
     "execution_count": 132,
     "metadata": {},
     "output_type": "execute_result"
    }
   ],
   "source": [
    "h5.root.analysis._v_children.__getitem__('bars_confidence')"
   ]
  },
  {
   "cell_type": "code",
   "execution_count": 120,
   "id": "25b84e86",
   "metadata": {},
   "outputs": [
    {
     "data": {
      "text/plain": [
       "['__class__',\n",
       " '__contains__',\n",
       " '__delattr__',\n",
       " '__delitem__',\n",
       " '__dict__',\n",
       " '__dir__',\n",
       " '__doc__',\n",
       " '__eq__',\n",
       " '__format__',\n",
       " '__ge__',\n",
       " '__getattribute__',\n",
       " '__getitem__',\n",
       " '__gt__',\n",
       " '__hash__',\n",
       " '__init__',\n",
       " '__init_subclass__',\n",
       " '__iter__',\n",
       " '__le__',\n",
       " '__len__',\n",
       " '__lt__',\n",
       " '__module__',\n",
       " '__ne__',\n",
       " '__new__',\n",
       " '__reduce__',\n",
       " '__reduce_ex__',\n",
       " '__repr__',\n",
       " '__reversed__',\n",
       " '__setattr__',\n",
       " '__setitem__',\n",
       " '__sizeof__',\n",
       " '__str__',\n",
       " '__subclasshook__',\n",
       " '__weakref__',\n",
       " '_get_container',\n",
       " '_get_value_from_container',\n",
       " 'clear',\n",
       " 'containerref',\n",
       " 'copy',\n",
       " 'fromkeys',\n",
       " 'get',\n",
       " 'items',\n",
       " 'iteritems',\n",
       " 'itervalues',\n",
       " 'keys',\n",
       " 'pop',\n",
       " 'popitem',\n",
       " 'setdefault',\n",
       " 'update',\n",
       " 'values']"
      ]
     },
     "execution_count": 120,
     "metadata": {},
     "output_type": "execute_result"
    }
   ],
   "source": [
    "dir(h5.root.analysis._v_children)"
   ]
  },
  {
   "cell_type": "code",
   "execution_count": 146,
   "id": "bc721d53",
   "metadata": {
    "scrolled": true
   },
   "outputs": [
    {
     "name": "stdout",
     "output_type": "stream",
     "text": [
      "/analysis/bars_confidence (EArray(123,), shuffle, zlib(1)) 'array of confidence of bars'\n",
      "/analysis/bars_start (EArray(123,), shuffle, zlib(1)) 'array of start times of bars'\n",
      "/analysis/beats_confidence (EArray(497,), shuffle, zlib(1)) 'array of confidence of sections'\n",
      "/analysis/beats_start (EArray(497,), shuffle, zlib(1)) 'array of start times of beats'\n",
      "/analysis/sections_confidence (EArray(10,), shuffle, zlib(1)) 'array of confidence of sections'\n",
      "/analysis/sections_start (EArray(10,), shuffle, zlib(1)) 'array of start times of sections'\n",
      "/analysis/segments_confidence (EArray(885,), shuffle, zlib(1)) 'array of confidence of segments'\n",
      "/analysis/segments_loudness_max (EArray(885,), shuffle, zlib(1)) 'array of max loudness of segments'\n",
      "/analysis/segments_loudness_max_time (EArray(885,), shuffle, zlib(1)) 'array of max loudness time of segments'\n",
      "/analysis/segments_loudness_start (EArray(885,), shuffle, zlib(1)) 'array of loudness of segments at start time'\n",
      "/analysis/segments_pitches (EArray(885, 12), shuffle, zlib(1)) 'array of pitches of segments (chromas)'\n",
      "/analysis/segments_start (EArray(885,), shuffle, zlib(1)) 'array of start times of segments'\n",
      "/analysis/segments_timbre (EArray(885, 12), shuffle, zlib(1)) 'array of timbre of segments (MFCC-like)'\n",
      "/analysis/songs (Table(1,), shuffle, zlib(1)) 'table of Echo Nest analysis for one song'\n",
      "/analysis/tatums_confidence (EArray(995,), shuffle, zlib(1)) 'array of confidence of tatums'\n",
      "/analysis/tatums_start (EArray(995,), shuffle, zlib(1)) 'array of start times of tatums'\n",
      "/metadata/artist_terms (EArray(47,), shuffle, zlib(1)) 'array of terms (Echo Nest tags) for an artist'\n",
      "/metadata/artist_terms_freq (EArray(47,), shuffle, zlib(1)) 'array of term (Echo Nest tags) frequencies for an artist'\n",
      "/metadata/artist_terms_weight (EArray(47,), shuffle, zlib(1)) 'array of term (Echo Nest tags) weights for an artist'\n",
      "/metadata/similar_artists (EArray(100,), shuffle, zlib(1)) 'array of similar artists Echo Nest id'\n",
      "/metadata/songs (Table(1,), shuffle, zlib(1)) 'table of metadata for one song'\n",
      "/musicbrainz/artist_mbtags (EArray(0,), shuffle, zlib(1)) 'array of tags from MusicBrainz for an artist'\n",
      "/musicbrainz/artist_mbtags_count (EArray(0,), shuffle, zlib(1)) 'array of tag counts from MusicBrainz for an artist'\n",
      "/musicbrainz/songs (Table(1,), shuffle, zlib(1)) 'table of data coming from MusicBrainz'\n"
     ]
    }
   ],
   "source": [
    "h5 = hget.open_h5_file_read(files[61])\n",
    "h5.root._v_groups\n",
    "h5.root._f_iter_nodes()\n",
    "for node in h5.root._f_iter_nodes():\n",
    "    for array in node._f_iter_nodes():\n",
    "        print(array)"
   ]
  },
  {
   "cell_type": "code",
   "execution_count": 4,
   "id": "6dc0d577",
   "metadata": {},
   "outputs": [],
   "source": [
    "def get_in_files(files, getter_func):\n",
    "    data = []\n",
    "    for f in files:\n",
    "        h5 = hget.open_h5_file_read(f)\n",
    "        data.append(getter_func(h5))\n",
    "        h5.close()\n",
    "    return data"
   ]
  },
  {
   "cell_type": "code",
   "execution_count": 26,
   "id": "e7cbc4bb",
   "metadata": {},
   "outputs": [
    {
     "name": "stdout",
     "output_type": "stream",
     "text": [
      "/musicbrainz/artist_mbtags (EArray(0,), shuffle, zlib(1)) 'array of tags from MusicBrainz for an artist'\n",
      "<class 'tables.earray.EArray'>\n",
      "/musicbrainz/artist_mbtags_count (EArray(0,), shuffle, zlib(1)) 'array of tag counts from MusicBrainz for an artist'\n",
      "<class 'tables.earray.EArray'>\n",
      "/musicbrainz/songs (Table(1,), shuffle, zlib(1)) 'table of data coming from MusicBrainz'\n",
      "<class 'tables.table.Table'>\n"
     ]
    }
   ],
   "source": [
    "h5 = hget.open_h5_file_read(files[690])\n",
    "h = h5.root.musicbrainz\n",
    "#print(h)\n",
    "#dir(h)\n",
    "#type(h)\n",
    "for node in h._f_walknodes():\n",
    "    print(node)\n",
    "    print(type(node))\n",
    "\n",
    "h5.close()"
   ]
  },
  {
   "cell_type": "code",
   "execution_count": 99,
   "id": "067cbba0",
   "metadata": {},
   "outputs": [
    {
     "name": "stdout",
     "output_type": "stream",
     "text": [
      "['_AttributeSet', '__class__', '__contains__', '__del__', '__delattr__', '__dict__', '__dir__', '__doc__', '__eq__', '__format__', '__ge__', '__getattr__', '__getattribute__', '__getitem__', '__gt__', '__hash__', '__init__', '__init_subclass__', '__iter__', '__le__', '__lt__', '__members__', '__module__', '__ne__', '__new__', '__reduce__', '__reduce_ex__', '__repr__', '__setattr__', '__setstate__', '__sizeof__', '__str__', '__subclasshook__', '__weakref__', '_c_classid', '_c_lazy_children_attrs', '_f_close', '_f_copy', '_f_copy_children', '_f_delattr', '_f_flush', '_f_get_child', '_f_getattr', '_f_isvisible', '_f_iter_nodes', '_f_list_nodes', '_f_move', '_f_remove', '_f_rename', '_f_setattr', '_f_walk_groups', '_f_walknodes', '_g_add_children_names', '_g_check_group', '_g_check_has_child', '_g_check_name', '_g_check_not_contains', '_g_check_open', '_g_close', '_g_close_descendents', '_g_close_group', '_g_copy', '_g_copy_as_child', '_g_copy_children', '_g_create', '_g_del_location', '_g_delete', '_g_delfilters', '_g_flush_group', '_g_get_child_group_class', '_g_get_child_leaf_class', '_g_get_gchild_attr', '_g_get_lchild_attr', '_g_get_objinfo', '_g_getfilters', '_g_getnchildren', '_g_getparent', '_g_gettitle', '_g_join', '_g_list_group', '_g_load_child', '_g_log_create', '_g_log_move', '_g_maybe_remove', '_g_move', '_g_move_node', '_g_new', '_g_open', '_g_post_init_hook', '_g_pre_kill_hook', '_g_refnode', '_g_remove', '_g_remove_and_log', '_g_set_location', '_g_setfilters', '_g_settitle', '_g_unrefnode', '_g_update_dependent', '_g_update_location', '_g_width_warning', '_get_obj_info', '_get_obj_timestamps', '_v__deleting', '_v_attrs', '_v_children', '_v_depth', '_v_file', '_v_filters', '_v_groups', '_v_hidden', '_v_isopen', '_v_leaves', '_v_links', '_v_max_group_width', '_v_name', '_v_nchildren', '_v_new', '_v_new_filters', '_v_new_title', '_v_objectid', '_v_parent', '_v_pathname', '_v_title', '_v_unknown', '_v_version', 'analysis', 'metadata', 'musicbrainz']\n"
     ]
    }
   ],
   "source": [
    "h5 = hget.open_h5_file_read(files[460])\n",
    "print(dir(h5.root))"
   ]
  },
  {
   "cell_type": "code",
   "execution_count": 80,
   "id": "fea5adae",
   "metadata": {},
   "outputs": [],
   "source": [
    "titles = get_in_files(files, getter_func=hget.get_title)"
   ]
  },
  {
   "cell_type": "code",
   "execution_count": 147,
   "id": "7d78a91c",
   "metadata": {},
   "outputs": [
    {
     "data": {
      "text/plain": [
       "['get_analysis_sample_rate',\n",
       " 'get_artist_7digitalid',\n",
       " 'get_artist_familiarity',\n",
       " 'get_artist_hotttnesss',\n",
       " 'get_artist_id',\n",
       " 'get_artist_latitude',\n",
       " 'get_artist_location',\n",
       " 'get_artist_longitude',\n",
       " 'get_artist_mbid',\n",
       " 'get_artist_mbtags',\n",
       " 'get_artist_mbtags_count',\n",
       " 'get_artist_name',\n",
       " 'get_artist_playmeid',\n",
       " 'get_artist_terms',\n",
       " 'get_artist_terms_freq',\n",
       " 'get_artist_terms_weight',\n",
       " 'get_audio_md5',\n",
       " 'get_bars_confidence',\n",
       " 'get_bars_start',\n",
       " 'get_beats_confidence',\n",
       " 'get_beats_start',\n",
       " 'get_danceability',\n",
       " 'get_duration',\n",
       " 'get_end_of_fade_in',\n",
       " 'get_energy',\n",
       " 'get_key',\n",
       " 'get_key_confidence',\n",
       " 'get_loudness',\n",
       " 'get_mode',\n",
       " 'get_mode_confidence',\n",
       " 'get_num_songs',\n",
       " 'get_release',\n",
       " 'get_release_7digitalid',\n",
       " 'get_sections_confidence',\n",
       " 'get_sections_start',\n",
       " 'get_segments_confidence',\n",
       " 'get_segments_loudness_max',\n",
       " 'get_segments_loudness_max_time',\n",
       " 'get_segments_loudness_start',\n",
       " 'get_segments_pitches',\n",
       " 'get_segments_start',\n",
       " 'get_segments_timbre',\n",
       " 'get_similar_artists',\n",
       " 'get_song_hotttnesss',\n",
       " 'get_song_id',\n",
       " 'get_start_of_fade_out',\n",
       " 'get_tatums_confidence',\n",
       " 'get_tatums_start',\n",
       " 'get_tempo',\n",
       " 'get_time_signature',\n",
       " 'get_time_signature_confidence',\n",
       " 'get_title',\n",
       " 'get_track_7digitalid',\n",
       " 'get_track_id',\n",
       " 'get_year']"
      ]
     },
     "execution_count": 147,
     "metadata": {},
     "output_type": "execute_result"
    }
   ],
   "source": [
    "getters = dir(hget)[8:-2]\n",
    "getters"
   ]
  },
  {
   "cell_type": "code",
   "execution_count": 49,
   "id": "a6b5d1fa",
   "metadata": {},
   "outputs": [
    {
     "data": {
      "text/plain": [
       "'get_analysis_sample_rate'"
      ]
     },
     "execution_count": 49,
     "metadata": {},
     "output_type": "execute_result"
    }
   ],
   "source": [
    "getters[0]"
   ]
  },
  {
   "cell_type": "code",
   "execution_count": 50,
   "id": "60bcd400",
   "metadata": {},
   "outputs": [
    {
     "ename": "AttributeError",
     "evalue": "module 'util.hdf5_getters' has no attribute 'getters'",
     "output_type": "error",
     "traceback": [
      "\u001b[0;31m---------------------------------------------------------------------------\u001b[0m",
      "\u001b[0;31mAttributeError\u001b[0m                            Traceback (most recent call last)",
      "\u001b[0;32m<ipython-input-50-fd5ee3bba180>\u001b[0m in \u001b[0;36m<module>\u001b[0;34m\u001b[0m\n\u001b[0;32m----> 1\u001b[0;31m \u001b[0mget_in_files\u001b[0m\u001b[0;34m(\u001b[0m\u001b[0mfiles\u001b[0m\u001b[0;34m,\u001b[0m \u001b[0mhget\u001b[0m\u001b[0;34m.\u001b[0m\u001b[0mgetters\u001b[0m\u001b[0;34m[\u001b[0m\u001b[0;36m0\u001b[0m\u001b[0;34m]\u001b[0m\u001b[0;34m)\u001b[0m\u001b[0;34m\u001b[0m\u001b[0;34m\u001b[0m\u001b[0m\n\u001b[0m",
      "\u001b[0;31mAttributeError\u001b[0m: module 'util.hdf5_getters' has no attribute 'getters'"
     ]
    }
   ],
   "source": [
    "get_in_files(files, hget.getters[0])"
   ]
  },
  {
   "cell_type": "code",
   "execution_count": null,
   "id": "9ad51344",
   "metadata": {},
   "outputs": [],
   "source": []
  }
 ],
 "metadata": {
  "kernelspec": {
   "display_name": "Python 3",
   "language": "python",
   "name": "python3"
  },
  "language_info": {
   "codemirror_mode": {
    "name": "ipython",
    "version": 3
   },
   "file_extension": ".py",
   "mimetype": "text/x-python",
   "name": "python",
   "nbconvert_exporter": "python",
   "pygments_lexer": "ipython3",
   "version": "3.8.8"
  }
 },
 "nbformat": 4,
 "nbformat_minor": 5
}

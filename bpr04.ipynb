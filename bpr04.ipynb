{
  "nbformat": 4,
  "nbformat_minor": 5,
  "metadata": {
    "kernelspec": {
      "display_name": "Python 3",
      "language": "python",
      "name": "python3"
    },
    "language_info": {
      "codemirror_mode": {
        "name": "ipython",
        "version": 3
      },
      "file_extension": ".py",
      "mimetype": "text/x-python",
      "name": "python",
      "nbconvert_exporter": "python",
      "pygments_lexer": "ipython3",
      "version": "3.8.8"
    },
    "colab": {
      "name": "bpr04.ipynb",
      "provenance": [],
      "machine_shape": "hm",
      "include_colab_link": true
    },
    "accelerator": "GPU"
  },
  "cells": [
    {
      "cell_type": "markdown",
      "metadata": {
        "id": "view-in-github",
        "colab_type": "text"
      },
      "source": [
        "<a href=\"https://colab.research.google.com/github/jasonzmiller/msd.recsys/blob/main/bpr04.ipynb\" target=\"_parent\"><img src=\"https://colab.research.google.com/assets/colab-badge.svg\" alt=\"Open In Colab\"/></a>"
      ]
    },
    {
      "cell_type": "code",
      "metadata": {
        "colab": {
          "base_uri": "https://localhost:8080/"
        },
        "id": "ZNgpwT6VYvDg",
        "outputId": "fe0e3b5a-0209-4ad1-d369-a0fb76970838"
      },
      "source": [
        "from google.colab import drive\n",
        "drive.mount('/content/drive')"
      ],
      "id": "ZNgpwT6VYvDg",
      "execution_count": 1,
      "outputs": [
        {
          "output_type": "stream",
          "text": [
            "Drive already mounted at /content/drive; to attempt to forcibly remount, call drive.mount(\"/content/drive\", force_remount=True).\n"
          ],
          "name": "stdout"
        }
      ]
    },
    {
      "cell_type": "code",
      "metadata": {
        "colab": {
          "base_uri": "https://localhost:8080/"
        },
        "id": "9rsLEW4HZqMS",
        "outputId": "7a6241f1-7bb6-448a-eea6-09327ecdcde9"
      },
      "source": [
        "gpu_info = !nvidia-smi\n",
        "gpu_info = '\\n'.join(gpu_info)\n",
        "if gpu_info.find('failed') >= 0:\n",
        "  print('Select the Runtime > \"Change runtime type\" menu to enable a GPU accelerator, ')\n",
        "  print('and then re-execute this cell.')\n",
        "else:\n",
        "  print(gpu_info)"
      ],
      "id": "9rsLEW4HZqMS",
      "execution_count": 2,
      "outputs": [
        {
          "output_type": "stream",
          "text": [
            "Fri Aug 20 21:39:10 2021       \n",
            "+-----------------------------------------------------------------------------+\n",
            "| NVIDIA-SMI 470.57.02    Driver Version: 460.32.03    CUDA Version: 11.2     |\n",
            "|-------------------------------+----------------------+----------------------+\n",
            "| GPU  Name        Persistence-M| Bus-Id        Disp.A | Volatile Uncorr. ECC |\n",
            "| Fan  Temp  Perf  Pwr:Usage/Cap|         Memory-Usage | GPU-Util  Compute M. |\n",
            "|                               |                      |               MIG M. |\n",
            "|===============================+======================+======================|\n",
            "|   0  Tesla P100-PCIE...  Off  | 00000000:00:04.0 Off |                    0 |\n",
            "| N/A   34C    P0    26W / 250W |      0MiB / 16280MiB |      0%      Default |\n",
            "|                               |                      |                  N/A |\n",
            "+-------------------------------+----------------------+----------------------+\n",
            "                                                                               \n",
            "+-----------------------------------------------------------------------------+\n",
            "| Processes:                                                                  |\n",
            "|  GPU   GI   CI        PID   Type   Process name                  GPU Memory |\n",
            "|        ID   ID                                                   Usage      |\n",
            "|=============================================================================|\n",
            "|  No running processes found                                                 |\n",
            "+-----------------------------------------------------------------------------+\n"
          ],
          "name": "stdout"
        }
      ]
    },
    {
      "cell_type": "code",
      "metadata": {
        "id": "ca362a86"
      },
      "source": [
        "import numpy as np\n",
        "import pandas as pd\n",
        "import scipy as sp\n",
        "from collections import OrderedDict\n",
        "from tqdm import tqdm\n",
        "from typing import Dict\n",
        "\n",
        "import tensorflow as tf\n",
        "from tensorflow.keras.models import Model, load_model\n",
        "from tensorflow.keras.layers import Embedding, Flatten, Input, Lambda\n",
        "from tensorflow.keras.optimizers import Adam\n",
        "import tensorflow.keras.backend as K\n",
        "from tensorflow.keras.utils import plot_model\n",
        "\n",
        "from sklearn.metrics import roc_auc_score\n",
        "from sklearn.model_selection import train_test_split, StratifiedKFold\n",
        "\n",
        "import matplotlib.pyplot as plt\n",
        "%matplotlib inline"
      ],
      "id": "ca362a86",
      "execution_count": 3,
      "outputs": []
    },
    {
      "cell_type": "code",
      "metadata": {
        "id": "s1xMNuEzYlGQ"
      },
      "source": [
        "reldir = 'drive/MyDrive/msd.recsys/'"
      ],
      "id": "s1xMNuEzYlGQ",
      "execution_count": 4,
      "outputs": []
    },
    {
      "cell_type": "code",
      "metadata": {
        "id": "FoIFNzUyYp_i"
      },
      "source": [
        "df = pd.read_csv(reldir + 'datasets/clean.csv', sep='\\t', compression='zip')"
      ],
      "id": "FoIFNzUyYp_i",
      "execution_count": 5,
      "outputs": []
    },
    {
      "cell_type": "code",
      "metadata": {
        "id": "5a9df92d"
      },
      "source": [
        "# Convert user id and song id to numerical ids\n",
        "df['user_id'] = df['user'].astype('category').cat.codes\n",
        "df['song_id'] = df['song'].astype('category').cat.codes\n",
        "\n",
        "df_orig = df.copy()\n",
        "\n",
        "# Create lookup frame so we can get the 'Song - Artist' later\n",
        "item_lookup = df[['song_id','Song - Artist']].drop_duplicates()\n",
        "item_lookup['song_id'] = item_lookup['song_id'].astype(str)\n",
        "\n",
        "# Drop 'user' and 'song' and 'Song - Artist'\n",
        "df = df.drop(['user','song','Song - Artist'], axis=1)\n",
        "\n",
        "df = df.sort_values(by=['user_id', 'song_id'])\n",
        "\n",
        "aggd = df.groupby('user_id')['song_id'].agg(list).reset_index()\n",
        "nuser_listens = {row['user_id'] : row['song_id'] for _ , row in aggd.iterrows()}\n",
        "\n",
        "# Create lists of all unique users, songs\n",
        "uusers = list(np.sort(df['user_id'].unique()))\n",
        "usongs = list(np.sort(df['song_id'].unique()))\n",
        "nusers = len(uusers)\n",
        "nsongs = len(usongs)"
      ],
      "id": "5a9df92d",
      "execution_count": 6,
      "outputs": []
    },
    {
      "cell_type": "markdown",
      "metadata": {
        "id": "041c38c0"
      },
      "source": [
        "### Validation hold-out"
      ],
      "id": "041c38c0"
    },
    {
      "cell_type": "code",
      "metadata": {
        "colab": {
          "base_uri": "https://localhost:8080/"
        },
        "id": "7f520c4c",
        "outputId": "4411f34e-a6a2-4d5b-b414-8a6308bc2fa4"
      },
      "source": [
        "tmp_val = (\n",
        "        df.groupby('user_id')['song_id'].count()\n",
        "    ).reset_index().rename({'song_id':'records'}, axis=1)\n",
        "tmp_val.shape"
      ],
      "id": "7f520c4c",
      "execution_count": 7,
      "outputs": [
        {
          "output_type": "execute_result",
          "data": {
            "text/plain": [
              "(418252, 2)"
            ]
          },
          "metadata": {},
          "execution_count": 7
        }
      ]
    },
    {
      "cell_type": "code",
      "metadata": {
        "colab": {
          "base_uri": "https://localhost:8080/"
        },
        "id": "e3bfc13e",
        "outputId": "48ea97cf-0935-40cb-8b88-5a2bfaac17a3"
      },
      "source": [
        "min_records = 3\n",
        "conditions = df['user_id'].isin(tmp_val[tmp_val['records'] > min_records].user_id)\n",
        "df_val = df[conditions].groupby('user_id').head(1).reset_index()\n",
        "del df_val['index']\n",
        "df_val.shape"
      ],
      "id": "e3bfc13e",
      "execution_count": 8,
      "outputs": [
        {
          "output_type": "execute_result",
          "data": {
            "text/plain": [
              "(41355, 3)"
            ]
          },
          "metadata": {},
          "execution_count": 8
        }
      ]
    },
    {
      "cell_type": "code",
      "metadata": {
        "id": "c30687be"
      },
      "source": [
        "ground_truth = { row.user_id : row.song_id for _ , row in df_val.iterrows() }\n",
        "df_train = pd.concat([df, df_val]).drop_duplicates(keep=False)"
      ],
      "id": "c30687be",
      "execution_count": 9,
      "outputs": []
    },
    {
      "cell_type": "markdown",
      "metadata": {
        "id": "22fe98e5"
      },
      "source": [
        "### Building Triplets"
      ],
      "id": "22fe98e5"
    },
    {
      "cell_type": "code",
      "metadata": {
        "id": "99b85afb"
      },
      "source": [
        "# %%time\n",
        "\n",
        "# data = []\n",
        "# n_random_samples = 2\n",
        "\n",
        "# uusers_train = list(df_train['user_id'].unique())\n",
        "\n",
        "# for user in tqdm( uusers_train ):\n",
        "#     listened = df_train[df_train['user_id'] == user]['song_id'].values\n",
        "    \n",
        "#     for i in listened:\n",
        "#         cnt = 0\n",
        "#         while ( cnt < n_random_samples ):\n",
        "#             j = df_train.sample(1).iloc[0,2]\n",
        "#             if ( j not in listened ):\n",
        "#                 data.append({\n",
        "#                     'u' : user,\n",
        "#                     'i' : i,\n",
        "#                     'j' : j\n",
        "#                 })\n",
        "#                 cnt += 1\n",
        "\n",
        "# ttriplets = pd.DataFrame(data, columns=['u', 'i', 'j'])"
      ],
      "id": "99b85afb",
      "execution_count": null,
      "outputs": []
    },
    {
      "cell_type": "code",
      "metadata": {
        "id": "-KDz3vb81hHQ"
      },
      "source": [
        "# ttriplets.to_csv(reldir + 'datasets/ttriplets.csv', compression='zip', sep='\\t')"
      ],
      "id": "-KDz3vb81hHQ",
      "execution_count": null,
      "outputs": []
    },
    {
      "cell_type": "code",
      "metadata": {
        "id": "uIWJ1Iw81Xqe"
      },
      "source": [
        "ttriplets = pd.read_csv(reldir+'datasets/ttriplets.csv', compression='zip', sep='\\t')"
      ],
      "id": "uIWJ1Iw81Xqe",
      "execution_count": 10,
      "outputs": []
    },
    {
      "cell_type": "code",
      "metadata": {
        "id": "6f3dbaca"
      },
      "source": [
        "X = {\n",
        "    'user_input': tf.convert_to_tensor(ttriplets.u),\n",
        "    'positive_item_input': tf.convert_to_tensor(ttriplets.i),\n",
        "    'negative_item_input': tf.convert_to_tensor(ttriplets.j)\n",
        "}"
      ],
      "id": "6f3dbaca",
      "execution_count": 11,
      "outputs": []
    },
    {
      "cell_type": "markdown",
      "metadata": {
        "id": "39659920"
      },
      "source": [
        "### Build model"
      ],
      "id": "39659920"
    },
    {
      "cell_type": "code",
      "metadata": {
        "id": "ce88c548"
      },
      "source": [
        "@tf.function\n",
        "def identity_loss(_, y_pred):\n",
        "    return tf.math.reduce_mean(y_pred)\n",
        "\n",
        "@tf.function\n",
        "def triplet_loss(X: dict):\n",
        "    i_latent , j_latent , u_latent = X\n",
        "    pos_interactions = tf.math.reduce_sum(tf.math.multiply(u_latent, i_latent), axis=-1, keepdims=True)\n",
        "    neg_interactions = tf.math.reduce_sum(tf.math.multiply(u_latent, j_latent), axis=-1, keepdims=True)\n",
        "    return tf.math.subtract(tf.constant(1.0), tf.sigmoid(tf.math.subtract(pos_interactions, neg_interactions)))\n",
        "\n",
        "def out_shape(shapes):\n",
        "    return shapes[0]"
      ],
      "id": "ce88c548",
      "execution_count": 12,
      "outputs": []
    },
    {
      "cell_type": "code",
      "metadata": {
        "id": "68a9da88"
      },
      "source": [
        "def build_model(num_users: int, num_items: int, latent_dim: int) -> Model:\n",
        "    u_input = Input((1,), name='user_input')\n",
        "    i_input = Input((1,), name='positive_item_input')\n",
        "    j_input = Input((1,), name='negative_item_input')\n",
        "    \n",
        "    item_emb = Embedding(num_items, latent_dim, name='item_embedding', input_length=1)\n",
        "    i_emb = Flatten()( item_emb(i_input) )\n",
        "    j_emb = Flatten()( item_emb(j_input) )\n",
        "    \n",
        "    u_emb = Embedding(num_users, latent_dim, name='user_embedding', input_length=1)(u_input)\n",
        "    u_emb = Flatten()(u_emb)\n",
        "    \n",
        "    t_loss = Lambda(triplet_loss, output_shape=out_shape, name='triplet_loss')([i_emb, j_emb, u_emb])\n",
        "    \n",
        "    model = Model(inputs=[i_input, j_input, u_input], outputs=t_loss)\n",
        "    \n",
        "    return model"
      ],
      "id": "68a9da88",
      "execution_count": 13,
      "outputs": []
    },
    {
      "cell_type": "markdown",
      "metadata": {
        "id": "8293f120"
      },
      "source": [
        "#### Functions used to evaluate the models"
      ],
      "id": "8293f120"
    },
    {
      "cell_type": "code",
      "metadata": {
        "id": "486b4a45"
      },
      "source": [
        "def get_weights(model: Model, song_ids: list):\n",
        "    u = model.get_layer('user_embedding').get_weights()[0]\n",
        "    i = model.get_layer('item_embedding').get_weights()[0][song_ids]\n",
        "    return u, i\n",
        "\n",
        "def get_topk(model, user, usongs, weights, k=10):\n",
        "    user_weights, item_weights = weights\n",
        "    \n",
        "    user_vector = user_weights[user]\n",
        "    item_matrix = item_weights\n",
        "    \n",
        "    scores = np.dot(user_vector, item_matrix.T)\n",
        "    \n",
        "    predictions = dict(zip(usongs,scores))\n",
        "    predictions = sorted(predictions.items(), key=lambda kv:kv[1], reverse=True)[:k]\n",
        "    predictions = list(OrderedDict(predictions).keys())\n",
        "    \n",
        "    return predictions\n",
        "\n",
        "def get_hits(user_listens, user_recs):\n",
        "    hits = 0\n",
        "    for song in user_listens:\n",
        "        if ( song in user_recs ):\n",
        "            hits += 1\n",
        "    return hits\n",
        "\n",
        "def get_metrics(uusers: list, nuser_listens: dict, nuser_recs: dict, N: int, k=10):\n",
        "    nusers = len(uusers)\n",
        "    precision = recall = t_hits = 0\n",
        "    \n",
        "    for user in tqdm(uusers, desc='Getting metrics... '):\n",
        "        hits = get_hits(user_listens=nuser_listens[user], user_recs=nuser_recs[user])\n",
        "        precision += hits / len(nuser_listens[user])\n",
        "        recall += hits / k\n",
        "        t_hits += hits\n",
        "                                \n",
        "    precision = precision / nusers\n",
        "    recall = recall / nusers\n",
        "    hit_ratio = t_hits / N\n",
        "    \n",
        "    return precision, recall, hit_ratio\n",
        "\n",
        "def hold_out_hit_ratio(ground_truth: dict, nuser_recs: dict):\n",
        "    hits = 0\n",
        "    for _ , (user , song) in enumerate(ground_truth.items()):\n",
        "        if song in nuser_recs[user]:\n",
        "            hits += 1\n",
        "    return hits / (len(ground_truth) if len(ground_truth) > 0 else 1)\n",
        "\n",
        "def evaluate(model: Model, uusers: list, usongs: list, nuser_listens: dict, N: int, ground_truth=None, k=10):\n",
        "    weights = get_weights(model, usongs)\n",
        "    nuser_recs = {user : get_topk(model=model, user=user, usongs=usongs, weights=weights) for user in tqdm(uusers, desc='Generating recommendations for all users... ')}\n",
        "    p , r , hr = get_metrics(uusers=uusers, nuser_listens=nuser_listens, nuser_recs=nuser_recs, N=N)\n",
        "    hoh = hold_out_hit_ratio(ground_truth, nuser_recs)\n",
        "        \n",
        "    evals = {\n",
        "        'precision' : p,\n",
        "        'recall' : r,\n",
        "        'hit_ratio' : hr,\n",
        "        'hold_out_hits': hoh\n",
        "    }\n",
        "    return evals"
      ],
      "id": "486b4a45",
      "execution_count": 14,
      "outputs": []
    },
    {
      "cell_type": "code",
      "metadata": {
        "id": "JArzSxNGfyaG"
      },
      "source": [
        ""
      ],
      "id": "JArzSxNGfyaG",
      "execution_count": null,
      "outputs": []
    },
    {
      "cell_type": "code",
      "metadata": {
        "id": "d8b54e76"
      },
      "source": [
        "#---------------\n",
        "#  HYPERPARAMS\n",
        "#---------------\n",
        "latent_dims = [200, 250, 300, 350]\n",
        "batch_size = 2048\n",
        "epochs = 3\n",
        "learning_rates = [0.001, 0.01, 0.1]"
      ],
      "id": "d8b54e76",
      "execution_count": 15,
      "outputs": []
    },
    {
      "cell_type": "code",
      "metadata": {
        "colab": {
          "base_uri": "https://localhost:8080/",
          "height": 321
        },
        "id": "Y29g1p0dfiYh",
        "outputId": "4746bb25-9471-49a2-ddd6-0f587c73b462"
      },
      "source": [
        "vis_model = build_model(nusers, nsongs, latent_dims[3])\n",
        "vis_model.compile(loss=identity_loss, optimizer=Adam(learning_rates[1]))\n",
        "plot_model(model = vis_model , dpi=72, show_shapes=True)"
      ],
      "id": "Y29g1p0dfiYh",
      "execution_count": null,
      "outputs": [
        {
          "output_type": "execute_result",
          "data": {
            "image/png": "[encoded data removed]",
            "text/plain": [
              "<IPython.core.display.Image object>"
            ]
          },
          "metadata": {},
          "execution_count": 19
        }
      ]
    },
    {
      "cell_type": "code",
      "metadata": {
        "colab": {
          "base_uri": "https://localhost:8080/"
        },
        "id": "b145ce95",
        "outputId": "52342c4f-b4ac-420b-ae88-84a94960ae32"
      },
      "source": [
        "model_hist = []\n",
        "for latent_dim in latent_dims:\n",
        "    for learning_rate in learning_rates:\n",
        "        print('++++++++++++++++++++++++++++++++++++++++++++++++++++++++++++++++')\n",
        "        print(f'LATENT_DIMENSIONS: {latent_dim}. LEARNING_RATE: {learning_rate}')\n",
        "        model = build_model(nusers, nsongs, latent_dim)\n",
        "        model.compile(loss=identity_loss, optimizer=Adam(learning_rate))\n",
        "        model.fit(X, tf.ones(ttriplets.shape[0]), batch_size, verbose=1, epochs=epochs)\n",
        "        evals = evaluate(model=model, uusers=uusers, usongs=usongs, nuser_listens=nuser_listens, ground_truth=ground_truth, N=df.shape[0])\n",
        "        print(evals)\n",
        "        model_hist.append({\n",
        "            'latent_dim' : latent_dim,\n",
        "            'learning_rate' : learning_rate,\n",
        "            'precision' : evals['precision'],\n",
        "            'recall' : evals['recall'],\n",
        "            'hit_ratio' : evals['hit_ratio'],\n",
        "            'hold_out_hits' : evals['hold_out_hits']\n",
        "        })"
      ],
      "id": "b145ce95",
      "execution_count": 18,
      "outputs": [
        {
          "output_type": "stream",
          "text": [
            "++++++++++++++++++++++++++++++++++++++++++++++++++++++++++++++++\n",
            "LATENT_DIMENSIONS: 200. LEARNING_RATE: 0.001\n",
            "Epoch 1/3\n",
            "715/715 [==============================] - 16s 21ms/step - loss: 0.4830\n",
            "Epoch 2/3\n",
            "715/715 [==============================] - 15s 21ms/step - loss: 0.1914\n",
            "Epoch 3/3\n",
            "715/715 [==============================] - 15s 21ms/step - loss: 0.0278\n"
          ],
          "name": "stdout"
        },
        {
          "output_type": "stream",
          "text": [
            "Generating recommendations for all users... : 100%|██████████| 418252/418252 [25:09<00:00, 277.11it/s]\n",
            "Getting metrics... : 100%|██████████| 418252/418252 [00:04<00:00, 84219.99it/s]\n"
          ],
          "name": "stderr"
        },
        {
          "output_type": "stream",
          "text": [
            "{'precision': 0.8980457175065435, 'recall': 0.15744001224072504, 'hit_ratio': 0.8522443866068042, 'hold_out_hits': 0.1895538628944505}\n",
            "++++++++++++++++++++++++++++++++++++++++++++++++++++++++++++++++\n",
            "LATENT_DIMENSIONS: 200. LEARNING_RATE: 0.01\n",
            "Epoch 1/3\n",
            "715/715 [==============================] - 16s 21ms/step - loss: 0.2650\n",
            "Epoch 2/3\n",
            "715/715 [==============================] - 15s 21ms/step - loss: 0.0021\n",
            "Epoch 3/3\n",
            "715/715 [==============================] - 15s 21ms/step - loss: 4.7298e-04\n"
          ],
          "name": "stdout"
        },
        {
          "output_type": "stream",
          "text": [
            "Generating recommendations for all users... : 100%|██████████| 418252/418252 [24:53<00:00, 280.13it/s]\n",
            "Getting metrics... : 100%|██████████| 418252/418252 [00:04<00:00, 95002.47it/s]\n"
          ],
          "name": "stderr"
        },
        {
          "output_type": "stream",
          "text": [
            "{'precision': 0.9646850853675477, 'recall': 0.1687664374583084, 'hit_ratio': 0.9135558802631426, 'hold_out_hits': 0.14723733526780317}\n",
            "++++++++++++++++++++++++++++++++++++++++++++++++++++++++++++++++\n",
            "LATENT_DIMENSIONS: 200. LEARNING_RATE: 0.1\n",
            "Epoch 1/3\n",
            "715/715 [==============================] - 16s 21ms/step - loss: 0.3160\n",
            "Epoch 2/3\n",
            "715/715 [==============================] - 15s 21ms/step - loss: 0.1375\n",
            "Epoch 3/3\n",
            "715/715 [==============================] - 15s 21ms/step - loss: 0.1234\n"
          ],
          "name": "stdout"
        },
        {
          "output_type": "stream",
          "text": [
            "Generating recommendations for all users... : 100%|██████████| 418252/418252 [25:06<00:00, 277.63it/s]\n",
            "Getting metrics... : 100%|██████████| 418252/418252 [00:07<00:00, 52877.63it/s]\n"
          ],
          "name": "stderr"
        },
        {
          "output_type": "stream",
          "text": [
            "{'precision': 0.6469317803184378, 'recall': 0.09341951741957141, 'hit_ratio': 0.5056926647003019, 'hold_out_hits': 0.046644903881030104}\n",
            "++++++++++++++++++++++++++++++++++++++++++++++++++++++++++++++++\n",
            "LATENT_DIMENSIONS: 250. LEARNING_RATE: 0.001\n",
            "Epoch 1/3\n",
            "715/715 [==============================] - 19s 26ms/step - loss: 0.4792\n",
            "Epoch 2/3\n",
            "715/715 [==============================] - 19s 26ms/step - loss: 0.1671\n",
            "Epoch 3/3\n",
            "715/715 [==============================] - 19s 26ms/step - loss: 0.0207\n"
          ],
          "name": "stdout"
        },
        {
          "output_type": "stream",
          "text": [
            "Generating recommendations for all users... : 100%|██████████| 418252/418252 [25:10<00:00, 276.93it/s]\n",
            "Getting metrics... : 100%|██████████| 418252/418252 [00:04<00:00, 86886.16it/s]\n"
          ],
          "name": "stderr"
        },
        {
          "output_type": "stream",
          "text": [
            "{'precision': 0.9166975665502859, 'recall': 0.16112845844070525, 'hit_ratio': 0.872210451931701, 'hold_out_hits': 0.18829645750211582}\n",
            "++++++++++++++++++++++++++++++++++++++++++++++++++++++++++++++++\n",
            "LATENT_DIMENSIONS: 250. LEARNING_RATE: 0.01\n",
            "Epoch 1/3\n",
            "715/715 [==============================] - 19s 26ms/step - loss: 0.2592\n",
            "Epoch 2/3\n",
            "715/715 [==============================] - 19s 26ms/step - loss: 0.0020\n",
            "Epoch 3/3\n",
            "715/715 [==============================] - 19s 26ms/step - loss: 4.2703e-04\n"
          ],
          "name": "stdout"
        },
        {
          "output_type": "stream",
          "text": [
            "Generating recommendations for all users... : 100%|██████████| 418252/418252 [25:31<00:00, 273.08it/s]\n",
            "Getting metrics... : 100%|██████████| 418252/418252 [00:04<00:00, 94116.74it/s]\n"
          ],
          "name": "stderr"
        },
        {
          "output_type": "stream",
          "text": [
            "{'precision': 0.968305749013853, 'recall': 0.16976392222827957, 'hit_ratio': 0.9189554021750806, 'hold_out_hits': 0.14697134566557854}\n",
            "++++++++++++++++++++++++++++++++++++++++++++++++++++++++++++++++\n",
            "LATENT_DIMENSIONS: 250. LEARNING_RATE: 0.1\n",
            "Epoch 1/3\n",
            "715/715 [==============================] - 19s 26ms/step - loss: 0.3166\n",
            "Epoch 2/3\n",
            "715/715 [==============================] - 19s 26ms/step - loss: 0.1411\n",
            "Epoch 3/3\n",
            "715/715 [==============================] - 19s 26ms/step - loss: 0.1277\n"
          ],
          "name": "stdout"
        },
        {
          "output_type": "stream",
          "text": [
            "Generating recommendations for all users... : 100%|██████████| 418252/418252 [25:17<00:00, 275.55it/s]\n",
            "Getting metrics... : 100%|██████████| 418252/418252 [00:07<00:00, 54678.43it/s]\n"
          ],
          "name": "stderr"
        },
        {
          "output_type": "stream",
          "text": [
            "{'precision': 0.6574846213080764, 'recall': 0.09473236230732403, 'hit_ratio': 0.5127992741965752, 'hold_out_hits': 0.05012694958287994}\n",
            "++++++++++++++++++++++++++++++++++++++++++++++++++++++++++++++++\n",
            "LATENT_DIMENSIONS: 300. LEARNING_RATE: 0.001\n",
            "Epoch 1/3\n",
            "715/715 [==============================] - 23s 31ms/step - loss: 0.4756\n",
            "Epoch 2/3\n",
            "715/715 [==============================] - 22s 31ms/step - loss: 0.1474\n",
            "Epoch 3/3\n",
            "715/715 [==============================] - 22s 31ms/step - loss: 0.0160\n"
          ],
          "name": "stdout"
        },
        {
          "output_type": "stream",
          "text": [
            "Generating recommendations for all users... : 100%|██████████| 418252/418252 [25:36<00:00, 272.30it/s]\n",
            "Getting metrics... : 100%|██████████| 418252/418252 [00:04<00:00, 88143.42it/s]\n"
          ],
          "name": "stderr"
        },
        {
          "output_type": "stream",
          "text": [
            "{'precision': 0.9303181282093198, 'recall': 0.1639647867787097, 'hit_ratio': 0.8875638863615479, 'hold_out_hits': 0.20137830975698223}\n",
            "++++++++++++++++++++++++++++++++++++++++++++++++++++++++++++++++\n",
            "LATENT_DIMENSIONS: 300. LEARNING_RATE: 0.01\n",
            "Epoch 1/3\n",
            "715/715 [==============================] - 23s 31ms/step - loss: 0.2554\n",
            "Epoch 2/3\n",
            "715/715 [==============================] - 22s 31ms/step - loss: 0.0022\n",
            "Epoch 3/3\n",
            "715/715 [==============================] - 22s 31ms/step - loss: 4.9308e-04\n"
          ],
          "name": "stdout"
        },
        {
          "output_type": "stream",
          "text": [
            "Generating recommendations for all users... : 100%|██████████| 418252/418252 [25:38<00:00, 271.77it/s]\n",
            "Getting metrics... : 100%|██████████| 418252/418252 [00:04<00:00, 95667.89it/s]\n"
          ],
          "name": "stderr"
        },
        {
          "output_type": "stream",
          "text": [
            "{'precision': 0.968883157444622, 'recall': 0.16982919388269244, 'hit_ratio': 0.9193087265954927, 'hold_out_hits': 0.1446499818643453}\n",
            "++++++++++++++++++++++++++++++++++++++++++++++++++++++++++++++++\n",
            "LATENT_DIMENSIONS: 300. LEARNING_RATE: 0.1\n",
            "Epoch 1/3\n",
            "715/715 [==============================] - 23s 31ms/step - loss: 0.3181\n",
            "Epoch 2/3\n",
            "715/715 [==============================] - 22s 31ms/step - loss: 0.1439\n",
            "Epoch 3/3\n",
            "715/715 [==============================] - 22s 31ms/step - loss: 0.1304\n"
          ],
          "name": "stdout"
        },
        {
          "output_type": "stream",
          "text": [
            "Generating recommendations for all users... : 100%|██████████| 418252/418252 [25:22<00:00, 274.68it/s]\n",
            "Getting metrics... : 100%|██████████| 418252/418252 [00:07<00:00, 54098.88it/s]\n"
          ],
          "name": "stderr"
        },
        {
          "output_type": "stream",
          "text": [
            "{'precision': 0.6559411444945181, 'recall': 0.09441556764764554, 'hit_ratio': 0.5110844212403628, 'hold_out_hits': 0.05123926973763753}\n",
            "++++++++++++++++++++++++++++++++++++++++++++++++++++++++++++++++\n",
            "LATENT_DIMENSIONS: 350. LEARNING_RATE: 0.001\n",
            "Epoch 1/3\n",
            "715/715 [==============================] - 26s 36ms/step - loss: 0.4720\n",
            "Epoch 2/3\n",
            "715/715 [==============================] - 26s 36ms/step - loss: 0.1318\n",
            "Epoch 3/3\n",
            "715/715 [==============================] - 26s 36ms/step - loss: 0.0128\n"
          ],
          "name": "stdout"
        },
        {
          "output_type": "stream",
          "text": [
            "Generating recommendations for all users... : 100%|██████████| 418252/418252 [25:35<00:00, 272.40it/s]\n",
            "Getting metrics... : 100%|██████████| 418252/418252 [00:04<00:00, 90632.63it/s]\n"
          ],
          "name": "stderr"
        },
        {
          "output_type": "stream",
          "text": [
            "{'precision': 0.9411879894848572, 'recall': 0.16606758604809596, 'hit_ratio': 0.8989466273048594, 'hold_out_hits': 0.20096723491718052}\n",
            "++++++++++++++++++++++++++++++++++++++++++++++++++++++++++++++++\n",
            "LATENT_DIMENSIONS: 350. LEARNING_RATE: 0.01\n",
            "Epoch 1/3\n",
            "715/715 [==============================] - 26s 36ms/step - loss: 0.2524\n",
            "Epoch 2/3\n",
            "715/715 [==============================] - 26s 36ms/step - loss: 0.0022\n",
            "Epoch 3/3\n",
            "715/715 [==============================] - 26s 36ms/step - loss: 5.2604e-04\n"
          ],
          "name": "stdout"
        },
        {
          "output_type": "stream",
          "text": [
            "Generating recommendations for all users... : 100%|██████████| 418252/418252 [25:33<00:00, 272.78it/s]\n",
            "Getting metrics... : 100%|██████████| 418252/418252 [00:04<00:00, 96927.32it/s]\n"
          ],
          "name": "stderr"
        },
        {
          "output_type": "stream",
          "text": [
            "{'precision': 0.9697233142734812, 'recall': 0.17007521781085452, 'hit_ratio': 0.9206404878724305, 'hold_out_hits': 0.14989723129004956}\n",
            "++++++++++++++++++++++++++++++++++++++++++++++++++++++++++++++++\n",
            "LATENT_DIMENSIONS: 350. LEARNING_RATE: 0.1\n",
            "Epoch 1/3\n",
            "715/715 [==============================] - 26s 36ms/step - loss: 0.3186\n",
            "Epoch 2/3\n",
            "715/715 [==============================] - 26s 36ms/step - loss: 0.1467\n",
            "Epoch 3/3\n",
            "715/715 [==============================] - 26s 36ms/step - loss: 0.1345\n"
          ],
          "name": "stdout"
        },
        {
          "output_type": "stream",
          "text": [
            "Generating recommendations for all users... : 100%|██████████| 418252/418252 [25:49<00:00, 270.01it/s]\n",
            "Getting metrics... : 100%|██████████| 418252/418252 [00:07<00:00, 53212.63it/s]\n"
          ],
          "name": "stderr"
        },
        {
          "output_type": "stream",
          "text": [
            "{'precision': 0.6584502314630464, 'recall': 0.09412076929640616, 'hit_ratio': 0.5094886373196007, 'hold_out_hits': 0.045508402853343004}\n"
          ],
          "name": "stdout"
        }
      ]
    },
    {
      "cell_type": "code",
      "metadata": {
        "colab": {
          "base_uri": "https://localhost:8080/",
          "height": 282
        },
        "id": "g4wu8eLXtgBH",
        "outputId": "99bdded2-b375-4000-c7c2-0c84ba99b912"
      },
      "source": [
        "results = pd.DataFrame(model_hist)\n",
        "\n",
        "fig, ((ax1, ax2), (ax3, ax4)) = plt.subplots(2,2)\n",
        "# fig.suptitle('Aligning x-axis using sharex')\n",
        "ax1.plot(latent_dims, results[results.learning_rate == 0.001].precision.values, label='LR=0.001')\n",
        "ax1.plot(latent_dims, results[results.learning_rate == 0.01].precision.values, label='LR=0.01')\n",
        "ax1.plot(latent_dims, results[results.learning_rate == 0.1].precision.values, label='LR=0.1')\n",
        "\n",
        "ax2.plot(latent_dims, results[results.learning_rate == 0.001].recall.values, label='LR=0.001')\n",
        "ax2.plot(latent_dims, results[results.learning_rate == 0.01].recall.values, label='LR=0.01')\n",
        "ax2.plot(latent_dims, results[results.learning_rate == 0.1].recall.values, label='LR=0.1')\n",
        "\n",
        "ax3.plot(latent_dims, results[results.learning_rate == 0.001].hit_ratio.values, label='LR=0.001')\n",
        "ax3.plot(latent_dims, results[results.learning_rate == 0.01].hit_ratio.values, label='LR=0.01')\n",
        "ax3.plot(latent_dims, results[results.learning_rate == 0.1].hit_ratio.values, label='LR=0.1')\n",
        "\n",
        "ax4.plot(latent_dims, results[results.learning_rate == 0.001].hold_out_hits.values, label='LR=0.001')\n",
        "ax4.plot(latent_dims, results[results.learning_rate == 0.01].hold_out_hits.values, label='LR=0.01')\n",
        "ax4.plot(latent_dims, results[results.learning_rate == 0.1].hold_out_hits.values, label='LR=0.1')"
      ],
      "id": "g4wu8eLXtgBH",
      "execution_count": 27,
      "outputs": [
        {
          "output_type": "execute_result",
          "data": {
            "text/plain": [
              "[<matplotlib.lines.Line2D at 0x7f4b87bb8a50>]"
            ]
          },
          "metadata": {},
          "execution_count": 27
        },
        {
          "output_type": "display_data",
          "data": {
            "image/png": "[encoded data removed]",
            "text/plain": [
              "<Figure size 432x288 with 4 Axes>"
            ]
          },
          "metadata": {
            "needs_background": "light"
          }
        }
      ]
    },
    {
      "cell_type": "code",
      "metadata": {
        "colab": {
          "base_uri": "https://localhost:8080/",
          "height": 279
        },
        "id": "3DeFh31f_5-5",
        "outputId": "d0954528-91ec-4a12-a295-8d0bbaa667a9"
      },
      "source": [
        "plt.plot(latent_dims, results[results.learning_rate == 0.001].precision.values, label='LR=0.001')\n",
        "plt.plot(latent_dims, results[results.learning_rate == 0.01].precision.values, label='LR=0.01')\n",
        "# plt.plot(latent_dims, results[results.learning_rate == 0.1].precision.values, label='LR=0.1')\n",
        "plt.xlabel('Latent dimensions')\n",
        "plt.ylabel('Precision')\n",
        "plt.legend()\n",
        "plt.show();"
      ],
      "id": "3DeFh31f_5-5",
      "execution_count": 34,
      "outputs": [
        {
          "output_type": "display_data",
          "data": {
            "image/png": "[encoded data removed]",
            "text/plain": [
              "<Figure size 432x288 with 1 Axes>"
            ]
          },
          "metadata": {
            "needs_background": "light"
          }
        }
      ]
    },
    {
      "cell_type": "code",
      "metadata": {
        "colab": {
          "base_uri": "https://localhost:8080/",
          "height": 279
        },
        "id": "DkeVSbGnBGuS",
        "outputId": "43ec2a03-88e1-4a4e-b669-132dbaf420e2"
      },
      "source": [
        "plt.plot(latent_dims, results[results.learning_rate == 0.001].recall.values, label='LR=0.001')\n",
        "plt.plot(latent_dims, results[results.learning_rate == 0.01].recall.values, label='LR=0.01')\n",
        "# plt.plot(latent_dims, results[results.learning_rate == 0.1].recall.values, label='LR=0.1')\n",
        "plt.xlabel('Latent dimensions')\n",
        "plt.ylabel('Recall')\n",
        "plt.legend()\n",
        "plt.show();"
      ],
      "id": "DkeVSbGnBGuS",
      "execution_count": 35,
      "outputs": [
        {
          "output_type": "display_data",
          "data": {
            "image/png": "[encoded data removed]",
            "text/plain": [
              "<Figure size 432x288 with 1 Axes>"
            ]
          },
          "metadata": {
            "needs_background": "light"
          }
        }
      ]
    },
    {
      "cell_type": "code",
      "metadata": {
        "colab": {
          "base_uri": "https://localhost:8080/",
          "height": 279
        },
        "id": "Dl9iyMz3BWFl",
        "outputId": "ba19857b-b49c-4981-b163-356387812e23"
      },
      "source": [
        "plt.plot(latent_dims, results[results.learning_rate == 0.001].hit_ratio.values, label='LR=0.001')\n",
        "plt.plot(latent_dims, results[results.learning_rate == 0.01].hit_ratio.values, label='LR=0.01')\n",
        "# plt.plot(latent_dims, results[results.learning_rate == 0.1].hit_ratio.values, label='LR=0.1')\n",
        "plt.xlabel('Latent dimensions')\n",
        "plt.ylabel('Hit ratio')\n",
        "plt.legend()\n",
        "plt.show();"
      ],
      "id": "Dl9iyMz3BWFl",
      "execution_count": 36,
      "outputs": [
        {
          "output_type": "display_data",
          "data": {
            "image/png": "[encoded data removed]",
            "text/plain": [
              "<Figure size 432x288 with 1 Axes>"
            ]
          },
          "metadata": {
            "needs_background": "light"
          }
        }
      ]
    },
    {
      "cell_type": "code",
      "metadata": {
        "colab": {
          "base_uri": "https://localhost:8080/",
          "height": 279
        },
        "id": "FlMeAiXxBeSq",
        "outputId": "444f74c4-85d0-455c-e6cb-fff094e94a8b"
      },
      "source": [
        "plt.plot(latent_dims, results[results.learning_rate == 0.001].hold_out_hits.values, label='LR=0.001')\n",
        "plt.plot(latent_dims, results[results.learning_rate == 0.01].hold_out_hits.values, label='LR=0.01')\n",
        "# plt.plot(latent_dims, results[results.learning_rate == 0.1].hold_out_hits.values, label='LR=0.1')\n",
        "plt.xlabel('Latent dimensions')\n",
        "plt.ylabel('Hold out hit ratio')\n",
        "plt.legend()\n",
        "plt.show();"
      ],
      "id": "FlMeAiXxBeSq",
      "execution_count": 37,
      "outputs": [
        {
          "output_type": "display_data",
          "data": {
            "image/png": "[encoded data removed]",
            "text/plain": [
              "<Figure size 432x288 with 1 Axes>"
            ]
          },
          "metadata": {
            "needs_background": "light"
          }
        }
      ]
    },
    {
      "cell_type": "code",
      "metadata": {
        "colab": {
          "base_uri": "https://localhost:8080/",
          "height": 421
        },
        "id": "eVZ0jB5Z6CHo",
        "outputId": "bd0d3513-340f-44c1-bd50-f578748597f1"
      },
      "source": [
        "results"
      ],
      "id": "eVZ0jB5Z6CHo",
      "execution_count": 38,
      "outputs": [
        {
          "output_type": "execute_result",
          "data": {
            "text/html": [
              "<div>\n",
              "<style scoped>\n",
              "    .dataframe tbody tr th:only-of-type {\n",
              "        vertical-align: middle;\n",
              "    }\n",
              "\n",
              "    .dataframe tbody tr th {\n",
              "        vertical-align: top;\n",
              "    }\n",
              "\n",
              "    .dataframe thead th {\n",
              "        text-align: right;\n",
              "    }\n",
              "</style>\n",
              "<table border=\"1\" class=\"dataframe\">\n",
              "  <thead>\n",
              "    <tr style=\"text-align: right;\">\n",
              "      <th></th>\n",
              "      <th>latent_dim</th>\n",
              "      <th>learning_rate</th>\n",
              "      <th>precision</th>\n",
              "      <th>recall</th>\n",
              "      <th>hit_ratio</th>\n",
              "      <th>hold_out_hits</th>\n",
              "    </tr>\n",
              "  </thead>\n",
              "  <tbody>\n",
              "    <tr>\n",
              "      <th>0</th>\n",
              "      <td>200</td>\n",
              "      <td>0.001</td>\n",
              "      <td>0.898046</td>\n",
              "      <td>0.157440</td>\n",
              "      <td>0.852244</td>\n",
              "      <td>0.189554</td>\n",
              "    </tr>\n",
              "    <tr>\n",
              "      <th>1</th>\n",
              "      <td>200</td>\n",
              "      <td>0.010</td>\n",
              "      <td>0.964685</td>\n",
              "      <td>0.168766</td>\n",
              "      <td>0.913556</td>\n",
              "      <td>0.147237</td>\n",
              "    </tr>\n",
              "    <tr>\n",
              "      <th>2</th>\n",
              "      <td>200</td>\n",
              "      <td>0.100</td>\n",
              "      <td>0.646932</td>\n",
              "      <td>0.093420</td>\n",
              "      <td>0.505693</td>\n",
              "      <td>0.046645</td>\n",
              "    </tr>\n",
              "    <tr>\n",
              "      <th>3</th>\n",
              "      <td>250</td>\n",
              "      <td>0.001</td>\n",
              "      <td>0.916698</td>\n",
              "      <td>0.161128</td>\n",
              "      <td>0.872210</td>\n",
              "      <td>0.188296</td>\n",
              "    </tr>\n",
              "    <tr>\n",
              "      <th>4</th>\n",
              "      <td>250</td>\n",
              "      <td>0.010</td>\n",
              "      <td>0.968306</td>\n",
              "      <td>0.169764</td>\n",
              "      <td>0.918955</td>\n",
              "      <td>0.146971</td>\n",
              "    </tr>\n",
              "    <tr>\n",
              "      <th>5</th>\n",
              "      <td>250</td>\n",
              "      <td>0.100</td>\n",
              "      <td>0.657485</td>\n",
              "      <td>0.094732</td>\n",
              "      <td>0.512799</td>\n",
              "      <td>0.050127</td>\n",
              "    </tr>\n",
              "    <tr>\n",
              "      <th>6</th>\n",
              "      <td>300</td>\n",
              "      <td>0.001</td>\n",
              "      <td>0.930318</td>\n",
              "      <td>0.163965</td>\n",
              "      <td>0.887564</td>\n",
              "      <td>0.201378</td>\n",
              "    </tr>\n",
              "    <tr>\n",
              "      <th>7</th>\n",
              "      <td>300</td>\n",
              "      <td>0.010</td>\n",
              "      <td>0.968883</td>\n",
              "      <td>0.169829</td>\n",
              "      <td>0.919309</td>\n",
              "      <td>0.144650</td>\n",
              "    </tr>\n",
              "    <tr>\n",
              "      <th>8</th>\n",
              "      <td>300</td>\n",
              "      <td>0.100</td>\n",
              "      <td>0.655941</td>\n",
              "      <td>0.094416</td>\n",
              "      <td>0.511084</td>\n",
              "      <td>0.051239</td>\n",
              "    </tr>\n",
              "    <tr>\n",
              "      <th>9</th>\n",
              "      <td>350</td>\n",
              "      <td>0.001</td>\n",
              "      <td>0.941188</td>\n",
              "      <td>0.166068</td>\n",
              "      <td>0.898947</td>\n",
              "      <td>0.200967</td>\n",
              "    </tr>\n",
              "    <tr>\n",
              "      <th>10</th>\n",
              "      <td>350</td>\n",
              "      <td>0.010</td>\n",
              "      <td>0.969723</td>\n",
              "      <td>0.170075</td>\n",
              "      <td>0.920640</td>\n",
              "      <td>0.149897</td>\n",
              "    </tr>\n",
              "    <tr>\n",
              "      <th>11</th>\n",
              "      <td>350</td>\n",
              "      <td>0.100</td>\n",
              "      <td>0.658450</td>\n",
              "      <td>0.094121</td>\n",
              "      <td>0.509489</td>\n",
              "      <td>0.045508</td>\n",
              "    </tr>\n",
              "  </tbody>\n",
              "</table>\n",
              "</div>"
            ],
            "text/plain": [
              "    latent_dim  learning_rate  precision    recall  hit_ratio  hold_out_hits\n",
              "0          200          0.001   0.898046  0.157440   0.852244       0.189554\n",
              "1          200          0.010   0.964685  0.168766   0.913556       0.147237\n",
              "2          200          0.100   0.646932  0.093420   0.505693       0.046645\n",
              "3          250          0.001   0.916698  0.161128   0.872210       0.188296\n",
              "4          250          0.010   0.968306  0.169764   0.918955       0.146971\n",
              "5          250          0.100   0.657485  0.094732   0.512799       0.050127\n",
              "6          300          0.001   0.930318  0.163965   0.887564       0.201378\n",
              "7          300          0.010   0.968883  0.169829   0.919309       0.144650\n",
              "8          300          0.100   0.655941  0.094416   0.511084       0.051239\n",
              "9          350          0.001   0.941188  0.166068   0.898947       0.200967\n",
              "10         350          0.010   0.969723  0.170075   0.920640       0.149897\n",
              "11         350          0.100   0.658450  0.094121   0.509489       0.045508"
            ]
          },
          "metadata": {},
          "execution_count": 38
        }
      ]
    },
    {
      "cell_type": "code",
      "metadata": {
        "id": "5Y-hFjIQV_3Q",
        "colab": {
          "base_uri": "https://localhost:8080/",
          "height": 111
        },
        "outputId": "281e6a2b-ef74-4f0b-8143-cad9ba183734"
      },
      "source": [
        "pd.DataFrame(model_hist)"
      ],
      "id": "5Y-hFjIQV_3Q",
      "execution_count": 17,
      "outputs": [
        {
          "output_type": "execute_result",
          "data": {
            "text/html": [
              "<div>\n",
              "<style scoped>\n",
              "    .dataframe tbody tr th:only-of-type {\n",
              "        vertical-align: middle;\n",
              "    }\n",
              "\n",
              "    .dataframe tbody tr th {\n",
              "        vertical-align: top;\n",
              "    }\n",
              "\n",
              "    .dataframe thead th {\n",
              "        text-align: right;\n",
              "    }\n",
              "</style>\n",
              "<table border=\"1\" class=\"dataframe\">\n",
              "  <thead>\n",
              "    <tr style=\"text-align: right;\">\n",
              "      <th></th>\n",
              "      <th>latent_dim</th>\n",
              "      <th>learning_rate</th>\n",
              "      <th>precision</th>\n",
              "      <th>recall</th>\n",
              "      <th>hit_ratio</th>\n",
              "      <th>hold_out_hits</th>\n",
              "    </tr>\n",
              "  </thead>\n",
              "  <tbody>\n",
              "    <tr>\n",
              "      <th>0</th>\n",
              "      <td>300</td>\n",
              "      <td>0.01</td>\n",
              "      <td>0.968754</td>\n",
              "      <td>0.169832</td>\n",
              "      <td>0.919323</td>\n",
              "      <td>0.145883</td>\n",
              "    </tr>\n",
              "    <tr>\n",
              "      <th>1</th>\n",
              "      <td>350</td>\n",
              "      <td>0.01</td>\n",
              "      <td>0.968621</td>\n",
              "      <td>0.169738</td>\n",
              "      <td>0.918816</td>\n",
              "      <td>0.141627</td>\n",
              "    </tr>\n",
              "  </tbody>\n",
              "</table>\n",
              "</div>"
            ],
            "text/plain": [
              "   latent_dim  learning_rate  precision    recall  hit_ratio  hold_out_hits\n",
              "0         300           0.01   0.968754  0.169832   0.919323       0.145883\n",
              "1         350           0.01   0.968621  0.169738   0.918816       0.141627"
            ]
          },
          "metadata": {},
          "execution_count": 17
        }
      ]
    },
    {
      "cell_type": "code",
      "metadata": {
        "id": "TXMFN4C_vmar"
      },
      "source": [
        ""
      ],
      "id": "TXMFN4C_vmar",
      "execution_count": null,
      "outputs": []
    }
  ]
}